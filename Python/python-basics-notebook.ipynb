{
  "nbformat": 4,
  "nbformat_minor": 5,
  "metadata": {
    "kernelspec": {
      "display_name": "Python 3",
      "language": "python",
      "name": "python3"
    },
    "language_info": {
      "codemirror_mode": {
        "name": "ipython",
        "version": 3
      },
      "file_extension": ".py",
      "mimetype": "text/x-python",
      "name": "python",
      "nbconvert_exporter": "python",
      "pygments_lexer": "ipython3",
      "version": "3.7.5"
    },
    "colab": {
      "name": "python-basics-notebook.ipynb",
      "provenance": [],
      "toc_visible": true,
      "include_colab_link": true
    }
  },
  "cells": [
    {
      "cell_type": "markdown",
      "metadata": {
        "id": "view-in-github",
        "colab_type": "text"
      },
      "source": [
        "<a href=\"https://colab.research.google.com/github/sivacit/my-spark-notes/blob/main/Python/python-basics-notebook.ipynb\" target=\"_parent\"><img src=\"https://colab.research.google.com/assets/colab-badge.svg\" alt=\"Open In Colab\"/></a>"
      ]
    },
    {
      "cell_type": "code",
      "metadata": {
        "id": "92f93b72"
      },
      "source": [
        "import sys\n",
        "import keyword\n",
        "import operator\n",
        "from datetime import datetime\n",
        "import os"
      ],
      "id": "92f93b72",
      "execution_count": 1,
      "outputs": []
    },
    {
      "cell_type": "code",
      "metadata": {
        "id": "15f23257",
        "outputId": "f8073a23-c08b-4621-fe2f-55c61561842e",
        "colab": {
          "base_uri": "https://localhost:8080/"
        }
      },
      "source": [
        "print(keyword.kwlist)"
      ],
      "id": "15f23257",
      "execution_count": 2,
      "outputs": [
        {
          "output_type": "stream",
          "text": [
            "['False', 'None', 'True', 'and', 'as', 'assert', 'async', 'await', 'break', 'class', 'continue', 'def', 'del', 'elif', 'else', 'except', 'finally', 'for', 'from', 'global', 'if', 'import', 'in', 'is', 'lambda', 'nonlocal', 'not', 'or', 'pass', 'raise', 'return', 'try', 'while', 'with', 'yield']\n"
          ],
          "name": "stdout"
        }
      ]
    },
    {
      "cell_type": "code",
      "metadata": {
        "id": "a99ea883",
        "outputId": "4845dd72-9576-430e-e2d4-1efd786310d9",
        "colab": {
          "base_uri": "https://localhost:8080/"
        }
      },
      "source": [
        "len(keyword.kwlist)"
      ],
      "id": "a99ea883",
      "execution_count": 3,
      "outputs": [
        {
          "output_type": "execute_result",
          "data": {
            "text/plain": [
              "35"
            ]
          },
          "metadata": {
            "tags": []
          },
          "execution_count": 3
        }
      ]
    },
    {
      "cell_type": "markdown",
      "metadata": {
        "id": "14c79de3"
      },
      "source": [
        "## Identifiers\n",
        "\n",
        "An identifier is a name given to entities like class, functions, variables, etc. It helps to differentiateone entity from another."
      ],
      "id": "14c79de3"
    },
    {
      "cell_type": "code",
      "metadata": {
        "id": "01e98eff",
        "outputId": "aefbd2dc-dc31-4b11-e5ec-b834492a8895"
      },
      "source": [
        "var = 10 # Identifier can't start with a digit\n",
        "al2 = 35 # Identifier can't use special symbols\n",
        "import = 125 # Keywords can't be used as identifiers\n",
        "val2 = 10\n",
        "val_ = 99"
      ],
      "id": "01e98eff",
      "execution_count": null,
      "outputs": [
        {
          "output_type": "error",
          "ename": "SyntaxError",
          "evalue": "invalid syntax (<ipython-input-13-ea83e3cd3d60>, line 3)",
          "traceback": [
            "\u001b[1;36m  File \u001b[1;32m\"<ipython-input-13-ea83e3cd3d60>\"\u001b[1;36m, line \u001b[1;32m3\u001b[0m\n\u001b[1;33m    import = 125 # Keywords can't be used as identifiers\u001b[0m\n\u001b[1;37m           ^\u001b[0m\n\u001b[1;31mSyntaxError\u001b[0m\u001b[1;31m:\u001b[0m invalid syntax\n"
          ]
        }
      ]
    },
    {
      "cell_type": "markdown",
      "metadata": {
        "id": "5af02194"
      },
      "source": [
        "## Comments in Python\n"
      ],
      "id": "5af02194"
    },
    {
      "cell_type": "code",
      "metadata": {
        "id": "dd6c6c0a"
      },
      "source": [
        "# Single line comment\n",
        "val1 = 10"
      ],
      "id": "dd6c6c0a",
      "execution_count": null,
      "outputs": []
    },
    {
      "cell_type": "code",
      "metadata": {
        "id": "d11bf944"
      },
      "source": [
        "# Multiple\n",
        "# line\n",
        "# comment\n",
        "val1 = 10"
      ],
      "id": "d11bf944",
      "execution_count": null,
      "outputs": []
    },
    {
      "cell_type": "code",
      "metadata": {
        "id": "49d67a87"
      },
      "source": [
        "'''\n",
        "Multiple\n",
        "line\n",
        "comment\n",
        "'''\n",
        "val1 = 10"
      ],
      "id": "49d67a87",
      "execution_count": null,
      "outputs": []
    },
    {
      "cell_type": "markdown",
      "metadata": {
        "id": "25a314d0"
      },
      "source": [
        "## Statements\n",
        "Instructions that a Python interpreter can execute."
      ],
      "id": "25a314d0"
    },
    {
      "cell_type": "code",
      "metadata": {
        "id": "357afe28",
        "outputId": "bcf19558-caf7-4e7c-e7e5-04f83dd02bd0"
      },
      "source": [
        "# Single line statement\n",
        "p1 = 10 + 20\n",
        "p1"
      ],
      "id": "357afe28",
      "execution_count": null,
      "outputs": [
        {
          "output_type": "execute_result",
          "data": {
            "text/plain": [
              "30"
            ]
          },
          "metadata": {
            "tags": []
          },
          "execution_count": 17
        }
      ]
    },
    {
      "cell_type": "code",
      "metadata": {
        "id": "f5c5f5e7",
        "outputId": "2c3dede6-d140-4810-caaf-8d188ec7d54e"
      },
      "source": [
        "# Single line statement\n",
        "p2 = ['a','b','c','d']\n",
        "p2"
      ],
      "id": "f5c5f5e7",
      "execution_count": null,
      "outputs": [
        {
          "output_type": "execute_result",
          "data": {
            "text/plain": [
              "['a', 'b', 'c', 'd']"
            ]
          },
          "metadata": {
            "tags": []
          },
          "execution_count": 18
        }
      ]
    },
    {
      "cell_type": "code",
      "metadata": {
        "id": "f923c91c",
        "outputId": "c62ffa8b-e0dd-4276-9930-8acfb1ee7502"
      },
      "source": [
        "# Multiple line statement\n",
        "p1 = 20 + 30 \\\n",
        "+ 40 + 50 + \\\n",
        "+ 70 + 80\n",
        "p1"
      ],
      "id": "f923c91c",
      "execution_count": null,
      "outputs": [
        {
          "output_type": "execute_result",
          "data": {
            "text/plain": [
              "290"
            ]
          },
          "metadata": {
            "tags": []
          },
          "execution_count": 1
        }
      ]
    },
    {
      "cell_type": "code",
      "metadata": {
        "id": "596b9346",
        "outputId": "0cf26875-f4b2-48f7-fae4-c1fe67fe81c8"
      },
      "source": [
        "# Multiple line statement\n",
        "p2 = [\n",
        "    'a',\n",
        "    'b',\n",
        "    'c',\n",
        "    'd']\n",
        "p2"
      ],
      "id": "596b9346",
      "execution_count": null,
      "outputs": [
        {
          "output_type": "execute_result",
          "data": {
            "text/plain": [
              "['a', 'b', 'c', 'd']"
            ]
          },
          "metadata": {
            "tags": []
          },
          "execution_count": 2
        }
      ]
    },
    {
      "cell_type": "markdown",
      "metadata": {
        "id": "25f24af2"
      },
      "source": [
        "### Indentation\n",
        "\n",
        "Indentation refers to the spaces at the beginning of a code line. It is very important as Python uses indentation to indicate a block of code.If the indentation is not correct we will endup with IndentationError error"
      ],
      "id": "25f24af2"
    },
    {
      "cell_type": "code",
      "metadata": {
        "id": "6d149e2d",
        "outputId": "a6afbcf6-e9a3-4a4c-d2f3-bd5c6f3012c6"
      },
      "source": [
        "p = 10\n",
        "if p == 10:\n",
        "    print('P is equal to 10') # correct indentation"
      ],
      "id": "6d149e2d",
      "execution_count": null,
      "outputs": [
        {
          "output_type": "stream",
          "text": [
            "P is equal to 10\n"
          ],
          "name": "stdout"
        }
      ]
    },
    {
      "cell_type": "code",
      "metadata": {
        "id": "efee9f35",
        "outputId": "679fbcee-6d40-412c-83c6-46f6a6cbc7ea"
      },
      "source": [
        "# if indentation is skipped we will encounter \"IndentationError: expected an inde\n",
        "p = 10\n",
        "if p == 10:\n",
        "print('P is equal to 10')"
      ],
      "id": "efee9f35",
      "execution_count": null,
      "outputs": [
        {
          "output_type": "error",
          "ename": "IndentationError",
          "evalue": "expected an indented block (<ipython-input-6-2bef330feb24>, line 4)",
          "traceback": [
            "\u001b[1;36m  File \u001b[1;32m\"<ipython-input-6-2bef330feb24>\"\u001b[1;36m, line \u001b[1;32m4\u001b[0m\n\u001b[1;33m    print('P is equal to 10')\u001b[0m\n\u001b[1;37m        ^\u001b[0m\n\u001b[1;31mIndentationError\u001b[0m\u001b[1;31m:\u001b[0m expected an indented block\n"
          ]
        }
      ]
    },
    {
      "cell_type": "code",
      "metadata": {
        "id": "516bb45a",
        "outputId": "12ad8857-9a98-4d48-ff6e-620133b3bd25"
      },
      "source": [
        "for i in range(0, 5):\n",
        "    print(i) # correct indentation"
      ],
      "id": "516bb45a",
      "execution_count": null,
      "outputs": [
        {
          "output_type": "stream",
          "text": [
            "0\n",
            "1\n",
            "2\n",
            "3\n",
            "4\n"
          ],
          "name": "stdout"
        }
      ]
    },
    {
      "cell_type": "code",
      "metadata": {
        "id": "77f2fa34",
        "outputId": "c1dd2a57-a60e-462f-8c9f-bd085297afb9"
      },
      "source": [
        "# if indentation is skipped we will encounter \"IndentationError: expected an index\n",
        "for i in range (0,5):\n",
        "print(i)"
      ],
      "id": "77f2fa34",
      "execution_count": null,
      "outputs": [
        {
          "output_type": "error",
          "ename": "IndentationError",
          "evalue": "expected an indented block (<ipython-input-10-ae5432fb136b>, line 3)",
          "traceback": [
            "\u001b[1;36m  File \u001b[1;32m\"<ipython-input-10-ae5432fb136b>\"\u001b[1;36m, line \u001b[1;32m3\u001b[0m\n\u001b[1;33m    print(i)\u001b[0m\n\u001b[1;37m        ^\u001b[0m\n\u001b[1;31mIndentationError\u001b[0m\u001b[1;31m:\u001b[0m expected an indented block\n"
          ]
        }
      ]
    },
    {
      "cell_type": "code",
      "metadata": {
        "id": "e7b7a07e",
        "outputId": "0895d7cb-fcd0-4073-a80d-163ca46a4e3a"
      },
      "source": [
        "for i in range(0,5): print(i) # correct indentation but less readable"
      ],
      "id": "e7b7a07e",
      "execution_count": null,
      "outputs": [
        {
          "output_type": "stream",
          "text": [
            "0\n",
            "1\n",
            "2\n",
            "3\n",
            "4\n"
          ],
          "name": "stdout"
        }
      ]
    },
    {
      "cell_type": "code",
      "metadata": {
        "id": "fdd45ee0",
        "outputId": "b19ffa89-149d-4d40-d24d-d7db6281d513"
      },
      "source": [
        "j = 20\n",
        "for i in range(0,5):\n",
        "    print(i)\n",
        "    # inside the for loop\n",
        "print(j)\n",
        "# outside the for loop"
      ],
      "id": "fdd45ee0",
      "execution_count": null,
      "outputs": [
        {
          "output_type": "stream",
          "text": [
            "0\n",
            "1\n",
            "2\n",
            "3\n",
            "4\n",
            "20\n"
          ],
          "name": "stdout"
        }
      ]
    },
    {
      "cell_type": "markdown",
      "metadata": {
        "id": "225b0170"
      },
      "source": [
        "### Docstrings\n",
        "    1. Docstrings provide a convenient way of associating documentation with functions, classes,methods or modules.\n",
        "    2. They appear right after the definition of a function, method, class, or module.\n",
        "    "
      ],
      "id": "225b0170"
    },
    {
      "cell_type": "code",
      "metadata": {
        "id": "5d765059",
        "outputId": "a87bebdf-4ae5-449a-c435-7d12fb36cbd6"
      },
      "source": [
        "def square (num):\n",
        "    '''Square Function :- This function will return the square of a number'''\n",
        "    return num **2\n",
        "square(2)"
      ],
      "id": "5d765059",
      "execution_count": null,
      "outputs": [
        {
          "output_type": "execute_result",
          "data": {
            "text/plain": [
              "4"
            ]
          },
          "metadata": {
            "tags": []
          },
          "execution_count": 17
        }
      ]
    },
    {
      "cell_type": "code",
      "metadata": {
        "id": "dd153fa0",
        "outputId": "3f4bc707-131b-45c2-9218-39a07da5487e"
      },
      "source": [
        "square.__doc__"
      ],
      "id": "dd153fa0",
      "execution_count": null,
      "outputs": [
        {
          "output_type": "execute_result",
          "data": {
            "text/plain": [
              "'Square Function :- This function will return the square of a number'"
            ]
          },
          "metadata": {
            "tags": []
          },
          "execution_count": 18
        }
      ]
    },
    {
      "cell_type": "code",
      "metadata": {
        "id": "4a7695d8"
      },
      "source": [
        "def evenodd(num):\n",
        "    '''evenodd Function :- This function will test whether a numbr is Even or Odd'''\n",
        "    if num % 2 == 0:\n",
        "        print(\"Even Number\")\n",
        "    else:\n",
        "        print(\"Odd Number\")"
      ],
      "id": "4a7695d8",
      "execution_count": null,
      "outputs": []
    },
    {
      "cell_type": "code",
      "metadata": {
        "id": "f6f53e73",
        "outputId": "440ea6a2-ef88-47ed-bb8c-ecc61dd9987e"
      },
      "source": [
        "evenodd(3)"
      ],
      "id": "f6f53e73",
      "execution_count": null,
      "outputs": [
        {
          "output_type": "stream",
          "text": [
            "Odd Number\n"
          ],
          "name": "stdout"
        }
      ]
    },
    {
      "cell_type": "code",
      "metadata": {
        "id": "75268716",
        "outputId": "7c62bb31-643c-413d-9a9a-c64d61adef4b"
      },
      "source": [
        "evenodd(2)"
      ],
      "id": "75268716",
      "execution_count": null,
      "outputs": [
        {
          "output_type": "stream",
          "text": [
            "Even Number\n"
          ],
          "name": "stdout"
        }
      ]
    },
    {
      "cell_type": "code",
      "metadata": {
        "id": "375588b8",
        "outputId": "5db7aad7-6223-43d1-8116-498b9685d86c"
      },
      "source": [
        "evenodd.__doc__"
      ],
      "id": "375588b8",
      "execution_count": null,
      "outputs": [
        {
          "output_type": "execute_result",
          "data": {
            "text/plain": [
              "'evenodd Function :- This function will test whether a numbr is Even or Odd'"
            ]
          },
          "metadata": {
            "tags": []
          },
          "execution_count": 23
        }
      ]
    },
    {
      "cell_type": "markdown",
      "metadata": {
        "id": "190f3281"
      },
      "source": [
        "### Variables\n",
        "    1.A Python variable is a reserved memory location to store values.A variable is created the momentyou first assign a value to it."
      ],
      "id": "190f3281"
    },
    {
      "cell_type": "code",
      "metadata": {
        "id": "fc246c85"
      },
      "source": [
        "p = 30"
      ],
      "id": "fc246c85",
      "execution_count": null,
      "outputs": []
    },
    {
      "cell_type": "code",
      "metadata": {
        "id": "2096b138",
        "outputId": "55501161-cf7d-4672-8937-3eb50de4276c"
      },
      "source": [
        "'''\n",
        "id() function returns the “identity” of the object. The identity of an object - Is an integer\n",
        "- Guaranteed to be unique\n",
        "- Constant for this object during its lifetime.\n",
        "'''\n",
        "id(p)"
      ],
      "id": "2096b138",
      "execution_count": null,
      "outputs": [
        {
          "output_type": "execute_result",
          "data": {
            "text/plain": [
              "140736709358448"
            ]
          },
          "metadata": {
            "tags": []
          },
          "execution_count": 30
        }
      ]
    },
    {
      "cell_type": "code",
      "metadata": {
        "id": "8eaaeafe",
        "outputId": "0f2f3b87-a9da-4d9b-a7b4-805124d44414"
      },
      "source": [
        "hex(id(p)) # Memory address of the variable"
      ],
      "id": "8eaaeafe",
      "execution_count": null,
      "outputs": [
        {
          "output_type": "execute_result",
          "data": {
            "text/plain": [
              "'0x7fffd19174b0'"
            ]
          },
          "metadata": {
            "tags": []
          },
          "execution_count": 28
        }
      ]
    },
    {
      "cell_type": "code",
      "metadata": {
        "id": "788cb53a",
        "outputId": "61cc521b-dc2d-43a8-b3e7-c3c365dacb8d"
      },
      "source": [
        "p = 20 #Creates an integer object with value 20 and assigns the variable p to point\n",
        "print(id(p))\n",
        "q = 20 # Create new reference q which will point to value 20. p & q will be point\n",
        "print(id(q))\n",
        "r = q # variable r will also point to the same location where p & q are pointing\n",
        "print(id(q))\n",
        "w = 21\n",
        "print(id(w)) # w will referss the 21 location, which is printed. it will be different from p,q and r\n",
        "\n",
        "p, type(p), hex(id(p)) # Variable P is pointing to memory location '0x7fff6d71a3"
      ],
      "id": "788cb53a",
      "execution_count": null,
      "outputs": [
        {
          "output_type": "stream",
          "text": [
            "140736709358448\n",
            "140736709358448\n",
            "140736709358448\n",
            "140736709358480\n"
          ],
          "name": "stdout"
        },
        {
          "output_type": "execute_result",
          "data": {
            "text/plain": [
              "(20, int, '0x7fffd1917370')"
            ]
          },
          "metadata": {
            "tags": []
          },
          "execution_count": 35
        }
      ]
    },
    {
      "cell_type": "code",
      "metadata": {
        "id": "a539a7b5",
        "outputId": "02969ae7-d001-40c4-86d5-3fa9ded42f20"
      },
      "source": [
        "p = 20\n",
        "p = p + 10\n",
        "p"
      ],
      "id": "a539a7b5",
      "execution_count": null,
      "outputs": [
        {
          "output_type": "execute_result",
          "data": {
            "text/plain": [
              "30"
            ]
          },
          "metadata": {
            "tags": []
          },
          "execution_count": 37
        }
      ]
    },
    {
      "cell_type": "markdown",
      "metadata": {
        "id": "ba7944ef"
      },
      "source": [
        "### Variable Assigment"
      ],
      "id": "ba7944ef"
    },
    {
      "cell_type": "code",
      "metadata": {
        "id": "d27daf3f",
        "outputId": "d3e3b8a1-7ae8-4659-f899-668c59019b6a"
      },
      "source": [
        "intvar = 10 # Integer variable\n",
        "floatvar = 2.57 # Float Variable\n",
        "strvar = \"Python Language\" # String variable\n",
        "print(intvar)\n",
        "print(floatvar) \n",
        "print(strvar)"
      ],
      "id": "d27daf3f",
      "execution_count": null,
      "outputs": [
        {
          "output_type": "stream",
          "text": [
            "10\n",
            "2.57\n",
            "Python Language\n"
          ],
          "name": "stdout"
        }
      ]
    },
    {
      "cell_type": "markdown",
      "metadata": {
        "id": "957d9bb3"
      },
      "source": [
        "#### Multiple Assignments"
      ],
      "id": "957d9bb3"
    },
    {
      "cell_type": "code",
      "metadata": {
        "id": "166441e4",
        "outputId": "200dc439-53ea-429c-8442-f8cce6c4ef5d"
      },
      "source": [
        "intvar, floatvar, strvar = 10, 2.57, \"Python Language\"\n",
        "\n",
        "# Using commas to separate\n",
        "print(intvar)\n",
        "print(floatvar)\n",
        "print(strvar)"
      ],
      "id": "166441e4",
      "execution_count": null,
      "outputs": [
        {
          "output_type": "stream",
          "text": [
            "10\n",
            "2.57\n",
            "Python Language\n"
          ],
          "name": "stdout"
        }
      ]
    },
    {
      "cell_type": "code",
      "metadata": {
        "id": "d516086a",
        "outputId": "ae196161-6229-4589-cd47-d2da6e5c0a40"
      },
      "source": [
        "p1 = p2 = p3 = p4 = 44 # All variables pointing to same value\n",
        "print(p1, p2, p3, p4)"
      ],
      "id": "d516086a",
      "execution_count": null,
      "outputs": [
        {
          "output_type": "stream",
          "text": [
            "44 44 44 44\n"
          ],
          "name": "stdout"
        }
      ]
    },
    {
      "cell_type": "markdown",
      "metadata": {
        "id": "3fe2716a"
      },
      "source": [
        "## Data Types\n",
        "\n",
        "#### Numeric"
      ],
      "id": "3fe2716a"
    },
    {
      "cell_type": "code",
      "metadata": {
        "id": "c81be590",
        "outputId": "c4edb7a5-41a6-4613-f879-7f3f12ffd479"
      },
      "source": [
        "import sys\n",
        "val1 = 10 # Integer data type\n",
        "print(val1)\n",
        "print(type(val1)) # type of object\n",
        "print(sys.getsizeof(val1)) # size of integer object in bytes\n",
        "print(val1,\" is Integer?\", isinstance (val1, int)) # val1 is an instance of int class"
      ],
      "id": "c81be590",
      "execution_count": null,
      "outputs": [
        {
          "output_type": "stream",
          "text": [
            "10\n",
            "<class 'int'>\n",
            "28\n",
            "10  is Integer? True\n"
          ],
          "name": "stdout"
        }
      ]
    },
    {
      "cell_type": "code",
      "metadata": {
        "id": "1e14b07f",
        "outputId": "3d22cfa3-85c0-4c3c-8a34-554ee718b9c2"
      },
      "source": [
        "import sys\n",
        "val2 = 97.78 # Float data type\n",
        "print(val2)\n",
        "print(type(val2)) # type of object\n",
        "print(sys.getsizeof(val2)) # size of integer object in bytes\n",
        "print(val2,\" is float?\", isinstance (val2, float)) # val1 is an instance of int class"
      ],
      "id": "1e14b07f",
      "execution_count": null,
      "outputs": [
        {
          "output_type": "stream",
          "text": [
            "97.78\n",
            "<class 'float'>\n",
            "24\n",
            "97.78  is float? True\n"
          ],
          "name": "stdout"
        }
      ]
    },
    {
      "cell_type": "code",
      "metadata": {
        "id": "37ad9d95",
        "outputId": "c8543d1f-84c7-4c46-bc02-c0463bb44142"
      },
      "source": [
        "import sys\n",
        "val3 = 925 + 10j # Complex data type\n",
        "print(val3)\n",
        "print(type(val3)) # type of object\n",
        "print(sys.getsizeof(val3)) # size of integer object in bytes\n",
        "print(val3,\" is complex?\", isinstance (val3, complex)) # val1 is an instance of int class"
      ],
      "id": "37ad9d95",
      "execution_count": null,
      "outputs": [
        {
          "output_type": "stream",
          "text": [
            "(925+10j)\n",
            "<class 'complex'>\n",
            "32\n",
            "(925+10j)  is complex? True\n"
          ],
          "name": "stdout"
        }
      ]
    },
    {
      "cell_type": "code",
      "metadata": {
        "id": "d683f587",
        "outputId": "a214e59a-f7a7-4b06-8e71-53c705e091d5"
      },
      "source": [
        "sys.getsizeof(int()) # size of integer object in bytes"
      ],
      "id": "d683f587",
      "execution_count": null,
      "outputs": [
        {
          "output_type": "execute_result",
          "data": {
            "text/plain": [
              "24"
            ]
          },
          "metadata": {
            "tags": []
          },
          "execution_count": 11
        }
      ]
    },
    {
      "cell_type": "code",
      "metadata": {
        "id": "16f56434",
        "outputId": "7975dbb7-84ba-4c82-e960-85e1e423a723"
      },
      "source": [
        "sys.getsizeof(float()) # size of float object in bytes"
      ],
      "id": "16f56434",
      "execution_count": null,
      "outputs": [
        {
          "output_type": "execute_result",
          "data": {
            "text/plain": [
              "24"
            ]
          },
          "metadata": {
            "tags": []
          },
          "execution_count": 12
        }
      ]
    },
    {
      "cell_type": "code",
      "metadata": {
        "id": "9004a7fc",
        "outputId": "a6bf18b9-705c-458b-d98f-cb03cdc02ca3"
      },
      "source": [
        "sys.getsizeof(complex()) # size of complex object in bytes"
      ],
      "id": "9004a7fc",
      "execution_count": null,
      "outputs": [
        {
          "output_type": "execute_result",
          "data": {
            "text/plain": [
              "32"
            ]
          },
          "metadata": {
            "tags": []
          },
          "execution_count": 13
        }
      ]
    },
    {
      "cell_type": "markdown",
      "metadata": {
        "id": "708e1258"
      },
      "source": [
        "#### Boolean"
      ],
      "id": "708e1258"
    },
    {
      "cell_type": "code",
      "metadata": {
        "id": "3d4a7763",
        "outputId": "7946a8c4-2955-4acc-8d4f-05b3beeeb366"
      },
      "source": [
        "bool1 = True\n",
        "bool2 = False\n",
        "print(type(bool1))\n",
        "print(type(bool2))\n",
        "print(\"Instance of bool: \", isinstance(bool1, bool))"
      ],
      "id": "3d4a7763",
      "execution_count": null,
      "outputs": [
        {
          "output_type": "stream",
          "text": [
            "<class 'bool'>\n",
            "<class 'bool'>\n",
            "Instance of bool:  True\n"
          ],
          "name": "stdout"
        }
      ]
    },
    {
      "cell_type": "code",
      "metadata": {
        "id": "874d3ae0",
        "outputId": "f47bebb1-ea08-4fe0-8951-12032738769d"
      },
      "source": [
        "print(bool(0))\n",
        "print(bool(1))\n",
        "print(bool(None))\n",
        "print(bool(False))"
      ],
      "id": "874d3ae0",
      "execution_count": null,
      "outputs": [
        {
          "output_type": "stream",
          "text": [
            "False\n",
            "True\n",
            "False\n",
            "False\n"
          ],
          "name": "stdout"
        }
      ]
    },
    {
      "cell_type": "markdown",
      "metadata": {
        "id": "8bdee88b"
      },
      "source": [
        "### String"
      ],
      "id": "8bdee88b"
    },
    {
      "cell_type": "code",
      "metadata": {
        "id": "d3c4ef6c",
        "outputId": "97fe4da7-9edb-4d16-9608-65e080c3a168"
      },
      "source": [
        "# String Creation\n",
        "str1 = \"Hello Python\"\n",
        "print(str1)\n",
        "\n",
        "mystr = 'Hello World' # Define string using single quotes\n",
        "print(mystr)\n",
        "\n",
        "mystr = \"Hello Double quotes\" # Define string using single quotes\n",
        "print(mystr)"
      ],
      "id": "d3c4ef6c",
      "execution_count": null,
      "outputs": [
        {
          "output_type": "stream",
          "text": [
            "Hello Python\n",
            "Hello World\n",
            "Hello Double quotes\n"
          ],
          "name": "stdout"
        }
      ]
    },
    {
      "cell_type": "code",
      "metadata": {
        "id": "110ee06b",
        "outputId": "b7c30a69-97fb-4c15-d04e-a90daf3c13c1"
      },
      "source": [
        "mystr = '''Hello \n",
        "multi\n",
        "line \n",
        "string\n",
        "''' # Define string using single quotes\n",
        "print(mystr)"
      ],
      "id": "110ee06b",
      "execution_count": null,
      "outputs": [
        {
          "output_type": "stream",
          "text": [
            "Hello \n",
            "multi\n",
            "line \n",
            "string\n",
            "\n"
          ],
          "name": "stdout"
        }
      ]
    },
    {
      "cell_type": "code",
      "metadata": {
        "id": "352473ab",
        "outputId": "fbf3c81a-c556-43a4-dbe3-f68035361388"
      },
      "source": [
        "mystr = \"\"\"Hello \n",
        "multi\n",
        "line \n",
        "string\n",
        "\"\"\" # Define string using using triple quotes\n",
        "print(mystr)"
      ],
      "id": "352473ab",
      "execution_count": null,
      "outputs": [
        {
          "output_type": "stream",
          "text": [
            "Hello \n",
            "multi\n",
            "line \n",
            "string\n",
            "\n"
          ],
          "name": "stdout"
        }
      ]
    },
    {
      "cell_type": "markdown",
      "metadata": {
        "id": "ebbd12cc"
      },
      "source": [
        "## Multiply string \n"
      ],
      "id": "ebbd12cc"
    },
    {
      "cell_type": "code",
      "metadata": {
        "id": "d3cccc47",
        "outputId": "2e3db75f-0785-44de-9022-dc4c034a8e4c"
      },
      "source": [
        "mystr2 = 'Woohoo '\n",
        "mystr2 = mystr2 * 5 \n",
        "mystr2"
      ],
      "id": "d3cccc47",
      "execution_count": null,
      "outputs": [
        {
          "output_type": "execute_result",
          "data": {
            "text/plain": [
              "'Woohoo Woohoo Woohoo Woohoo Woohoo '"
            ]
          },
          "metadata": {
            "tags": []
          },
          "execution_count": 33
        }
      ]
    },
    {
      "cell_type": "code",
      "metadata": {
        "id": "63f396db",
        "outputId": "b191691a-853d-4116-f64e-204eabbe066b"
      },
      "source": [
        "len(mystr2)"
      ],
      "id": "63f396db",
      "execution_count": null,
      "outputs": [
        {
          "output_type": "execute_result",
          "data": {
            "text/plain": [
              "35"
            ]
          },
          "metadata": {
            "tags": []
          },
          "execution_count": 34
        }
      ]
    },
    {
      "cell_type": "markdown",
      "metadata": {
        "id": "84e87223"
      },
      "source": [
        "### String Indexing"
      ],
      "id": "84e87223"
    },
    {
      "cell_type": "code",
      "metadata": {
        "id": "4f8ec3cd",
        "outputId": "d0e53edb-88a1-4d23-d62a-4162707e34c2"
      },
      "source": [
        "len(mystr2)"
      ],
      "id": "4f8ec3cd",
      "execution_count": null,
      "outputs": [
        {
          "output_type": "execute_result",
          "data": {
            "text/plain": [
              "35"
            ]
          },
          "metadata": {
            "tags": []
          },
          "execution_count": 39
        }
      ]
    },
    {
      "cell_type": "code",
      "metadata": {
        "id": "5025fc83",
        "outputId": "1bf1f07d-e18f-49db-e533-5cb275337061"
      },
      "source": [
        "str1"
      ],
      "id": "5025fc83",
      "execution_count": null,
      "outputs": [
        {
          "output_type": "execute_result",
          "data": {
            "text/plain": [
              "'Hello Python'"
            ]
          },
          "metadata": {
            "tags": []
          },
          "execution_count": 40
        }
      ]
    },
    {
      "cell_type": "code",
      "metadata": {
        "id": "e4d58775",
        "outputId": "4ba7f73e-62d2-4d3d-90a6-49564322c575"
      },
      "source": [
        "str1[0] # First character in string \"str1\""
      ],
      "id": "e4d58775",
      "execution_count": null,
      "outputs": [
        {
          "output_type": "execute_result",
          "data": {
            "text/plain": [
              "'H'"
            ]
          },
          "metadata": {
            "tags": []
          },
          "execution_count": 41
        }
      ]
    },
    {
      "cell_type": "code",
      "metadata": {
        "id": "dae4b742",
        "outputId": "df4c7120-2123-4fc2-ae8a-2ed9e74c02d6"
      },
      "source": [
        "print(str1[len(str1) - 1]) # Last character in string using len function\n",
        "print(str1[-1]) # Last character in string"
      ],
      "id": "dae4b742",
      "execution_count": null,
      "outputs": [
        {
          "output_type": "stream",
          "text": [
            "n\n",
            "n\n"
          ],
          "name": "stdout"
        }
      ]
    },
    {
      "cell_type": "code",
      "metadata": {
        "id": "66a88d88",
        "outputId": "9560a5a1-4d63-4f4b-d021-934c06342088"
      },
      "source": [
        "str1[6] #Fetch 7th element of the string"
      ],
      "id": "66a88d88",
      "execution_count": null,
      "outputs": [
        {
          "output_type": "execute_result",
          "data": {
            "text/plain": [
              "'P'"
            ]
          },
          "metadata": {
            "tags": []
          },
          "execution_count": 46
        }
      ]
    },
    {
      "cell_type": "code",
      "metadata": {
        "id": "639e7a51",
        "outputId": "e1de61af-d199-4c50-fba7-7091258d150d"
      },
      "source": [
        "print(str1[5])"
      ],
      "id": "639e7a51",
      "execution_count": null,
      "outputs": [
        {
          "output_type": "stream",
          "text": [
            " \n"
          ],
          "name": "stdout"
        }
      ]
    },
    {
      "cell_type": "markdown",
      "metadata": {
        "id": "e398e88c"
      },
      "source": [
        "### String Slicing"
      ],
      "id": "e398e88c"
    },
    {
      "cell_type": "code",
      "metadata": {
        "id": "c8ebb9a4",
        "outputId": "93c94a3f-b36b-4bd0-9077-45e5beb4b498"
      },
      "source": [
        "str1[0:5] # String slicing - Fetch all characters from 0 to 5 index location excluding other elements"
      ],
      "id": "c8ebb9a4",
      "execution_count": null,
      "outputs": [
        {
          "output_type": "execute_result",
          "data": {
            "text/plain": [
              "'Hello'"
            ]
          },
          "metadata": {
            "tags": []
          },
          "execution_count": 50
        }
      ]
    },
    {
      "cell_type": "code",
      "metadata": {
        "id": "608a33cb",
        "outputId": "b426ee2d-ac8a-4f3e-a317-dd516f1b559d"
      },
      "source": [
        "str1[6:12] # String slicing - Retreive all characters between 6 - 12 index loc excluding other elements"
      ],
      "id": "608a33cb",
      "execution_count": null,
      "outputs": [
        {
          "output_type": "execute_result",
          "data": {
            "text/plain": [
              "'Python'"
            ]
          },
          "metadata": {
            "tags": []
          },
          "execution_count": 53
        }
      ]
    },
    {
      "cell_type": "code",
      "metadata": {
        "id": "bdb46940",
        "outputId": "6e94b809-6ef8-42c8-badd-5d142291546b"
      },
      "source": [
        "str1[-4:] # Retreive last four characters of the string"
      ],
      "id": "bdb46940",
      "execution_count": null,
      "outputs": [
        {
          "output_type": "execute_result",
          "data": {
            "text/plain": [
              "'o Python'"
            ]
          },
          "metadata": {
            "tags": []
          },
          "execution_count": 58
        }
      ]
    },
    {
      "cell_type": "code",
      "metadata": {
        "id": "20f909c2",
        "outputId": "28705ce5-ce84-4e9f-d26c-4777c2580746"
      },
      "source": [
        "str1[-6:] # Retreive last six characters of the string"
      ],
      "id": "20f909c2",
      "execution_count": null,
      "outputs": [
        {
          "output_type": "execute_result",
          "data": {
            "text/plain": [
              "'Python'"
            ]
          },
          "metadata": {
            "tags": []
          },
          "execution_count": 59
        }
      ]
    },
    {
      "cell_type": "code",
      "metadata": {
        "id": "b21e4a14",
        "outputId": "9bdd0ef5-93c5-4369-bce5-00b607b78b4a"
      },
      "source": [
        "str1[:4] # Retreive first four characters of the string"
      ],
      "id": "b21e4a14",
      "execution_count": null,
      "outputs": [
        {
          "output_type": "execute_result",
          "data": {
            "text/plain": [
              "'Hell'"
            ]
          },
          "metadata": {
            "tags": []
          },
          "execution_count": 60
        }
      ]
    },
    {
      "cell_type": "code",
      "metadata": {
        "id": "4c8da67b",
        "outputId": "1ca98bb4-a02b-4440-dd36-3addfc6c0312"
      },
      "source": [
        "str1[:6] # Retreive first six characters of the string"
      ],
      "id": "4c8da67b",
      "execution_count": null,
      "outputs": [
        {
          "output_type": "execute_result",
          "data": {
            "text/plain": [
              "'Hello '"
            ]
          },
          "metadata": {
            "tags": []
          },
          "execution_count": 61
        }
      ]
    },
    {
      "cell_type": "code",
      "metadata": {
        "id": "8cd8d7bf",
        "outputId": "413f846c-4a0b-414b-9b42-e0959efaeb8a"
      },
      "source": [
        "str1"
      ],
      "id": "8cd8d7bf",
      "execution_count": null,
      "outputs": [
        {
          "output_type": "execute_result",
          "data": {
            "text/plain": [
              "'Hello Python'"
            ]
          },
          "metadata": {
            "tags": []
          },
          "execution_count": 62
        }
      ]
    },
    {
      "cell_type": "markdown",
      "metadata": {
        "id": "453f80d6"
      },
      "source": [
        "### Update & Delete String"
      ],
      "id": "453f80d6"
    },
    {
      "cell_type": "code",
      "metadata": {
        "id": "363c7734",
        "outputId": "b1a282d0-ac06-4ee5-d186-c3a3e29feac6"
      },
      "source": [
        "#Strings are immutable which means elements of a string cannot be changed once the value\n",
        "str1[0:5] = 'HOLAA'"
      ],
      "id": "363c7734",
      "execution_count": null,
      "outputs": [
        {
          "output_type": "error",
          "ename": "TypeError",
          "evalue": "'str' object does not support item assignment",
          "traceback": [
            "\u001b[1;31m---------------------------------------------------------------------------\u001b[0m",
            "\u001b[1;31mTypeError\u001b[0m                                 Traceback (most recent call last)",
            "\u001b[1;32m<ipython-input-65-71e50137b467>\u001b[0m in \u001b[0;36m<module>\u001b[1;34m\u001b[0m\n\u001b[0;32m      1\u001b[0m \u001b[1;31m#Strings are immutable which means elements of a string cannot be changed once the value\u001b[0m\u001b[1;33m\u001b[0m\u001b[1;33m\u001b[0m\u001b[1;33m\u001b[0m\u001b[0m\n\u001b[1;32m----> 2\u001b[1;33m \u001b[0mstr1\u001b[0m\u001b[1;33m[\u001b[0m\u001b[1;36m0\u001b[0m\u001b[1;33m:\u001b[0m\u001b[1;36m5\u001b[0m\u001b[1;33m]\u001b[0m \u001b[1;33m=\u001b[0m \u001b[1;34m'HOLAA'\u001b[0m\u001b[1;33m\u001b[0m\u001b[1;33m\u001b[0m\u001b[0m\n\u001b[0m",
            "\u001b[1;31mTypeError\u001b[0m: 'str' object does not support item assignment"
          ]
        }
      ]
    },
    {
      "cell_type": "code",
      "metadata": {
        "id": "7b8ec1ac",
        "outputId": "99a22506-1355-469b-aa37-f1bfe2818cba"
      },
      "source": [
        "del str1 # Delete a string\n",
        "print(srt1)"
      ],
      "id": "7b8ec1ac",
      "execution_count": null,
      "outputs": [
        {
          "output_type": "error",
          "ename": "NameError",
          "evalue": "name 'srt1' is not defined",
          "traceback": [
            "\u001b[1;31m---------------------------------------------------------------------------\u001b[0m",
            "\u001b[1;31mNameError\u001b[0m                                 Traceback (most recent call last)",
            "\u001b[1;32m<ipython-input-66-7fcc0cc83dcc>\u001b[0m in \u001b[0;36m<module>\u001b[1;34m\u001b[0m\n\u001b[0;32m      1\u001b[0m \u001b[1;32mdel\u001b[0m \u001b[0mstr1\u001b[0m \u001b[1;31m# Delete a string\u001b[0m\u001b[1;33m\u001b[0m\u001b[1;33m\u001b[0m\u001b[0m\n\u001b[1;32m----> 2\u001b[1;33m \u001b[0mprint\u001b[0m\u001b[1;33m(\u001b[0m\u001b[0msrt1\u001b[0m\u001b[1;33m)\u001b[0m\u001b[1;33m\u001b[0m\u001b[1;33m\u001b[0m\u001b[0m\n\u001b[0m",
            "\u001b[1;31mNameError\u001b[0m: name 'srt1' is not defined"
          ]
        }
      ]
    },
    {
      "cell_type": "markdown",
      "metadata": {
        "id": "a28aa5e4"
      },
      "source": [
        "### String concatenation"
      ],
      "id": "a28aa5e4"
    },
    {
      "cell_type": "code",
      "metadata": {
        "id": "0a3b828e",
        "outputId": "38e357aa-7f02-498e-8be7-eb6e1202450f"
      },
      "source": [
        "# String concatenation\n",
        "s1 = \"Hello\"\n",
        "s2 = \"Asif\"\n",
        "s3 = s1 + s2\n",
        "print(s3)"
      ],
      "id": "0a3b828e",
      "execution_count": null,
      "outputs": [
        {
          "output_type": "stream",
          "text": [
            "HelloAsif\n"
          ],
          "name": "stdout"
        }
      ]
    },
    {
      "cell_type": "code",
      "metadata": {
        "id": "96a378cf",
        "outputId": "bc1ef8c6-98e0-4d9e-a86e-e198012e057e"
      },
      "source": [
        "s1 = \"Hello\"\n",
        "s2 = \"Asif\"\n",
        "s3 =  s1 + \" \" + s2\n",
        "print(s3)"
      ],
      "id": "96a378cf",
      "execution_count": null,
      "outputs": [
        {
          "output_type": "stream",
          "text": [
            "Hello Asif\n"
          ],
          "name": "stdout"
        }
      ]
    },
    {
      "cell_type": "markdown",
      "metadata": {
        "id": "d637821b"
      },
      "source": [
        "### Iterating through a String"
      ],
      "id": "d637821b"
    },
    {
      "cell_type": "code",
      "metadata": {
        "id": "8ae81565",
        "outputId": "42f6fe5b-8cf2-4ed9-f9db-06bab938be93"
      },
      "source": [
        "mystr1 = \"Hello Everyone\"\n",
        "# Iteration\n",
        "for i in mystr1:\n",
        "    print(i)"
      ],
      "id": "8ae81565",
      "execution_count": null,
      "outputs": [
        {
          "output_type": "stream",
          "text": [
            "H\n",
            "e\n",
            "l\n",
            "l\n",
            "o\n",
            " \n",
            "E\n",
            "v\n",
            "e\n",
            "r\n",
            "y\n",
            "o\n",
            "n\n",
            "e\n"
          ],
          "name": "stdout"
        }
      ]
    },
    {
      "cell_type": "code",
      "metadata": {
        "id": "8dc9b94f",
        "outputId": "5d1189f3-6480-4868-f428-7d6dcdcbe4dd"
      },
      "source": [
        "for i in enumerate(mystr1):\n",
        "    print(i)"
      ],
      "id": "8dc9b94f",
      "execution_count": null,
      "outputs": [
        {
          "output_type": "stream",
          "text": [
            "(0, 'H')\n",
            "(1, 'e')\n",
            "(2, 'l')\n",
            "(3, 'l')\n",
            "(4, 'o')\n",
            "(5, ' ')\n",
            "(6, 'E')\n",
            "(7, 'v')\n",
            "(8, 'e')\n",
            "(9, 'r')\n",
            "(10, 'y')\n",
            "(11, 'o')\n",
            "(12, 'n')\n",
            "(13, 'e')\n"
          ],
          "name": "stdout"
        }
      ]
    },
    {
      "cell_type": "code",
      "metadata": {
        "id": "30dec747",
        "outputId": "1b48cc6d-e04d-4cb6-d430-5019ff1bb8cf"
      },
      "source": [
        "list(enumerate(mystr1)) # Enumerate method adds a counter to an iterable and return"
      ],
      "id": "30dec747",
      "execution_count": null,
      "outputs": [
        {
          "output_type": "execute_result",
          "data": {
            "text/plain": [
              "[(0, 'H'),\n",
              " (1, 'e'),\n",
              " (2, 'l'),\n",
              " (3, 'l'),\n",
              " (4, 'o'),\n",
              " (5, ' '),\n",
              " (6, 'E'),\n",
              " (7, 'v'),\n",
              " (8, 'e'),\n",
              " (9, 'r'),\n",
              " (10, 'y'),\n",
              " (11, 'o'),\n",
              " (12, 'n'),\n",
              " (13, 'e')]"
            ]
          },
          "metadata": {
            "tags": []
          },
          "execution_count": 74
        }
      ]
    },
    {
      "cell_type": "markdown",
      "metadata": {
        "id": "33f220d0"
      },
      "source": [
        "#### String Membership"
      ],
      "id": "33f220d0"
    },
    {
      "cell_type": "code",
      "metadata": {
        "id": "d0502fc5",
        "outputId": "8916a0c5-6956-406c-ccd9-a4d790274211"
      },
      "source": [
        "# String membership\n",
        "mystr1 = \"Hello Everyone\"\n",
        "\n",
        "print('Hello' in mystr1) # Check whether substring \"Hello\" is present in string\n",
        "print('Everyone' in mystr1) # Check whether substring \"Everyone\" is present in string \"mystr1\"\n",
        "print('Hi' in mystr1) # Check whether substring \"Hi\" is present in string \"mystr1\""
      ],
      "id": "d0502fc5",
      "execution_count": null,
      "outputs": [
        {
          "output_type": "stream",
          "text": [
            "True\n",
            "True\n",
            "False\n"
          ],
          "name": "stdout"
        }
      ]
    },
    {
      "cell_type": "markdown",
      "metadata": {
        "id": "9f69e6fe"
      },
      "source": [
        "### String Partitioning"
      ],
      "id": "9f69e6fe"
    },
    {
      "cell_type": "code",
      "metadata": {
        "id": "675e5887",
        "outputId": "31a4c159-7aba-4f89-b90a-2de1725409fb"
      },
      "source": [
        "\"\"\"\n",
        "The partition() method searches for a specified string and splits the string into\n",
        "\n",
        "- The first element contains the part before the argument string.\n",
        "\n",
        "- The second element contains the argument string.\n",
        "\n",
        "- The third element contains the part after the argument string.\n",
        "\n",
        "\"\"\"\n",
        "str5 = \"Natural language processing with Python and R and Java\"\n",
        "L = str5.partition(\"and\")\n",
        "print(L[0])\n",
        "print(L[1])\n",
        "print(L[2])"
      ],
      "id": "675e5887",
      "execution_count": null,
      "outputs": [
        {
          "output_type": "stream",
          "text": [
            "Natural language processing with Python \n",
            "and\n",
            " R and Java\n"
          ],
          "name": "stdout"
        }
      ]
    },
    {
      "cell_type": "code",
      "metadata": {
        "id": "2d199e39",
        "outputId": "c77c3a05-6850-4870-9ebd-04bbdcedaae7"
      },
      "source": [
        "\"\"\"\n",
        "The rpartition() method searches for the last occurence of the specified string a\n",
        "containing three elements.\n",
        "- The first element contains the part before the argument string.\n",
        "- The second element contains the argument string.\n",
        "- The third element contains the part after the argument string.\n",
        "\"\"\"\n",
        "str5 = \"Natural language processing with Python and R and Java\"\n",
        "L = str5.rpartition(\"and\")\n",
        "print(L)"
      ],
      "id": "2d199e39",
      "execution_count": null,
      "outputs": [
        {
          "output_type": "stream",
          "text": [
            "('Natural language processing with Python and R ', 'and', ' Java')\n"
          ],
          "name": "stdout"
        }
      ]
    },
    {
      "cell_type": "markdown",
      "metadata": {
        "id": "019cdb6c"
      },
      "source": [
        "### String Functions"
      ],
      "id": "019cdb6c"
    },
    {
      "cell_type": "code",
      "metadata": {
        "id": "e4bb68db",
        "outputId": "5102a74b-3c70-4a0f-ccb1-045c647be1e7"
      },
      "source": [
        "mystr2 = \" Hello Everyone \"\n",
        "mystr2"
      ],
      "id": "e4bb68db",
      "execution_count": null,
      "outputs": [
        {
          "output_type": "execute_result",
          "data": {
            "text/plain": [
              "' Hello Everyone '"
            ]
          },
          "metadata": {
            "tags": []
          },
          "execution_count": 80
        }
      ]
    },
    {
      "cell_type": "code",
      "metadata": {
        "id": "d5587359",
        "outputId": "19efaa40-8ee8-4bdd-df5b-c3f8c956d513"
      },
      "source": [
        "mystr2.strip() # Removes white space from begining & end"
      ],
      "id": "d5587359",
      "execution_count": null,
      "outputs": [
        {
          "output_type": "execute_result",
          "data": {
            "text/plain": [
              "'Hello Everyone'"
            ]
          },
          "metadata": {
            "tags": []
          },
          "execution_count": 81
        }
      ]
    },
    {
      "cell_type": "code",
      "metadata": {
        "id": "cd502f72",
        "outputId": "c34f9acc-5057-447e-f20b-0d923591dc5a"
      },
      "source": [
        "mystr2.rstrip() # Removes all whitespaces at the end of the string"
      ],
      "id": "cd502f72",
      "execution_count": null,
      "outputs": [
        {
          "output_type": "execute_result",
          "data": {
            "text/plain": [
              "' Hello Everyone'"
            ]
          },
          "metadata": {
            "tags": []
          },
          "execution_count": 82
        }
      ]
    },
    {
      "cell_type": "code",
      "metadata": {
        "id": "3e57af50",
        "outputId": "c881e750-7ac6-4f52-e288-25cc4c6f4348"
      },
      "source": [
        "mystr2.lstrip() # Removes all whitespaces at the begining of the string"
      ],
      "id": "3e57af50",
      "execution_count": null,
      "outputs": [
        {
          "output_type": "execute_result",
          "data": {
            "text/plain": [
              "'Hello Everyone '"
            ]
          },
          "metadata": {
            "tags": []
          },
          "execution_count": 83
        }
      ]
    },
    {
      "cell_type": "code",
      "metadata": {
        "id": "16d355fb",
        "outputId": "105baf52-446f-4ff0-ff4d-9deb2bedbfe9"
      },
      "source": [
        "mystr2 = \"*********Hello Everyone***********All the Best**********\"\n",
        "mystr2"
      ],
      "id": "16d355fb",
      "execution_count": null,
      "outputs": [
        {
          "output_type": "execute_result",
          "data": {
            "text/plain": [
              "'*********Hello Everyone***********All the Best**********'"
            ]
          },
          "metadata": {
            "tags": []
          },
          "execution_count": 84
        }
      ]
    },
    {
      "cell_type": "code",
      "metadata": {
        "id": "2dcf8e80",
        "outputId": "ec2b8758-b7d6-46a1-cd37-afbe5033fac4"
      },
      "source": [
        "mystr2.strip('*') # Removes all '*' characters from begining & end of the string"
      ],
      "id": "2dcf8e80",
      "execution_count": null,
      "outputs": [
        {
          "output_type": "execute_result",
          "data": {
            "text/plain": [
              "'Hello Everyone***********All the Best'"
            ]
          },
          "metadata": {
            "tags": []
          },
          "execution_count": 86
        }
      ]
    },
    {
      "cell_type": "code",
      "metadata": {
        "id": "5aa821a1",
        "outputId": "66ef1697-0c4b-47e0-ea82-d642a8ddda5b"
      },
      "source": [
        "mystr2.rstrip('*') # Removes all '*' characters at the end of the string"
      ],
      "id": "5aa821a1",
      "execution_count": null,
      "outputs": [
        {
          "output_type": "execute_result",
          "data": {
            "text/plain": [
              "'*********Hello Everyone***********All the Best'"
            ]
          },
          "metadata": {
            "tags": []
          },
          "execution_count": 88
        }
      ]
    },
    {
      "cell_type": "code",
      "metadata": {
        "id": "ca5a64b9",
        "outputId": "28d31cb4-b4d0-4c36-bb61-e836158c90e6"
      },
      "source": [
        "mystr2.lstrip('*') # Removes all '*' characters at the begining of the string"
      ],
      "id": "ca5a64b9",
      "execution_count": null,
      "outputs": [
        {
          "output_type": "execute_result",
          "data": {
            "text/plain": [
              "'Hello Everyone***********All the Best**********'"
            ]
          },
          "metadata": {
            "tags": []
          },
          "execution_count": 89
        }
      ]
    },
    {
      "cell_type": "code",
      "metadata": {
        "id": "1af4a427"
      },
      "source": [
        "mystr2 = \" Hello Everyone \""
      ],
      "id": "1af4a427",
      "execution_count": null,
      "outputs": []
    },
    {
      "cell_type": "code",
      "metadata": {
        "id": "c91b89b4",
        "outputId": "2a53d08e-e7cf-4e72-c389-017ca1ad91c3"
      },
      "source": [
        "mystr2.lower() # Return whole string in lowercase"
      ],
      "id": "c91b89b4",
      "execution_count": null,
      "outputs": [
        {
          "output_type": "execute_result",
          "data": {
            "text/plain": [
              "' hello everyone '"
            ]
          },
          "metadata": {
            "tags": []
          },
          "execution_count": 91
        }
      ]
    },
    {
      "cell_type": "code",
      "metadata": {
        "id": "3b749c14",
        "outputId": "347d71bf-c003-4414-9c49-6040128bd612"
      },
      "source": [
        "mystr2.upper() # Return whole string in uppercase"
      ],
      "id": "3b749c14",
      "execution_count": null,
      "outputs": [
        {
          "output_type": "execute_result",
          "data": {
            "text/plain": [
              "' HELLO EVERYONE '"
            ]
          },
          "metadata": {
            "tags": []
          },
          "execution_count": 92
        }
      ]
    },
    {
      "cell_type": "code",
      "metadata": {
        "id": "388239e1",
        "outputId": "fa09a2ce-beb7-4264-ee69-a9316faec64f"
      },
      "source": [
        "mystr2.replace(\"He\",\"Ho\") #Replace substring \"He\" with \"Ho\""
      ],
      "id": "388239e1",
      "execution_count": null,
      "outputs": [
        {
          "output_type": "execute_result",
          "data": {
            "text/plain": [
              "' Hollo Everyone '"
            ]
          },
          "metadata": {
            "tags": []
          },
          "execution_count": 93
        }
      ]
    },
    {
      "cell_type": "code",
      "metadata": {
        "id": "01e7ecff",
        "outputId": "d69a1753-0fc1-40f4-937d-6d2fd16c9901"
      },
      "source": [
        "mystr2.replace(\" \",\"\") # Remove all whitespaces using replace function"
      ],
      "id": "01e7ecff",
      "execution_count": null,
      "outputs": [
        {
          "output_type": "execute_result",
          "data": {
            "text/plain": [
              "'HelloEveryone'"
            ]
          },
          "metadata": {
            "tags": []
          },
          "execution_count": 99
        }
      ]
    },
    {
      "cell_type": "code",
      "metadata": {
        "id": "d449e8ed"
      },
      "source": [
        "mystr5 = \"one two Three one two two three\""
      ],
      "id": "d449e8ed",
      "execution_count": null,
      "outputs": []
    },
    {
      "cell_type": "code",
      "metadata": {
        "id": "6593d553",
        "outputId": "ced29378-6b4c-4bfe-ed5b-81dd99bf4c82"
      },
      "source": [
        "mystr5.count(\"one\") # Number of times substring \"one\" occurred in string."
      ],
      "id": "6593d553",
      "execution_count": null,
      "outputs": [
        {
          "output_type": "execute_result",
          "data": {
            "text/plain": [
              "2"
            ]
          },
          "metadata": {
            "tags": []
          },
          "execution_count": 97
        }
      ]
    },
    {
      "cell_type": "code",
      "metadata": {
        "id": "fa78584a",
        "outputId": "344c0b62-e1b3-4f1e-8806-e62800ea73f2"
      },
      "source": [
        "mystr5.count(\"two\") # Number of times substring \"two\" occurred in string."
      ],
      "id": "fa78584a",
      "execution_count": null,
      "outputs": [
        {
          "output_type": "execute_result",
          "data": {
            "text/plain": [
              "3"
            ]
          },
          "metadata": {
            "tags": []
          },
          "execution_count": 100
        }
      ]
    },
    {
      "cell_type": "code",
      "metadata": {
        "id": "fdae3f72",
        "outputId": "7877c8b5-5ee0-4cb6-af73-a7044f911096"
      },
      "source": [
        "mystr5.startswith(\"one\") # Return boolean value True if string starts with \"one\""
      ],
      "id": "fdae3f72",
      "execution_count": null,
      "outputs": [
        {
          "output_type": "execute_result",
          "data": {
            "text/plain": [
              "True"
            ]
          },
          "metadata": {
            "tags": []
          },
          "execution_count": 101
        }
      ]
    },
    {
      "cell_type": "code",
      "metadata": {
        "id": "cbd677dc",
        "outputId": "5852be07-2bea-4657-8875-8bcfd8d1eb59"
      },
      "source": [
        "mystr5.endswith(\"three\") # Return boolean value True if string ends with \"three\""
      ],
      "id": "cbd677dc",
      "execution_count": null,
      "outputs": [
        {
          "output_type": "execute_result",
          "data": {
            "text/plain": [
              "True"
            ]
          },
          "metadata": {
            "tags": []
          },
          "execution_count": 102
        }
      ]
    },
    {
      "cell_type": "code",
      "metadata": {
        "id": "529b22d6"
      },
      "source": [
        "mystr4 = \"one two three four one two two three five five six seven six seven one one, one, ten, eight, ten, nine, eleven, ten, ten, nine\""
      ],
      "id": "529b22d6",
      "execution_count": null,
      "outputs": []
    },
    {
      "cell_type": "code",
      "metadata": {
        "id": "179e3e4e",
        "outputId": "6f4d56b1-61d7-49e3-beee-1add067c7991"
      },
      "source": [
        "mylist = mystr4.split() # Split String into substrings\n",
        "mylist"
      ],
      "id": "179e3e4e",
      "execution_count": null,
      "outputs": [
        {
          "output_type": "execute_result",
          "data": {
            "text/plain": [
              "['one',\n",
              " 'two',\n",
              " 'three',\n",
              " 'four',\n",
              " 'one',\n",
              " 'two',\n",
              " 'two',\n",
              " 'three',\n",
              " 'five',\n",
              " 'five',\n",
              " 'six',\n",
              " 'seven',\n",
              " 'six',\n",
              " 'seven',\n",
              " 'one',\n",
              " 'one,',\n",
              " 'one,',\n",
              " 'ten,',\n",
              " 'eight,',\n",
              " 'ten,',\n",
              " 'nine,',\n",
              " 'eleven,',\n",
              " 'ten,',\n",
              " 'ten,',\n",
              " 'nine']"
            ]
          },
          "metadata": {
            "tags": []
          },
          "execution_count": 107
        }
      ]
    },
    {
      "cell_type": "code",
      "metadata": {
        "id": "f0ec6672",
        "outputId": "bade2bb4-8a9f-4a08-ec6f-3ff858419a91"
      },
      "source": [
        "# Combining string & numbers using format method\n",
        "item1 = 40\n",
        "item2 = 55\n",
        "item3 = 77 \n",
        "res = \"Cost of item1 , item2 and item3 are {} , {} and {}\"\n",
        "print(res.format(item1, item2, item3))"
      ],
      "id": "f0ec6672",
      "execution_count": null,
      "outputs": [
        {
          "output_type": "stream",
          "text": [
            "Cost of item1 , item2 and item3 are 40 , 55 and 77\n"
          ],
          "name": "stdout"
        }
      ]
    },
    {
      "cell_type": "code",
      "metadata": {
        "id": "ceb9739e",
        "outputId": "c37fc990-1c0a-416a-dfbd-e91ec0e772ae"
      },
      "source": [
        "# Combining string & numbers using format method\n",
        "item1 = 40\n",
        "item2 = 55\n",
        "item3 = 77 \n",
        "res = \"Cost of item3 , item2 and item1 are {2}, {1} and {0}\"\n",
        "print(res.format(item1, item2, item3))"
      ],
      "id": "ceb9739e",
      "execution_count": null,
      "outputs": [
        {
          "output_type": "stream",
          "text": [
            "Cost of item3 , item2 and item1 are 77, 55 and 40\n"
          ],
          "name": "stdout"
        }
      ]
    },
    {
      "cell_type": "code",
      "metadata": {
        "id": "a6421cbd",
        "outputId": "219c582f-f7e2-434f-a468-ec4dd7454f79"
      },
      "source": [
        "str2 = \" WELCOME EVERYONE \"\n",
        "str2 = str2.center(100)\n",
        "# center align the string using a specific character as t\n",
        "print(str2)"
      ],
      "id": "a6421cbd",
      "execution_count": null,
      "outputs": [
        {
          "output_type": "stream",
          "text": [
            "                                          WELCOME EVERYONE                                          \n"
          ],
          "name": "stdout"
        }
      ]
    },
    {
      "cell_type": "code",
      "metadata": {
        "id": "d04e6485",
        "outputId": "115935cb-e84a-49ff-f31a-12904f628523"
      },
      "source": [
        "str2 = \" WELCOME EVERYONE \"\n",
        "str2 = str2.center(100, '*') # center align the string using a specific character\n",
        "print(str2)"
      ],
      "id": "d04e6485",
      "execution_count": null,
      "outputs": [
        {
          "output_type": "stream",
          "text": [
            "***************************************** WELCOME EVERYONE *****************************************\n"
          ],
          "name": "stdout"
        }
      ]
    },
    {
      "cell_type": "code",
      "metadata": {
        "id": "459e2bee",
        "outputId": "37c430bb-8915-42bc-d9f4-674516789cb6"
      },
      "source": [
        "str2 = \" WELCOME EVERYONE \"\n",
        "str2 = str2.rjust(50) # Right align the string using a specific character as the\n",
        "print(str2)"
      ],
      "id": "459e2bee",
      "execution_count": null,
      "outputs": [
        {
          "output_type": "stream",
          "text": [
            "                                 WELCOME EVERYONE \n"
          ],
          "name": "stdout"
        }
      ]
    },
    {
      "cell_type": "code",
      "metadata": {
        "id": "10cbc9d9",
        "outputId": "455123fb-cc05-4bad-99a2-c11d4652c1da"
      },
      "source": [
        "str2 = \" WELCOME EVERYONE \"\n",
        "str2 = str2.rjust(50,'*') # Right align the string using a specific character ('*\n",
        "print(str2)"
      ],
      "id": "10cbc9d9",
      "execution_count": null,
      "outputs": [
        {
          "output_type": "stream",
          "text": [
            "******************************** WELCOME EVERYONE \n"
          ],
          "name": "stdout"
        }
      ]
    },
    {
      "cell_type": "code",
      "metadata": {
        "id": "74823d58",
        "outputId": "1001da87-af6d-4d22-922c-4cd28d43ea5f"
      },
      "source": [
        "str4 = \"one two three four five six seven\"\n",
        "loc = str4.find(\"five\") # Find the location of word 'five' in the string \"str4\"\n",
        "print(loc)"
      ],
      "id": "74823d58",
      "execution_count": null,
      "outputs": [
        {
          "output_type": "stream",
          "text": [
            "19\n"
          ],
          "name": "stdout"
        }
      ]
    },
    {
      "cell_type": "code",
      "metadata": {
        "id": "40a02cd3",
        "outputId": "b968d200-5b99-4a20-c3bb-005d52f63120"
      },
      "source": [
        "str4 = \"one two three four five six seven\"\n",
        "loc = str4.index(\"five\") # Find the location of word 'five' in the string \"str4\"\n",
        "print(loc)"
      ],
      "id": "40a02cd3",
      "execution_count": null,
      "outputs": [
        {
          "output_type": "stream",
          "text": [
            "19\n"
          ],
          "name": "stdout"
        }
      ]
    },
    {
      "cell_type": "code",
      "metadata": {
        "id": "e413d8f5",
        "outputId": "cc555681-db42-484a-8f9b-ed48f96dfa40"
      },
      "source": [
        "mystr6 = '123456789'\n",
        "print(mystr6.isalpha()) # returns True if all the characters in the text are letter\n",
        "print(mystr6.isalnum()) # returns True if a string contains only letters or numbers\n",
        "print(mystr6.isdecimal()) # returns True if all the characters are decimals (0-9)\n",
        "print(mystr6.isnumeric()) # returns True if all the characters are numeric (0-9)"
      ],
      "id": "e413d8f5",
      "execution_count": null,
      "outputs": [
        {
          "output_type": "stream",
          "text": [
            "False\n",
            "True\n",
            "True\n",
            "True\n"
          ],
          "name": "stdout"
        }
      ]
    },
    {
      "cell_type": "code",
      "metadata": {
        "id": "87dd8b90",
        "outputId": "079ebcf5-ce88-41c7-f475-6e32b7db5212"
      },
      "source": [
        "mystr6 = 'abcde'\n",
        "print(mystr6.isalpha()) # returns True if all the characters in the text are lett\n",
        "print(mystr6.isalnum()) # returns True if a string contains only letters or numb\n",
        "print(mystr6.isdecimal()) # returns True if all the characters are decimals (0-9)\n",
        "print(mystr6.isnumeric()) # returns True if all the characters are numeric (0-9)"
      ],
      "id": "87dd8b90",
      "execution_count": null,
      "outputs": [
        {
          "output_type": "stream",
          "text": [
            "True\n",
            "True\n",
            "False\n",
            "False\n"
          ],
          "name": "stdout"
        }
      ]
    },
    {
      "cell_type": "code",
      "metadata": {
        "id": "433d8152",
        "outputId": "8a3b77cf-5542-4551-dd49-86de6b5458f3"
      },
      "source": [
        "mystr6 = 'abc12309'\n",
        "print(mystr6.isalpha())\n",
        "# returns True if all the characters in the text are lett\n",
        "print(mystr6.isalnum())\n",
        "# returns True if a string contains only letters or numb\n",
        "print(mystr6.isdecimal()) # returns True if all the characters are decimals (0-9)\n",
        "print(mystr6.isnumeric ()) # returns True if all the characters are numeric (0-9)"
      ],
      "id": "433d8152",
      "execution_count": null,
      "outputs": [
        {
          "output_type": "stream",
          "text": [
            "False\n",
            "True\n",
            "False\n",
            "False\n"
          ],
          "name": "stdout"
        }
      ]
    },
    {
      "cell_type": "code",
      "metadata": {
        "id": "8d4b7a68",
        "outputId": "9edb241c-ec2e-4772-aa85-7d509084d625"
      },
      "source": [
        "mystr7 = 'ABCDEF'\n",
        "print(mystr7.isupper())   # Returns True if all the characters are in upper case\n",
        "print(mystr7.islower()) # Returns True if all the characters are in lower case"
      ],
      "id": "8d4b7a68",
      "execution_count": null,
      "outputs": [
        {
          "output_type": "stream",
          "text": [
            "True\n",
            "False\n"
          ],
          "name": "stdout"
        }
      ]
    },
    {
      "cell_type": "code",
      "metadata": {
        "id": "52df5dfd",
        "outputId": "a1c72c39-05e7-49e0-f97e-52bfcf80574b"
      },
      "source": [
        "mystr8 = 'abcdef'\n",
        "print(mystr8.isupper()) # Returns True if all the characters are in upper case\n",
        "print(mystr8.islower()) # Returns True if all the characters are in lower case"
      ],
      "id": "52df5dfd",
      "execution_count": null,
      "outputs": [
        {
          "output_type": "stream",
          "text": [
            "False\n",
            "True\n"
          ],
          "name": "stdout"
        }
      ]
    },
    {
      "cell_type": "code",
      "metadata": {
        "id": "a402175a",
        "outputId": "728c4b92-4ec7-4048-d0a6-6466e50afebc"
      },
      "source": [
        "str6 = \"one two three four one two two three five five six one ten eight ten nine\"\n",
        "loc = str6.rfind(\"one\") # last occurrence of word 'one' in string \"str6\"\n",
        "print(loc)"
      ],
      "id": "a402175a",
      "execution_count": null,
      "outputs": [
        {
          "output_type": "stream",
          "text": [
            "51\n"
          ],
          "name": "stdout"
        }
      ]
    },
    {
      "cell_type": "code",
      "metadata": {
        "id": "36bb56e4",
        "outputId": "f73e9c6d-6eaa-4efb-b2c6-ffa46afa11f0"
      },
      "source": [
        "loc = str6.rindex(\"one\") # last occurrence of word 'one' in string \"str6\"\n",
        "print(loc)"
      ],
      "id": "36bb56e4",
      "execution_count": null,
      "outputs": [
        {
          "output_type": "stream",
          "text": [
            "51\n"
          ],
          "name": "stdout"
        }
      ]
    },
    {
      "cell_type": "code",
      "metadata": {
        "id": "81764b9e",
        "outputId": "d8bd0223-422d-4a7e-fe7b-4fcd63e8486f"
      },
      "source": [
        "txt = \" abc def ghi \"\n",
        "txt.rstrip()"
      ],
      "id": "81764b9e",
      "execution_count": null,
      "outputs": [
        {
          "output_type": "execute_result",
          "data": {
            "text/plain": [
              "' abc def ghi'"
            ]
          },
          "metadata": {
            "tags": []
          },
          "execution_count": 128
        }
      ]
    },
    {
      "cell_type": "code",
      "metadata": {
        "id": "05b4567d",
        "outputId": "f404fa61-571b-43de-ba94-34ab2d287b4b"
      },
      "source": [
        "txt = \" abc def ghi \"\n",
        "txt.lstrip()"
      ],
      "id": "05b4567d",
      "execution_count": null,
      "outputs": [
        {
          "output_type": "execute_result",
          "data": {
            "text/plain": [
              "'abc def ghi '"
            ]
          },
          "metadata": {
            "tags": []
          },
          "execution_count": 129
        }
      ]
    },
    {
      "cell_type": "code",
      "metadata": {
        "id": "18830e64",
        "outputId": "72dbc0ac-0531-42ce-dd4d-17ad21e14a18"
      },
      "source": [
        "txt = \" abc def ghi \"\n",
        "txt.strip()"
      ],
      "id": "18830e64",
      "execution_count": null,
      "outputs": [
        {
          "output_type": "execute_result",
          "data": {
            "text/plain": [
              "'abc def ghi'"
            ]
          },
          "metadata": {
            "tags": []
          },
          "execution_count": 130
        }
      ]
    },
    {
      "cell_type": "markdown",
      "metadata": {
        "id": "d0584e00"
      },
      "source": [
        "### Using Escape Character"
      ],
      "id": "d0584e00"
    },
    {
      "cell_type": "code",
      "metadata": {
        "id": "3837c7c4",
        "outputId": "cbd0ec45-593f-450e-e508-3f4f8cc841a3"
      },
      "source": [
        "#Using double quotes in the string is not allowed.\n",
        "mystr = \"My favourite TV Series is \"Game of Thrones \"\""
      ],
      "id": "3837c7c4",
      "execution_count": null,
      "outputs": [
        {
          "output_type": "error",
          "ename": "SyntaxError",
          "evalue": "invalid syntax (<ipython-input-131-4dd51e12dc57>, line 2)",
          "traceback": [
            "\u001b[1;36m  File \u001b[1;32m\"<ipython-input-131-4dd51e12dc57>\"\u001b[1;36m, line \u001b[1;32m2\u001b[0m\n\u001b[1;33m    mystr = \"My favourite TV Series is \"Game of Thrones \"\"\u001b[0m\n\u001b[1;37m                                           ^\u001b[0m\n\u001b[1;31mSyntaxError\u001b[0m\u001b[1;31m:\u001b[0m invalid syntax\n"
          ]
        }
      ]
    },
    {
      "cell_type": "code",
      "metadata": {
        "id": "b27c51d5",
        "outputId": "4d1ef701-d4dd-477f-8c36-a4942d50560a"
      },
      "source": [
        "#Using escape character to allow illegal characters\n",
        "mystr = \"My favourite series is \\\"Game of Thrones\\\"\"\n",
        "print(mystr)"
      ],
      "id": "b27c51d5",
      "execution_count": null,
      "outputs": [
        {
          "output_type": "stream",
          "text": [
            "My favourite series is \"Game of Thrones\"\n"
          ],
          "name": "stdout"
        }
      ]
    },
    {
      "cell_type": "markdown",
      "metadata": {
        "id": "f73d70d8"
      },
      "source": [
        "## List\n",
        "1. List is an ordered sequence of items.\n",
        "2. We can have different data types under a list. E.g we can have integer, float and string items ina same list."
      ],
      "id": "f73d70d8"
    },
    {
      "cell_type": "markdown",
      "metadata": {
        "id": "3034b08a"
      },
      "source": [
        "### List Creation"
      ],
      "id": "3034b08a"
    },
    {
      "cell_type": "code",
      "metadata": {
        "id": "bedd0840",
        "outputId": "f861ae19-602b-427c-b398-abb9cc047469"
      },
      "source": [
        "list1 = [] # Empty List\n",
        "print(list1)\n",
        "print(type(list1))"
      ],
      "id": "bedd0840",
      "execution_count": null,
      "outputs": [
        {
          "output_type": "stream",
          "text": [
            "[]\n",
            "<class 'list'>\n"
          ],
          "name": "stdout"
        }
      ]
    },
    {
      "cell_type": "code",
      "metadata": {
        "id": "79b3ceca"
      },
      "source": [
        "list2 = [10, 30, 60] # List of integers numbers"
      ],
      "id": "79b3ceca",
      "execution_count": null,
      "outputs": []
    },
    {
      "cell_type": "code",
      "metadata": {
        "id": "613378cc"
      },
      "source": [
        "list3 = [10.77,30.66,60.89] # List of float numbers"
      ],
      "id": "613378cc",
      "execution_count": null,
      "outputs": []
    },
    {
      "cell_type": "code",
      "metadata": {
        "id": "4ab3aa7a"
      },
      "source": [
        "list4 = ['one','two',\"three\"] # List of strings"
      ],
      "id": "4ab3aa7a",
      "execution_count": null,
      "outputs": []
    },
    {
      "cell_type": "code",
      "metadata": {
        "id": "c3f0c662"
      },
      "source": [
        "list5 = ['Asif',25,[50,100],[150,90]] # Nested Lists"
      ],
      "id": "c3f0c662",
      "execution_count": null,
      "outputs": []
    },
    {
      "cell_type": "code",
      "metadata": {
        "id": "9ce8c39e"
      },
      "source": [
        "list6 =[100,'Asif',17.765] # List of mixed data types"
      ],
      "id": "9ce8c39e",
      "execution_count": null,
      "outputs": []
    },
    {
      "cell_type": "code",
      "metadata": {
        "id": "701e4bd1"
      },
      "source": [
        "list7 = ['Asif',25,[50,100],[150,90] , {'John','David'}]"
      ],
      "id": "701e4bd1",
      "execution_count": null,
      "outputs": []
    },
    {
      "cell_type": "code",
      "metadata": {
        "id": "ed492d3d",
        "outputId": "129b133c-84cb-4a82-9001-b830542290fe"
      },
      "source": [
        "len(list6)"
      ],
      "id": "ed492d3d",
      "execution_count": null,
      "outputs": [
        {
          "output_type": "execute_result",
          "data": {
            "text/plain": [
              "3"
            ]
          },
          "metadata": {
            "tags": []
          },
          "execution_count": 144
        }
      ]
    },
    {
      "cell_type": "code",
      "metadata": {
        "id": "47ce7438",
        "outputId": "6bcef4f1-5c63-438b-aeb7-6df532228f57"
      },
      "source": [
        "list2[0] # Retreive first element of the list"
      ],
      "id": "47ce7438",
      "execution_count": null,
      "outputs": [
        {
          "output_type": "execute_result",
          "data": {
            "text/plain": [
              "10"
            ]
          },
          "metadata": {
            "tags": []
          },
          "execution_count": 147
        }
      ]
    },
    {
      "cell_type": "code",
      "metadata": {
        "id": "b1fcda9f",
        "outputId": "ae289088-7012-427d-cafd-02b3cd07ca79"
      },
      "source": [
        "list4[0] # Retreive first element of the list"
      ],
      "id": "b1fcda9f",
      "execution_count": null,
      "outputs": [
        {
          "output_type": "execute_result",
          "data": {
            "text/plain": [
              "'one'"
            ]
          },
          "metadata": {
            "tags": []
          },
          "execution_count": 148
        }
      ]
    },
    {
      "cell_type": "code",
      "metadata": {
        "id": "ff9d79c3",
        "outputId": "964af389-13ea-432f-da11-f2c0104240f1"
      },
      "source": [
        "list4[0][0] # Nested indexing - Access the first character of the first list element."
      ],
      "id": "ff9d79c3",
      "execution_count": null,
      "outputs": [
        {
          "output_type": "execute_result",
          "data": {
            "text/plain": [
              "'o'"
            ]
          },
          "metadata": {
            "tags": []
          },
          "execution_count": 149
        }
      ]
    },
    {
      "cell_type": "code",
      "metadata": {
        "id": "e827a635",
        "outputId": "4df7fb2c-374a-40c5-de29-2a91a2e95834"
      },
      "source": [
        "list4[-1] # Last item of the list"
      ],
      "id": "e827a635",
      "execution_count": null,
      "outputs": [
        {
          "output_type": "execute_result",
          "data": {
            "text/plain": [
              "'three'"
            ]
          },
          "metadata": {
            "tags": []
          },
          "execution_count": 150
        }
      ]
    },
    {
      "cell_type": "code",
      "metadata": {
        "id": "20feeffd",
        "outputId": "c491f1de-f91b-4ddc-a1db-ad30f434d6ed"
      },
      "source": [
        "list5[-1] # Last item of the list"
      ],
      "id": "20feeffd",
      "execution_count": null,
      "outputs": [
        {
          "output_type": "execute_result",
          "data": {
            "text/plain": [
              "[150, 90]"
            ]
          },
          "metadata": {
            "tags": []
          },
          "execution_count": 152
        }
      ]
    },
    {
      "cell_type": "markdown",
      "metadata": {
        "id": "9cd7d231"
      },
      "source": [
        "### List Slicing"
      ],
      "id": "9cd7d231"
    },
    {
      "cell_type": "code",
      "metadata": {
        "id": "9f9bf7ed"
      },
      "source": [
        "mylist = ['one','two','three','four','five','six','seven','eight']"
      ],
      "id": "9f9bf7ed",
      "execution_count": null,
      "outputs": []
    },
    {
      "cell_type": "code",
      "metadata": {
        "id": "56e60ba5",
        "outputId": "4f977172-a78f-4025-9986-b86bb2398eca"
      },
      "source": [
        "mylist[0:3] # Return all items from 0th to 3rd index location excluding the items not in the range."
      ],
      "id": "56e60ba5",
      "execution_count": null,
      "outputs": [
        {
          "output_type": "execute_result",
          "data": {
            "text/plain": [
              "['one', 'two', 'three']"
            ]
          },
          "metadata": {
            "tags": []
          },
          "execution_count": 155
        }
      ]
    },
    {
      "cell_type": "code",
      "metadata": {
        "id": "5cbaf740",
        "outputId": "0f19f83b-2c2b-4920-d05d-2e5d3818a5a4"
      },
      "source": [
        "mylist[2:5] # List all items from 2nd to 5th index location excluding the item at"
      ],
      "id": "5cbaf740",
      "execution_count": null,
      "outputs": [
        {
          "output_type": "execute_result",
          "data": {
            "text/plain": [
              "['three', 'four', 'five']"
            ]
          },
          "metadata": {
            "tags": []
          },
          "execution_count": 156
        }
      ]
    },
    {
      "cell_type": "code",
      "metadata": {
        "id": "709a609a",
        "outputId": "afb0c19d-a162-43ef-ee6e-597ac9021f8c"
      },
      "source": [
        "mylist[:3] # Return first three items"
      ],
      "id": "709a609a",
      "execution_count": null,
      "outputs": [
        {
          "output_type": "execute_result",
          "data": {
            "text/plain": [
              "['one', 'two', 'three']"
            ]
          },
          "metadata": {
            "tags": []
          },
          "execution_count": 157
        }
      ]
    },
    {
      "cell_type": "code",
      "metadata": {
        "id": "068cfd5e",
        "outputId": "1aa4ba32-10b3-47bc-c30d-5e993eda8380"
      },
      "source": [
        "mylist[:2] # Return first two items"
      ],
      "id": "068cfd5e",
      "execution_count": null,
      "outputs": [
        {
          "output_type": "execute_result",
          "data": {
            "text/plain": [
              "['one', 'two']"
            ]
          },
          "metadata": {
            "tags": []
          },
          "execution_count": 158
        }
      ]
    },
    {
      "cell_type": "code",
      "metadata": {
        "id": "d2e52864",
        "outputId": "e3ca023d-8fe5-490f-c8c8-f8bec45e040e"
      },
      "source": [
        "mylist[-3:]# Return last three items"
      ],
      "id": "d2e52864",
      "execution_count": null,
      "outputs": [
        {
          "output_type": "execute_result",
          "data": {
            "text/plain": [
              "['six', 'seven', 'eight']"
            ]
          },
          "metadata": {
            "tags": []
          },
          "execution_count": 159
        }
      ]
    },
    {
      "cell_type": "code",
      "metadata": {
        "id": "b018f6c3",
        "outputId": "dd53a9bf-83d5-4b93-8f9e-ae4afdec8150"
      },
      "source": [
        "mylist[-2:]# Return last two items"
      ],
      "id": "b018f6c3",
      "execution_count": null,
      "outputs": [
        {
          "output_type": "execute_result",
          "data": {
            "text/plain": [
              "['seven', 'eight']"
            ]
          },
          "metadata": {
            "tags": []
          },
          "execution_count": 160
        }
      ]
    },
    {
      "cell_type": "code",
      "metadata": {
        "id": "e85e19c8",
        "outputId": "8fafb030-109e-45e5-9fc4-a54776c6b80f"
      },
      "source": [
        "mylist[-1]# Return last item of the list"
      ],
      "id": "e85e19c8",
      "execution_count": null,
      "outputs": [
        {
          "output_type": "execute_result",
          "data": {
            "text/plain": [
              "'eight'"
            ]
          },
          "metadata": {
            "tags": []
          },
          "execution_count": 161
        }
      ]
    },
    {
      "cell_type": "code",
      "metadata": {
        "id": "39d22103",
        "outputId": "0001710a-f5fb-42b4-868c-af2ba1b4fe0d"
      },
      "source": [
        "mylist[:]# Return whole list"
      ],
      "id": "39d22103",
      "execution_count": null,
      "outputs": [
        {
          "output_type": "execute_result",
          "data": {
            "text/plain": [
              "['one', 'two', 'three', 'four', 'five', 'six', 'seven', 'eight']"
            ]
          },
          "metadata": {
            "tags": []
          },
          "execution_count": 162
        }
      ]
    },
    {
      "cell_type": "markdown",
      "metadata": {
        "id": "a02ccdca"
      },
      "source": [
        "### Add , Remove & Change Items"
      ],
      "id": "a02ccdca"
    },
    {
      "cell_type": "code",
      "metadata": {
        "id": "c515b5b8",
        "outputId": "93c77a0d-67e9-4937-bfb6-7bc7a97fa111"
      },
      "source": [
        "mylist"
      ],
      "id": "c515b5b8",
      "execution_count": null,
      "outputs": [
        {
          "output_type": "execute_result",
          "data": {
            "text/plain": [
              "['one', 'two', 'three', 'four', 'five', 'six', 'seven', 'eight']"
            ]
          },
          "metadata": {
            "tags": []
          },
          "execution_count": 163
        }
      ]
    },
    {
      "cell_type": "code",
      "metadata": {
        "id": "aaf1902b",
        "outputId": "fed55700-b54e-4a74-9a7c-bf75b235187f"
      },
      "source": [
        "mylist.append('nine') # Add an item to the end of the list\n",
        "mylist"
      ],
      "id": "aaf1902b",
      "execution_count": null,
      "outputs": [
        {
          "output_type": "execute_result",
          "data": {
            "text/plain": [
              "['one',\n",
              " 'two',\n",
              " 'three',\n",
              " 'four',\n",
              " 'five',\n",
              " 'six',\n",
              " 'seven',\n",
              " 'eight',\n",
              " 'nine',\n",
              " 'nine']"
            ]
          },
          "metadata": {
            "tags": []
          },
          "execution_count": 165
        }
      ]
    },
    {
      "cell_type": "code",
      "metadata": {
        "id": "0733586d",
        "outputId": "84a214a3-a069-4be7-a8d7-962cf23f364b"
      },
      "source": [
        "mylist.insert(9,'ten') # Add item at index location 9, element at the 9th position will be moved to 10th position.\n",
        "mylist"
      ],
      "id": "0733586d",
      "execution_count": null,
      "outputs": [
        {
          "output_type": "execute_result",
          "data": {
            "text/plain": [
              "['one',\n",
              " 'two',\n",
              " 'three',\n",
              " 'four',\n",
              " 'five',\n",
              " 'six',\n",
              " 'seven',\n",
              " 'eight',\n",
              " 'nine',\n",
              " 'ten',\n",
              " 'ten',\n",
              " 'nine']"
            ]
          },
          "metadata": {
            "tags": []
          },
          "execution_count": 167
        }
      ]
    },
    {
      "cell_type": "code",
      "metadata": {
        "id": "b8d49dd2",
        "outputId": "9d9494b6-7dc3-416f-94f4-34327119648a"
      },
      "source": [
        "mylist.insert(1,'ONE') # Add item at index location 1\n",
        "mylist"
      ],
      "id": "b8d49dd2",
      "execution_count": null,
      "outputs": [
        {
          "output_type": "execute_result",
          "data": {
            "text/plain": [
              "['one',\n",
              " 'ONE',\n",
              " 'two',\n",
              " 'three',\n",
              " 'four',\n",
              " 'five',\n",
              " 'six',\n",
              " 'seven',\n",
              " 'eight',\n",
              " 'nine',\n",
              " 'ten',\n",
              " 'ten',\n",
              " 'nine']"
            ]
          },
          "metadata": {
            "tags": []
          },
          "execution_count": 168
        }
      ]
    },
    {
      "cell_type": "code",
      "metadata": {
        "id": "2efe63ce",
        "outputId": "2de889d8-512b-4bdc-bf06-9ee51c0a9194"
      },
      "source": [
        "mylist.remove('ONE') # Remove item \"ONE\"\n",
        "mylist"
      ],
      "id": "2efe63ce",
      "execution_count": null,
      "outputs": [
        {
          "output_type": "execute_result",
          "data": {
            "text/plain": [
              "['one',\n",
              " 'two',\n",
              " 'three',\n",
              " 'four',\n",
              " 'five',\n",
              " 'six',\n",
              " 'seven',\n",
              " 'eight',\n",
              " 'nine',\n",
              " 'ten',\n",
              " 'ten',\n",
              " 'nine']"
            ]
          },
          "metadata": {
            "tags": []
          },
          "execution_count": 169
        }
      ]
    },
    {
      "cell_type": "code",
      "metadata": {
        "id": "9e2b6555",
        "outputId": "39d9b03f-2475-49fa-c6a7-fc6727d8ac75"
      },
      "source": [
        "mylist.pop() # Remove last item of the list\n",
        "mylist"
      ],
      "id": "9e2b6555",
      "execution_count": null,
      "outputs": [
        {
          "output_type": "execute_result",
          "data": {
            "text/plain": [
              "['one',\n",
              " 'two',\n",
              " 'three',\n",
              " 'four',\n",
              " 'five',\n",
              " 'six',\n",
              " 'seven',\n",
              " 'eight',\n",
              " 'nine',\n",
              " 'ten',\n",
              " 'ten']"
            ]
          },
          "metadata": {
            "tags": []
          },
          "execution_count": 170
        }
      ]
    },
    {
      "cell_type": "code",
      "metadata": {
        "id": "48f89ae6",
        "outputId": "bf788391-dcdf-4fa0-eace-1103bdc73cea"
      },
      "source": [
        "mylist.pop(8)# Remove item at index location 8\n",
        "mylist"
      ],
      "id": "48f89ae6",
      "execution_count": null,
      "outputs": [
        {
          "output_type": "execute_result",
          "data": {
            "text/plain": [
              "['one', 'two', 'three', 'four', 'five', 'six', 'seven', 'eight', 'ten', 'ten']"
            ]
          },
          "metadata": {
            "tags": []
          },
          "execution_count": 171
        }
      ]
    },
    {
      "cell_type": "code",
      "metadata": {
        "id": "eb8204e3",
        "outputId": "2c5349de-2646-4b1e-d438-ae17e7675f4b"
      },
      "source": [
        "del mylist[7] # Remove item at index location 7\n",
        "mylist"
      ],
      "id": "eb8204e3",
      "execution_count": null,
      "outputs": [
        {
          "output_type": "execute_result",
          "data": {
            "text/plain": [
              "['one', 'two', 'three', 'four', 'five', 'six', 'seven', 'ten', 'ten']"
            ]
          },
          "metadata": {
            "tags": []
          },
          "execution_count": 172
        }
      ]
    },
    {
      "cell_type": "code",
      "metadata": {
        "id": "2d4c2f23",
        "outputId": "641594bd-a290-4d46-a21b-b4e7563291c8"
      },
      "source": [
        "# Change value of the string\n",
        "mylist[0] = 1\n",
        "mylist[1] = 2\n",
        "mylist[2] = 3\n",
        "mylist"
      ],
      "id": "2d4c2f23",
      "execution_count": null,
      "outputs": [
        {
          "output_type": "execute_result",
          "data": {
            "text/plain": [
              "[1, 2, 3, 'four', 'five', 'six', 'seven', 'ten', 'ten']"
            ]
          },
          "metadata": {
            "tags": []
          },
          "execution_count": 173
        }
      ]
    },
    {
      "cell_type": "code",
      "metadata": {
        "id": "18bbff73",
        "outputId": "a9516393-ae9a-4f7c-bfa0-3ce0c2abc3e7"
      },
      "source": [
        "mylist.clear() # Empty List / Delete all items in the list\n",
        "mylist"
      ],
      "id": "18bbff73",
      "execution_count": null,
      "outputs": [
        {
          "output_type": "execute_result",
          "data": {
            "text/plain": [
              "[]"
            ]
          },
          "metadata": {
            "tags": []
          },
          "execution_count": 174
        }
      ]
    },
    {
      "cell_type": "code",
      "metadata": {
        "id": "2b92ba65",
        "outputId": "d4e20f3a-0397-4a7d-e4b4-b0773bb55759"
      },
      "source": [
        "del mylist # Delete the whole list\n",
        "mylist"
      ],
      "id": "2b92ba65",
      "execution_count": null,
      "outputs": [
        {
          "output_type": "error",
          "ename": "NameError",
          "evalue": "name 'mylist' is not defined",
          "traceback": [
            "\u001b[1;31m---------------------------------------------------------------------------\u001b[0m",
            "\u001b[1;31mNameError\u001b[0m                                 Traceback (most recent call last)",
            "\u001b[1;32m<ipython-input-175-50c7849aa2cb>\u001b[0m in \u001b[0;36m<module>\u001b[1;34m\u001b[0m\n\u001b[0;32m      1\u001b[0m \u001b[1;32mdel\u001b[0m \u001b[0mmylist\u001b[0m \u001b[1;31m# Delete the whole list\u001b[0m\u001b[1;33m\u001b[0m\u001b[1;33m\u001b[0m\u001b[0m\n\u001b[1;32m----> 2\u001b[1;33m \u001b[0mmylist\u001b[0m\u001b[1;33m\u001b[0m\u001b[1;33m\u001b[0m\u001b[0m\n\u001b[0m",
            "\u001b[1;31mNameError\u001b[0m: name 'mylist' is not defined"
          ]
        }
      ]
    },
    {
      "cell_type": "markdown",
      "metadata": {
        "id": "d2338cf2"
      },
      "source": [
        "### Copy List"
      ],
      "id": "d2338cf2"
    },
    {
      "cell_type": "code",
      "metadata": {
        "id": "40ae9ca1",
        "outputId": "3dbbbd19-df8e-4021-9391-e8c9fc43abcd"
      },
      "source": [
        "mylist = ['one','two','three','four','five','six','seven','eight','nine','ten']\n",
        "mylist1 = mylist # Create a new reference \"mylist1\"\n",
        "id(mylist),id(mylist1) # The address of both mylist & mylist1 will be the same"
      ],
      "id": "40ae9ca1",
      "execution_count": null,
      "outputs": [
        {
          "output_type": "execute_result",
          "data": {
            "text/plain": [
              "(2049680679688, 2049680679688)"
            ]
          },
          "metadata": {
            "tags": []
          },
          "execution_count": 179
        }
      ]
    },
    {
      "cell_type": "code",
      "metadata": {
        "id": "373f31ec"
      },
      "source": [
        "mylist2 = mylist.copy() # Create a copy of the list"
      ],
      "id": "373f31ec",
      "execution_count": null,
      "outputs": []
    },
    {
      "cell_type": "code",
      "metadata": {
        "id": "39c4a292",
        "outputId": "6892ded7-e5b2-448d-849c-9ac460dc90ff"
      },
      "source": [
        "id(mylist2) # The address of mylist2 will be different from mylist because mylist"
      ],
      "id": "39c4a292",
      "execution_count": null,
      "outputs": [
        {
          "output_type": "execute_result",
          "data": {
            "text/plain": [
              "2049680681352"
            ]
          },
          "metadata": {
            "tags": []
          },
          "execution_count": 183
        }
      ]
    },
    {
      "cell_type": "code",
      "metadata": {
        "id": "98eba14b",
        "outputId": "78cb83f4-4f80-48ff-9739-6cb7bdfa9419"
      },
      "source": [
        "mylist[0] = 1 \n",
        "mylist\n",
        "mylist1 # mylist1 will be also impacted as it is pointing to the same list"
      ],
      "id": "98eba14b",
      "execution_count": null,
      "outputs": [
        {
          "output_type": "execute_result",
          "data": {
            "text/plain": [
              "[1, 'two', 'three', 'four', 'five', 'six', 'seven', 'eight', 'nine', 'ten']"
            ]
          },
          "metadata": {
            "tags": []
          },
          "execution_count": 185
        }
      ]
    },
    {
      "cell_type": "code",
      "metadata": {
        "id": "6a44ce9e",
        "outputId": "e572ec2c-0d9f-461e-ff08-9c49bd03970c"
      },
      "source": [
        "mylist2 # Copy of list won't be impacted due to changes made on the original list"
      ],
      "id": "6a44ce9e",
      "execution_count": null,
      "outputs": [
        {
          "output_type": "execute_result",
          "data": {
            "text/plain": [
              "['one', 'two', 'three', 'four', 'five', 'six', 'seven', 'eight', 'nine', 'ten']"
            ]
          },
          "metadata": {
            "tags": []
          },
          "execution_count": 186
        }
      ]
    },
    {
      "cell_type": "markdown",
      "metadata": {
        "id": "ed6844e7"
      },
      "source": [
        "### Join List"
      ],
      "id": "ed6844e7"
    },
    {
      "cell_type": "code",
      "metadata": {
        "id": "0fb5a3cf",
        "outputId": "a52614fd-f902-4de7-b23d-5e9bd3c62b80"
      },
      "source": [
        "list1 = ['one','two','three','four']\n",
        "list2 = ['five','six','seven','eight']\n",
        "list3 = list1 + list2 # Join two lists by '+' operator\n",
        "list3"
      ],
      "id": "0fb5a3cf",
      "execution_count": null,
      "outputs": [
        {
          "output_type": "execute_result",
          "data": {
            "text/plain": [
              "['one', 'two', 'three', 'four', 'five', 'six', 'seven', 'eight']"
            ]
          },
          "metadata": {
            "tags": []
          },
          "execution_count": 211
        }
      ]
    },
    {
      "cell_type": "code",
      "metadata": {
        "id": "3beaf883",
        "outputId": "919be594-bdc6-498d-cf82-13454e11d655"
      },
      "source": [
        "list1.extend(list2) #Append list2 with list1 \n",
        "list1"
      ],
      "id": "3beaf883",
      "execution_count": null,
      "outputs": [
        {
          "output_type": "execute_result",
          "data": {
            "text/plain": [
              "['one', 'two', 'three', 'four', 'five', 'six', 'seven', 'eight']"
            ]
          },
          "metadata": {
            "tags": []
          },
          "execution_count": 212
        }
      ]
    },
    {
      "cell_type": "markdown",
      "metadata": {
        "id": "f9fd9f99"
      },
      "source": [
        "### List Membership"
      ],
      "id": "f9fd9f99"
    },
    {
      "cell_type": "code",
      "metadata": {
        "id": "085c6f1a",
        "outputId": "bfb2e53e-6fa5-41e9-e05f-f42377c43402"
      },
      "source": [
        "list1"
      ],
      "id": "085c6f1a",
      "execution_count": null,
      "outputs": [
        {
          "output_type": "execute_result",
          "data": {
            "text/plain": [
              "['one', 'two', 'three', 'four', 'five', 'six', 'seven', 'eight']"
            ]
          },
          "metadata": {
            "tags": []
          },
          "execution_count": 192
        }
      ]
    },
    {
      "cell_type": "code",
      "metadata": {
        "id": "ed8788db",
        "outputId": "50f1d4ba-559d-4300-c1c9-62bda3e011ae"
      },
      "source": [
        "'one' in list1"
      ],
      "id": "ed8788db",
      "execution_count": null,
      "outputs": [
        {
          "output_type": "execute_result",
          "data": {
            "text/plain": [
              "True"
            ]
          },
          "metadata": {
            "tags": []
          },
          "execution_count": 193
        }
      ]
    },
    {
      "cell_type": "code",
      "metadata": {
        "id": "9465abf5",
        "outputId": "f37affc2-9237-49da-a497-3386b418e9c5"
      },
      "source": [
        "'ten' in list1 # Check if 'ten' exist in the list"
      ],
      "id": "9465abf5",
      "execution_count": null,
      "outputs": [
        {
          "output_type": "execute_result",
          "data": {
            "text/plain": [
              "False"
            ]
          },
          "metadata": {
            "tags": []
          },
          "execution_count": 194
        }
      ]
    },
    {
      "cell_type": "code",
      "metadata": {
        "id": "3a53f969",
        "outputId": "b01c028b-f462-47ec-de62-4136eb3f13f1"
      },
      "source": [
        "if 'three' in list1 : # Check if 'three' exist in the list\n",
        "    print('Three is present in the list')\n",
        "else:\n",
        "    print('Three is not present in the list')"
      ],
      "id": "3a53f969",
      "execution_count": null,
      "outputs": [
        {
          "output_type": "stream",
          "text": [
            "Three is present in the list\n"
          ],
          "name": "stdout"
        }
      ]
    },
    {
      "cell_type": "code",
      "metadata": {
        "id": "e4f9eb78",
        "outputId": "00d1568a-4c3a-493b-df86-f17cb908c4fb"
      },
      "source": [
        "if'eleven' in list1: # Check if 'eleven' exist in the list\n",
        "    print('eleven is present in the list')\n",
        "else:\n",
        "    print('eleven is not present in the list')"
      ],
      "id": "e4f9eb78",
      "execution_count": null,
      "outputs": [
        {
          "output_type": "stream",
          "text": [
            "eleven is not present in the list\n"
          ],
          "name": "stdout"
        }
      ]
    },
    {
      "cell_type": "code",
      "metadata": {
        "id": "5f84882b"
      },
      "source": [
        "### Reverse & Sort List"
      ],
      "id": "5f84882b",
      "execution_count": null,
      "outputs": []
    },
    {
      "cell_type": "code",
      "metadata": {
        "id": "f44dfdbc"
      },
      "source": [
        "list1"
      ],
      "id": "f44dfdbc",
      "execution_count": null,
      "outputs": []
    },
    {
      "cell_type": "code",
      "metadata": {
        "id": "29d327e2",
        "outputId": "3a9a579b-b1a8-4167-a151-d17715a4938a"
      },
      "source": [
        "list1 = ['one', 'two', 'three', 'four', 'five', 'six', 'seven', 'eight']\n",
        "list1.reverse() # Reverse the list\n",
        "list1"
      ],
      "id": "29d327e2",
      "execution_count": null,
      "outputs": [
        {
          "output_type": "execute_result",
          "data": {
            "text/plain": [
              "['eight', 'seven', 'six', 'five', 'four', 'three', 'two', 'one']"
            ]
          },
          "metadata": {
            "tags": []
          },
          "execution_count": 218
        }
      ]
    },
    {
      "cell_type": "code",
      "metadata": {
        "id": "824a3bf4",
        "outputId": "bce5107b-ca2c-4667-ed5e-915638d6c70b"
      },
      "source": [
        "list1 = list1[::-1] # Reverse the list \n",
        "list1"
      ],
      "id": "824a3bf4",
      "execution_count": null,
      "outputs": [
        {
          "output_type": "execute_result",
          "data": {
            "text/plain": [
              "['eight', 'seven', 'six', 'five', 'four', 'three', 'two', 'one']"
            ]
          },
          "metadata": {
            "tags": []
          },
          "execution_count": 217
        }
      ]
    },
    {
      "cell_type": "code",
      "metadata": {
        "id": "4751a8f8",
        "outputId": "59f44309-0b0d-4fee-bbfe-0b05f2712966"
      },
      "source": [
        "mylist3 = [9,5,2,99,12,88,34]\n",
        "mylist3.sort() # Sort list in ascending order\n",
        "mylist3"
      ],
      "id": "4751a8f8",
      "execution_count": null,
      "outputs": [
        {
          "output_type": "execute_result",
          "data": {
            "text/plain": [
              "[2, 5, 9, 12, 34, 88, 99]"
            ]
          },
          "metadata": {
            "tags": []
          },
          "execution_count": 219
        }
      ]
    },
    {
      "cell_type": "code",
      "metadata": {
        "id": "9b51300a",
        "outputId": "bc78bf31-2c6b-48ed-ce4a-5dc80d3dc864"
      },
      "source": [
        "mylist3 = [9,5,2,99,12,88,34]\n",
        "mylist3.sort(reverse = True) # Sort list in descending order\n",
        "mylist3"
      ],
      "id": "9b51300a",
      "execution_count": null,
      "outputs": [
        {
          "output_type": "execute_result",
          "data": {
            "text/plain": [
              "[99, 88, 34, 12, 9, 5, 2]"
            ]
          },
          "metadata": {
            "tags": []
          },
          "execution_count": 220
        }
      ]
    },
    {
      "cell_type": "code",
      "metadata": {
        "id": "f053c7ac",
        "outputId": "8d7fc6d9-f847-4e8d-a939-eefacb09527b"
      },
      "source": [
        "mylist4 = [88,65,33,21,11,98] \n",
        "sorted(mylist4)\n",
        "# Returns a new sorted list and doesn't change original li"
      ],
      "id": "f053c7ac",
      "execution_count": null,
      "outputs": [
        {
          "output_type": "execute_result",
          "data": {
            "text/plain": [
              "[11, 21, 33, 65, 88, 98]"
            ]
          },
          "metadata": {
            "tags": []
          },
          "execution_count": 221
        }
      ]
    },
    {
      "cell_type": "markdown",
      "metadata": {
        "id": "dcdebe10"
      },
      "source": [
        "#### Loop through a list"
      ],
      "id": "dcdebe10"
    },
    {
      "cell_type": "code",
      "metadata": {
        "id": "980195d3",
        "outputId": "c5d8a3b0-4221-41be-e633-550b64d992e5"
      },
      "source": [
        "for i in list1:\n",
        "    print(i)"
      ],
      "id": "980195d3",
      "execution_count": null,
      "outputs": [
        {
          "output_type": "stream",
          "text": [
            "eight\n",
            "seven\n",
            "six\n",
            "five\n",
            "four\n",
            "three\n",
            "two\n",
            "one\n"
          ],
          "name": "stdout"
        }
      ]
    },
    {
      "cell_type": "code",
      "metadata": {
        "id": "d61331f3",
        "outputId": "5cd31f2a-1295-459d-bfe6-881616923a7a"
      },
      "source": [
        "for i in enumerate(list1):\n",
        "    print(i)"
      ],
      "id": "d61331f3",
      "execution_count": null,
      "outputs": [
        {
          "output_type": "stream",
          "text": [
            "(0, 'eight')\n",
            "(1, 'seven')\n",
            "(2, 'six')\n",
            "(3, 'five')\n",
            "(4, 'four')\n",
            "(5, 'three')\n",
            "(6, 'two')\n",
            "(7, 'one')\n"
          ],
          "name": "stdout"
        }
      ]
    },
    {
      "cell_type": "code",
      "metadata": {
        "id": "60e5d71a"
      },
      "source": [
        "list10 = [ 'one' , 'two' , 'three' , 'four' , 'one' , 'one' , 'two' , 'three' ]"
      ],
      "id": "60e5d71a",
      "execution_count": null,
      "outputs": []
    },
    {
      "cell_type": "code",
      "metadata": {
        "id": "ac74bedb",
        "outputId": "740962d6-cca5-4f34-b988-7f85c64d94f4"
      },
      "source": [
        "list10.count('one') # Number of times item \"one\" occurred in the list."
      ],
      "id": "ac74bedb",
      "execution_count": null,
      "outputs": [
        {
          "output_type": "execute_result",
          "data": {
            "text/plain": [
              "3"
            ]
          },
          "metadata": {
            "tags": []
          },
          "execution_count": 225
        }
      ]
    },
    {
      "cell_type": "code",
      "metadata": {
        "id": "aa6aefd7",
        "outputId": "16ede338-d58c-4651-c9ca-7522e2372c71"
      },
      "source": [
        "list10.count('two') # Occurence of item 'two' in the list"
      ],
      "id": "aa6aefd7",
      "execution_count": null,
      "outputs": [
        {
          "output_type": "execute_result",
          "data": {
            "text/plain": [
              "2"
            ]
          },
          "metadata": {
            "tags": []
          },
          "execution_count": 226
        }
      ]
    },
    {
      "cell_type": "code",
      "metadata": {
        "id": "f55f68e4",
        "outputId": "69595757-4f4a-436f-93f3-866653a3ed77"
      },
      "source": [
        "list10.count ( 'four' ) #Occurence of item 'four' in the list"
      ],
      "id": "f55f68e4",
      "execution_count": null,
      "outputs": [
        {
          "output_type": "execute_result",
          "data": {
            "text/plain": [
              "1"
            ]
          },
          "metadata": {
            "tags": []
          },
          "execution_count": 227
        }
      ]
    },
    {
      "cell_type": "markdown",
      "metadata": {
        "id": "2a345696"
      },
      "source": [
        "# All / Any\n",
        "The all() method returns:\n",
        "1. True\n",
        "    - If all elements in a list are true\n",
        "2. False\n",
        "    - If any element in a list is false\n",
        "\n",
        "The any() function returns True if any element in the list is True. If not, any() returns False."
      ],
      "id": "2a345696"
    },
    {
      "cell_type": "code",
      "metadata": {
        "id": "f1926ad7"
      },
      "source": [
        "L1 = [ 1 , 2 , 3 , 4 , 0 ]"
      ],
      "id": "f1926ad7",
      "execution_count": null,
      "outputs": []
    },
    {
      "cell_type": "code",
      "metadata": {
        "id": "2574c0ea",
        "outputId": "f123f10b-929d-422c-d1dd-f08d105a26e6"
      },
      "source": [
        "all (L1) # Will Return false as one value is false (Value 0)"
      ],
      "id": "2574c0ea",
      "execution_count": null,
      "outputs": [
        {
          "output_type": "execute_result",
          "data": {
            "text/plain": [
              "False"
            ]
          },
          "metadata": {
            "tags": []
          },
          "execution_count": 230
        }
      ]
    },
    {
      "cell_type": "code",
      "metadata": {
        "id": "7c117781",
        "outputId": "20d279a1-2864-4804-9d25-03cd69e5449b"
      },
      "source": [
        "any(L1) # Will Return True as we have items in the list with True value"
      ],
      "id": "7c117781",
      "execution_count": null,
      "outputs": [
        {
          "output_type": "execute_result",
          "data": {
            "text/plain": [
              "True"
            ]
          },
          "metadata": {
            "tags": []
          },
          "execution_count": 231
        }
      ]
    },
    {
      "cell_type": "code",
      "metadata": {
        "id": "dbdedfb3"
      },
      "source": [
        "L2 = [ 1 , 2 , 3 , 4 , True , False ]"
      ],
      "id": "dbdedfb3",
      "execution_count": null,
      "outputs": []
    },
    {
      "cell_type": "code",
      "metadata": {
        "id": "ff4cc385",
        "outputId": "d526c120-e17e-4993-e324-fd4b6fc2b1b7"
      },
      "source": [
        "all(L2)"
      ],
      "id": "ff4cc385",
      "execution_count": null,
      "outputs": [
        {
          "output_type": "execute_result",
          "data": {
            "text/plain": [
              "False"
            ]
          },
          "metadata": {
            "tags": []
          },
          "execution_count": 233
        }
      ]
    },
    {
      "cell_type": "code",
      "metadata": {
        "id": "2a0f3300",
        "outputId": "971af231-b6c2-40c6-e74d-8fa60d5acf05"
      },
      "source": [
        "any ( L2 ) # Will Return True as we have items in the list with True value"
      ],
      "id": "2a0f3300",
      "execution_count": null,
      "outputs": [
        {
          "output_type": "execute_result",
          "data": {
            "text/plain": [
              "True"
            ]
          },
          "metadata": {
            "tags": []
          },
          "execution_count": 234
        }
      ]
    },
    {
      "cell_type": "code",
      "metadata": {
        "id": "87d5ba31"
      },
      "source": [
        "L3 = [ 1 , 2 , 3 , True ]"
      ],
      "id": "87d5ba31",
      "execution_count": null,
      "outputs": []
    },
    {
      "cell_type": "code",
      "metadata": {
        "id": "8a2baf4e",
        "outputId": "7b8441ea-1ce0-42c5-f9e8-5a0502d1d7ee"
      },
      "source": [
        "all(L3) # Will return True as all items in the list are True"
      ],
      "id": "8a2baf4e",
      "execution_count": null,
      "outputs": [
        {
          "output_type": "execute_result",
          "data": {
            "text/plain": [
              "True"
            ]
          },
          "metadata": {
            "tags": []
          },
          "execution_count": 236
        }
      ]
    },
    {
      "cell_type": "code",
      "metadata": {
        "id": "813418af",
        "outputId": "f7d4f66e-4d2c-4018-c948-337514a65714"
      },
      "source": [
        "any(L3) # Will Return True as we have items in the list with True value"
      ],
      "id": "813418af",
      "execution_count": null,
      "outputs": [
        {
          "output_type": "execute_result",
          "data": {
            "text/plain": [
              "True"
            ]
          },
          "metadata": {
            "tags": []
          },
          "execution_count": 237
        }
      ]
    },
    {
      "cell_type": "markdown",
      "metadata": {
        "id": "0db3d00e"
      },
      "source": [
        "# List Comprehensions\n",
        "- List Comprehensions provide an elegant way to create new lists.\n",
        "- It consists of brackets containing an expression followed by a for clause, then zero or more for or if clauses."
      ],
      "id": "0db3d00e"
    },
    {
      "cell_type": "code",
      "metadata": {
        "id": "c134a7e9",
        "outputId": "7efc3bbb-1311-42a4-8068-9388b064b2c9"
      },
      "source": [
        "mystring = \"WELCOME\"\n",
        "mylist = [ i for i in mystring ] # Iterating through a string Using List Comprehe \n",
        "mylist"
      ],
      "id": "c134a7e9",
      "execution_count": null,
      "outputs": [
        {
          "output_type": "execute_result",
          "data": {
            "text/plain": [
              "['W', 'E', 'L', 'C', 'O', 'M', 'E']"
            ]
          },
          "metadata": {
            "tags": []
          },
          "execution_count": 240
        }
      ]
    },
    {
      "cell_type": "code",
      "metadata": {
        "id": "f5a76292",
        "outputId": "6f988bf9-fde5-4d1a-92a7-36878b43ccb4"
      },
      "source": [
        "mylist1 = [ i for i in range ( 40 ) if i % 2 == 0 ] # Display all even numbers betwee \n",
        "mylist1"
      ],
      "id": "f5a76292",
      "execution_count": null,
      "outputs": [
        {
          "output_type": "execute_result",
          "data": {
            "text/plain": [
              "[0, 2, 4, 6, 8, 10, 12, 14, 16, 18, 20, 22, 24, 26, 28, 30, 32, 34, 36, 38]"
            ]
          },
          "metadata": {
            "tags": []
          },
          "execution_count": 242
        }
      ]
    },
    {
      "cell_type": "code",
      "metadata": {
        "id": "93037b1a",
        "outputId": "26963588-1d07-4f63-be74-9c6f5ad86941"
      },
      "source": [
        "mylist2 = [ i for i in range ( 40 ) if i % 2 == 1 ] # Display all odd numbers between\n",
        "mylist2"
      ],
      "id": "93037b1a",
      "execution_count": null,
      "outputs": [
        {
          "output_type": "execute_result",
          "data": {
            "text/plain": [
              "[1, 3, 5, 7, 9, 11, 13, 15, 17, 19, 21, 23, 25, 27, 29, 31, 33, 35, 37, 39]"
            ]
          },
          "metadata": {
            "tags": []
          },
          "execution_count": 243
        }
      ]
    },
    {
      "cell_type": "code",
      "metadata": {
        "id": "211bbc7f",
        "outputId": "da936a64-0e2d-4dd6-967d-b873a2bbbe29"
      },
      "source": [
        "mylist3 = [ num ** 2 for num in range ( 10 )] # calculate square of all numbers between\n",
        "mylist3"
      ],
      "id": "211bbc7f",
      "execution_count": null,
      "outputs": [
        {
          "output_type": "execute_result",
          "data": {
            "text/plain": [
              "[0, 1, 4, 9, 16, 25, 36, 49, 64, 81]"
            ]
          },
          "metadata": {
            "tags": []
          },
          "execution_count": 244
        }
      ]
    },
    {
      "cell_type": "code",
      "metadata": {
        "id": "1815d6d3",
        "outputId": "5e108a1c-88da-4b30-cd16-d27c813406b1"
      },
      "source": [
        "# Multiple whole list by 10\n",
        "list1 = [ 2 , 3 , 4 , 5 , 6 , 7 , 8 ]\n",
        "list1 = [ i * 10 for i in list1 ]\n",
        "list1"
      ],
      "id": "1815d6d3",
      "execution_count": null,
      "outputs": [
        {
          "output_type": "execute_result",
          "data": {
            "text/plain": [
              "[20, 30, 40, 50, 60, 70, 80]"
            ]
          },
          "metadata": {
            "tags": []
          },
          "execution_count": 245
        }
      ]
    },
    {
      "cell_type": "code",
      "metadata": {
        "id": "ab0546f8",
        "outputId": "8c3a9160-60cc-427c-ad14-d1ae59e2dcb0"
      },
      "source": [
        "#List all numbers divisible by 3 , 9 & 12 using nested \"if\" with List Comprehensi \n",
        "mylist4 = [ i for i in range ( 200 ) if i % 3 == 0 if i % 9 == 0 if i % 12 == 0 ] \n",
        "mylist4"
      ],
      "id": "ab0546f8",
      "execution_count": null,
      "outputs": [
        {
          "output_type": "execute_result",
          "data": {
            "text/plain": [
              "[0, 36, 72, 108, 144, 180]"
            ]
          },
          "metadata": {
            "tags": []
          },
          "execution_count": 246
        }
      ]
    },
    {
      "cell_type": "code",
      "metadata": {
        "id": "a9541d9a",
        "outputId": "aa96560e-9b6d-4285-a55c-32498311bd82"
      },
      "source": [
        "# Odd even test\n",
        "l1 = [ print (\"{} is Even Number\".format ( i )) if i % 2 == 0 else print (\"{} is odd number\".format(i)) for i in range(10)]"
      ],
      "id": "a9541d9a",
      "execution_count": null,
      "outputs": [
        {
          "output_type": "stream",
          "text": [
            "0 is Even Number\n",
            "1 is odd number\n",
            "2 is Even Number\n",
            "3 is odd number\n",
            "4 is Even Number\n",
            "5 is odd number\n",
            "6 is Even Number\n",
            "7 is odd number\n",
            "8 is Even Number\n",
            "9 is odd number\n"
          ],
          "name": "stdout"
        }
      ]
    },
    {
      "cell_type": "code",
      "metadata": {
        "id": "66f015aa",
        "outputId": "02658ed5-15cb-4561-835a-0407371cb525"
      },
      "source": [
        "# Extract numbers from a string\n",
        "mystr = \"One 1 two 2 three 3 four 4 five 5 six 6789\"\n",
        "numbers = [ i for i in mystr if i.isdigit()]\n",
        "numbers"
      ],
      "id": "66f015aa",
      "execution_count": null,
      "outputs": [
        {
          "output_type": "execute_result",
          "data": {
            "text/plain": [
              "['1', '2', '3', '4', '5', '6', '7', '8', '9']"
            ]
          },
          "metadata": {
            "tags": []
          },
          "execution_count": 252
        }
      ]
    },
    {
      "cell_type": "code",
      "metadata": {
        "id": "a202c8f7",
        "outputId": "a59935b2-877d-4d83-86f4-87f4e09c0ed2"
      },
      "source": [
        "# Extract letters from a string\n",
        "mystr = \"One 1 two 2 three 3 four 4 five 5 six 6789\"\n",
        "numbers = [i for i in mystr if i.isalpha()]\n",
        "numbers"
      ],
      "id": "a202c8f7",
      "execution_count": null,
      "outputs": [
        {
          "output_type": "execute_result",
          "data": {
            "text/plain": [
              "['O',\n",
              " 'n',\n",
              " 'e',\n",
              " 't',\n",
              " 'w',\n",
              " 'o',\n",
              " 't',\n",
              " 'h',\n",
              " 'r',\n",
              " 'e',\n",
              " 'e',\n",
              " 'f',\n",
              " 'o',\n",
              " 'u',\n",
              " 'r',\n",
              " 'f',\n",
              " 'i',\n",
              " 'v',\n",
              " 'e',\n",
              " 's',\n",
              " 'i',\n",
              " 'x']"
            ]
          },
          "metadata": {
            "tags": []
          },
          "execution_count": 254
        }
      ]
    },
    {
      "cell_type": "markdown",
      "metadata": {
        "id": "cbb7a4a0"
      },
      "source": [
        "## Tuples\n",
        "\n",
        "1. Tuple is similar to List except that the objects in tuple are immutable which means we cannot change the elements of a tuple  once assigned.\n",
        "2. When we do not want to change the data over time, tuple is a preferred data type.\n",
        "3. Iterating over the elements of a tuple is faster compared to iterating over a list.\n",
        "\n",
        "#### Tuple Creation"
      ],
      "id": "cbb7a4a0"
    },
    {
      "cell_type": "code",
      "metadata": {
        "id": "6ac72aad"
      },
      "source": [
        "tup1 = () # Empty tuple"
      ],
      "id": "6ac72aad",
      "execution_count": null,
      "outputs": []
    },
    {
      "cell_type": "code",
      "metadata": {
        "id": "8d360a29"
      },
      "source": [
        "tup2 = (10,30,60) # tuple of integers numbers"
      ],
      "id": "8d360a29",
      "execution_count": null,
      "outputs": []
    },
    {
      "cell_type": "code",
      "metadata": {
        "id": "aa6e798d"
      },
      "source": [
        "tup3 = (10.77,30.66,60.89) # tuple of float numbers"
      ],
      "id": "aa6e798d",
      "execution_count": null,
      "outputs": []
    },
    {
      "cell_type": "code",
      "metadata": {
        "id": "0e5f09fc"
      },
      "source": [
        "tup4 = ('one','two',\"three\") # tuple of strings"
      ],
      "id": "0e5f09fc",
      "execution_count": null,
      "outputs": []
    },
    {
      "cell_type": "code",
      "metadata": {
        "id": "c93f6363"
      },
      "source": [
        "tup5 = ('Asif',25,(50,100),(150,90)) # Nested tuples"
      ],
      "id": "c93f6363",
      "execution_count": null,
      "outputs": []
    },
    {
      "cell_type": "code",
      "metadata": {
        "id": "aa5e9274"
      },
      "source": [
        "tup6 = (100,'Asif',17.765) # Tuple of mixed data types"
      ],
      "id": "aa5e9274",
      "execution_count": null,
      "outputs": []
    },
    {
      "cell_type": "code",
      "metadata": {
        "id": "b2cb9da3"
      },
      "source": [
        "tup7 = ( 'Asif' , 25 ,[ 50 , 100 ],[ 150 , 90 ] , { 'John' , 'David' } , ( 99 , 22 , 33 ))"
      ],
      "id": "b2cb9da3",
      "execution_count": null,
      "outputs": []
    },
    {
      "cell_type": "code",
      "metadata": {
        "id": "7eeb6609",
        "outputId": "7cc92f24-9c00-4427-d10a-7c209669a3a8"
      },
      "source": [
        "len ( tup7 ) #Length of list"
      ],
      "id": "7eeb6609",
      "execution_count": null,
      "outputs": [
        {
          "output_type": "execute_result",
          "data": {
            "text/plain": [
              "6"
            ]
          },
          "metadata": {
            "tags": []
          },
          "execution_count": 263
        }
      ]
    },
    {
      "cell_type": "markdown",
      "metadata": {
        "id": "c1735aa8"
      },
      "source": [
        "### Tuple Indexing"
      ],
      "id": "c1735aa8"
    },
    {
      "cell_type": "code",
      "metadata": {
        "id": "1a15c79d",
        "outputId": "97d48987-8e5f-4ac9-e40d-aaaf84590bb4"
      },
      "source": [
        "tup2 [ 0 ] # Retreive first element of the tuple"
      ],
      "id": "1a15c79d",
      "execution_count": null,
      "outputs": [
        {
          "output_type": "execute_result",
          "data": {
            "text/plain": [
              "10"
            ]
          },
          "metadata": {
            "tags": []
          },
          "execution_count": 264
        }
      ]
    },
    {
      "cell_type": "code",
      "metadata": {
        "id": "4814852b",
        "outputId": "5dac8399-ac0a-44f0-b492-4fc9f27b680c"
      },
      "source": [
        "tup4 [ 0 ] # Retreive first element of the tuple"
      ],
      "id": "4814852b",
      "execution_count": null,
      "outputs": [
        {
          "output_type": "execute_result",
          "data": {
            "text/plain": [
              "'one'"
            ]
          },
          "metadata": {
            "tags": []
          },
          "execution_count": 265
        }
      ]
    },
    {
      "cell_type": "code",
      "metadata": {
        "id": "0f0cf0f5",
        "outputId": "2c039df5-7699-440d-bd26-d024620ccc6e"
      },
      "source": [
        "tup4[0][0] # Nested indexing - Access the first character of the first tuple elem"
      ],
      "id": "0f0cf0f5",
      "execution_count": null,
      "outputs": [
        {
          "output_type": "execute_result",
          "data": {
            "text/plain": [
              "'o'"
            ]
          },
          "metadata": {
            "tags": []
          },
          "execution_count": 266
        }
      ]
    },
    {
      "cell_type": "code",
      "metadata": {
        "id": "d882aef8",
        "outputId": "f665d637-974d-4e32-a08d-25667e5a84f5"
      },
      "source": [
        "tup4 [-1] # Last item of the tuple"
      ],
      "id": "d882aef8",
      "execution_count": null,
      "outputs": [
        {
          "output_type": "execute_result",
          "data": {
            "text/plain": [
              "'three'"
            ]
          },
          "metadata": {
            "tags": []
          },
          "execution_count": 267
        }
      ]
    },
    {
      "cell_type": "code",
      "metadata": {
        "id": "97561eec",
        "outputId": "d0bcb39f-3048-4f85-c0ab-10d9ebf88d22"
      },
      "source": [
        "tup5[-1] # Last item of the tuple"
      ],
      "id": "97561eec",
      "execution_count": null,
      "outputs": [
        {
          "output_type": "execute_result",
          "data": {
            "text/plain": [
              "(150, 90)"
            ]
          },
          "metadata": {
            "tags": []
          },
          "execution_count": 268
        }
      ]
    },
    {
      "cell_type": "markdown",
      "metadata": {
        "id": "adf2b600"
      },
      "source": [
        "### Tuple Slicing"
      ],
      "id": "adf2b600"
    },
    {
      "cell_type": "code",
      "metadata": {
        "id": "635edccc"
      },
      "source": [
        "mytuple = ('one' , 'two' , 'three' , 'four' , 'five' , 'six' , 'seven' , 'eight' )"
      ],
      "id": "635edccc",
      "execution_count": null,
      "outputs": []
    },
    {
      "cell_type": "code",
      "metadata": {
        "id": "6dbd4be4",
        "outputId": "74ead607-4bf5-4b68-b278-f9bf3172f6c1"
      },
      "source": [
        "mytuple[0:3] # Return all items from 0th to 3rd index location excluding the item"
      ],
      "id": "6dbd4be4",
      "execution_count": null,
      "outputs": [
        {
          "output_type": "execute_result",
          "data": {
            "text/plain": [
              "('one', 'two', 'three')"
            ]
          },
          "metadata": {
            "tags": []
          },
          "execution_count": 271
        }
      ]
    },
    {
      "cell_type": "code",
      "metadata": {
        "id": "54bac29e",
        "outputId": "c920a43b-5f9e-4fc1-f11d-5be4570f84ac"
      },
      "source": [
        "mytuple [ 2 : 5 ] # List all items from 2nd to 5th index location excluding the item a"
      ],
      "id": "54bac29e",
      "execution_count": null,
      "outputs": [
        {
          "output_type": "execute_result",
          "data": {
            "text/plain": [
              "('three', 'four', 'five')"
            ]
          },
          "metadata": {
            "tags": []
          },
          "execution_count": 272
        }
      ]
    },
    {
      "cell_type": "code",
      "metadata": {
        "id": "8e27080a",
        "outputId": "0a00d3e7-5981-43e3-a096-58884c1b145b"
      },
      "source": [
        "mytuple [: 3 ] # Return first three items"
      ],
      "id": "8e27080a",
      "execution_count": null,
      "outputs": [
        {
          "output_type": "execute_result",
          "data": {
            "text/plain": [
              "('one', 'two', 'three')"
            ]
          },
          "metadata": {
            "tags": []
          },
          "execution_count": 273
        }
      ]
    },
    {
      "cell_type": "code",
      "metadata": {
        "id": "9341d083",
        "outputId": "f24acceb-46bf-4858-eebe-ef8de45f4432"
      },
      "source": [
        "mytuple [:2] # Return first two items"
      ],
      "id": "9341d083",
      "execution_count": null,
      "outputs": [
        {
          "output_type": "execute_result",
          "data": {
            "text/plain": [
              "('one', 'two')"
            ]
          },
          "metadata": {
            "tags": []
          },
          "execution_count": 277
        }
      ]
    },
    {
      "cell_type": "code",
      "metadata": {
        "id": "45e126d8",
        "outputId": "6e0295e1-2d8c-4936-a083-9cb35266bd59"
      },
      "source": [
        "mytuple [ -3:] # Return last three items"
      ],
      "id": "45e126d8",
      "execution_count": null,
      "outputs": [
        {
          "output_type": "execute_result",
          "data": {
            "text/plain": [
              "('six', 'seven', 'eight')"
            ]
          },
          "metadata": {
            "tags": []
          },
          "execution_count": 276
        }
      ]
    },
    {
      "cell_type": "code",
      "metadata": {
        "id": "05b91fe2",
        "outputId": "006389f6-e70c-4c59-ec8d-c9869755d99c"
      },
      "source": [
        "mytuple [-2:] # Return last two items"
      ],
      "id": "05b91fe2",
      "execution_count": null,
      "outputs": [
        {
          "output_type": "execute_result",
          "data": {
            "text/plain": [
              "('seven', 'eight')"
            ]
          },
          "metadata": {
            "tags": []
          },
          "execution_count": 279
        }
      ]
    },
    {
      "cell_type": "code",
      "metadata": {
        "id": "f3bea6a2",
        "outputId": "204bbfd8-86f3-431c-acba-240599191e88"
      },
      "source": [
        "mytuple[- 1] # Return last item of the tuple"
      ],
      "id": "f3bea6a2",
      "execution_count": null,
      "outputs": [
        {
          "output_type": "execute_result",
          "data": {
            "text/plain": [
              "'eight'"
            ]
          },
          "metadata": {
            "tags": []
          },
          "execution_count": 280
        }
      ]
    },
    {
      "cell_type": "code",
      "metadata": {
        "id": "d615a8ab"
      },
      "source": [
        "mytuple[:] # Return whole tuple"
      ],
      "id": "d615a8ab",
      "execution_count": null,
      "outputs": []
    },
    {
      "cell_type": "markdown",
      "metadata": {
        "id": "da46d337"
      },
      "source": [
        "#### Remove & Change Items"
      ],
      "id": "da46d337"
    },
    {
      "cell_type": "code",
      "metadata": {
        "id": "6d8fabae",
        "outputId": "bce9c60d-9588-401c-ff5a-67ef470f81f7"
      },
      "source": [
        "mytuple"
      ],
      "id": "6d8fabae",
      "execution_count": null,
      "outputs": [
        {
          "output_type": "execute_result",
          "data": {
            "text/plain": [
              "('one', 'two', 'three', 'four', 'five', 'six', 'seven', 'eight')"
            ]
          },
          "metadata": {
            "tags": []
          },
          "execution_count": 283
        }
      ]
    },
    {
      "cell_type": "code",
      "metadata": {
        "id": "c782b02b",
        "outputId": "4e81ac95-db55-40b2-8b85-041d5fd9d109"
      },
      "source": [
        "del mytuple[0] # Tuples are immutable which means we can't DELETE tuple items"
      ],
      "id": "c782b02b",
      "execution_count": null,
      "outputs": [
        {
          "output_type": "error",
          "ename": "TypeError",
          "evalue": "'tuple' object doesn't support item deletion",
          "traceback": [
            "\u001b[1;31m---------------------------------------------------------------------------\u001b[0m",
            "\u001b[1;31mTypeError\u001b[0m                                 Traceback (most recent call last)",
            "\u001b[1;32m<ipython-input-286-96051e0b9682>\u001b[0m in \u001b[0;36m<module>\u001b[1;34m\u001b[0m\n\u001b[1;32m----> 1\u001b[1;33m \u001b[1;32mdel\u001b[0m \u001b[0mmytuple\u001b[0m\u001b[1;33m[\u001b[0m\u001b[1;36m0\u001b[0m\u001b[1;33m]\u001b[0m \u001b[1;31m# Tuples are immutable which means we can't DELETE tuple items\u001b[0m\u001b[1;33m\u001b[0m\u001b[1;33m\u001b[0m\u001b[0m\n\u001b[0m",
            "\u001b[1;31mTypeError\u001b[0m: 'tuple' object doesn't support item deletion"
          ]
        }
      ]
    },
    {
      "cell_type": "code",
      "metadata": {
        "id": "dc27f5e5",
        "outputId": "c68ba839-71eb-4421-c25d-bfef19d31e40"
      },
      "source": [
        "mytuple[0] = 1 # Tuples are immutable which means we can't CHANGE tuple items"
      ],
      "id": "dc27f5e5",
      "execution_count": null,
      "outputs": [
        {
          "output_type": "error",
          "ename": "TypeError",
          "evalue": "'tuple' object does not support item assignment",
          "traceback": [
            "\u001b[1;31m---------------------------------------------------------------------------\u001b[0m",
            "\u001b[1;31mTypeError\u001b[0m                                 Traceback (most recent call last)",
            "\u001b[1;32m<ipython-input-287-4c2ed09725a9>\u001b[0m in \u001b[0;36m<module>\u001b[1;34m\u001b[0m\n\u001b[1;32m----> 1\u001b[1;33m \u001b[0mmytuple\u001b[0m\u001b[1;33m[\u001b[0m\u001b[1;36m0\u001b[0m\u001b[1;33m]\u001b[0m \u001b[1;33m=\u001b[0m \u001b[1;36m1\u001b[0m \u001b[1;31m# Tuples are immutable which means we can't CHANGE tuple items\u001b[0m\u001b[1;33m\u001b[0m\u001b[1;33m\u001b[0m\u001b[0m\n\u001b[0m",
            "\u001b[1;31mTypeError\u001b[0m: 'tuple' object does not support item assignment"
          ]
        }
      ]
    },
    {
      "cell_type": "code",
      "metadata": {
        "id": "016003b3"
      },
      "source": [
        "del mytuple # Deleting entire tuple object is possible"
      ],
      "id": "016003b3",
      "execution_count": null,
      "outputs": []
    },
    {
      "cell_type": "markdown",
      "metadata": {
        "id": "983f77b4"
      },
      "source": [
        "## Loop through a tuple"
      ],
      "id": "983f77b4"
    },
    {
      "cell_type": "code",
      "metadata": {
        "id": "e1eb7dec",
        "outputId": "3dea3947-f50c-4542-a688-8c871209ce5e"
      },
      "source": [
        "mytuple = ('one' , 'two' , 'three' , 'four' , 'five' , 'six' , 'seven' , 'eight' )\n",
        "mytuple"
      ],
      "id": "e1eb7dec",
      "execution_count": null,
      "outputs": [
        {
          "output_type": "execute_result",
          "data": {
            "text/plain": [
              "('one', 'two', 'three', 'four', 'five', 'six', 'seven', 'eight')"
            ]
          },
          "metadata": {
            "tags": []
          },
          "execution_count": 292
        }
      ]
    },
    {
      "cell_type": "code",
      "metadata": {
        "id": "31b11df3",
        "outputId": "5028089a-7416-4b7b-c1d3-d8800c698525"
      },
      "source": [
        "for i in mytuple : \n",
        "    print ( i )"
      ],
      "id": "31b11df3",
      "execution_count": null,
      "outputs": [
        {
          "output_type": "stream",
          "text": [
            "one\n",
            "two\n",
            "three\n",
            "four\n",
            "five\n",
            "six\n",
            "seven\n",
            "eight\n"
          ],
          "name": "stdout"
        }
      ]
    },
    {
      "cell_type": "code",
      "metadata": {
        "id": "df7f48fc",
        "outputId": "fc7468a8-d144-4c26-bd62-4f21a144e879"
      },
      "source": [
        "for i in enumerate(mytuple):\n",
        "    print ( i )"
      ],
      "id": "df7f48fc",
      "execution_count": null,
      "outputs": [
        {
          "output_type": "stream",
          "text": [
            "(0, 'one')\n",
            "(1, 'two')\n",
            "(2, 'three')\n",
            "(3, 'four')\n",
            "(4, 'five')\n",
            "(5, 'six')\n",
            "(6, 'seven')\n",
            "(7, 'eight')\n"
          ],
          "name": "stdout"
        }
      ]
    },
    {
      "cell_type": "markdown",
      "metadata": {
        "id": "33cc37e2"
      },
      "source": [
        "### Count"
      ],
      "id": "33cc37e2"
    },
    {
      "cell_type": "code",
      "metadata": {
        "id": "ab6380e1"
      },
      "source": [
        "mytuple1 = ( 'one' , 'two' , 'three' , 'four' , 'one' , 'one' , 'two' , 'three' )"
      ],
      "id": "ab6380e1",
      "execution_count": null,
      "outputs": []
    },
    {
      "cell_type": "code",
      "metadata": {
        "id": "4a57e432",
        "outputId": "5ad790b4-53ef-49da-c9b2-16d0a93ca71f"
      },
      "source": [
        "mytuple1.count('one') # Number of times item \"one\" occurred in the tuple."
      ],
      "id": "4a57e432",
      "execution_count": null,
      "outputs": [
        {
          "output_type": "execute_result",
          "data": {
            "text/plain": [
              "3"
            ]
          },
          "metadata": {
            "tags": []
          },
          "execution_count": 298
        }
      ]
    },
    {
      "cell_type": "code",
      "metadata": {
        "id": "3236ad0a",
        "outputId": "fd64ab4b-2ae9-476e-e44c-1998c336b8c0"
      },
      "source": [
        "mytuple1.count('two') # Occurence of item 'two' in the tuple"
      ],
      "id": "3236ad0a",
      "execution_count": null,
      "outputs": [
        {
          "output_type": "execute_result",
          "data": {
            "text/plain": [
              "2"
            ]
          },
          "metadata": {
            "tags": []
          },
          "execution_count": 299
        }
      ]
    },
    {
      "cell_type": "code",
      "metadata": {
        "id": "f6cede93",
        "outputId": "79b65e82-211b-42e9-f2d1-15904f1b5c6b"
      },
      "source": [
        "mytuple1.count('four') #Occurence of item 'four' in the tuple"
      ],
      "id": "f6cede93",
      "execution_count": null,
      "outputs": [
        {
          "output_type": "execute_result",
          "data": {
            "text/plain": [
              "1"
            ]
          },
          "metadata": {
            "tags": []
          },
          "execution_count": 300
        }
      ]
    },
    {
      "cell_type": "markdown",
      "metadata": {
        "id": "709d16ff"
      },
      "source": [
        "### Tuple Membership"
      ],
      "id": "709d16ff"
    },
    {
      "cell_type": "code",
      "metadata": {
        "id": "ecdfd88a",
        "outputId": "bd27073f-f899-400f-9058-ae837d9d0625"
      },
      "source": [
        "mytuple"
      ],
      "id": "ecdfd88a",
      "execution_count": null,
      "outputs": [
        {
          "output_type": "execute_result",
          "data": {
            "text/plain": [
              "('one', 'two', 'three', 'four', 'five', 'six', 'seven', 'eight')"
            ]
          },
          "metadata": {
            "tags": []
          },
          "execution_count": 301
        }
      ]
    },
    {
      "cell_type": "code",
      "metadata": {
        "id": "62d2cd0c",
        "outputId": "4673d2ba-06bd-4fb3-c259-e7c07471d6df"
      },
      "source": [
        "'one' in mytuple # Check if 'one' exist in the list"
      ],
      "id": "62d2cd0c",
      "execution_count": null,
      "outputs": [
        {
          "output_type": "execute_result",
          "data": {
            "text/plain": [
              "True"
            ]
          },
          "metadata": {
            "tags": []
          },
          "execution_count": 302
        }
      ]
    },
    {
      "cell_type": "code",
      "metadata": {
        "id": "d266926f",
        "outputId": "6d357177-8604-464f-c263-9f2fc0a3b1ab"
      },
      "source": [
        "'ten' in mytuple # Check if 'ten' exist in the list"
      ],
      "id": "d266926f",
      "execution_count": null,
      "outputs": [
        {
          "output_type": "execute_result",
          "data": {
            "text/plain": [
              "False"
            ]
          },
          "metadata": {
            "tags": []
          },
          "execution_count": 303
        }
      ]
    },
    {
      "cell_type": "code",
      "metadata": {
        "id": "8c6ff7ee",
        "outputId": "a34daeca-2905-4b76-df7a-b7bf93d825af"
      },
      "source": [
        "if 'three' in mytuple: # Check if 'three' exist in the list  \n",
        "    print ( 'Three is present in the tuple' ) \n",
        "else:\n",
        "    print ( 'Three is not present in the tuple' )"
      ],
      "id": "8c6ff7ee",
      "execution_count": null,
      "outputs": [
        {
          "output_type": "stream",
          "text": [
            "Three is present in the tuple\n"
          ],
          "name": "stdout"
        }
      ]
    },
    {
      "cell_type": "code",
      "metadata": {
        "id": "acc59190",
        "outputId": "507fc012-c2ff-4cf2-ac9d-92e4c63fa521"
      },
      "source": [
        "if 'eleven' in mytuple: # Check if 'eleven' exist in the list \n",
        "    print ( 'eleven is present in the tuple' )\n",
        "else:\n",
        "    print ( 'eleven is not present in the tuple' )"
      ],
      "id": "acc59190",
      "execution_count": null,
      "outputs": [
        {
          "output_type": "stream",
          "text": [
            "eleven is not present in the tuple\n"
          ],
          "name": "stdout"
        }
      ]
    },
    {
      "cell_type": "code",
      "metadata": {
        "id": "f9eba180",
        "outputId": "2d89aa80-b390-460d-f39c-175d7a2a1357"
      },
      "source": [
        "mytuple"
      ],
      "id": "f9eba180",
      "execution_count": null,
      "outputs": [
        {
          "output_type": "execute_result",
          "data": {
            "text/plain": [
              "('one', 'two', 'three', 'four', 'five', 'six', 'seven', 'eight')"
            ]
          },
          "metadata": {
            "tags": []
          },
          "execution_count": 306
        }
      ]
    },
    {
      "cell_type": "code",
      "metadata": {
        "id": "6668e614",
        "outputId": "a63b54f3-528b-4be0-e1bf-f025981beffa"
      },
      "source": [
        "mytuple.index('one') # Index of first element equal to 'one'"
      ],
      "id": "6668e614",
      "execution_count": null,
      "outputs": [
        {
          "output_type": "execute_result",
          "data": {
            "text/plain": [
              "0"
            ]
          },
          "metadata": {
            "tags": []
          },
          "execution_count": 307
        }
      ]
    },
    {
      "cell_type": "code",
      "metadata": {
        "id": "15a0e9f6",
        "outputId": "ae8126e7-4114-4531-956f-b057be54232e"
      },
      "source": [
        "mytuple.index('five') # Index of first element equal to 'five'\n",
        "mytuple1"
      ],
      "id": "15a0e9f6",
      "execution_count": null,
      "outputs": [
        {
          "output_type": "execute_result",
          "data": {
            "text/plain": [
              "('one', 'two', 'three', 'four', 'one', 'one', 'two', 'three')"
            ]
          },
          "metadata": {
            "tags": []
          },
          "execution_count": 309
        }
      ]
    },
    {
      "cell_type": "code",
      "metadata": {
        "id": "a34b7803",
        "outputId": "fb1e43c8-fc97-4629-a688-55afe7577e46"
      },
      "source": [
        "mytuple1.index('one')  # Index of first element equal to 'one'"
      ],
      "id": "a34b7803",
      "execution_count": null,
      "outputs": [
        {
          "output_type": "execute_result",
          "data": {
            "text/plain": [
              "0"
            ]
          },
          "metadata": {
            "tags": []
          },
          "execution_count": 310
        }
      ]
    },
    {
      "cell_type": "markdown",
      "metadata": {
        "id": "5c52a472"
      },
      "source": [
        "### Sorting"
      ],
      "id": "5c52a472"
    },
    {
      "cell_type": "code",
      "metadata": {
        "id": "65f7af31"
      },
      "source": [
        "mytuple2 = ( 43 , 67 , 99 , 12 , 6 , 90 , 67 )"
      ],
      "id": "65f7af31",
      "execution_count": null,
      "outputs": []
    },
    {
      "cell_type": "code",
      "metadata": {
        "id": "c6c92424",
        "outputId": "eb071e53-d0ae-4841-c706-c3af5cea51df"
      },
      "source": [
        "sorted(mytuple2) # Returns a new sorted list and doesn't change original tuple"
      ],
      "id": "c6c92424",
      "execution_count": null,
      "outputs": [
        {
          "output_type": "execute_result",
          "data": {
            "text/plain": [
              "[6, 12, 43, 67, 67, 90, 99]"
            ]
          },
          "metadata": {
            "tags": []
          },
          "execution_count": 312
        }
      ]
    },
    {
      "cell_type": "code",
      "metadata": {
        "id": "a6d70797",
        "outputId": "60526958-8c36-4b85-d480-a5d565810733"
      },
      "source": [
        "sorted(mytuple2 , reverse = True ) # Sort in descending order"
      ],
      "id": "a6d70797",
      "execution_count": null,
      "outputs": [
        {
          "output_type": "execute_result",
          "data": {
            "text/plain": [
              "[99, 90, 67, 67, 43, 12, 6]"
            ]
          },
          "metadata": {
            "tags": []
          },
          "execution_count": 313
        }
      ]
    },
    {
      "cell_type": "markdown",
      "metadata": {
        "id": "d7b0e33e"
      },
      "source": [
        "# Sets\n",
        "1. Unordered & Unindexed collection of items.\n",
        "2. Set elements are unique. Duplicate elements are not allowed.\n",
        "3. Set elements are immutable (cannot be changed).\n",
        "4. Set itself is mutable. We can add or remove items from it.\n",
        "\n",
        "### Set Creation"
      ],
      "id": "d7b0e33e"
    },
    {
      "cell_type": "code",
      "metadata": {
        "id": "c9fb0ffe"
      },
      "source": [
        "myset = { 1 , 2 , 3 , 4 , 5 } # Set of numbers myset"
      ],
      "id": "c9fb0ffe",
      "execution_count": null,
      "outputs": []
    },
    {
      "cell_type": "code",
      "metadata": {
        "id": "ed24b10d",
        "outputId": "04fe6e1f-d9a7-4d29-8bb1-ea5db43dcf4c"
      },
      "source": [
        "len(myset) #Length of the set"
      ],
      "id": "ed24b10d",
      "execution_count": null,
      "outputs": [
        {
          "output_type": "execute_result",
          "data": {
            "text/plain": [
              "5"
            ]
          },
          "metadata": {
            "tags": []
          },
          "execution_count": 316
        }
      ]
    },
    {
      "cell_type": "code",
      "metadata": {
        "id": "77c29d72",
        "outputId": "04498a15-7434-4ed7-d04d-22001d1584f8"
      },
      "source": [
        "my_set = { 1 , 1 , 2 , 2 , 3 , 4 , 5 , 5 }\n",
        "my_set"
      ],
      "id": "77c29d72",
      "execution_count": null,
      "outputs": [
        {
          "output_type": "execute_result",
          "data": {
            "text/plain": [
              "{1, 2, 3, 4, 5}"
            ]
          },
          "metadata": {
            "tags": []
          },
          "execution_count": 317
        }
      ]
    },
    {
      "cell_type": "code",
      "metadata": {
        "id": "c67a4043",
        "outputId": "6a98ae21-2b3e-4850-abfc-ac009af4df02"
      },
      "source": [
        "myset1 = { 1.79 , 2.08 , 3.99 , 4.56 , 5.45 } # Set of float numbers\n",
        "myset1"
      ],
      "id": "c67a4043",
      "execution_count": null,
      "outputs": [
        {
          "output_type": "execute_result",
          "data": {
            "text/plain": [
              "{1.79, 2.08, 3.99, 4.56, 5.45}"
            ]
          },
          "metadata": {
            "tags": []
          },
          "execution_count": 318
        }
      ]
    },
    {
      "cell_type": "code",
      "metadata": {
        "id": "1d19d66e",
        "outputId": "a829f2a6-bd98-47f8-d0ac-5cf39548153e"
      },
      "source": [
        "myset2 = { 'Asif' , 'John' , 'Tyrion' } # Set of Strings\n",
        "myset2"
      ],
      "id": "1d19d66e",
      "execution_count": null,
      "outputs": [
        {
          "output_type": "execute_result",
          "data": {
            "text/plain": [
              "{'Asif', 'John', 'Tyrion'}"
            ]
          },
          "metadata": {
            "tags": []
          },
          "execution_count": 319
        }
      ]
    },
    {
      "cell_type": "code",
      "metadata": {
        "id": "644bddaf",
        "outputId": "ce6d6d2a-b813-48e3-cf1a-4721893b514f"
      },
      "source": [
        "myset3 = { 10 , 20 , \"Hola\" , ( 11 , 22 , 32 )} # Mixed datatypes\n",
        "myset3"
      ],
      "id": "644bddaf",
      "execution_count": null,
      "outputs": [
        {
          "output_type": "execute_result",
          "data": {
            "text/plain": [
              "{(11, 22, 32), 10, 20, 'Hola'}"
            ]
          },
          "metadata": {
            "tags": []
          },
          "execution_count": 320
        }
      ]
    },
    {
      "cell_type": "code",
      "metadata": {
        "id": "054d54f8",
        "outputId": "5aec62ca-3e93-4d7b-b0d8-2f59a95e14c3"
      },
      "source": [
        "myset3 = { 10 , 20 , \"Hola\" , [ 11 , 22 , 32 ]} # set doesn't allow mutable items like lis myset3"
      ],
      "id": "054d54f8",
      "execution_count": null,
      "outputs": [
        {
          "output_type": "error",
          "ename": "TypeError",
          "evalue": "unhashable type: 'list'",
          "traceback": [
            "\u001b[1;31m---------------------------------------------------------------------------\u001b[0m",
            "\u001b[1;31mTypeError\u001b[0m                                 Traceback (most recent call last)",
            "\u001b[1;32m<ipython-input-321-b7e6e0ba0323>\u001b[0m in \u001b[0;36m<module>\u001b[1;34m\u001b[0m\n\u001b[1;32m----> 1\u001b[1;33m \u001b[0mmyset3\u001b[0m \u001b[1;33m=\u001b[0m \u001b[1;33m{\u001b[0m \u001b[1;36m10\u001b[0m \u001b[1;33m,\u001b[0m \u001b[1;36m20\u001b[0m \u001b[1;33m,\u001b[0m \u001b[1;34m\"Hola\"\u001b[0m \u001b[1;33m,\u001b[0m \u001b[1;33m[\u001b[0m \u001b[1;36m11\u001b[0m \u001b[1;33m,\u001b[0m \u001b[1;36m22\u001b[0m \u001b[1;33m,\u001b[0m \u001b[1;36m32\u001b[0m \u001b[1;33m]\u001b[0m\u001b[1;33m}\u001b[0m \u001b[1;31m# set doesn't allow mutable items like lis myset3\u001b[0m\u001b[1;33m\u001b[0m\u001b[1;33m\u001b[0m\u001b[0m\n\u001b[0m",
            "\u001b[1;31mTypeError\u001b[0m: unhashable type: 'list'"
          ]
        }
      ]
    },
    {
      "cell_type": "code",
      "metadata": {
        "id": "6bd10387"
      },
      "source": [
        "myset4 = set () # Create an empty set print ( type ( myset4 ))"
      ],
      "id": "6bd10387",
      "execution_count": null,
      "outputs": []
    },
    {
      "cell_type": "code",
      "metadata": {
        "id": "13f5b868",
        "outputId": "a408cac2-4720-422f-d42f-1b9e4f6b6a54"
      },
      "source": [
        "my_set1 = set (( 'one' , 'two' , 'three' , 'four' ))\n",
        "my_set1"
      ],
      "id": "13f5b868",
      "execution_count": null,
      "outputs": [
        {
          "output_type": "execute_result",
          "data": {
            "text/plain": [
              "{'four', 'one', 'three', 'two'}"
            ]
          },
          "metadata": {
            "tags": []
          },
          "execution_count": 323
        }
      ]
    },
    {
      "cell_type": "markdown",
      "metadata": {
        "id": "df63b23a"
      },
      "source": [
        "## Loop through a Set"
      ],
      "id": "df63b23a"
    },
    {
      "cell_type": "code",
      "metadata": {
        "id": "5fd049bb",
        "outputId": "7a40b6f3-4df9-43bc-8289-c8155175d57d"
      },
      "source": [
        "myset = { 'one' , 'two' , 'three' , 'four' , 'five' , 'six' , 'seven' , 'eight' } \n",
        "for i in myset : \n",
        "    print ( i )"
      ],
      "id": "5fd049bb",
      "execution_count": null,
      "outputs": [
        {
          "output_type": "stream",
          "text": [
            "five\n",
            "four\n",
            "eight\n",
            "six\n",
            "seven\n",
            "two\n",
            "three\n",
            "one\n"
          ],
          "name": "stdout"
        }
      ]
    },
    {
      "cell_type": "code",
      "metadata": {
        "id": "eaf8b6be",
        "outputId": "b0356546-eda1-4524-d332-8f0235bd12c6"
      },
      "source": [
        "for i in enumerate ( myset ): print ( i )"
      ],
      "id": "eaf8b6be",
      "execution_count": null,
      "outputs": [
        {
          "output_type": "stream",
          "text": [
            "(0, 'five')\n",
            "(1, 'four')\n",
            "(2, 'eight')\n",
            "(3, 'six')\n",
            "(4, 'seven')\n",
            "(5, 'two')\n",
            "(6, 'three')\n",
            "(7, 'one')\n"
          ],
          "name": "stdout"
        }
      ]
    },
    {
      "cell_type": "markdown",
      "metadata": {
        "id": "ac212984"
      },
      "source": [
        "#### Set Membership"
      ],
      "id": "ac212984"
    },
    {
      "cell_type": "code",
      "metadata": {
        "id": "cddef9ed",
        "outputId": "54b8ee07-8db0-4b26-b0bb-fc399f59e2b5"
      },
      "source": [
        "myset"
      ],
      "id": "cddef9ed",
      "execution_count": null,
      "outputs": [
        {
          "output_type": "execute_result",
          "data": {
            "text/plain": [
              "{'eight', 'five', 'four', 'one', 'seven', 'six', 'three', 'two'}"
            ]
          },
          "metadata": {
            "tags": []
          },
          "execution_count": 327
        }
      ]
    },
    {
      "cell_type": "code",
      "metadata": {
        "id": "df23b865",
        "outputId": "31d4c116-f576-4fb6-e80a-8d70379634ac"
      },
      "source": [
        "'one' in myset # Check if 'one' exist in the set"
      ],
      "id": "df23b865",
      "execution_count": null,
      "outputs": [
        {
          "output_type": "execute_result",
          "data": {
            "text/plain": [
              "True"
            ]
          },
          "metadata": {
            "tags": []
          },
          "execution_count": 328
        }
      ]
    },
    {
      "cell_type": "code",
      "metadata": {
        "id": "8ccd65b1",
        "outputId": "421d4b77-f07c-47ca-a672-618dbb43db06"
      },
      "source": [
        "'ten' in myset # Check if 'ten' exist in the set"
      ],
      "id": "8ccd65b1",
      "execution_count": null,
      "outputs": [
        {
          "output_type": "execute_result",
          "data": {
            "text/plain": [
              "False"
            ]
          },
          "metadata": {
            "tags": []
          },
          "execution_count": 329
        }
      ]
    },
    {
      "cell_type": "code",
      "metadata": {
        "id": "28468c76",
        "outputId": "b777b7f5-f686-450c-9572-6298ab4caa64"
      },
      "source": [
        "if 'three' in myset: # Check if 'three' exist in the set \n",
        "    print ( 'Three is present in the set' )\n",
        "else:\n",
        "    print ( 'Three is not present in the set' )"
      ],
      "id": "28468c76",
      "execution_count": null,
      "outputs": [
        {
          "output_type": "stream",
          "text": [
            "Three is present in the set\n"
          ],
          "name": "stdout"
        }
      ]
    },
    {
      "cell_type": "code",
      "metadata": {
        "id": "2cf1a12b",
        "outputId": "787d4be7-609d-4593-f9af-53577aea93e3"
      },
      "source": [
        "myset"
      ],
      "id": "2cf1a12b",
      "execution_count": null,
      "outputs": [
        {
          "output_type": "execute_result",
          "data": {
            "text/plain": [
              "{'eight', 'five', 'four', 'one', 'seven', 'six', 'three', 'two'}"
            ]
          },
          "metadata": {
            "tags": []
          },
          "execution_count": 331
        }
      ]
    },
    {
      "cell_type": "code",
      "metadata": {
        "id": "7435429f"
      },
      "source": [
        "myset.add('NINE') # Add item to a set using add() method myset"
      ],
      "id": "7435429f",
      "execution_count": null,
      "outputs": []
    },
    {
      "cell_type": "code",
      "metadata": {
        "id": "9773b9ab"
      },
      "source": [
        "myset.update([ 'TEN' , 'ELEVEN' , 'TWELVE' ]) # Add multiple item to a set using u myset"
      ],
      "id": "9773b9ab",
      "execution_count": null,
      "outputs": []
    },
    {
      "cell_type": "code",
      "metadata": {
        "id": "d9ff24c2"
      },
      "source": [
        "myset.remove('NINE') # remove item in a set using remove() method myset"
      ],
      "id": "d9ff24c2",
      "execution_count": null,
      "outputs": []
    },
    {
      "cell_type": "code",
      "metadata": {
        "id": "655f5cca",
        "outputId": "c562ed02-ae23-42a8-cab4-45bb874b14b5"
      },
      "source": [
        "myset.discard ('TEN') # remove item from a set using discard() method\n",
        "myset"
      ],
      "id": "655f5cca",
      "execution_count": null,
      "outputs": [
        {
          "output_type": "execute_result",
          "data": {
            "text/plain": [
              "{'ELEVEN',\n",
              " 'TWELVE',\n",
              " 'eight',\n",
              " 'five',\n",
              " 'four',\n",
              " 'one',\n",
              " 'seven',\n",
              " 'six',\n",
              " 'three',\n",
              " 'two'}"
            ]
          },
          "metadata": {
            "tags": []
          },
          "execution_count": 340
        }
      ]
    },
    {
      "cell_type": "code",
      "metadata": {
        "id": "0b2d3d38",
        "outputId": "8e3bf768-379f-442c-e8ca-2494b2df82ec"
      },
      "source": [
        "myset.clear() # Delete all items in a set\n",
        "myset"
      ],
      "id": "0b2d3d38",
      "execution_count": null,
      "outputs": [
        {
          "output_type": "execute_result",
          "data": {
            "text/plain": [
              "set()"
            ]
          },
          "metadata": {
            "tags": []
          },
          "execution_count": 342
        }
      ]
    },
    {
      "cell_type": "code",
      "metadata": {
        "id": "4a564274",
        "outputId": "ed51dfe8-7633-4a9e-b527-da477d0e1fd4"
      },
      "source": [
        "del myset # Delete the set object\n",
        "myset"
      ],
      "id": "4a564274",
      "execution_count": null,
      "outputs": [
        {
          "output_type": "error",
          "ename": "NameError",
          "evalue": "name 'myset' is not defined",
          "traceback": [
            "\u001b[1;31m---------------------------------------------------------------------------\u001b[0m",
            "\u001b[1;31mNameError\u001b[0m                                 Traceback (most recent call last)",
            "\u001b[1;32m<ipython-input-344-8096fc3734fe>\u001b[0m in \u001b[0;36m<module>\u001b[1;34m\u001b[0m\n\u001b[1;32m----> 1\u001b[1;33m \u001b[1;32mdel\u001b[0m \u001b[0mmyset\u001b[0m \u001b[1;31m# Delete the set object\u001b[0m\u001b[1;33m\u001b[0m\u001b[1;33m\u001b[0m\u001b[0m\n\u001b[0m\u001b[0;32m      2\u001b[0m \u001b[0mmyset\u001b[0m\u001b[1;33m\u001b[0m\u001b[1;33m\u001b[0m\u001b[0m\n",
            "\u001b[1;31mNameError\u001b[0m: name 'myset' is not defined"
          ]
        }
      ]
    },
    {
      "cell_type": "code",
      "metadata": {
        "id": "c9c5f622"
      },
      "source": [
        "# Copy Set"
      ],
      "id": "c9c5f622",
      "execution_count": null,
      "outputs": []
    },
    {
      "cell_type": "code",
      "metadata": {
        "id": "fea468cb",
        "outputId": "2d737f93-7d77-468c-c319-c8170179f80b"
      },
      "source": [
        "myset = { 'one' , 'two' , 'three' , 'four' , 'five' , 'six' , 'seven' , 'eight' }\n",
        "myset"
      ],
      "id": "fea468cb",
      "execution_count": null,
      "outputs": [
        {
          "output_type": "execute_result",
          "data": {
            "text/plain": [
              "{'eight', 'five', 'four', 'one', 'seven', 'six', 'three', 'two'}"
            ]
          },
          "metadata": {
            "tags": []
          },
          "execution_count": 347
        }
      ]
    },
    {
      "cell_type": "code",
      "metadata": {
        "id": "fc226d90",
        "outputId": "4d55eb69-b974-405d-fec6-da2eaf51fc36"
      },
      "source": [
        "myset1 = myset # Create a new reference \"myset1\"\n",
        "myset1\n",
        "\n",
        "id(myset),id(myset1)"
      ],
      "id": "fc226d90",
      "execution_count": null,
      "outputs": [
        {
          "output_type": "execute_result",
          "data": {
            "text/plain": [
              "(2049679884072, 2049679884072)"
            ]
          },
          "metadata": {
            "tags": []
          },
          "execution_count": 350
        }
      ]
    },
    {
      "cell_type": "code",
      "metadata": {
        "id": "915f9154"
      },
      "source": [
        "my_set = myset.copy () # Create a copy of the list my_set"
      ],
      "id": "915f9154",
      "execution_count": null,
      "outputs": []
    },
    {
      "cell_type": "code",
      "metadata": {
        "id": "ff3992c9",
        "outputId": "8dac6926-eec2-4df7-9cd9-d05c37d9d4f8"
      },
      "source": [
        "id(my_set) # The address of my_set will be different from myset because my_set i"
      ],
      "id": "ff3992c9",
      "execution_count": null,
      "outputs": [
        {
          "output_type": "execute_result",
          "data": {
            "text/plain": [
              "2049680910824"
            ]
          },
          "metadata": {
            "tags": []
          },
          "execution_count": 356
        }
      ]
    },
    {
      "cell_type": "code",
      "metadata": {
        "id": "84d11d3c",
        "outputId": "f95042c0-4a27-4fd0-a695-120b52d6f7eb"
      },
      "source": [
        "myset.add('nine')\n",
        "myset"
      ],
      "id": "84d11d3c",
      "execution_count": null,
      "outputs": [
        {
          "output_type": "execute_result",
          "data": {
            "text/plain": [
              "{'eight', 'five', 'four', 'nine', 'one', 'seven', 'six', 'three', 'two'}"
            ]
          },
          "metadata": {
            "tags": []
          },
          "execution_count": 360
        }
      ]
    },
    {
      "cell_type": "code",
      "metadata": {
        "id": "c01532b0",
        "outputId": "ed5b24e0-c57e-4755-cf35-66036c6a2a6b"
      },
      "source": [
        "myset1 # myset1 will be also impacted as it is pointing to the same Set"
      ],
      "id": "c01532b0",
      "execution_count": null,
      "outputs": [
        {
          "output_type": "execute_result",
          "data": {
            "text/plain": [
              "{'eight', 'five', 'four', 'nine', 'one', 'seven', 'six', 'three', 'two'}"
            ]
          },
          "metadata": {
            "tags": []
          },
          "execution_count": 358
        }
      ]
    },
    {
      "cell_type": "code",
      "metadata": {
        "id": "e9295fc3",
        "outputId": "aae655a3-3d6b-4728-ccae-7a7d19ac496f"
      },
      "source": [
        "my_set"
      ],
      "id": "e9295fc3",
      "execution_count": null,
      "outputs": [
        {
          "output_type": "execute_result",
          "data": {
            "text/plain": [
              "{'eight', 'five', 'four', 'nine', 'one', 'seven', 'six', 'three', 'two'}"
            ]
          },
          "metadata": {
            "tags": []
          },
          "execution_count": 359
        }
      ]
    },
    {
      "cell_type": "markdown",
      "metadata": {
        "id": "55072958"
      },
      "source": [
        "## Set Operation\n",
        "\n",
        "#### Union"
      ],
      "id": "55072958"
    },
    {
      "cell_type": "code",
      "metadata": {
        "id": "e6db2879"
      },
      "source": [
        "A = { 1 , 2 , 3 , 4 , 5 }\n",
        "B = { 4 , 5 , 6 , 7 , 8 }\n",
        "C = { 8 , 9 , 10 }"
      ],
      "id": "e6db2879",
      "execution_count": null,
      "outputs": []
    },
    {
      "cell_type": "code",
      "metadata": {
        "id": "3238219f",
        "outputId": "988e7fbb-4534-41c4-8039-8b2574ce38d0"
      },
      "source": [
        "A | B # Union of A and B (All elements from both sets. NO DUPLICATES)"
      ],
      "id": "3238219f",
      "execution_count": null,
      "outputs": [
        {
          "output_type": "execute_result",
          "data": {
            "text/plain": [
              "{1, 2, 3, 4, 5, 6, 7, 8}"
            ]
          },
          "metadata": {
            "tags": []
          },
          "execution_count": 362
        }
      ]
    },
    {
      "cell_type": "code",
      "metadata": {
        "id": "6eedf010",
        "outputId": "d18d8381-b4b1-4e68-889f-88e93bf35818"
      },
      "source": [
        "A.union(B) # Union of A and B"
      ],
      "id": "6eedf010",
      "execution_count": null,
      "outputs": [
        {
          "output_type": "execute_result",
          "data": {
            "text/plain": [
              "{1, 2, 3, 4, 5, 6, 7, 8}"
            ]
          },
          "metadata": {
            "tags": []
          },
          "execution_count": 363
        }
      ]
    },
    {
      "cell_type": "code",
      "metadata": {
        "id": "34279d2e",
        "outputId": "2342118a-6e82-45e5-ddba-e8e05d579663"
      },
      "source": [
        "A.union(B,C) # Union of A, B and C."
      ],
      "id": "34279d2e",
      "execution_count": null,
      "outputs": [
        {
          "output_type": "execute_result",
          "data": {
            "text/plain": [
              "{1, 2, 3, 4, 5, 6, 7, 8, 9, 10}"
            ]
          },
          "metadata": {
            "tags": []
          },
          "execution_count": 364
        }
      ]
    },
    {
      "cell_type": "code",
      "metadata": {
        "id": "c66d1b18",
        "outputId": "be8a3e57-a650-4227-fab8-ebf9e2f09e83"
      },
      "source": [
        "\"\"\"\n",
        "Updates the set calling the update() method with union of A , B & C.\n",
        "For below example Set A will be updated with union of A,B & C.\n",
        "\"\"\"\n",
        "A.update(B,C)\n",
        "A"
      ],
      "id": "c66d1b18",
      "execution_count": null,
      "outputs": [
        {
          "output_type": "execute_result",
          "data": {
            "text/plain": [
              "{1, 2, 3, 4, 5, 6, 7, 8, 9, 10}"
            ]
          },
          "metadata": {
            "tags": []
          },
          "execution_count": 365
        }
      ]
    },
    {
      "cell_type": "markdown",
      "metadata": {
        "id": "880fa6fe"
      },
      "source": [
        "### Intersection"
      ],
      "id": "880fa6fe"
    },
    {
      "cell_type": "code",
      "metadata": {
        "id": "346752ad",
        "outputId": "2a8632bc-d807-4800-e4d6-06edd0913bba"
      },
      "source": [
        "A = { 1 , 2 , 3 , 4 , 5 }\n",
        "B = { 4 , 5 , 6 , 7 , 8 }\n",
        "A & B"
      ],
      "id": "346752ad",
      "execution_count": null,
      "outputs": [
        {
          "output_type": "execute_result",
          "data": {
            "text/plain": [
              "{4, 5}"
            ]
          },
          "metadata": {
            "tags": []
          },
          "execution_count": 367
        }
      ]
    },
    {
      "cell_type": "code",
      "metadata": {
        "id": "69b0aea1",
        "outputId": "150e2a35-70ee-4f6a-9e67-6ae2cbe076a5"
      },
      "source": [
        "A.intersection(B) # Intersection of A and B"
      ],
      "id": "69b0aea1",
      "execution_count": null,
      "outputs": [
        {
          "output_type": "execute_result",
          "data": {
            "text/plain": [
              "{4, 5}"
            ]
          },
          "metadata": {
            "tags": []
          },
          "execution_count": 368
        }
      ]
    },
    {
      "cell_type": "code",
      "metadata": {
        "id": "371b00fd",
        "outputId": "59b8d9cd-5e87-4d95-ce2c-ed09d8d1191f"
      },
      "source": [
        "\"\"\"\n",
        "Updates the set calling the intersection_update() method with the intersection of\n",
        "For below example Set A will be updated with the intersection of A & B.\n",
        "\"\"\"\n",
        "A.intersection_update(B)\n",
        "A"
      ],
      "id": "371b00fd",
      "execution_count": null,
      "outputs": [
        {
          "output_type": "execute_result",
          "data": {
            "text/plain": [
              "{4, 5}"
            ]
          },
          "metadata": {
            "tags": []
          },
          "execution_count": 369
        }
      ]
    },
    {
      "cell_type": "markdown",
      "metadata": {
        "id": "19b002bd"
      },
      "source": [
        "### Difference"
      ],
      "id": "19b002bd"
    },
    {
      "cell_type": "code",
      "metadata": {
        "id": "caa6b7c9"
      },
      "source": [
        "A = { 1 , 2 , 3 , 4 , 5 }\n",
        "B = { 4 , 5 , 6 , 7 , 8 }"
      ],
      "id": "caa6b7c9",
      "execution_count": null,
      "outputs": []
    },
    {
      "cell_type": "code",
      "metadata": {
        "id": "dd84f465",
        "outputId": "12d9aeb5-cfed-4125-a90c-be200005fcf3"
      },
      "source": [
        "A - B # set of elements that are only in A but not in B"
      ],
      "id": "dd84f465",
      "execution_count": null,
      "outputs": [
        {
          "output_type": "execute_result",
          "data": {
            "text/plain": [
              "{1, 2, 3}"
            ]
          },
          "metadata": {
            "tags": []
          },
          "execution_count": 373
        }
      ]
    },
    {
      "cell_type": "code",
      "metadata": {
        "id": "64246c2b",
        "outputId": "9107cee2-f44a-4630-8b29-d00326fc3050"
      },
      "source": [
        "A.difference(B) # Difference of sets"
      ],
      "id": "64246c2b",
      "execution_count": null,
      "outputs": [
        {
          "output_type": "execute_result",
          "data": {
            "text/plain": [
              "{1, 2, 3}"
            ]
          },
          "metadata": {
            "tags": []
          },
          "execution_count": 374
        }
      ]
    },
    {
      "cell_type": "code",
      "metadata": {
        "id": "c73e8629",
        "outputId": "3ca3591b-dcdd-48c0-b7a2-bd368db960f5"
      },
      "source": [
        "B - A # set of elements that are only in B but not in A"
      ],
      "id": "c73e8629",
      "execution_count": null,
      "outputs": [
        {
          "output_type": "execute_result",
          "data": {
            "text/plain": [
              "{6, 7, 8}"
            ]
          },
          "metadata": {
            "tags": []
          },
          "execution_count": 375
        }
      ]
    },
    {
      "cell_type": "code",
      "metadata": {
        "id": "ea86d9a4",
        "outputId": "377b09ea-fe57-4b0c-c358-dd3f60023401"
      },
      "source": [
        "B.difference(A)"
      ],
      "id": "ea86d9a4",
      "execution_count": null,
      "outputs": [
        {
          "output_type": "execute_result",
          "data": {
            "text/plain": [
              "{6, 7, 8}"
            ]
          },
          "metadata": {
            "tags": []
          },
          "execution_count": 376
        }
      ]
    },
    {
      "cell_type": "code",
      "metadata": {
        "id": "a537637f",
        "outputId": "3c8a27ea-6114-4001-b637-916892dfb244"
      },
      "source": [
        "\"\"\"\n",
        "Updates the set calling the difference_update() method with the difference of set\n",
        "For below example Set B will be updated with the difference of B & A.\n",
        "\"\"\"\n",
        "B.difference_update(A)\n",
        "B"
      ],
      "id": "a537637f",
      "execution_count": null,
      "outputs": [
        {
          "output_type": "execute_result",
          "data": {
            "text/plain": [
              "{6, 7, 8}"
            ]
          },
          "metadata": {
            "tags": []
          },
          "execution_count": 377
        }
      ]
    },
    {
      "cell_type": "code",
      "metadata": {
        "id": "8d6593da"
      },
      "source": [
        "# Symmetric Difference"
      ],
      "id": "8d6593da",
      "execution_count": null,
      "outputs": []
    },
    {
      "cell_type": "code",
      "metadata": {
        "id": "bf18e208"
      },
      "source": [
        "A = { 1 , 2 , 3 , 4 , 5 }\n",
        "B = { 4 , 5 , 6 , 7 , 8 }"
      ],
      "id": "bf18e208",
      "execution_count": null,
      "outputs": []
    },
    {
      "cell_type": "code",
      "metadata": {
        "id": "c47fe275",
        "outputId": "60a1728b-bfe1-465d-934e-19fdb9d6a43d"
      },
      "source": [
        "A ^ B # Symmetric difference (Set of elements in A and B but not in both. \"EXCLUDED THE COMMON FIELDS\""
      ],
      "id": "c47fe275",
      "execution_count": null,
      "outputs": [
        {
          "output_type": "execute_result",
          "data": {
            "text/plain": [
              "{1, 2, 3, 6, 7, 8}"
            ]
          },
          "metadata": {
            "tags": []
          },
          "execution_count": 380
        }
      ]
    },
    {
      "cell_type": "code",
      "metadata": {
        "id": "5ee6dbad",
        "outputId": "fbdda105-8348-4ea1-892e-544133f2ac14"
      },
      "source": [
        "A.symmetric_difference(B) # Symmetric difference of sets"
      ],
      "id": "5ee6dbad",
      "execution_count": null,
      "outputs": [
        {
          "output_type": "execute_result",
          "data": {
            "text/plain": [
              "{1, 2, 3, 6, 7, 8}"
            ]
          },
          "metadata": {
            "tags": []
          },
          "execution_count": 381
        }
      ]
    },
    {
      "cell_type": "code",
      "metadata": {
        "id": "21391a8b",
        "outputId": "e50a96f4-fe32-4508-8901-a8341181b3ba"
      },
      "source": [
        "\"\"\"\n",
        "Updates the set calling the symmetric_difference_update() method with the symmetr\n",
        "For below example Set A will be updated with the symmetric difference of A & B.\n",
        "\"\"\"\n",
        "A.symmetric_difference_update(B)\n",
        "A"
      ],
      "id": "21391a8b",
      "execution_count": null,
      "outputs": [
        {
          "output_type": "execute_result",
          "data": {
            "text/plain": [
              "{1, 2, 3, 6, 7, 8}"
            ]
          },
          "metadata": {
            "tags": []
          },
          "execution_count": 382
        }
      ]
    },
    {
      "cell_type": "markdown",
      "metadata": {
        "id": "74a8f49b"
      },
      "source": [
        "## Subset , Superset & Disjoint"
      ],
      "id": "74a8f49b"
    },
    {
      "cell_type": "code",
      "metadata": {
        "id": "9a4dbf0a"
      },
      "source": [
        "\n",
        "A = { 1 , 2 , 3 , 4 , 5 , 6 , 7 , 8 , 9 }\n",
        "B = { 3 , 4 , 5 , 6 , 7 , 8 }\n",
        "C = { 10 , 20 , 30 , 40 }"
      ],
      "id": "9a4dbf0a",
      "execution_count": null,
      "outputs": []
    },
    {
      "cell_type": "code",
      "metadata": {
        "id": "35ff9de1",
        "outputId": "e9743481-7f1b-4ddd-9f18-9ccbdb5f6e0a"
      },
      "source": [
        "B.issubset(A) # Set B is said to be the subset of set A if all elements of B are"
      ],
      "id": "35ff9de1",
      "execution_count": null,
      "outputs": [
        {
          "output_type": "execute_result",
          "data": {
            "text/plain": [
              "True"
            ]
          },
          "metadata": {
            "tags": []
          },
          "execution_count": 384
        }
      ]
    },
    {
      "cell_type": "code",
      "metadata": {
        "id": "17a6cc3d",
        "outputId": "91170dda-ba45-4dcd-88c7-657fc76cd7a1"
      },
      "source": [
        "A.issuperset(B) # Set A is said to be the superset of set B if all elements of B"
      ],
      "id": "17a6cc3d",
      "execution_count": null,
      "outputs": [
        {
          "output_type": "execute_result",
          "data": {
            "text/plain": [
              "True"
            ]
          },
          "metadata": {
            "tags": []
          },
          "execution_count": 385
        }
      ]
    },
    {
      "cell_type": "code",
      "metadata": {
        "id": "88217cc9",
        "outputId": "3290a0c0-db6f-4c7f-cf04-f81640a4933f"
      },
      "source": [
        "C.isdisjoint(A) # Two sets are said to be disjoint sets if they have no common elements of C"
      ],
      "id": "88217cc9",
      "execution_count": null,
      "outputs": [
        {
          "output_type": "execute_result",
          "data": {
            "text/plain": [
              "True"
            ]
          },
          "metadata": {
            "tags": []
          },
          "execution_count": 386
        }
      ]
    },
    {
      "cell_type": "code",
      "metadata": {
        "id": "8da5f277",
        "outputId": "72b4f7c9-7337-4621-a410-05bbbcdffc41"
      },
      "source": [
        "B.isdisjoint(A) # Two sets are said to be disjoint sets if they have no common elements"
      ],
      "id": "8da5f277",
      "execution_count": null,
      "outputs": [
        {
          "output_type": "execute_result",
          "data": {
            "text/plain": [
              "False"
            ]
          },
          "metadata": {
            "tags": []
          },
          "execution_count": 387
        }
      ]
    },
    {
      "cell_type": "markdown",
      "metadata": {
        "id": "d98fefe9"
      },
      "source": [
        "## Other Builtin functions"
      ],
      "id": "d98fefe9"
    },
    {
      "cell_type": "code",
      "metadata": {
        "id": "cab5de97",
        "outputId": "4552ec83-db62-4669-d9c6-ecdada5a1de3"
      },
      "source": [
        "A"
      ],
      "id": "cab5de97",
      "execution_count": null,
      "outputs": [
        {
          "output_type": "execute_result",
          "data": {
            "text/plain": [
              "{1, 2, 3, 4, 5, 6, 7, 8, 9}"
            ]
          },
          "metadata": {
            "tags": []
          },
          "execution_count": 388
        }
      ]
    },
    {
      "cell_type": "code",
      "metadata": {
        "id": "30276e61",
        "outputId": "416f8197-74e3-40e6-e3bb-201874350328"
      },
      "source": [
        "sum(A)"
      ],
      "id": "30276e61",
      "execution_count": null,
      "outputs": [
        {
          "output_type": "execute_result",
          "data": {
            "text/plain": [
              "45"
            ]
          },
          "metadata": {
            "tags": []
          },
          "execution_count": 389
        }
      ]
    },
    {
      "cell_type": "code",
      "metadata": {
        "id": "193c7d9c",
        "outputId": "19f3fc9c-8c08-493b-d67a-a58882cfff26"
      },
      "source": [
        "max(A)"
      ],
      "id": "193c7d9c",
      "execution_count": null,
      "outputs": [
        {
          "output_type": "execute_result",
          "data": {
            "text/plain": [
              "9"
            ]
          },
          "metadata": {
            "tags": []
          },
          "execution_count": 390
        }
      ]
    },
    {
      "cell_type": "code",
      "metadata": {
        "id": "8e99f796",
        "outputId": "cb84c05c-04ab-416a-a9b9-d67e6d443593"
      },
      "source": [
        "min(A)"
      ],
      "id": "8e99f796",
      "execution_count": null,
      "outputs": [
        {
          "output_type": "execute_result",
          "data": {
            "text/plain": [
              "1"
            ]
          },
          "metadata": {
            "tags": []
          },
          "execution_count": 391
        }
      ]
    },
    {
      "cell_type": "code",
      "metadata": {
        "id": "2a1e9ff5",
        "outputId": "c7b72f4d-9086-4f8d-a8ed-77b5ebe93012"
      },
      "source": [
        "len(A)"
      ],
      "id": "2a1e9ff5",
      "execution_count": null,
      "outputs": [
        {
          "output_type": "execute_result",
          "data": {
            "text/plain": [
              "9"
            ]
          },
          "metadata": {
            "tags": []
          },
          "execution_count": 392
        }
      ]
    },
    {
      "cell_type": "code",
      "metadata": {
        "id": "86cd1586",
        "outputId": "8768274b-055f-417f-e6f9-410721eecb1a"
      },
      "source": [
        "list(enumerate(A))"
      ],
      "id": "86cd1586",
      "execution_count": null,
      "outputs": [
        {
          "output_type": "execute_result",
          "data": {
            "text/plain": [
              "[(0, 1), (1, 2), (2, 3), (3, 4), (4, 5), (5, 6), (6, 7), (7, 8), (8, 9)]"
            ]
          },
          "metadata": {
            "tags": []
          },
          "execution_count": 393
        }
      ]
    },
    {
      "cell_type": "code",
      "metadata": {
        "id": "b0e63cf1",
        "outputId": "7ef08722-2709-40f3-d05b-08f69b33735e"
      },
      "source": [
        "D = sorted(A, reverse = True )\n",
        "D"
      ],
      "id": "b0e63cf1",
      "execution_count": null,
      "outputs": [
        {
          "output_type": "execute_result",
          "data": {
            "text/plain": [
              "[9, 8, 7, 6, 5, 4, 3, 2, 1]"
            ]
          },
          "metadata": {
            "tags": []
          },
          "execution_count": 394
        }
      ]
    },
    {
      "cell_type": "code",
      "metadata": {
        "id": "d365a5f6",
        "outputId": "90bc4835-d65b-4b58-9cd2-8c2c5b352eb2"
      },
      "source": [
        "sorted(D)"
      ],
      "id": "d365a5f6",
      "execution_count": null,
      "outputs": [
        {
          "output_type": "execute_result",
          "data": {
            "text/plain": [
              "[1, 2, 3, 4, 5, 6, 7, 8, 9]"
            ]
          },
          "metadata": {
            "tags": []
          },
          "execution_count": 395
        }
      ]
    },
    {
      "cell_type": "markdown",
      "metadata": {
        "id": "14315220"
      },
      "source": [
        "### Dictionary\n",
        "1. Dictionary is a mutable data type in Python.\n",
        "2. A python dictionary is a collection of key and value pairs separated by a colon (:) & enclosedin curly braces {}.\n",
        "3. Keys must be unique in a dictionary, duplicate values are allowed."
      ],
      "id": "14315220"
    },
    {
      "cell_type": "code",
      "metadata": {
        "id": "69b9a68b",
        "outputId": "e16e894f-8462-4826-a526-6317ce8df528"
      },
      "source": [
        "mydict = dict()\n",
        "mydict"
      ],
      "id": "69b9a68b",
      "execution_count": null,
      "outputs": [
        {
          "output_type": "execute_result",
          "data": {
            "text/plain": [
              "{}"
            ]
          },
          "metadata": {
            "tags": []
          },
          "execution_count": 397
        }
      ]
    },
    {
      "cell_type": "code",
      "metadata": {
        "id": "7bf5032d",
        "outputId": "b2c70cba-1174-4403-8400-829583479603"
      },
      "source": [
        "mydict = {}\n",
        "mydict"
      ],
      "id": "7bf5032d",
      "execution_count": null,
      "outputs": [
        {
          "output_type": "execute_result",
          "data": {
            "text/plain": [
              "{}"
            ]
          },
          "metadata": {
            "tags": []
          },
          "execution_count": 399
        }
      ]
    },
    {
      "cell_type": "code",
      "metadata": {
        "id": "7368abb2",
        "outputId": "38c64a8a-99b3-40ef-8433-6624be9d766a"
      },
      "source": [
        "mydict = { 1 : 'one' , 2 : 'two' , 3 : 'three' } # dictionary with integer keys \n",
        "mydict"
      ],
      "id": "7368abb2",
      "execution_count": null,
      "outputs": [
        {
          "output_type": "execute_result",
          "data": {
            "text/plain": [
              "{1: 'one', 2: 'two', 3: 'three'}"
            ]
          },
          "metadata": {
            "tags": []
          },
          "execution_count": 400
        }
      ]
    },
    {
      "cell_type": "code",
      "metadata": {
        "id": "5b56ee80",
        "outputId": "8120675d-50b7-4ce7-db3c-0cca719cd327"
      },
      "source": [
        "mydict = dict ({ 1 : 'one' , 2 : 'two' , 3 : 'three' }) # Create dictionary using dict()\n",
        "mydict"
      ],
      "id": "5b56ee80",
      "execution_count": null,
      "outputs": [
        {
          "output_type": "execute_result",
          "data": {
            "text/plain": [
              "{1: 'one', 2: 'two', 3: 'three'}"
            ]
          },
          "metadata": {
            "tags": []
          },
          "execution_count": 401
        }
      ]
    },
    {
      "cell_type": "code",
      "metadata": {
        "id": "d3dbda9c",
        "outputId": "09edeee4-7f9e-4788-9118-8d591d6a0d53"
      },
      "source": [
        "mydict = { 'A' : 'one' , 'B' : 'two' , 'C' : 'three' } # dictionary with character keys\n",
        "mydict"
      ],
      "id": "d3dbda9c",
      "execution_count": null,
      "outputs": [
        {
          "output_type": "execute_result",
          "data": {
            "text/plain": [
              "{'A': 'one', 'B': 'two', 'C': 'three'}"
            ]
          },
          "metadata": {
            "tags": []
          },
          "execution_count": 402
        }
      ]
    },
    {
      "cell_type": "code",
      "metadata": {
        "id": "5d337a6b",
        "outputId": "841f9440-f780-4e12-fda6-df14e826237e"
      },
      "source": [
        "mydict = { 1 : 'one' , 'A' : 'two' , 3 : 'three' } # dictionary with mixed keys\n",
        "mydict"
      ],
      "id": "5d337a6b",
      "execution_count": null,
      "outputs": [
        {
          "output_type": "execute_result",
          "data": {
            "text/plain": [
              "{1: 'one', 'A': 'two', 3: 'three'}"
            ]
          },
          "metadata": {
            "tags": []
          },
          "execution_count": 405
        }
      ]
    },
    {
      "cell_type": "code",
      "metadata": {
        "id": "3fc4325d",
        "outputId": "50075748-c7fd-4a26-e991-d70bf1e4f9fe"
      },
      "source": [
        "mydict.keys() # Return Dictionary Keys using keys() method"
      ],
      "id": "3fc4325d",
      "execution_count": null,
      "outputs": [
        {
          "output_type": "execute_result",
          "data": {
            "text/plain": [
              "dict_keys([1, 'A', 3])"
            ]
          },
          "metadata": {
            "tags": []
          },
          "execution_count": 406
        }
      ]
    },
    {
      "cell_type": "code",
      "metadata": {
        "id": "02c228cd",
        "outputId": "33b089a2-a285-4850-c53a-44dd63724be6"
      },
      "source": [
        "mydict.values() # Return Dictionary Values using values() method"
      ],
      "id": "02c228cd",
      "execution_count": null,
      "outputs": [
        {
          "output_type": "execute_result",
          "data": {
            "text/plain": [
              "dict_values(['one', 'two', 'three'])"
            ]
          },
          "metadata": {
            "tags": []
          },
          "execution_count": 407
        }
      ]
    },
    {
      "cell_type": "code",
      "metadata": {
        "id": "75e92866",
        "outputId": "3ad3a896-9ab1-4f63-ed52-add54a9f1d78"
      },
      "source": [
        "mydict.items()"
      ],
      "id": "75e92866",
      "execution_count": null,
      "outputs": [
        {
          "output_type": "execute_result",
          "data": {
            "text/plain": [
              "dict_items([(1, 'one'), ('A', 'two'), (3, 'three')])"
            ]
          },
          "metadata": {
            "tags": []
          },
          "execution_count": 409
        }
      ]
    },
    {
      "cell_type": "code",
      "metadata": {
        "id": "77abb704",
        "outputId": "c4bb3323-7f19-4e78-90ed-0dcac3dc232c"
      },
      "source": [
        "mydict = { 1 : 'one' , 2 : 'two' , 'A' :[ 'asif' , 'john' , 'Maria' ]} # dictionary with \n",
        "mydict"
      ],
      "id": "77abb704",
      "execution_count": null,
      "outputs": [
        {
          "output_type": "execute_result",
          "data": {
            "text/plain": [
              "{1: 'one', 2: 'two', 'A': ['asif', 'john', 'Maria']}"
            ]
          },
          "metadata": {
            "tags": []
          },
          "execution_count": 410
        }
      ]
    },
    {
      "cell_type": "code",
      "metadata": {
        "id": "42903176",
        "outputId": "cddc232f-609d-442a-f68e-7c0eac7ac4a0"
      },
      "source": [
        "mydict = { 1 : 'one' , 2 : 'two' , 'A' :[ 'asif' , 'john' , 'Maria' ], 'B':( 'Bat' , 'cat', 'hat')}\n",
        "mydict"
      ],
      "id": "42903176",
      "execution_count": null,
      "outputs": [
        {
          "output_type": "execute_result",
          "data": {
            "text/plain": [
              "{1: 'one',\n",
              " 2: 'two',\n",
              " 'A': ['asif', 'john', 'Maria'],\n",
              " 'B': ('Bat', 'cat', 'hat')}"
            ]
          },
          "metadata": {
            "tags": []
          },
          "execution_count": 414
        }
      ]
    },
    {
      "cell_type": "code",
      "metadata": {
        "id": "eeeffed7",
        "outputId": "6f30fe22-fe8b-4edf-8dd0-8999181b96f1"
      },
      "source": [
        "keys = { 'a' , 'b' , 'c' , 'd' }\n",
        "mydict3 = dict.fromkeys(keys) # Create a dictionary from a sequence of keys\n",
        "mydict3"
      ],
      "id": "eeeffed7",
      "execution_count": null,
      "outputs": [
        {
          "output_type": "execute_result",
          "data": {
            "text/plain": [
              "{'b': None, 'a': None, 'd': None, 'c': None}"
            ]
          },
          "metadata": {
            "tags": []
          },
          "execution_count": 415
        }
      ]
    },
    {
      "cell_type": "code",
      "metadata": {
        "id": "0cb96da5",
        "outputId": "8e480e33-f235-4989-ff43-ae3378875270"
      },
      "source": [
        "keys = { 'a' , 'b' , 'c' , 'd' }\n",
        "value = 10\n",
        "mydict3 = dict.fromkeys(keys , value ) # Create a dictionary from a sequence of k \n",
        "mydict3"
      ],
      "id": "0cb96da5",
      "execution_count": null,
      "outputs": [
        {
          "output_type": "execute_result",
          "data": {
            "text/plain": [
              "{'b': 10, 'a': 10, 'd': 10, 'c': 10}"
            ]
          },
          "metadata": {
            "tags": []
          },
          "execution_count": 417
        }
      ]
    },
    {
      "cell_type": "code",
      "metadata": {
        "id": "1c6ac17e",
        "outputId": "36abbbec-3a6f-4163-e403-4e73a6300c8f"
      },
      "source": [
        "keys = { 'a' , 'b' , 'c' , 'd' }\n",
        "value = [ 10 , 20 , 30 ] \n",
        "mydict3 = dict.fromkeys(keys,value ) # Create a dictionary from a sequence of k\n",
        "mydict3"
      ],
      "id": "1c6ac17e",
      "execution_count": null,
      "outputs": [
        {
          "output_type": "execute_result",
          "data": {
            "text/plain": [
              "{'b': [10, 20, 30], 'a': [10, 20, 30], 'd': [10, 20, 30], 'c': [10, 20, 30]}"
            ]
          },
          "metadata": {
            "tags": []
          },
          "execution_count": 418
        }
      ]
    },
    {
      "cell_type": "code",
      "metadata": {
        "id": "3e1766e8",
        "outputId": "8c1fb31c-65a3-45b5-ac05-e6a1710df96d"
      },
      "source": [
        "value.append(40)\n",
        "mydict3"
      ],
      "id": "3e1766e8",
      "execution_count": null,
      "outputs": [
        {
          "output_type": "execute_result",
          "data": {
            "text/plain": [
              "{'b': [10, 20, 30, 40],\n",
              " 'a': [10, 20, 30, 40],\n",
              " 'd': [10, 20, 30, 40],\n",
              " 'c': [10, 20, 30, 40]}"
            ]
          },
          "metadata": {
            "tags": []
          },
          "execution_count": 419
        }
      ]
    },
    {
      "cell_type": "markdown",
      "metadata": {
        "id": "00f50b29"
      },
      "source": [
        "### Accessing Items"
      ],
      "id": "00f50b29"
    },
    {
      "cell_type": "code",
      "metadata": {
        "id": "40434942",
        "outputId": "123007ed-3de4-486a-93f2-e62e651c46db"
      },
      "source": [
        "mydict = { 1 : 'one' , 2 : 'two' , 3 : 'three' , 4 : 'four' }\n",
        "mydict"
      ],
      "id": "40434942",
      "execution_count": null,
      "outputs": [
        {
          "output_type": "execute_result",
          "data": {
            "text/plain": [
              "{1: 'one', 2: 'two', 3: 'three', 4: 'four'}"
            ]
          },
          "metadata": {
            "tags": []
          },
          "execution_count": 420
        }
      ]
    },
    {
      "cell_type": "code",
      "metadata": {
        "id": "0497a9c1",
        "outputId": "06598899-e3dc-4a36-89fb-4dc36fd4f056"
      },
      "source": [
        "mydict[1] # Access item using key"
      ],
      "id": "0497a9c1",
      "execution_count": null,
      "outputs": [
        {
          "output_type": "execute_result",
          "data": {
            "text/plain": [
              "'one'"
            ]
          },
          "metadata": {
            "tags": []
          },
          "execution_count": 421
        }
      ]
    },
    {
      "cell_type": "code",
      "metadata": {
        "id": "d291a9b7",
        "outputId": "54772474-0ec9-4508-da38-36e7cb7bc1a0"
      },
      "source": [
        "mydict.get(1) # Access item using get() method"
      ],
      "id": "d291a9b7",
      "execution_count": null,
      "outputs": [
        {
          "output_type": "execute_result",
          "data": {
            "text/plain": [
              "'one'"
            ]
          },
          "metadata": {
            "tags": []
          },
          "execution_count": 422
        }
      ]
    },
    {
      "cell_type": "code",
      "metadata": {
        "id": "3359a6b8",
        "outputId": "e7fc11e8-d6a0-4c65-a699-e2761604edaa"
      },
      "source": [
        "mydict1 = {'Name' : 'Asif', 'ID' : 74123, 'DOB' : 1991, 'job' : 'Analyst' }\n",
        "mydict1"
      ],
      "id": "3359a6b8",
      "execution_count": null,
      "outputs": [
        {
          "output_type": "execute_result",
          "data": {
            "text/plain": [
              "{'Name': 'Asif', 'ID': 74123, 'DOB': 1991, 'job': 'Analyst'}"
            ]
          },
          "metadata": {
            "tags": []
          },
          "execution_count": 423
        }
      ]
    },
    {
      "cell_type": "code",
      "metadata": {
        "id": "a88763b6",
        "outputId": "c7f2f996-1505-487a-aec5-a955456ee212"
      },
      "source": [
        "mydict1['Name'] # Access item using key"
      ],
      "id": "a88763b6",
      "execution_count": null,
      "outputs": [
        {
          "output_type": "execute_result",
          "data": {
            "text/plain": [
              "'Asif'"
            ]
          },
          "metadata": {
            "tags": []
          },
          "execution_count": 424
        }
      ]
    },
    {
      "cell_type": "code",
      "metadata": {
        "id": "15053c50",
        "outputId": "6609f208-b58f-4bf8-e021-484310ad74ac"
      },
      "source": [
        "mydict1.get('job') # Access item using get() method"
      ],
      "id": "15053c50",
      "execution_count": null,
      "outputs": [
        {
          "output_type": "execute_result",
          "data": {
            "text/plain": [
              "'Analyst'"
            ]
          },
          "metadata": {
            "tags": []
          },
          "execution_count": 425
        }
      ]
    },
    {
      "cell_type": "markdown",
      "metadata": {
        "id": "f9e33861"
      },
      "source": [
        "## Add, Remove & Change Items"
      ],
      "id": "f9e33861"
    },
    {
      "cell_type": "code",
      "metadata": {
        "id": "17dc0c1e",
        "outputId": "43289649-7f8b-44a9-fe97-1e808634b70d"
      },
      "source": [
        "mydict1 = {'Name':'Asif', 'ID':12345, 'DOB' : 1991 , 'Address' : 'Hilsinki' }\n",
        "mydict1"
      ],
      "id": "17dc0c1e",
      "execution_count": null,
      "outputs": [
        {
          "output_type": "execute_result",
          "data": {
            "text/plain": [
              "{'Name': 'Asif', 'ID': 12345, 'DOB': 1991, 'Address': 'Hilsinki'}"
            ]
          },
          "metadata": {
            "tags": []
          },
          "execution_count": 427
        }
      ]
    },
    {
      "cell_type": "code",
      "metadata": {
        "id": "6f0be068",
        "outputId": "a23c627d-dfb2-44b6-da16-e02f405169a2"
      },
      "source": [
        "mydict1['DOB'] = 1992 # Changing Dictionary Items mydict1 [ 'Address' ] = 'Delhi'\n",
        "mydict1"
      ],
      "id": "6f0be068",
      "execution_count": null,
      "outputs": [
        {
          "output_type": "execute_result",
          "data": {
            "text/plain": [
              "{'Name': 'Asif', 'ID': 12345, 'DOB': 1992, 'Address': 'Hilsinki'}"
            ]
          },
          "metadata": {
            "tags": []
          },
          "execution_count": 428
        }
      ]
    },
    {
      "cell_type": "code",
      "metadata": {
        "id": "860ef09f",
        "outputId": "65f3e313-a5ce-4db9-8314-1d873ad010eb"
      },
      "source": [
        "dict1 = {'DOB' : 1995}\n",
        "mydict1.update(dict1)\n",
        "mydict1"
      ],
      "id": "860ef09f",
      "execution_count": null,
      "outputs": [
        {
          "output_type": "execute_result",
          "data": {
            "text/plain": [
              "{'Name': 'Asif', 'ID': 12345, 'DOB': 1995, 'Address': 'Hilsinki'}"
            ]
          },
          "metadata": {
            "tags": []
          },
          "execution_count": 430
        }
      ]
    },
    {
      "cell_type": "code",
      "metadata": {
        "id": "82c526e8",
        "outputId": "c4583780-9f1b-4190-e42c-dec596f8ace7"
      },
      "source": [
        "mydict1['Job'] = 'Analyst' # Adding items in the dictionary \n",
        "mydict1"
      ],
      "id": "82c526e8",
      "execution_count": null,
      "outputs": [
        {
          "output_type": "execute_result",
          "data": {
            "text/plain": [
              "{'Name': 'Asif',\n",
              " 'ID': 12345,\n",
              " 'DOB': 1995,\n",
              " 'Address': 'Hilsinki',\n",
              " 'Job': 'Analyst'}"
            ]
          },
          "metadata": {
            "tags": []
          },
          "execution_count": 431
        }
      ]
    },
    {
      "cell_type": "code",
      "metadata": {
        "id": "eea87aeb",
        "outputId": "c6799689-b153-49f2-8784-6717aa944895"
      },
      "source": [
        "mydict1.pop('Job') # Removing items in the dictionary using Pop method\n",
        "mydict1"
      ],
      "id": "eea87aeb",
      "execution_count": null,
      "outputs": [
        {
          "output_type": "execute_result",
          "data": {
            "text/plain": [
              "{'Name': 'Asif', 'ID': 12345, 'DOB': 1995, 'Address': 'Hilsinki'}"
            ]
          },
          "metadata": {
            "tags": []
          },
          "execution_count": 432
        }
      ]
    },
    {
      "cell_type": "code",
      "metadata": {
        "id": "356c45fd",
        "outputId": "1c7366e4-d553-4b0d-d6cd-561ba00426fd"
      },
      "source": [
        "mydict1.popitem() # A random item is removed\n",
        "mydict1"
      ],
      "id": "356c45fd",
      "execution_count": null,
      "outputs": [
        {
          "output_type": "execute_result",
          "data": {
            "text/plain": [
              "{'Name': 'Asif', 'ID': 12345}"
            ]
          },
          "metadata": {
            "tags": []
          },
          "execution_count": 434
        }
      ]
    },
    {
      "cell_type": "code",
      "metadata": {
        "id": "075a86fb",
        "outputId": "b0f5d632-dcf0-461d-e875-9165edd8c13c"
      },
      "source": [
        "del [mydict1['ID']] # Removing item using del method\n",
        "mydict1"
      ],
      "id": "075a86fb",
      "execution_count": null,
      "outputs": [
        {
          "output_type": "execute_result",
          "data": {
            "text/plain": [
              "{'Name': 'Asif'}"
            ]
          },
          "metadata": {
            "tags": []
          },
          "execution_count": 435
        }
      ]
    },
    {
      "cell_type": "code",
      "metadata": {
        "id": "898c46e7",
        "outputId": "535693af-c84b-4f5f-921f-f6fe99f2c7dc"
      },
      "source": [
        "del mydict1 # Delete the dictionary object\n",
        "mydict1"
      ],
      "id": "898c46e7",
      "execution_count": null,
      "outputs": [
        {
          "output_type": "error",
          "ename": "NameError",
          "evalue": "name 'mydict1' is not defined",
          "traceback": [
            "\u001b[1;31m---------------------------------------------------------------------------\u001b[0m",
            "\u001b[1;31mNameError\u001b[0m                                 Traceback (most recent call last)",
            "\u001b[1;32m<ipython-input-436-da2fba4eca0f>\u001b[0m in \u001b[0;36m<module>\u001b[1;34m\u001b[0m\n\u001b[0;32m      1\u001b[0m \u001b[1;32mdel\u001b[0m \u001b[0mmydict1\u001b[0m \u001b[1;31m# Delete the dictionary object\u001b[0m\u001b[1;33m\u001b[0m\u001b[1;33m\u001b[0m\u001b[0m\n\u001b[1;32m----> 2\u001b[1;33m \u001b[0mmydict1\u001b[0m\u001b[1;33m\u001b[0m\u001b[1;33m\u001b[0m\u001b[0m\n\u001b[0m",
            "\u001b[1;31mNameError\u001b[0m: name 'mydict1' is not defined"
          ]
        }
      ]
    },
    {
      "cell_type": "code",
      "metadata": {
        "id": "9e5a92de",
        "outputId": "46fae898-b83d-4a6e-f373-c21fdeb9478c"
      },
      "source": [
        "mydict = { 'Name' : 'Asif' , 'ID' : 12345 , 'DOB' : 1991 , 'Address' : 'Hilsinki' }\n",
        "mydict"
      ],
      "id": "9e5a92de",
      "execution_count": null,
      "outputs": [
        {
          "output_type": "execute_result",
          "data": {
            "text/plain": [
              "{'Name': 'Asif', 'ID': 12345, 'DOB': 1991, 'Address': 'Hilsinki'}"
            ]
          },
          "metadata": {
            "tags": []
          },
          "execution_count": 437
        }
      ]
    },
    {
      "cell_type": "code",
      "metadata": {
        "id": "c8d8e0f7"
      },
      "source": [
        "mydict1 = mydict # Create a new reference \"mydict1\""
      ],
      "id": "c8d8e0f7",
      "execution_count": null,
      "outputs": []
    },
    {
      "cell_type": "code",
      "metadata": {
        "id": "b7d81e2c",
        "outputId": "6cc2ca5b-490e-49df-f981-b7ff9e603aa5"
      },
      "source": [
        "id(mydict), id(mydict1) # The address of both mydict & mydict1 will be the same"
      ],
      "id": "b7d81e2c",
      "execution_count": null,
      "outputs": [
        {
          "output_type": "execute_result",
          "data": {
            "text/plain": [
              "(2049680780408, 2049680780408)"
            ]
          },
          "metadata": {
            "tags": []
          },
          "execution_count": 439
        }
      ]
    },
    {
      "cell_type": "code",
      "metadata": {
        "id": "5462dfc0"
      },
      "source": [
        "mydict2 = mydict.copy()# Create a copy of the dictionar "
      ],
      "id": "5462dfc0",
      "execution_count": null,
      "outputs": []
    },
    {
      "cell_type": "code",
      "metadata": {
        "id": "cd443679",
        "outputId": "195f5787-62c3-4a45-e5e4-4a75874f0a6f"
      },
      "source": [
        "id(mydict2) # The address of mydict2 will be different from mydict because mydict"
      ],
      "id": "cd443679",
      "execution_count": null,
      "outputs": [
        {
          "output_type": "execute_result",
          "data": {
            "text/plain": [
              "2049681006664"
            ]
          },
          "metadata": {
            "tags": []
          },
          "execution_count": 441
        }
      ]
    },
    {
      "cell_type": "code",
      "metadata": {
        "id": "606966b7",
        "outputId": "cc85da94-4c59-4490-b02f-37a1da70f03d"
      },
      "source": [
        "mydict['Address'] = 'Mumbai'\n",
        "mydict"
      ],
      "id": "606966b7",
      "execution_count": null,
      "outputs": [
        {
          "output_type": "execute_result",
          "data": {
            "text/plain": [
              "{'Name': 'Asif', 'ID': 12345, 'DOB': 1991, 'Address': 'Mumbai'}"
            ]
          },
          "metadata": {
            "tags": []
          },
          "execution_count": 444
        }
      ]
    },
    {
      "cell_type": "markdown",
      "metadata": {
        "id": "e6018894"
      },
      "source": [
        "### Loop through a Dictionary\n"
      ],
      "id": "e6018894"
    },
    {
      "cell_type": "code",
      "metadata": {
        "id": "ebb19a8d",
        "outputId": "ab4ea055-e3de-4738-eafa-184d374f73a5"
      },
      "source": [
        "mydict1 = { 'Name' : 'Asif' , 'ID' : 12345 , 'DOB' : 1991 , 'Address' : 'Hilsinki' , 'Job': 'Analyst'}\n",
        "mydict1"
      ],
      "id": "ebb19a8d",
      "execution_count": null,
      "outputs": [
        {
          "output_type": "execute_result",
          "data": {
            "text/plain": [
              "{'Name': 'Asif',\n",
              " 'ID': 12345,\n",
              " 'DOB': 1991,\n",
              " 'Address': 'Hilsinki',\n",
              " 'Job': 'Analyst'}"
            ]
          },
          "metadata": {
            "tags": []
          },
          "execution_count": 446
        }
      ]
    },
    {
      "cell_type": "code",
      "metadata": {
        "id": "1d4c4517",
        "outputId": "e89315fb-52c2-48cd-c062-0bc51576b7f3"
      },
      "source": [
        "for i in mydict1:\n",
        "    print(i, ':', mydict1 [ i ]) # Key & value pair"
      ],
      "id": "1d4c4517",
      "execution_count": null,
      "outputs": [
        {
          "output_type": "stream",
          "text": [
            "Name : Asif\n",
            "ID : 12345\n",
            "DOB : 1991\n",
            "Address : Hilsinki\n",
            "Job : Analyst\n"
          ],
          "name": "stdout"
        }
      ]
    },
    {
      "cell_type": "code",
      "metadata": {
        "id": "ecb223e0",
        "outputId": "267b31a1-b1bf-4ffd-cc9f-304cb05dea5a"
      },
      "source": [
        "for i in mydict1:\n",
        "    print(mydict1[i]) # Dictionary items"
      ],
      "id": "ecb223e0",
      "execution_count": null,
      "outputs": [
        {
          "output_type": "stream",
          "text": [
            "Asif\n",
            "12345\n",
            "1991\n",
            "Hilsinki\n",
            "Analyst\n"
          ],
          "name": "stdout"
        }
      ]
    },
    {
      "cell_type": "code",
      "metadata": {
        "id": "861d73cf",
        "outputId": "5ceef1b6-9766-4a16-a7db-0b314298a03a"
      },
      "source": [
        "mydict1={'Name':'Asif',\n",
        "         'ID' : 12345,\n",
        "         'DOB':1991,\n",
        "         'Job':'Analyst'}\n",
        "mydict1"
      ],
      "id": "861d73cf",
      "execution_count": null,
      "outputs": [
        {
          "output_type": "execute_result",
          "data": {
            "text/plain": [
              "{'Name': 'Asif', 'ID': 12345, 'DOB': 1991, 'Job': 'Analyst'}"
            ]
          },
          "metadata": {
            "tags": []
          },
          "execution_count": 450
        }
      ]
    },
    {
      "cell_type": "markdown",
      "metadata": {
        "id": "f50e7014"
      },
      "source": [
        "### Dictionary Membership"
      ],
      "id": "f50e7014"
    },
    {
      "cell_type": "code",
      "metadata": {
        "id": "e773261c",
        "outputId": "394b589d-e4c4-4e47-b87b-e7cf244cc607"
      },
      "source": [
        "'Name' in mydict1 # Test if a key is in a dictionary or not."
      ],
      "id": "e773261c",
      "execution_count": null,
      "outputs": [
        {
          "output_type": "execute_result",
          "data": {
            "text/plain": [
              "True"
            ]
          },
          "metadata": {
            "tags": []
          },
          "execution_count": 454
        }
      ]
    },
    {
      "cell_type": "code",
      "metadata": {
        "id": "a71edbd1",
        "outputId": "db47cecd-784c-4125-9356-f9a724be3fff"
      },
      "source": [
        "'Asif' in mydict1 # Membership test can be only done for keys."
      ],
      "id": "a71edbd1",
      "execution_count": null,
      "outputs": [
        {
          "output_type": "execute_result",
          "data": {
            "text/plain": [
              "False"
            ]
          },
          "metadata": {
            "tags": []
          },
          "execution_count": 455
        }
      ]
    },
    {
      "cell_type": "code",
      "metadata": {
        "id": "04895501",
        "outputId": "def3dc89-e7e7-4335-ea08-a30ae36bbaee"
      },
      "source": [
        "'ID' in mydict1"
      ],
      "id": "04895501",
      "execution_count": null,
      "outputs": [
        {
          "output_type": "execute_result",
          "data": {
            "text/plain": [
              "True"
            ]
          },
          "metadata": {
            "tags": []
          },
          "execution_count": 456
        }
      ]
    },
    {
      "cell_type": "markdown",
      "metadata": {
        "id": "6a7fc138"
      },
      "source": [
        "### Dictionary Comprehension"
      ],
      "id": "6a7fc138"
    },
    {
      "cell_type": "code",
      "metadata": {
        "id": "8c38a961",
        "outputId": "7c7e6427-eb69-4294-9c10-b9ce3873f08c"
      },
      "source": [
        "double = { i : i * 2 for i in range ( 10 )} #double each value using dict comprehension double\n",
        "double"
      ],
      "id": "8c38a961",
      "execution_count": null,
      "outputs": [
        {
          "output_type": "execute_result",
          "data": {
            "text/plain": [
              "{0: 0, 1: 2, 2: 4, 3: 6, 4: 8, 5: 10, 6: 12, 7: 14, 8: 16, 9: 18}"
            ]
          },
          "metadata": {
            "tags": []
          },
          "execution_count": 460
        }
      ]
    },
    {
      "cell_type": "code",
      "metadata": {
        "id": "4c9b6623",
        "outputId": "c33715b8-4b88-407c-9b52-d822a8f3feb7"
      },
      "source": [
        "square = { i : i ** 2 for i in range ( 10 )}\n",
        "square"
      ],
      "id": "4c9b6623",
      "execution_count": null,
      "outputs": [
        {
          "output_type": "execute_result",
          "data": {
            "text/plain": [
              "{0: 0, 1: 1, 2: 4, 3: 9, 4: 16, 5: 25, 6: 36, 7: 49, 8: 64, 9: 81}"
            ]
          },
          "metadata": {
            "tags": []
          },
          "execution_count": 462
        }
      ]
    },
    {
      "cell_type": "code",
      "metadata": {
        "id": "63f8edcc",
        "outputId": "9d4e344d-83c7-4c5b-ca7e-1cd5fa561ff3"
      },
      "source": [
        "mydict1 = { 'a' : 10 , 'b' : 20 , 'c' : 30 , 'd' : 40 , 'e' : 50 }\n",
        "mydict1 = { k : v / 10 for ( k , v ) in mydict1.items ()} # Divide all values in a dictiona\n",
        "mydict1"
      ],
      "id": "63f8edcc",
      "execution_count": null,
      "outputs": [
        {
          "output_type": "execute_result",
          "data": {
            "text/plain": [
              "{'a': 1.0, 'b': 2.0, 'c': 3.0, 'd': 4.0, 'e': 5.0}"
            ]
          },
          "metadata": {
            "tags": []
          },
          "execution_count": 463
        }
      ]
    },
    {
      "cell_type": "code",
      "metadata": {
        "id": "95690242",
        "outputId": "8f44ea66-f130-494d-91a9-4093ebeb330b"
      },
      "source": [
        "str1 = \"Natural Language Processing\"\n",
        "mydict2 = { k : v for ( k , v ) in enumerate ( str1 )} # Store enumerated values in a dicti \n",
        "mydict2"
      ],
      "id": "95690242",
      "execution_count": null,
      "outputs": [
        {
          "output_type": "execute_result",
          "data": {
            "text/plain": [
              "{0: 'N',\n",
              " 1: 'a',\n",
              " 2: 't',\n",
              " 3: 'u',\n",
              " 4: 'r',\n",
              " 5: 'a',\n",
              " 6: 'l',\n",
              " 7: ' ',\n",
              " 8: 'L',\n",
              " 9: 'a',\n",
              " 10: 'n',\n",
              " 11: 'g',\n",
              " 12: 'u',\n",
              " 13: 'a',\n",
              " 14: 'g',\n",
              " 15: 'e',\n",
              " 16: ' ',\n",
              " 17: 'P',\n",
              " 18: 'r',\n",
              " 19: 'o',\n",
              " 20: 'c',\n",
              " 21: 'e',\n",
              " 22: 's',\n",
              " 23: 's',\n",
              " 24: 'i',\n",
              " 25: 'n',\n",
              " 26: 'g'}"
            ]
          },
          "metadata": {
            "tags": []
          },
          "execution_count": 464
        }
      ]
    },
    {
      "cell_type": "code",
      "metadata": {
        "id": "14d8a449",
        "outputId": "db943f33-ffbd-4e43-e0fb-5ee6863b782f"
      },
      "source": [
        "str1 = \"abcdefghijklmnopqrstuvwxyz\"\n",
        "mydict3 = { i : i.upper() for i in str1 } # Lower to Upper Case\n",
        "mydict3"
      ],
      "id": "14d8a449",
      "execution_count": null,
      "outputs": [
        {
          "output_type": "execute_result",
          "data": {
            "text/plain": [
              "{'a': 'A',\n",
              " 'b': 'B',\n",
              " 'c': 'C',\n",
              " 'd': 'D',\n",
              " 'e': 'E',\n",
              " 'f': 'F',\n",
              " 'g': 'G',\n",
              " 'h': 'H',\n",
              " 'i': 'I',\n",
              " 'j': 'J',\n",
              " 'k': 'K',\n",
              " 'l': 'L',\n",
              " 'm': 'M',\n",
              " 'n': 'N',\n",
              " 'o': 'O',\n",
              " 'p': 'P',\n",
              " 'q': 'Q',\n",
              " 'r': 'R',\n",
              " 's': 'S',\n",
              " 't': 'T',\n",
              " 'u': 'U',\n",
              " 'v': 'V',\n",
              " 'w': 'W',\n",
              " 'x': 'X',\n",
              " 'y': 'Y',\n",
              " 'z': 'Z'}"
            ]
          },
          "metadata": {
            "tags": []
          },
          "execution_count": 465
        }
      ]
    },
    {
      "cell_type": "code",
      "metadata": {
        "id": "41dc0b7a"
      },
      "source": [
        "### Word Frequency using dictionary"
      ],
      "id": "41dc0b7a",
      "execution_count": null,
      "outputs": []
    },
    {
      "cell_type": "code",
      "metadata": {
        "id": "6a6bdcf5",
        "outputId": "39b5b13d-a33a-4a4b-b5de-362fba9a51dd"
      },
      "source": [
        "mystr4 = \"one two three four one two two three five five six seven six seven one one one ten eight ten nine eleven ten ten nine\"\n",
        "mylist = mystr4.split() # Split String into substrings\n",
        "mylist"
      ],
      "id": "6a6bdcf5",
      "execution_count": null,
      "outputs": [
        {
          "output_type": "execute_result",
          "data": {
            "text/plain": [
              "['one',\n",
              " 'two',\n",
              " 'three',\n",
              " 'four',\n",
              " 'one',\n",
              " 'two',\n",
              " 'two',\n",
              " 'three',\n",
              " 'five',\n",
              " 'five',\n",
              " 'six',\n",
              " 'seven',\n",
              " 'six',\n",
              " 'seven',\n",
              " 'one',\n",
              " 'one',\n",
              " 'one',\n",
              " 'ten',\n",
              " 'eight',\n",
              " 'ten',\n",
              " 'nine',\n",
              " 'eleven',\n",
              " 'ten',\n",
              " 'ten',\n",
              " 'nine']"
            ]
          },
          "metadata": {
            "tags": []
          },
          "execution_count": 469
        }
      ]
    },
    {
      "cell_type": "code",
      "metadata": {
        "id": "a854a33e",
        "outputId": "36f569b1-3a9b-4bfe-e48d-2b6ca372703f"
      },
      "source": [
        "mylist1 = set(mylist) # Unique values in a list\n",
        "mylist1 = list(mylist1)\n",
        "mylist1"
      ],
      "id": "a854a33e",
      "execution_count": null,
      "outputs": [
        {
          "output_type": "execute_result",
          "data": {
            "text/plain": [
              "['eleven',\n",
              " 'five',\n",
              " 'four',\n",
              " 'nine',\n",
              " 'eight',\n",
              " 'six',\n",
              " 'seven',\n",
              " 'two',\n",
              " 'three',\n",
              " 'ten',\n",
              " 'one']"
            ]
          },
          "metadata": {
            "tags": []
          },
          "execution_count": 470
        }
      ]
    },
    {
      "cell_type": "markdown",
      "metadata": {
        "id": "b05cdebf"
      },
      "source": [
        "### Calculate frequenct of each word"
      ],
      "id": "b05cdebf"
    },
    {
      "cell_type": "code",
      "metadata": {
        "id": "43cfe0d9",
        "outputId": "70e0a9fe-67f3-4666-aba2-c488b745aa31"
      },
      "source": [
        "count1 = [ 0 ] * len(mylist1)\n",
        "mydict5 = dict() \n",
        "\n",
        "for i in range(len(mylist1)): \n",
        "    for j in range (len(mylist)): \n",
        "        if mylist1[i] == mylist [j]:\n",
        "            count1[i] += 1\n",
        "            mydict5[mylist1[i]] = count1[i]\n",
        "print ( mydict5 )"
      ],
      "id": "43cfe0d9",
      "execution_count": null,
      "outputs": [
        {
          "output_type": "stream",
          "text": [
            "{'eleven': 1, 'five': 2, 'four': 1, 'nine': 2, 'eight': 1, 'six': 2, 'seven': 2, 'two': 3, 'three': 2, 'ten': 4, 'one': 5}\n"
          ],
          "name": "stdout"
        }
      ]
    },
    {
      "cell_type": "markdown",
      "metadata": {
        "id": "73effdc4"
      },
      "source": [
        "# Functions\n",
        "1. A function is a block of organized code written to carry out a specified task. \n",
        "2. Functions help break our program into smaller and modular chunks for better readability.\n",
        "3. Information can be passed into a function as arguments.\n",
        "4. Parameters are specified after the function name inside the parentheses.\n",
        "5. We can add as many parameters as we want. Parameters must be separated with a comma.\n",
        "6. A function may or may not return data.\n",
        "7. In Python a function is defined using the def keyword\n",
        "\n",
        "### Parameter VS Argument\n",
        "1. A parameter is the variable listed inside the parentheses in the function definition.\n",
        "2. An argument is the value that is sent to the function when it is called.\n",
        "\n",
        "#### Three types of functions in Python:-\n",
        "##### Built-in function :-\n",
        "- Python predefined functions that are readily available for use like min() ,max() , sum() , print() etc.\n",
        "##### User-Defined Functions:-\n",
        "- Function that we define ourselves to perform a specific task.\n",
        "##### Anonymous functions : \n",
        "- Function that is defined without a name. Anonymous functions arealso called as lambda functions. They are not declared with the def keyword.\n",
        "\n"
      ],
      "id": "73effdc4"
    },
    {
      "cell_type": "code",
      "metadata": {
        "id": "7718be2c",
        "outputId": "a75b18bc-f2cb-46f4-96f1-9b48eaefb04b"
      },
      "source": [
        "def myfunc():\n",
        "    print(\"Hello Python Lovers\")\n",
        "myfunc()"
      ],
      "id": "7718be2c",
      "execution_count": null,
      "outputs": [
        {
          "output_type": "stream",
          "text": [
            "Hello Python Lovers\n"
          ],
          "name": "stdout"
        }
      ]
    },
    {
      "cell_type": "code",
      "metadata": {
        "id": "46f178bc",
        "outputId": "c9fd59b5-d006-45be-f6f5-3716290c9076"
      },
      "source": [
        "def details (name , userid , country ): # Function to print User details\n",
        "    print ('Name :- ' , name ) \n",
        "    print ('User ID is :- ' , userid )\n",
        "    print ('Country :- ' , country ) \n",
        "details ( 'Asif' , 'asif123' , 'India' )"
      ],
      "id": "46f178bc",
      "execution_count": null,
      "outputs": [
        {
          "output_type": "stream",
          "text": [
            "Name :-  Asif\n",
            "User ID is :-  asif123\n",
            "Country :-  India\n"
          ],
          "name": "stdout"
        }
      ]
    },
    {
      "cell_type": "code",
      "metadata": {
        "id": "018912b6",
        "outputId": "5b9654fb-8cdd-4946-aa09-bd92a625f99b"
      },
      "source": [
        "def square ( n ): #function to find square of a number \n",
        "    n = n * n \n",
        "    return n \n",
        "square ( 10 )"
      ],
      "id": "018912b6",
      "execution_count": null,
      "outputs": [
        {
          "output_type": "execute_result",
          "data": {
            "text/plain": [
              "100"
            ]
          },
          "metadata": {
            "tags": []
          },
          "execution_count": 476
        }
      ]
    },
    {
      "cell_type": "code",
      "metadata": {
        "id": "b47e2c2e",
        "outputId": "45e3f611-a28d-4664-f1b5-0817d684cd5b"
      },
      "source": [
        "def even_odd (num): #Even odd test\n",
        "    \"\"\" This function will check whether a number is even or odd\"\"\"\n",
        "    if num % 2 == 0: \n",
        "        print (num, ' is even number' )\n",
        "    else:\n",
        "        print (num, ' is odd number' )\n",
        "even_odd (3)\n",
        "even_odd (4)\n",
        "print ( even_odd . __doc__ ) # Print function documentation string"
      ],
      "id": "b47e2c2e",
      "execution_count": null,
      "outputs": [
        {
          "output_type": "stream",
          "text": [
            "3  is odd number\n",
            "4  is even number\n",
            " This function will check whether a number is even or odd\n"
          ],
          "name": "stdout"
        }
      ]
    },
    {
      "cell_type": "code",
      "metadata": {
        "id": "06db24e2",
        "outputId": "c0007e27-847c-484e-9bbc-1d5ff35d81e7"
      },
      "source": [
        "def fullname (firstname, middlename , lastname ): #Concatenate Strings\n",
        "    fullname = \"{} {} {}\" . format ( firstname , middlename , lastname ) \n",
        "    print ( fullname )\n",
        "fullname ( 'Asif' , 'Ali' , 'Bhat' )"
      ],
      "id": "06db24e2",
      "execution_count": null,
      "outputs": [
        {
          "output_type": "stream",
          "text": [
            "Asif Ali Bhat\n"
          ],
          "name": "stdout"
        }
      ]
    },
    {
      "cell_type": "code",
      "metadata": {
        "id": "01bdee2b",
        "outputId": "15deb741-8e14-46d2-d268-756ac4e5ea47"
      },
      "source": [
        "def fullname ( firstname , middlename , lastname ): #Concatenate Strings\n",
        "    fullname = \"{} {} {}\" . format ( firstname , middlename , lastname )\n",
        "    print ( fullname )\n",
        "\n",
        "fullname (lastname = 'Bhat', middlename = 'Ali', firstname = 'Asif') # Keyword Arguments\n"
      ],
      "id": "01bdee2b",
      "execution_count": null,
      "outputs": [
        {
          "output_type": "stream",
          "text": [
            "Asif Ali Bhat\n"
          ],
          "name": "stdout"
        }
      ]
    },
    {
      "cell_type": "code",
      "metadata": {
        "id": "611f73e4",
        "outputId": "096845f1-e323-4e1b-aa6c-c194f39459c6"
      },
      "source": [
        "fullname('Asif') # This will throw error as function is expecting 3 arguments."
      ],
      "id": "611f73e4",
      "execution_count": null,
      "outputs": [
        {
          "output_type": "error",
          "ename": "TypeError",
          "evalue": "fullname() missing 2 required positional arguments: 'middlename' and 'lastname'",
          "traceback": [
            "\u001b[1;31m---------------------------------------------------------------------------\u001b[0m",
            "\u001b[1;31mTypeError\u001b[0m                                 Traceback (most recent call last)",
            "\u001b[1;32m<ipython-input-481-38f0d14e6705>\u001b[0m in \u001b[0;36m<module>\u001b[1;34m\u001b[0m\n\u001b[1;32m----> 1\u001b[1;33m \u001b[0mfullname\u001b[0m\u001b[1;33m(\u001b[0m\u001b[1;34m'Asif'\u001b[0m\u001b[1;33m)\u001b[0m \u001b[1;31m# This will throw error as function is expecting 3 arguments.\u001b[0m\u001b[1;33m\u001b[0m\u001b[1;33m\u001b[0m\u001b[0m\n\u001b[0m",
            "\u001b[1;31mTypeError\u001b[0m: fullname() missing 2 required positional arguments: 'middlename' and 'lastname'"
          ]
        }
      ]
    },
    {
      "cell_type": "code",
      "metadata": {
        "id": "08e31176",
        "outputId": "15d81e33-ccea-4a18-c331-c483528d98a5"
      },
      "source": [
        "def myfunc ( city = 'Mumbai' ): \n",
        "    print ( 'Most Populous City :- ' , city ) \n",
        "myfunc () # When a function is called without an argument it will use default valu"
      ],
      "id": "08e31176",
      "execution_count": null,
      "outputs": [
        {
          "output_type": "stream",
          "text": [
            "Most Populous City :-  Mumbai\n"
          ],
          "name": "stdout"
        }
      ]
    },
    {
      "cell_type": "code",
      "metadata": {
        "id": "45edb3bd",
        "outputId": "4e4b0f37-1bce-4b5c-b646-25200f65a08c"
      },
      "source": [
        "var1 = 100 # Variable with Global scope. \n",
        "def myfunc(): \n",
        "    print ( var1 ) # Value 100 will be displayed due to global scope of var1 \n",
        "myfunc() \n",
        "print ( var1 )"
      ],
      "id": "45edb3bd",
      "execution_count": null,
      "outputs": [
        {
          "output_type": "stream",
          "text": [
            "100\n",
            "100\n"
          ],
          "name": "stdout"
        }
      ]
    },
    {
      "cell_type": "code",
      "metadata": {
        "id": "b6266a94",
        "outputId": "33cd8e23-a351-46ff-a864-d80005e03a47"
      },
      "source": [
        "def myfunc1 (): \n",
        "    var2 = 10 # Variable with Local scope \n",
        "    print ( var2 ) \n",
        "def myfunc2 (): \n",
        "    print ( var2 ) # This will throw error because var2 has a local scope. Var2 is out of scope for myfunc2\n",
        "    \n",
        "myfunc1 ()\n",
        "myfunc2 ()"
      ],
      "id": "b6266a94",
      "execution_count": null,
      "outputs": [
        {
          "output_type": "stream",
          "text": [
            "10\n"
          ],
          "name": "stdout"
        },
        {
          "output_type": "error",
          "ename": "NameError",
          "evalue": "name 'var2' is not defined",
          "traceback": [
            "\u001b[1;31m---------------------------------------------------------------------------\u001b[0m",
            "\u001b[1;31mNameError\u001b[0m                                 Traceback (most recent call last)",
            "\u001b[1;32m<ipython-input-484-f5b104be9823>\u001b[0m in \u001b[0;36m<module>\u001b[1;34m\u001b[0m\n\u001b[0;32m      6\u001b[0m \u001b[1;33m\u001b[0m\u001b[0m\n\u001b[0;32m      7\u001b[0m \u001b[0mmyfunc1\u001b[0m \u001b[1;33m(\u001b[0m\u001b[1;33m)\u001b[0m\u001b[1;33m\u001b[0m\u001b[1;33m\u001b[0m\u001b[0m\n\u001b[1;32m----> 8\u001b[1;33m \u001b[0mmyfunc2\u001b[0m \u001b[1;33m(\u001b[0m\u001b[1;33m)\u001b[0m\u001b[1;33m\u001b[0m\u001b[1;33m\u001b[0m\u001b[0m\n\u001b[0m",
            "\u001b[1;32m<ipython-input-484-f5b104be9823>\u001b[0m in \u001b[0;36mmyfunc2\u001b[1;34m()\u001b[0m\n\u001b[0;32m      3\u001b[0m     \u001b[0mprint\u001b[0m \u001b[1;33m(\u001b[0m \u001b[0mvar2\u001b[0m \u001b[1;33m)\u001b[0m\u001b[1;33m\u001b[0m\u001b[1;33m\u001b[0m\u001b[0m\n\u001b[0;32m      4\u001b[0m \u001b[1;32mdef\u001b[0m \u001b[0mmyfunc2\u001b[0m \u001b[1;33m(\u001b[0m\u001b[1;33m)\u001b[0m\u001b[1;33m:\u001b[0m\u001b[1;33m\u001b[0m\u001b[1;33m\u001b[0m\u001b[0m\n\u001b[1;32m----> 5\u001b[1;33m     \u001b[0mprint\u001b[0m \u001b[1;33m(\u001b[0m \u001b[0mvar2\u001b[0m \u001b[1;33m)\u001b[0m \u001b[1;31m# This will throw error because var2 has a local scope. Var2 is out of scope for myfunc2\u001b[0m\u001b[1;33m\u001b[0m\u001b[1;33m\u001b[0m\u001b[0m\n\u001b[0m\u001b[0;32m      6\u001b[0m \u001b[1;33m\u001b[0m\u001b[0m\n\u001b[0;32m      7\u001b[0m \u001b[0mmyfunc1\u001b[0m \u001b[1;33m(\u001b[0m\u001b[1;33m)\u001b[0m\u001b[1;33m\u001b[0m\u001b[1;33m\u001b[0m\u001b[0m\n",
            "\u001b[1;31mNameError\u001b[0m: name 'var2' is not defined"
          ]
        }
      ]
    },
    {
      "cell_type": "code",
      "metadata": {
        "id": "e9741e27",
        "outputId": "de0f884e-96c4-44dc-890b-c27aabac9267"
      },
      "source": [
        "var1 = 100 # Variable with Global scope. \n",
        "def myfunc (): \n",
        "    var1 = 99 # Local scope \n",
        "    print ( var1 )\n",
        "myfunc ()\n",
        "print ( var1 ) # The original value of var1 (100) will be retained due to global scope\n",
        "    "
      ],
      "id": "e9741e27",
      "execution_count": null,
      "outputs": [
        {
          "output_type": "stream",
          "text": [
            "99\n",
            "100\n"
          ],
          "name": "stdout"
        }
      ]
    },
    {
      "cell_type": "code",
      "metadata": {
        "id": "b6209334",
        "outputId": "ff92675f-bb5f-427a-ec9f-daaaf2e24d26"
      },
      "source": [
        "list1 = [ 11 , 22 , 33 , 44 , 55 ]\n",
        "def myfunc ( list1 ): \n",
        "    del list1 [ 0 ] \n",
        "print ( '\"List1\" before calling the function:- ' , list1 )\n",
        "\n",
        "myfunc ( list1 ) # Pass by reference (Any change in the parameter within the function\n",
        "print ( '\"List1\" after calling the function:- ' , list1 )\n"
      ],
      "id": "b6209334",
      "execution_count": null,
      "outputs": [
        {
          "output_type": "stream",
          "text": [
            "\"List1\" before calling the function:-  [11, 22, 33, 44, 55]\n",
            "\"List1\" after calling the function:-  [22, 33, 44, 55]\n"
          ],
          "name": "stdout"
        }
      ]
    },
    {
      "cell_type": "code",
      "metadata": {
        "id": "67c805de",
        "outputId": "fdb2ad84-75d8-42c2-8b19-71c58c8e73a3"
      },
      "source": [
        "list1 = [ 11 , 22 , 33 , 44 , 55 ]\n",
        "def myfunc ( list1 ): \n",
        "    list1 = [ 10 , 100 , 1000 , 10000 ] # link of 'list1' with previous object is broken \n",
        "print ( '\"List1\" before calling the function:- ' , list1 )\n",
        "myfunc ( list1 ) # Pass by reference (Any change in the parameter within the functi \n",
        "print ( '\"List1\" after calling the function:- ' , list1 )"
      ],
      "id": "67c805de",
      "execution_count": null,
      "outputs": [
        {
          "output_type": "stream",
          "text": [
            "\"List1\" before calling the function:-  [11, 22, 33, 44, 55]\n",
            "\"List1\" after calling the function:-  [11, 22, 33, 44, 55]\n"
          ],
          "name": "stdout"
        }
      ]
    },
    {
      "cell_type": "code",
      "metadata": {
        "id": "2747f975",
        "outputId": "d80df878-fd00-4a47-c48b-8e87ac05e6ea"
      },
      "source": [
        "def swap ( a , b ):\n",
        "    temp = a\n",
        "    a = b  # link of 'a' with previous object is broken now as new object is \n",
        "    b = temp # link of 'b' with previous object is broken now as new object is \n",
        "a = 10\n",
        "b = 20     \n",
        "swap (a,b)\n",
        "a , b\n"
      ],
      "id": "2747f975",
      "execution_count": null,
      "outputs": [
        {
          "output_type": "execute_result",
          "data": {
            "text/plain": [
              "(10, 20)"
            ]
          },
          "metadata": {
            "tags": []
          },
          "execution_count": 497
        }
      ]
    },
    {
      "cell_type": "code",
      "metadata": {
        "id": "acab0eca",
        "outputId": "77c2f7f6-c587-4a81-febc-21fa5c24791c"
      },
      "source": [
        " def factorial ( num ): \n",
        "        # Calculate factorial of a number using recursive function c \n",
        "        if num <= 1:\n",
        "            return 1 \n",
        "        else : \n",
        "            return num * factorial (num- 1)\n",
        "factorial ( 4 )"
      ],
      "id": "acab0eca",
      "execution_count": null,
      "outputs": [
        {
          "output_type": "execute_result",
          "data": {
            "text/plain": [
              "24"
            ]
          },
          "metadata": {
            "tags": []
          },
          "execution_count": 498
        }
      ]
    },
    {
      "cell_type": "code",
      "metadata": {
        "id": "b952c66f",
        "outputId": "481e601c-6994-4305-d37f-5277a10edc82"
      },
      "source": [
        "def add ( num ): \n",
        "    # Sum of first n natural numbers \n",
        "    if num == 0 : \n",
        "        return 0\n",
        "    else : \n",
        "        return num + add ( num - 1 ) \n",
        "add ( 5 ) # Sum of first five natural numbers (1,2,3,4,5)"
      ],
      "id": "b952c66f",
      "execution_count": null,
      "outputs": [
        {
          "output_type": "execute_result",
          "data": {
            "text/plain": [
              "15"
            ]
          },
          "metadata": {
            "tags": []
          },
          "execution_count": 499
        }
      ]
    },
    {
      "cell_type": "code",
      "metadata": {
        "id": "092d2523",
        "outputId": "334b981e-447b-47ac-91b5-bbd5567a57a1"
      },
      "source": [
        "def fiboacci(num):\n",
        "    if num <= 1 : \n",
        "        return num \n",
        "    if num == 2:\n",
        "        return 1 \n",
        "    else : \n",
        "        return (fiboacci (num - 1 ) + fiboacci (num - 2)) \n",
        "nums = int(input( \"How many fibonacci numbers you want to generate -\" ))\n",
        "for i in range (nums):\n",
        "    print (fiboacci(i)) #Generate Fibonacci series    "
      ],
      "id": "092d2523",
      "execution_count": null,
      "outputs": [
        {
          "output_type": "stream",
          "text": [
            "How many fibonacci numbers you want to generate -10\n",
            "0\n",
            "1\n",
            "1\n",
            "2\n",
            "3\n",
            "5\n",
            "8\n",
            "13\n",
            "21\n",
            "34\n"
          ],
          "name": "stdout"
        }
      ]
    },
    {
      "cell_type": "markdown",
      "metadata": {
        "id": "d8c357c8"
      },
      "source": [
        "# args & kwargs\n",
        "#### args\n",
        "- When we are not sure about the number of arguments being passed to a function then we canuse *args as function parameter. \n",
        "\n",
        "- *args allow us to pass the variable number of **Non Keyword Arguments** to function.\n",
        "- We can simply use an asterisk * before the parameter name to pass variable length arguments.\n",
        "- The arguments are always passed as a tuple.\n",
        "- We can rename it to anything as long as it is preceded by a single asterisk (*). It's bestpractice to keep naming it args to make it immediately recognizable.\n",
        "\n",
        "#### kwargs\n",
        "kwargs allows us to pass the variable number of Keyword Arguments to the function.\n",
        "We can simply use an double asterisk ** before the parameter name to pass variable length arguments.\n",
        "The arguments are passed as a dictionary. We can rename it to anything as long as it is preceded by a double asterisk (**). It's bestpractice to keep naming it kwargs to make it immediately recognizable."
      ],
      "id": "d8c357c8"
    },
    {
      "cell_type": "code",
      "metadata": {
        "id": "3c31aef2",
        "outputId": "3c0971af-7db0-422e-fc29-d2d3817c53ac"
      },
      "source": [
        "def add (a, b, c): \n",
        "    return a + b + c\n",
        "print(add(10, 20, 30)) # Sum of two numbers"
      ],
      "id": "3c31aef2",
      "execution_count": null,
      "outputs": [
        {
          "output_type": "stream",
          "text": [
            "60\n"
          ],
          "name": "stdout"
        }
      ]
    },
    {
      "cell_type": "code",
      "metadata": {
        "id": "e8adaa0c",
        "outputId": "dee04013-7499-4179-9212-cfd9edfe0b31"
      },
      "source": [
        "print(add(1,2,3, 4 )) \n",
        "'''This will throw below error as this function will only tak If we want to make argument list dynamic then *args wil come in picture'''"
      ],
      "id": "e8adaa0c",
      "execution_count": null,
      "outputs": [
        {
          "output_type": "error",
          "ename": "TypeError",
          "evalue": "add() takes 3 positional arguments but 4 were given",
          "traceback": [
            "\u001b[1;31m---------------------------------------------------------------------------\u001b[0m",
            "\u001b[1;31mTypeError\u001b[0m                                 Traceback (most recent call last)",
            "\u001b[1;32m<ipython-input-507-72a232ad4e1c>\u001b[0m in \u001b[0;36m<module>\u001b[1;34m\u001b[0m\n\u001b[1;32m----> 1\u001b[1;33m \u001b[0mprint\u001b[0m\u001b[1;33m(\u001b[0m\u001b[0madd\u001b[0m\u001b[1;33m(\u001b[0m\u001b[1;36m1\u001b[0m\u001b[1;33m,\u001b[0m\u001b[1;36m2\u001b[0m\u001b[1;33m,\u001b[0m\u001b[1;36m3\u001b[0m\u001b[1;33m,\u001b[0m \u001b[1;36m4\u001b[0m \u001b[1;33m)\u001b[0m\u001b[1;33m)\u001b[0m\u001b[1;33m\u001b[0m\u001b[1;33m\u001b[0m\u001b[0m\n\u001b[0m\u001b[0;32m      2\u001b[0m \u001b[1;34m'''This will throw below error as this function will only tak If we want to make argument list dynamic then *args wil come in picture'''\u001b[0m\u001b[1;33m\u001b[0m\u001b[1;33m\u001b[0m\u001b[0m\n",
            "\u001b[1;31mTypeError\u001b[0m: add() takes 3 positional arguments but 4 were given"
          ]
        }
      ]
    },
    {
      "cell_type": "code",
      "metadata": {
        "id": "df0acfe4",
        "outputId": "25a9f914-e5fa-4a73-df71-33771bf327a5"
      },
      "source": [
        "def some_args (arg_1, arg_2, arg_3 ): \n",
        "    print ( \"arg_1:\" , arg_1 )\n",
        "    print ( \"arg_2:\" , arg_2 )\n",
        "    print ( \"arg_3:\" , arg_3 )\n",
        "my_list = [ 2 , 3 ]\n",
        "some_args ( 1 , * my_list )"
      ],
      "id": "df0acfe4",
      "execution_count": null,
      "outputs": [
        {
          "output_type": "stream",
          "text": [
            "arg_1: 1\n",
            "arg_2: 2\n",
            "arg_3: 3\n"
          ],
          "name": "stdout"
        }
      ]
    },
    {
      "cell_type": "code",
      "metadata": {
        "id": "34dafde3",
        "outputId": "467578a7-466f-401f-eb10-665cbcf02094"
      },
      "source": [
        "def add(* args):\n",
        "    return sum(args)\n",
        "\n",
        "print(add(1,2,3)) # *args will take dynamic argument list. So add() function w \n",
        "print(add(1,2,3,4)) \n",
        "print (add(1,2,3,4,5))\n",
        "print (add(1,2,3,4,5,6))\n",
        "print ( add ( 1 , 2 , 3 , 4 , 5 , 6 , 7 ))"
      ],
      "id": "34dafde3",
      "execution_count": null,
      "outputs": [
        {
          "output_type": "stream",
          "text": [
            "6\n",
            "10\n",
            "15\n",
            "21\n",
            "28\n"
          ],
          "name": "stdout"
        }
      ]
    },
    {
      "cell_type": "code",
      "metadata": {
        "id": "7a501f10",
        "outputId": "39274b4f-51fa-4a40-99f7-d7c8adc4d62a"
      },
      "source": [
        "list1 = [ 1 , 2 , 3 , 4 , 5 , 6 , 7 ]\n",
        "tuple1 = ( 1 , 2 , 3 , 4 , 5 , 6 , 7 )\n",
        "add( * list1 ), add(*tuple1 ) #tuple & list items will be passed as argument list"
      ],
      "id": "7a501f10",
      "execution_count": null,
      "outputs": [
        {
          "output_type": "execute_result",
          "data": {
            "text/plain": [
              "(28, 28)"
            ]
          },
          "metadata": {
            "tags": []
          },
          "execution_count": 516
        }
      ]
    },
    {
      "cell_type": "code",
      "metadata": {
        "id": "25672bda",
        "outputId": "65efbc40-88d6-4ebd-888d-86cd6a24666d"
      },
      "source": [
        "list1 = [ 1 , 2 , 3 , 4 , 5 , 6 , 7 ] \n",
        "list2 = [ 1 , 2 , 3 , 4 , 5 , 6 , 7 ] \n",
        "list3 = [ 1 , 2 , 3 , 4 , 5 , 6 , 7 ]\n",
        "list4 = [ 1 , 2 , 3 , 4 , 5 , 6 , 7 ]\n",
        "add1 ( * list1 , * list2 , * list3 , * list4 ) #All four lists are unpacked and each in"
      ],
      "id": "25672bda",
      "execution_count": null,
      "outputs": [
        {
          "output_type": "execute_result",
          "data": {
            "text/plain": [
              "112"
            ]
          },
          "metadata": {
            "tags": []
          },
          "execution_count": 517
        }
      ]
    },
    {
      "cell_type": "code",
      "metadata": {
        "id": "0d197f60",
        "outputId": "c007c581-0589-45ee-c6e1-2c4a60c37b4a"
      },
      "source": [
        "def UserDetails(* args):\n",
        "    ''' For the above example we have no idea about the parameters passed e.g 7412 , In such cases we can take help of Keyworded arguments (**kwargs) '''\n",
        "    print (args) \n",
        "UserDetails('Asif', 7412, 41102, 33, 'India', 'Hindi')\n"
      ],
      "id": "0d197f60",
      "execution_count": null,
      "outputs": [
        {
          "output_type": "stream",
          "text": [
            "('Asif', 7412, 41102, 33, 'India', 'Hindi')\n"
          ],
          "name": "stdout"
        }
      ]
    },
    {
      "cell_type": "code",
      "metadata": {
        "id": "d93e368f",
        "outputId": "9e82e2a0-c9d9-40be-9d44-6368ce5695a4"
      },
      "source": [
        "def UserDetails(**kwargs):\n",
        "    for key , val in kwargs . items ():\n",
        "        print ( \"{} :- {}\" . format ( key , val ))\n",
        "UserDetails(Name='Asif',ID=7412,Pincode=41102,Age=33,Country='India',Language='Tamil')"
      ],
      "id": "d93e368f",
      "execution_count": null,
      "outputs": [
        {
          "output_type": "stream",
          "text": [
            "Name :- Asif\n",
            "ID :- 7412\n",
            "Pincode :- 41102\n",
            "Age :- 33\n",
            "Country :- India\n",
            "Language :- Tamil\n"
          ],
          "name": "stdout"
        }
      ]
    },
    {
      "cell_type": "code",
      "metadata": {
        "id": "840a6959"
      },
      "source": [
        "def UserDetails(**kwargs):\n",
        "    print(kwargs)\n",
        "UserDetails(Name='Asif',ID=7412,Pincode=41102,Age=33,Country='India',Language='Tamil')"
      ],
      "id": "840a6959",
      "execution_count": null,
      "outputs": []
    },
    {
      "cell_type": "code",
      "metadata": {
        "id": "a944ac56",
        "outputId": "3ccbb843-f20d-4fb2-f351-dc791c7b1704"
      },
      "source": [
        "def UserDetails ( licenseNo , * args , phoneNo = 0 , ** kwargs ): # Using all four argum\n",
        "    print ( 'License No :- ' , licenseNo ) \n",
        "    j = '' \n",
        "    for i in args:\n",
        "        j = j + i \n",
        "    print ( 'Full Name :-' , j ) \n",
        "    print ( 'Phone Number:- ' , phoneNo )\n",
        "    for key, val in kwargs.items(): \n",
        "        print ( \"{} :- {}\" . format ( key , val )) \n",
        "\n",
        "name = ['Asif', ' ','Ali', ' ','Bhat']\n",
        "mydict = {'Name' : 'Asif' , 'ID' : 7412 , 'Pincode' : 41102 , 'Age' : 33 , 'Country' : 'India', 'Language': 'Tamil'}\n",
        "UserDetails ( 'BHT145' , * name , phoneNo = 1234567890 , ** mydict )"
      ],
      "id": "a944ac56",
      "execution_count": null,
      "outputs": [
        {
          "output_type": "stream",
          "text": [
            "License No :-  BHT145\n",
            "Full Name :- Asif Ali Bhat\n",
            "Phone Number:-  1234567890\n",
            "Name :- Asif\n",
            "ID :- 7412\n",
            "Pincode :- 41102\n",
            "Age :- 33\n",
            "Country :- India\n",
            "Language :- Tamil\n"
          ],
          "name": "stdout"
        }
      ]
    },
    {
      "cell_type": "code",
      "metadata": {
        "id": "7a1bfd63"
      },
      "source": [
        "def UserDetails(licenseNo, *args, phoneNo=0, ** kwargs ): # Using all four argumen \n",
        "    print ( 'Nothing' )    "
      ],
      "id": "7a1bfd63",
      "execution_count": null,
      "outputs": []
    },
    {
      "cell_type": "code",
      "metadata": {
        "id": "35bc033c",
        "outputId": "0fc03684-0076-4006-d165-8a65d56862a3"
      },
      "source": [
        "def UserDetails(licenseNo,**kwargs,*args): # This will fail. *args MUST come before **kwargs\n",
        "print('Nothing')"
      ],
      "id": "35bc033c",
      "execution_count": null,
      "outputs": [
        {
          "output_type": "error",
          "ename": "SyntaxError",
          "evalue": "invalid syntax (<ipython-input-537-182c6aed013a>, line 1)",
          "traceback": [
            "\u001b[1;36m  File \u001b[1;32m\"<ipython-input-537-182c6aed013a>\"\u001b[1;36m, line \u001b[1;32m1\u001b[0m\n\u001b[1;33m    def UserDetails(licenseNo,**kwargs,*args): # This will fail. *args MUST come before **kwargs\u001b[0m\n\u001b[1;37m                                       ^\u001b[0m\n\u001b[1;31mSyntaxError\u001b[0m\u001b[1;31m:\u001b[0m invalid syntax\n"
          ]
        }
      ]
    },
    {
      "cell_type": "code",
      "metadata": {
        "id": "f2b7fcaa",
        "outputId": "73e8eeee-0649-4ec8-8030-7a06d3af4cb5"
      },
      "source": [
        "#The below function will fail. Default argument/positional argument (licenseNo) M\n",
        "def UserDetails(ID=1,licenseNo,*args):\n",
        "    print('Nothing')"
      ],
      "id": "f2b7fcaa",
      "execution_count": null,
      "outputs": [
        {
          "output_type": "error",
          "ename": "SyntaxError",
          "evalue": "non-default argument follows default argument (<ipython-input-541-44776f843775>, line 2)",
          "traceback": [
            "\u001b[1;36m  File \u001b[1;32m\"<ipython-input-541-44776f843775>\"\u001b[1;36m, line \u001b[1;32m2\u001b[0m\n\u001b[1;33m    def UserDetails(ID=1,licenseNo,*args):\u001b[0m\n\u001b[1;37m                   ^\u001b[0m\n\u001b[1;31mSyntaxError\u001b[0m\u001b[1;31m:\u001b[0m non-default argument follows default argument\n"
          ]
        }
      ]
    },
    {
      "cell_type": "markdown",
      "metadata": {
        "id": "cadcf6c2"
      },
      "source": [
        "# Lambda, Filter, Map and Reduce\n",
        "### Lambda\n",
        "- A lambda function is an anonymous function (function without a name).\n",
        "- Lambda functions can have any number of arguments but only one expression. The expression is evaluated and returned.\n",
        "- We use lambda functions when we require a nameless function for a short period of time.\n",
        "    \n",
        "    Syntax:-\n",
        "    \n",
        "### Filter\n",
        "- It is used to filter the iterables/sequence as per the conditions.\n",
        "- Filter function filters the original iterable and passes the items that returns True for the functionprovided to filter.\n",
        "- It is normally used with Lambda functions to filter list, tuple, or sets.\n",
        "\n",
        "### Map\n",
        "\n",
        "- The map() function applies a given function to each item of an iterable (list, tuple etc.) and returns a list of the results.\n",
        "- map() function takes two Parameters :\n",
        "    - **function**\n",
        "        - The function to execute for each item of given iterable.\n",
        "    - **iterable**\n",
        "        - It is a iterable which is to be mapped.\n",
        "    - **Returns**\n",
        "        - Returns a list of the results after applying the given function to each item of a giveniterable (list, tuple etc.)\n",
        "        \n",
        "### Reduce\n",
        "The reduce() function is defined in the **functools** python module.The reduce() functionreceives two arguments, a function and an iterable. However, it doesn't return another iterable,instead it returns a single value.\n",
        "\n",
        "- Working:\n",
        "    - Apply a function to the first two items in an iterable and generate a partial result\n",
        "    - The function is then called again with the result obtained in  step 1 and the next value in thesequence. This process keeps on repeating until there are items in the sequence.\n",
        "    - The final returned result is returned and printed on console.\n",
        "    "
      ],
      "id": "cadcf6c2"
    },
    {
      "cell_type": "code",
      "metadata": {
        "id": "df8e35ca",
        "outputId": "4b27c4a8-5f1b-450d-f9a0-79811e032cfd"
      },
      "source": [
        "addition = lambda a : a + 10 # This lambda function adds value 10 to an argument print ( addition ( 5 ))\n",
        "print(addition(10))"
      ],
      "id": "df8e35ca",
      "execution_count": null,
      "outputs": [
        {
          "output_type": "stream",
          "text": [
            "20\n"
          ],
          "name": "stdout"
        }
      ]
    },
    {
      "cell_type": "code",
      "metadata": {
        "id": "89cea511",
        "outputId": "a919e5f6-c6a4-461d-93ef-061985247e73"
      },
      "source": [
        "product = lambda a , b : a * b #This lambda function takes two arguments (a,b) and print ( product ( 5 , 6 ))\n",
        "print(product(5, 6))"
      ],
      "id": "89cea511",
      "execution_count": null,
      "outputs": [
        {
          "output_type": "stream",
          "text": [
            "30\n"
          ],
          "name": "stdout"
        }
      ]
    },
    {
      "cell_type": "code",
      "metadata": {
        "id": "4bce04d5",
        "outputId": "d88e52c5-d379-415d-f777-0c957e87169a"
      },
      "source": [
        "addition = lambda a,b, c: a + b + c #This lambda function takes three argument print ( addition ( 5 , 6 , 2 ))\n",
        "print(addition(10,20,30))"
      ],
      "id": "4bce04d5",
      "execution_count": null,
      "outputs": [
        {
          "output_type": "stream",
          "text": [
            "60\n"
          ],
          "name": "stdout"
        }
      ]
    },
    {
      "cell_type": "code",
      "metadata": {
        "id": "c5fda381",
        "outputId": "a808c6e2-6b6d-4041-9348-1490ae33c269"
      },
      "source": [
        "res = (lambda *args : sum(args)) # This lambda function can take any number of arguments\n",
        "print(res ( 10 , 20 ))\n",
        "print(res ( 10 , 20 , 30 , 40 ))\n",
        "print(res ( 10 , 20 , 30 , 40 , 50 , 60 , 70 ))"
      ],
      "id": "c5fda381",
      "execution_count": null,
      "outputs": [
        {
          "output_type": "stream",
          "text": [
            "30\n",
            "100\n",
            "280\n"
          ],
          "name": "stdout"
        }
      ]
    },
    {
      "cell_type": "code",
      "metadata": {
        "id": "ae19875b",
        "outputId": "7563f8b3-c85c-4b84-a581-8cc358e866ce"
      },
      "source": [
        "res1 = ( lambda ** kwargs : sum ( kwargs.values ())) # This lambda function can take an \n",
        "res1 ( a = 10 , b = 20 , c = 30 ) , res1 ( a = 10 , b = 20 , c = 30 , d = 40 , e = 50 )"
      ],
      "id": "ae19875b",
      "execution_count": null,
      "outputs": [
        {
          "output_type": "execute_result",
          "data": {
            "text/plain": [
              "(60, 150)"
            ]
          },
          "metadata": {
            "tags": []
          },
          "execution_count": 552
        }
      ]
    },
    {
      "cell_type": "code",
      "metadata": {
        "id": "6dd15a8c",
        "outputId": "dec74dc7-6850-4129-96fc-b7e1cb7cb725"
      },
      "source": [
        "# User defined function to find product of numbers\n",
        "def product ( nums ): \n",
        "    total = 1 \n",
        "    for i in nums:\n",
        "        total *= i\n",
        "    return total \n",
        "# This lambda function can take any number of arguments and return thier product. \n",
        "res1 = ( lambda ** kwargs : product ( kwargs.values ()))\n",
        "res1 ( a = 10 , b = 20 , c = 30 ) , res1 ( a = 10 , b = 20 , c = 30 , d = 40 , e = 50)"
      ],
      "id": "6dd15a8c",
      "execution_count": null,
      "outputs": [
        {
          "output_type": "execute_result",
          "data": {
            "text/plain": [
              "(6000, 12000000)"
            ]
          },
          "metadata": {
            "tags": []
          },
          "execution_count": 555
        }
      ]
    },
    {
      "cell_type": "code",
      "metadata": {
        "id": "c01e99ea",
        "outputId": "357db716-a6b3-401f-cd04-0db676fc4af9"
      },
      "source": [
        "def myfunc (n):  # method currying\n",
        "    return lambda a : a + n \n",
        "add10 = myfunc ( 10 ) \n",
        "add20 = myfunc ( 20 )\n",
        "add30 = myfunc ( 30 )\n",
        "\n",
        "print ( add10 ( 5 ))\n",
        "print ( add20 ( 5 ))\n",
        "print ( add30 ( 5 ))"
      ],
      "id": "c01e99ea",
      "execution_count": null,
      "outputs": [
        {
          "output_type": "stream",
          "text": [
            "15\n",
            "25\n",
            "35\n"
          ],
          "name": "stdout"
        }
      ]
    },
    {
      "cell_type": "code",
      "metadata": {
        "id": "7544f09f",
        "outputId": "88fff443-a9b6-4f87-b841-74171fcc171c"
      },
      "source": [
        "list1 = [ 1 , 2 , 3 , 4 , 5 , 6 , 7 , 8 , 9 ]\n",
        "def odd ( n ): \n",
        "    if n % 2 == 1 : \n",
        "        return True \n",
        "    else : \n",
        "        return False \n",
        "odd_num = list (filter (odd, list1)) # This Filter function filters list1 and passes odd_num\n",
        "odd_num"
      ],
      "id": "7544f09f",
      "execution_count": null,
      "outputs": [
        {
          "output_type": "execute_result",
          "data": {
            "text/plain": [
              "[1, 3, 5, 7, 9]"
            ]
          },
          "metadata": {
            "tags": []
          },
          "execution_count": 558
        }
      ]
    },
    {
      "cell_type": "code",
      "metadata": {
        "id": "7878cdb7",
        "outputId": "f5ba3047-39db-4441-9f96-7446a7cd45e8"
      },
      "source": [
        "list1 = [ 1 , 2 , 3 , 4 , 5 , 6 , 7 , 8 , 9 ]\n",
        "# The below Filter function filters \"list1\" and passes all odd numbers using lambda \n",
        "odd_num = list (filter(lambda n : n % 2 == 1 , list1 ))\n",
        "odd_num"
      ],
      "id": "7878cdb7",
      "execution_count": null,
      "outputs": [
        {
          "output_type": "execute_result",
          "data": {
            "text/plain": [
              "[1, 3, 5, 7, 9]"
            ]
          },
          "metadata": {
            "tags": []
          },
          "execution_count": 559
        }
      ]
    },
    {
      "cell_type": "code",
      "metadata": {
        "id": "06a1e2eb",
        "outputId": "df0283f1-5bbf-4290-831b-2475bae737e8"
      },
      "source": [
        "def twice ( n ): \n",
        "    return n * 2 \n",
        "doubles = list (map(twice, odd_num))  # The map function will apply user defined \"tw doubles\n",
        "doubles"
      ],
      "id": "06a1e2eb",
      "execution_count": null,
      "outputs": [
        {
          "output_type": "execute_result",
          "data": {
            "text/plain": [
              "[2, 6, 10, 14, 18]"
            ]
          },
          "metadata": {
            "tags": []
          },
          "execution_count": 563
        }
      ]
    },
    {
      "cell_type": "code",
      "metadata": {
        "id": "1b5dbc21",
        "outputId": "4c3859ba-0ac0-45db-9fe7-275db42bdad8"
      },
      "source": [
        "doubles = list ( map ( lambda n : n * 2 , odd_num )) # This map function will double all ite \n",
        "doubles"
      ],
      "id": "1b5dbc21",
      "execution_count": null,
      "outputs": [
        {
          "output_type": "execute_result",
          "data": {
            "text/plain": [
              "[2, 6, 10, 14, 18]"
            ]
          },
          "metadata": {
            "tags": []
          },
          "execution_count": 565
        }
      ]
    },
    {
      "cell_type": "code",
      "metadata": {
        "id": "b7e60666",
        "outputId": "bf6f661e-6751-486f-94b3-5df5314cf7ba"
      },
      "source": [
        "from functools import reduce\n",
        "def add (a, b): \n",
        "    return a + b \n",
        "\n",
        "sum_all = reduce (add, doubles ) # This reduce function will perform sum of all item sum_all\n",
        "sum_all"
      ],
      "id": "b7e60666",
      "execution_count": null,
      "outputs": [
        {
          "output_type": "execute_result",
          "data": {
            "text/plain": [
              "50"
            ]
          },
          "metadata": {
            "tags": []
          },
          "execution_count": 567
        }
      ]
    },
    {
      "cell_type": "code",
      "metadata": {
        "id": "e9765281",
        "outputId": "767b069f-fbc1-4a40-b2b7-7b4bb4bac718"
      },
      "source": [
        "#The below reduce() function will perform sum of all items in the list using lambda \n",
        "doubles = [2, 6, 10, 14, 18]\n",
        "sum_all = reduce (lambda a, b : a + b , doubles)\n",
        "sum_all"
      ],
      "id": "e9765281",
      "execution_count": null,
      "outputs": [
        {
          "output_type": "execute_result",
          "data": {
            "text/plain": [
              "50"
            ]
          },
          "metadata": {
            "tags": []
          },
          "execution_count": 570
        }
      ]
    },
    {
      "cell_type": "code",
      "metadata": {
        "id": "77a0d13e",
        "outputId": "4e7278ea-a294-45f5-ff93-f364227e6c7f"
      },
      "source": [
        "# Putting all together \n",
        "list1 = [ 1 , 2 , 3 , 4 , 5 , 6 , 7 , 8 , 9 ]\n",
        "f = filter( lambda n : n % 2 == 1, list1)\n",
        "flist = list(f)\n",
        "mlist = list(map(lambda n : n * 2, flist))\n",
        "print(reduce (lambda a,b : a + b, mlist))\n",
        "\n",
        "sum_all = reduce (lambda a,b : a + b, list (map(lambda n : n * 2, list(filter( lambda n : n % 2 == 1, list1)))))\n",
        "sum_all"
      ],
      "id": "77a0d13e",
      "execution_count": null,
      "outputs": [
        {
          "output_type": "stream",
          "text": [
            "50\n"
          ],
          "name": "stdout"
        },
        {
          "output_type": "execute_result",
          "data": {
            "text/plain": [
              "50"
            ]
          },
          "metadata": {
            "tags": []
          },
          "execution_count": 584
        }
      ]
    },
    {
      "cell_type": "markdown",
      "metadata": {
        "id": "4d01c010"
      },
      "source": [
        "# More examples on Map , Filter , Reduce"
      ],
      "id": "4d01c010"
    },
    {
      "cell_type": "code",
      "metadata": {
        "id": "ab726382",
        "outputId": "c339e2a7-8493-44d6-d0aa-f3a4f743fc9e"
      },
      "source": [
        "list1 = [ 1 , 2 , 3 , 4 , 5 , 6 , 7 , 8 , 9 , 10 ]\n",
        "even = list ( filter ( lambda n : n % 2 == 0 , list1 )) # Filter even numbers from the list \n",
        "odd = list ( filter ( lambda n : n % 2 != 0 , list1 )) # Filter odd numbers from the list \n",
        "print ( '--------' ) \n",
        "print ( even ) \n",
        "print ( odd ) \n",
        "print ( '--------' )\n",
        "list2 = [ 'one' , 'TWO' , 'three' , 'FOUR' ]\n",
        "upper = list ( filter ( lambda x : x.isupper (), list2 )) # filter uppercase strings from the list\n",
        "lower = list ( filter ( lambda x : x . islower () , list2 )) # filter lowercase strings from the list\n",
        "print ( upper ) \n",
        "print ( lower )\n",
        "print ( '--------' )\n",
        "list3 = [ 'one' , 'two2' , 'three3' , '88' , '99' , '102' ] \n",
        "numeric = list ( filter ( lambda x : x.isnumeric (), list3 ))  # filter numbers from the list\n",
        "alpha = list ( filter ( lambda x : x.isalpha (), list3 )) # filter character strings \n",
        "alphanum = list ( filter ( lambda x : x.isalnum (), list3 )) # filtr numbers & character \n",
        "print ( alpha ) \n",
        "print ( numeric )\n",
        "print ( alphanum )\n",
        "print ( '--------' ) #Vowel Test"
      ],
      "id": "ab726382",
      "execution_count": null,
      "outputs": [
        {
          "output_type": "stream",
          "text": [
            "--------\n",
            "[2, 4, 6, 8, 10]\n",
            "[1, 3, 5, 7, 9]\n",
            "--------\n",
            "['TWO', 'FOUR']\n",
            "['one', 'three']\n",
            "--------\n",
            "['one']\n",
            "['88', '99', '102']\n",
            "['one', 'two2', 'three3', '88', '99', '102']\n",
            "--------\n"
          ],
          "name": "stdout"
        }
      ]
    },
    {
      "cell_type": "code",
      "metadata": {
        "id": "b0d1c2d3"
      },
      "source": [
        "list1 = [ 1 , 2 , 3 , 4 ]\n",
        "list2 = [ 5 , 6 , 7 , 8 ]"
      ],
      "id": "b0d1c2d3",
      "execution_count": null,
      "outputs": []
    },
    {
      "cell_type": "code",
      "metadata": {
        "id": "3c45d381",
        "outputId": "76f0f5b7-6fad-423e-b580-dc24fbea732c"
      },
      "source": [
        "def double ( x ): \n",
        "    return x + x \n",
        "def add ( x , y ): \n",
        "    return x + y \n",
        "def square ( x ): \n",
        "    return x * x \n",
        "print ( '---------------' )\n",
        "print (list(map(double, list1)))  # Double each number using map & User defined fun \n",
        "print (list ( map ( add , list1 , list2 ))) # add two items using map & User defined fun \n",
        "print ( list ( map ( square , list1 ))) #Square numbers using map & User defined function\n",
        "print('---------------')\n",
        "print ( list ( map ( lambda x : x + x , list1 ))) # Double each number using map & lambda \n",
        "print ( list ( map ( lambda x , y : x + y , list1 , list2 ))) # add two items using map & lambda\n",
        "print ( list ( map ( lambda x : x * x , list1 ))) #Square numbers using map & lambda \n",
        "print ( '---------------' )"
      ],
      "id": "3c45d381",
      "execution_count": null,
      "outputs": [
        {
          "output_type": "stream",
          "text": [
            "---------------\n",
            "[2, 4, 6, 8]\n",
            "[6, 8, 10, 12]\n",
            "[1, 4, 9, 16]\n",
            "---------------\n",
            "[2, 4, 6, 8]\n",
            "[6, 8, 10, 12]\n",
            "[1, 4, 9, 16]\n",
            "---------------\n"
          ],
          "name": "stdout"
        }
      ]
    },
    {
      "cell_type": "code",
      "metadata": {
        "id": "c075149c",
        "outputId": "d2eacefc-50d2-4c2c-9a2b-3ee37251fc9c"
      },
      "source": [
        "from operator import mul,add\n",
        "\n",
        "list2 = [ 1 , 2 , 3 , 4]\n",
        "product = reduce (mul,list2) # Product of all numbers in a list, Without using lambda:\n",
        "add = reduce (add , list2 ) # Add all numbers in the list \n",
        "# concat_str = reduce (add, [\"Python\", \" \", \"Rocks\"]) # Concatenate string\n",
        "prod = reduce (mul, ['Hello',3]) #Repeat a string multiple times \n",
        "min_num = reduce ( lambda a , b : a if a < b else b , list2 ) # Minimum number in the l \n",
        "max_num = reduce ( lambda a , b : a if a > b else b , list2 ) # Maximum number in the l \n",
        "print ( product )\n",
        "print ( add )\n",
        "# print ( concat_str )\n",
        "print ( prod )\n",
        "print ( min_num )\n",
        "print ( max_num )"
      ],
      "id": "c075149c",
      "execution_count": null,
      "outputs": [
        {
          "output_type": "stream",
          "text": [
            "24\n",
            "10\n",
            "HelloHelloHello\n",
            "1\n",
            "4\n"
          ],
          "name": "stdout"
        }
      ]
    },
    {
      "cell_type": "code",
      "metadata": {
        "id": "1f37bea0",
        "outputId": "c5aadb12-edfe-49f6-b57e-b13b7556ec90"
      },
      "source": [
        "def min_func ( a , b ): \n",
        "    return a if a < b else b \n",
        "def max_func ( a , b ): \n",
        "    return a if a > b else b \n",
        "min_num = reduce ( min_func , list2 ) # Minimum number in the list using reduce () & \n",
        "max_num = reduce ( max_func , list2 ) # Maximum number in the list using reduce () & \n",
        "min_num , max_num"
      ],
      "id": "1f37bea0",
      "execution_count": null,
      "outputs": [
        {
          "output_type": "execute_result",
          "data": {
            "text/plain": [
              "(1, 4)"
            ]
          },
          "metadata": {
            "tags": []
          },
          "execution_count": 609
        }
      ]
    },
    {
      "cell_type": "code",
      "metadata": {
        "id": "86415bea",
        "outputId": "2cad4926-03e5-4a19-efda-4dfd17049bb7"
      },
      "source": [
        "print ( '------' ) \n",
        "print ( reduce ( lambda a , b : bool ( a and b ), [ 0 , 0 , 1 , 0 , 0 ])) # Returns True if all \n",
        "print ( reduce ( lambda a , b : bool ( a and b ), [ 2 , 3 , 1 , 5 , 6 ])) # Returns True if all \n",
        "print ( reduce ( lambda a , b : bool ( a and b ), [ 8 , 9 , 1 , 0 , 9 ])) # Returns True if all \n",
        "print ( '------' ) \n",
        "print ( reduce ( lambda a , b : bool ( a or b ), [ 0 , 0 , 0 , 0 , 0 ])) # Returns True if any \n",
        "print ( reduce ( lambda a , b : bool ( a or b ), [ 2 , 3 , 1 , 5 , 6 ])) # Returns True if any \n",
        "print ( reduce ( lambda a , b : bool ( a or b ), [ 8 , 9 , 1 , 0 , 9 ])) # Returns True if any \n",
        "print ( '------' )"
      ],
      "id": "86415bea",
      "execution_count": null,
      "outputs": [
        {
          "output_type": "stream",
          "text": [
            "------\n",
            "False\n",
            "True\n",
            "False\n",
            "------\n",
            "False\n",
            "True\n",
            "True\n",
            "------\n"
          ],
          "name": "stdout"
        }
      ]
    }
  ]
}