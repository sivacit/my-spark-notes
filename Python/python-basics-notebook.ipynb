{
 "cells": [
  {
   "cell_type": "code",
   "execution_count": 4,
   "id": "92f93b72",
   "metadata": {},
   "outputs": [],
   "source": [
    "import sys\n",
    "import keyword\n",
    "import operator\n",
    "from datetime import datetime\n",
    "import os"
   ]
  },
  {
   "cell_type": "code",
   "execution_count": 6,
   "id": "15f23257",
   "metadata": {},
   "outputs": [
    {
     "name": "stdout",
     "output_type": "stream",
     "text": [
      "['False', 'None', 'True', 'and', 'as', 'assert', 'async', 'await', 'break', 'class', 'continue', 'def', 'del', 'elif', 'else', 'except', 'finally', 'for', 'from', 'global', 'if', 'import', 'in', 'is', 'lambda', 'nonlocal', 'not', 'or', 'pass', 'raise', 'return', 'try', 'while', 'with', 'yield']\n"
     ]
    }
   ],
   "source": [
    "print(keyword.kwlist)"
   ]
  },
  {
   "cell_type": "code",
   "execution_count": 8,
   "id": "a99ea883",
   "metadata": {},
   "outputs": [
    {
     "data": {
      "text/plain": [
       "35"
      ]
     },
     "execution_count": 8,
     "metadata": {},
     "output_type": "execute_result"
    }
   ],
   "source": [
    "len(keyword.kwlist)"
   ]
  },
  {
   "cell_type": "markdown",
   "id": "14c79de3",
   "metadata": {},
   "source": [
    "## Identifiers\n",
    "\n",
    "An identifier is a name given to entities like class, functions, variables, etc. It helps to differentiateone entity from another."
   ]
  },
  {
   "cell_type": "code",
   "execution_count": 13,
   "id": "01e98eff",
   "metadata": {},
   "outputs": [
    {
     "ename": "SyntaxError",
     "evalue": "invalid syntax (<ipython-input-13-ea83e3cd3d60>, line 3)",
     "output_type": "error",
     "traceback": [
      "\u001b[1;36m  File \u001b[1;32m\"<ipython-input-13-ea83e3cd3d60>\"\u001b[1;36m, line \u001b[1;32m3\u001b[0m\n\u001b[1;33m    import = 125 # Keywords can't be used as identifiers\u001b[0m\n\u001b[1;37m           ^\u001b[0m\n\u001b[1;31mSyntaxError\u001b[0m\u001b[1;31m:\u001b[0m invalid syntax\n"
     ]
    }
   ],
   "source": [
    "var = 10 # Identifier can't start with a digit\n",
    "al2 = 35 # Identifier can't use special symbols\n",
    "import = 125 # Keywords can't be used as identifiers\n",
    "val2 = 10\n",
    "val_ = 99"
   ]
  },
  {
   "cell_type": "markdown",
   "id": "5af02194",
   "metadata": {},
   "source": [
    "## Comments in Python\n"
   ]
  },
  {
   "cell_type": "code",
   "execution_count": 14,
   "id": "dd6c6c0a",
   "metadata": {},
   "outputs": [],
   "source": [
    "# Single line comment\n",
    "val1 = 10"
   ]
  },
  {
   "cell_type": "code",
   "execution_count": 15,
   "id": "d11bf944",
   "metadata": {},
   "outputs": [],
   "source": [
    "# Multiple\n",
    "# line\n",
    "# comment\n",
    "val1 = 10"
   ]
  },
  {
   "cell_type": "code",
   "execution_count": 16,
   "id": "49d67a87",
   "metadata": {},
   "outputs": [],
   "source": [
    "'''\n",
    "Multiple\n",
    "line\n",
    "comment\n",
    "'''\n",
    "val1 = 10"
   ]
  },
  {
   "cell_type": "markdown",
   "id": "25a314d0",
   "metadata": {},
   "source": [
    "## Statements\n",
    "Instructions that a Python interpreter can execute."
   ]
  },
  {
   "cell_type": "code",
   "execution_count": 17,
   "id": "357afe28",
   "metadata": {},
   "outputs": [
    {
     "data": {
      "text/plain": [
       "30"
      ]
     },
     "execution_count": 17,
     "metadata": {},
     "output_type": "execute_result"
    }
   ],
   "source": [
    "# Single line statement\n",
    "p1 = 10 + 20\n",
    "p1"
   ]
  },
  {
   "cell_type": "code",
   "execution_count": 18,
   "id": "f5c5f5e7",
   "metadata": {},
   "outputs": [
    {
     "data": {
      "text/plain": [
       "['a', 'b', 'c', 'd']"
      ]
     },
     "execution_count": 18,
     "metadata": {},
     "output_type": "execute_result"
    }
   ],
   "source": [
    "# Single line statement\n",
    "p2 = ['a','b','c','d']\n",
    "p2"
   ]
  },
  {
   "cell_type": "code",
   "execution_count": 1,
   "id": "f923c91c",
   "metadata": {},
   "outputs": [
    {
     "data": {
      "text/plain": [
       "290"
      ]
     },
     "execution_count": 1,
     "metadata": {},
     "output_type": "execute_result"
    }
   ],
   "source": [
    "# Multiple line statement\n",
    "p1 = 20 + 30 \\\n",
    "+ 40 + 50 + \\\n",
    "+ 70 + 80\n",
    "p1"
   ]
  },
  {
   "cell_type": "code",
   "execution_count": 2,
   "id": "596b9346",
   "metadata": {},
   "outputs": [
    {
     "data": {
      "text/plain": [
       "['a', 'b', 'c', 'd']"
      ]
     },
     "execution_count": 2,
     "metadata": {},
     "output_type": "execute_result"
    }
   ],
   "source": [
    "# Multiple line statement\n",
    "p2 = [\n",
    "    'a',\n",
    "    'b',\n",
    "    'c',\n",
    "    'd']\n",
    "p2"
   ]
  },
  {
   "cell_type": "markdown",
   "id": "25f24af2",
   "metadata": {},
   "source": [
    "### Indentation\n",
    "\n",
    "Indentation refers to the spaces at the beginning of a code line. It is very important as Python uses indentation to indicate a block of code.If the indentation is not correct we will endup with IndentationError error"
   ]
  },
  {
   "cell_type": "code",
   "execution_count": 4,
   "id": "6d149e2d",
   "metadata": {},
   "outputs": [
    {
     "name": "stdout",
     "output_type": "stream",
     "text": [
      "P is equal to 10\n"
     ]
    }
   ],
   "source": [
    "p = 10\n",
    "if p == 10:\n",
    "    print('P is equal to 10') # correct indentation"
   ]
  },
  {
   "cell_type": "code",
   "execution_count": 6,
   "id": "efee9f35",
   "metadata": {},
   "outputs": [
    {
     "ename": "IndentationError",
     "evalue": "expected an indented block (<ipython-input-6-2bef330feb24>, line 4)",
     "output_type": "error",
     "traceback": [
      "\u001b[1;36m  File \u001b[1;32m\"<ipython-input-6-2bef330feb24>\"\u001b[1;36m, line \u001b[1;32m4\u001b[0m\n\u001b[1;33m    print('P is equal to 10')\u001b[0m\n\u001b[1;37m        ^\u001b[0m\n\u001b[1;31mIndentationError\u001b[0m\u001b[1;31m:\u001b[0m expected an indented block\n"
     ]
    }
   ],
   "source": [
    "# if indentation is skipped we will encounter \"IndentationError: expected an inde\n",
    "p = 10\n",
    "if p == 10:\n",
    "print('P is equal to 10')"
   ]
  },
  {
   "cell_type": "code",
   "execution_count": 8,
   "id": "516bb45a",
   "metadata": {},
   "outputs": [
    {
     "name": "stdout",
     "output_type": "stream",
     "text": [
      "0\n",
      "1\n",
      "2\n",
      "3\n",
      "4\n"
     ]
    }
   ],
   "source": [
    "for i in range(0, 5):\n",
    "    print(i) # correct indentation"
   ]
  },
  {
   "cell_type": "code",
   "execution_count": 10,
   "id": "77f2fa34",
   "metadata": {},
   "outputs": [
    {
     "ename": "IndentationError",
     "evalue": "expected an indented block (<ipython-input-10-ae5432fb136b>, line 3)",
     "output_type": "error",
     "traceback": [
      "\u001b[1;36m  File \u001b[1;32m\"<ipython-input-10-ae5432fb136b>\"\u001b[1;36m, line \u001b[1;32m3\u001b[0m\n\u001b[1;33m    print(i)\u001b[0m\n\u001b[1;37m        ^\u001b[0m\n\u001b[1;31mIndentationError\u001b[0m\u001b[1;31m:\u001b[0m expected an indented block\n"
     ]
    }
   ],
   "source": [
    "# if indentation is skipped we will encounter \"IndentationError: expected an index\n",
    "for i in range (0,5):\n",
    "print(i)"
   ]
  },
  {
   "cell_type": "code",
   "execution_count": 12,
   "id": "e7b7a07e",
   "metadata": {},
   "outputs": [
    {
     "name": "stdout",
     "output_type": "stream",
     "text": [
      "0\n",
      "1\n",
      "2\n",
      "3\n",
      "4\n"
     ]
    }
   ],
   "source": [
    "for i in range(0,5): print(i) # correct indentation but less readable"
   ]
  },
  {
   "cell_type": "code",
   "execution_count": 14,
   "id": "fdd45ee0",
   "metadata": {},
   "outputs": [
    {
     "name": "stdout",
     "output_type": "stream",
     "text": [
      "0\n",
      "1\n",
      "2\n",
      "3\n",
      "4\n",
      "20\n"
     ]
    }
   ],
   "source": [
    "j = 20\n",
    "for i in range(0,5):\n",
    "    print(i)\n",
    "    # inside the for loop\n",
    "print(j)\n",
    "# outside the for loop"
   ]
  },
  {
   "cell_type": "markdown",
   "id": "225b0170",
   "metadata": {},
   "source": [
    "### Docstrings\n",
    "    1. Docstrings provide a convenient way of associating documentation with functions, classes,methods or modules.\n",
    "    2. They appear right after the definition of a function, method, class, or module.\n",
    "    "
   ]
  },
  {
   "cell_type": "code",
   "execution_count": 17,
   "id": "5d765059",
   "metadata": {},
   "outputs": [
    {
     "data": {
      "text/plain": [
       "4"
      ]
     },
     "execution_count": 17,
     "metadata": {},
     "output_type": "execute_result"
    }
   ],
   "source": [
    "def square (num):\n",
    "    '''Square Function :- This function will return the square of a number'''\n",
    "    return num **2\n",
    "square(2)"
   ]
  },
  {
   "cell_type": "code",
   "execution_count": 18,
   "id": "dd153fa0",
   "metadata": {},
   "outputs": [
    {
     "data": {
      "text/plain": [
       "'Square Function :- This function will return the square of a number'"
      ]
     },
     "execution_count": 18,
     "metadata": {},
     "output_type": "execute_result"
    }
   ],
   "source": [
    "square.__doc__"
   ]
  },
  {
   "cell_type": "code",
   "execution_count": 20,
   "id": "4a7695d8",
   "metadata": {},
   "outputs": [],
   "source": [
    "def evenodd(num):\n",
    "    '''evenodd Function :- This function will test whether a numbr is Even or Odd'''\n",
    "    if num % 2 == 0:\n",
    "        print(\"Even Number\")\n",
    "    else:\n",
    "        print(\"Odd Number\")"
   ]
  },
  {
   "cell_type": "code",
   "execution_count": 21,
   "id": "f6f53e73",
   "metadata": {},
   "outputs": [
    {
     "name": "stdout",
     "output_type": "stream",
     "text": [
      "Odd Number\n"
     ]
    }
   ],
   "source": [
    "evenodd(3)"
   ]
  },
  {
   "cell_type": "code",
   "execution_count": 22,
   "id": "75268716",
   "metadata": {},
   "outputs": [
    {
     "name": "stdout",
     "output_type": "stream",
     "text": [
      "Even Number\n"
     ]
    }
   ],
   "source": [
    "evenodd(2)"
   ]
  },
  {
   "cell_type": "code",
   "execution_count": 23,
   "id": "375588b8",
   "metadata": {},
   "outputs": [
    {
     "data": {
      "text/plain": [
       "'evenodd Function :- This function will test whether a numbr is Even or Odd'"
      ]
     },
     "execution_count": 23,
     "metadata": {},
     "output_type": "execute_result"
    }
   ],
   "source": [
    "evenodd.__doc__"
   ]
  },
  {
   "cell_type": "markdown",
   "id": "190f3281",
   "metadata": {},
   "source": [
    "### Variables\n",
    "    1.A Python variable is a reserved memory location to store values.A variable is created the momentyou first assign a value to it."
   ]
  },
  {
   "cell_type": "code",
   "execution_count": 24,
   "id": "fc246c85",
   "metadata": {},
   "outputs": [],
   "source": [
    "p = 30"
   ]
  },
  {
   "cell_type": "code",
   "execution_count": 30,
   "id": "2096b138",
   "metadata": {},
   "outputs": [
    {
     "data": {
      "text/plain": [
       "140736709358448"
      ]
     },
     "execution_count": 30,
     "metadata": {},
     "output_type": "execute_result"
    }
   ],
   "source": [
    "'''\n",
    "id() function returns the “identity” of the object. The identity of an object - Is an integer\n",
    "- Guaranteed to be unique\n",
    "- Constant for this object during its lifetime.\n",
    "'''\n",
    "id(p)"
   ]
  },
  {
   "cell_type": "code",
   "execution_count": 28,
   "id": "8eaaeafe",
   "metadata": {},
   "outputs": [
    {
     "data": {
      "text/plain": [
       "'0x7fffd19174b0'"
      ]
     },
     "execution_count": 28,
     "metadata": {},
     "output_type": "execute_result"
    }
   ],
   "source": [
    "hex(id(p)) # Memory address of the variable"
   ]
  },
  {
   "cell_type": "code",
   "execution_count": 35,
   "id": "788cb53a",
   "metadata": {},
   "outputs": [
    {
     "name": "stdout",
     "output_type": "stream",
     "text": [
      "140736709358448\n",
      "140736709358448\n",
      "140736709358448\n",
      "140736709358480\n"
     ]
    },
    {
     "data": {
      "text/plain": [
       "(20, int, '0x7fffd1917370')"
      ]
     },
     "execution_count": 35,
     "metadata": {},
     "output_type": "execute_result"
    }
   ],
   "source": [
    "p = 20 #Creates an integer object with value 20 and assigns the variable p to point\n",
    "print(id(p))\n",
    "q = 20 # Create new reference q which will point to value 20. p & q will be point\n",
    "print(id(q))\n",
    "r = q # variable r will also point to the same location where p & q are pointing\n",
    "print(id(q))\n",
    "w = 21\n",
    "print(id(w)) # w will referss the 21 location, which is printed. it will be different from p,q and r\n",
    "\n",
    "p, type(p), hex(id(p)) # Variable P is pointing to memory location '0x7fff6d71a3"
   ]
  },
  {
   "cell_type": "code",
   "execution_count": 37,
   "id": "a539a7b5",
   "metadata": {},
   "outputs": [
    {
     "data": {
      "text/plain": [
       "30"
      ]
     },
     "execution_count": 37,
     "metadata": {},
     "output_type": "execute_result"
    }
   ],
   "source": [
    "p = 20\n",
    "p = p + 10\n",
    "p"
   ]
  },
  {
   "cell_type": "markdown",
   "id": "ba7944ef",
   "metadata": {},
   "source": [
    "### Variable Assigment"
   ]
  },
  {
   "cell_type": "code",
   "execution_count": 38,
   "id": "d27daf3f",
   "metadata": {},
   "outputs": [
    {
     "name": "stdout",
     "output_type": "stream",
     "text": [
      "10\n",
      "2.57\n",
      "Python Language\n"
     ]
    }
   ],
   "source": [
    "intvar = 10 # Integer variable\n",
    "floatvar = 2.57 # Float Variable\n",
    "strvar = \"Python Language\" # String variable\n",
    "print(intvar)\n",
    "print(floatvar) \n",
    "print(strvar)"
   ]
  },
  {
   "cell_type": "markdown",
   "id": "957d9bb3",
   "metadata": {},
   "source": [
    "#### Multiple Assignments"
   ]
  },
  {
   "cell_type": "code",
   "execution_count": 2,
   "id": "166441e4",
   "metadata": {},
   "outputs": [
    {
     "name": "stdout",
     "output_type": "stream",
     "text": [
      "10\n",
      "2.57\n",
      "Python Language\n"
     ]
    }
   ],
   "source": [
    "intvar, floatvar, strvar = 10, 2.57, \"Python Language\"\n",
    "\n",
    "# Using commas to separate\n",
    "print(intvar)\n",
    "print(floatvar)\n",
    "print(strvar)"
   ]
  },
  {
   "cell_type": "code",
   "execution_count": 3,
   "id": "d516086a",
   "metadata": {},
   "outputs": [
    {
     "name": "stdout",
     "output_type": "stream",
     "text": [
      "44 44 44 44\n"
     ]
    }
   ],
   "source": [
    "p1 = p2 = p3 = p4 = 44 # All variables pointing to same value\n",
    "print(p1, p2, p3, p4)"
   ]
  },
  {
   "cell_type": "markdown",
   "id": "3fe2716a",
   "metadata": {},
   "source": [
    "## Data Types\n",
    "\n",
    "#### Numeric"
   ]
  },
  {
   "cell_type": "code",
   "execution_count": 5,
   "id": "c81be590",
   "metadata": {},
   "outputs": [
    {
     "name": "stdout",
     "output_type": "stream",
     "text": [
      "10\n",
      "<class 'int'>\n",
      "28\n",
      "10  is Integer? True\n"
     ]
    }
   ],
   "source": [
    "import sys\n",
    "val1 = 10 # Integer data type\n",
    "print(val1)\n",
    "print(type(val1)) # type of object\n",
    "print(sys.getsizeof(val1)) # size of integer object in bytes\n",
    "print(val1,\" is Integer?\", isinstance (val1, int)) # val1 is an instance of int class"
   ]
  },
  {
   "cell_type": "code",
   "execution_count": 6,
   "id": "1e14b07f",
   "metadata": {},
   "outputs": [
    {
     "name": "stdout",
     "output_type": "stream",
     "text": [
      "97.78\n",
      "<class 'float'>\n",
      "24\n",
      "97.78  is float? True\n"
     ]
    }
   ],
   "source": [
    "import sys\n",
    "val2 = 97.78 # Float data type\n",
    "print(val2)\n",
    "print(type(val2)) # type of object\n",
    "print(sys.getsizeof(val2)) # size of integer object in bytes\n",
    "print(val2,\" is float?\", isinstance (val2, float)) # val1 is an instance of int class"
   ]
  },
  {
   "cell_type": "code",
   "execution_count": 9,
   "id": "37ad9d95",
   "metadata": {},
   "outputs": [
    {
     "name": "stdout",
     "output_type": "stream",
     "text": [
      "(925+10j)\n",
      "<class 'complex'>\n",
      "32\n",
      "(925+10j)  is complex? True\n"
     ]
    }
   ],
   "source": [
    "import sys\n",
    "val3 = 925 + 10j # Complex data type\n",
    "print(val3)\n",
    "print(type(val3)) # type of object\n",
    "print(sys.getsizeof(val3)) # size of integer object in bytes\n",
    "print(val3,\" is complex?\", isinstance (val3, complex)) # val1 is an instance of int class"
   ]
  },
  {
   "cell_type": "code",
   "execution_count": 11,
   "id": "d683f587",
   "metadata": {},
   "outputs": [
    {
     "data": {
      "text/plain": [
       "24"
      ]
     },
     "execution_count": 11,
     "metadata": {},
     "output_type": "execute_result"
    }
   ],
   "source": [
    "sys.getsizeof(int()) # size of integer object in bytes"
   ]
  },
  {
   "cell_type": "code",
   "execution_count": 12,
   "id": "16f56434",
   "metadata": {},
   "outputs": [
    {
     "data": {
      "text/plain": [
       "24"
      ]
     },
     "execution_count": 12,
     "metadata": {},
     "output_type": "execute_result"
    }
   ],
   "source": [
    "sys.getsizeof(float()) # size of float object in bytes"
   ]
  },
  {
   "cell_type": "code",
   "execution_count": 13,
   "id": "9004a7fc",
   "metadata": {},
   "outputs": [
    {
     "data": {
      "text/plain": [
       "32"
      ]
     },
     "execution_count": 13,
     "metadata": {},
     "output_type": "execute_result"
    }
   ],
   "source": [
    "sys.getsizeof(complex()) # size of complex object in bytes"
   ]
  },
  {
   "cell_type": "markdown",
   "id": "708e1258",
   "metadata": {},
   "source": [
    "#### Boolean"
   ]
  },
  {
   "cell_type": "code",
   "execution_count": 18,
   "id": "3d4a7763",
   "metadata": {},
   "outputs": [
    {
     "name": "stdout",
     "output_type": "stream",
     "text": [
      "<class 'bool'>\n",
      "<class 'bool'>\n",
      "Instance of bool:  True\n"
     ]
    }
   ],
   "source": [
    "bool1 = True\n",
    "bool2 = False\n",
    "print(type(bool1))\n",
    "print(type(bool2))\n",
    "print(\"Instance of bool: \", isinstance(bool1, bool))"
   ]
  },
  {
   "cell_type": "code",
   "execution_count": 23,
   "id": "874d3ae0",
   "metadata": {},
   "outputs": [
    {
     "name": "stdout",
     "output_type": "stream",
     "text": [
      "False\n",
      "True\n",
      "False\n",
      "False\n"
     ]
    }
   ],
   "source": [
    "print(bool(0))\n",
    "print(bool(1))\n",
    "print(bool(None))\n",
    "print(bool(False))"
   ]
  },
  {
   "cell_type": "markdown",
   "id": "8bdee88b",
   "metadata": {},
   "source": [
    "### String"
   ]
  },
  {
   "cell_type": "code",
   "execution_count": 31,
   "id": "d3c4ef6c",
   "metadata": {},
   "outputs": [
    {
     "name": "stdout",
     "output_type": "stream",
     "text": [
      "Hello Python\n",
      "Hello World\n",
      "Hello Double quotes\n"
     ]
    }
   ],
   "source": [
    "# String Creation\n",
    "str1 = \"Hello Python\"\n",
    "print(str1)\n",
    "\n",
    "mystr = 'Hello World' # Define string using single quotes\n",
    "print(mystr)\n",
    "\n",
    "mystr = \"Hello Double quotes\" # Define string using single quotes\n",
    "print(mystr)"
   ]
  },
  {
   "cell_type": "code",
   "execution_count": 29,
   "id": "110ee06b",
   "metadata": {},
   "outputs": [
    {
     "name": "stdout",
     "output_type": "stream",
     "text": [
      "Hello \n",
      "multi\n",
      "line \n",
      "string\n",
      "\n"
     ]
    }
   ],
   "source": [
    "mystr = '''Hello \n",
    "multi\n",
    "line \n",
    "string\n",
    "''' # Define string using single quotes\n",
    "print(mystr)"
   ]
  },
  {
   "cell_type": "code",
   "execution_count": 32,
   "id": "352473ab",
   "metadata": {},
   "outputs": [
    {
     "name": "stdout",
     "output_type": "stream",
     "text": [
      "Hello \n",
      "multi\n",
      "line \n",
      "string\n",
      "\n"
     ]
    }
   ],
   "source": [
    "mystr = \"\"\"Hello \n",
    "multi\n",
    "line \n",
    "string\n",
    "\"\"\" # Define string using using triple quotes\n",
    "print(mystr)"
   ]
  },
  {
   "cell_type": "markdown",
   "id": "ebbd12cc",
   "metadata": {},
   "source": [
    "## Multiply string \n"
   ]
  },
  {
   "cell_type": "code",
   "execution_count": 33,
   "id": "d3cccc47",
   "metadata": {},
   "outputs": [
    {
     "data": {
      "text/plain": [
       "'Woohoo Woohoo Woohoo Woohoo Woohoo '"
      ]
     },
     "execution_count": 33,
     "metadata": {},
     "output_type": "execute_result"
    }
   ],
   "source": [
    "mystr2 = 'Woohoo '\n",
    "mystr2 = mystr2 * 5 \n",
    "mystr2"
   ]
  },
  {
   "cell_type": "code",
   "execution_count": 34,
   "id": "63f396db",
   "metadata": {},
   "outputs": [
    {
     "data": {
      "text/plain": [
       "35"
      ]
     },
     "execution_count": 34,
     "metadata": {},
     "output_type": "execute_result"
    }
   ],
   "source": [
    "len(mystr2)"
   ]
  },
  {
   "cell_type": "markdown",
   "id": "84e87223",
   "metadata": {},
   "source": [
    "### String Indexing"
   ]
  },
  {
   "cell_type": "code",
   "execution_count": 39,
   "id": "4f8ec3cd",
   "metadata": {},
   "outputs": [
    {
     "data": {
      "text/plain": [
       "35"
      ]
     },
     "execution_count": 39,
     "metadata": {},
     "output_type": "execute_result"
    }
   ],
   "source": [
    "len(mystr2)"
   ]
  },
  {
   "cell_type": "code",
   "execution_count": 40,
   "id": "5025fc83",
   "metadata": {},
   "outputs": [
    {
     "data": {
      "text/plain": [
       "'Hello Python'"
      ]
     },
     "execution_count": 40,
     "metadata": {},
     "output_type": "execute_result"
    }
   ],
   "source": [
    "str1"
   ]
  },
  {
   "cell_type": "code",
   "execution_count": 41,
   "id": "e4d58775",
   "metadata": {},
   "outputs": [
    {
     "data": {
      "text/plain": [
       "'H'"
      ]
     },
     "execution_count": 41,
     "metadata": {},
     "output_type": "execute_result"
    }
   ],
   "source": [
    "str1[0] # First character in string \"str1\""
   ]
  },
  {
   "cell_type": "code",
   "execution_count": 45,
   "id": "dae4b742",
   "metadata": {},
   "outputs": [
    {
     "name": "stdout",
     "output_type": "stream",
     "text": [
      "n\n",
      "n\n"
     ]
    }
   ],
   "source": [
    "print(str1[len(str1) - 1]) # Last character in string using len function\n",
    "print(str1[-1]) # Last character in string"
   ]
  },
  {
   "cell_type": "code",
   "execution_count": 46,
   "id": "66a88d88",
   "metadata": {},
   "outputs": [
    {
     "data": {
      "text/plain": [
       "'P'"
      ]
     },
     "execution_count": 46,
     "metadata": {},
     "output_type": "execute_result"
    }
   ],
   "source": [
    "str1[6] #Fetch 7th element of the string"
   ]
  },
  {
   "cell_type": "code",
   "execution_count": 48,
   "id": "639e7a51",
   "metadata": {},
   "outputs": [
    {
     "name": "stdout",
     "output_type": "stream",
     "text": [
      " \n"
     ]
    }
   ],
   "source": [
    "print(str1[5])"
   ]
  },
  {
   "cell_type": "markdown",
   "id": "e398e88c",
   "metadata": {},
   "source": [
    "### String Slicing"
   ]
  },
  {
   "cell_type": "code",
   "execution_count": 50,
   "id": "c8ebb9a4",
   "metadata": {},
   "outputs": [
    {
     "data": {
      "text/plain": [
       "'Hello'"
      ]
     },
     "execution_count": 50,
     "metadata": {},
     "output_type": "execute_result"
    }
   ],
   "source": [
    "str1[0:5] # String slicing - Fetch all characters from 0 to 5 index location excluding other elements"
   ]
  },
  {
   "cell_type": "code",
   "execution_count": 53,
   "id": "608a33cb",
   "metadata": {},
   "outputs": [
    {
     "data": {
      "text/plain": [
       "'Python'"
      ]
     },
     "execution_count": 53,
     "metadata": {},
     "output_type": "execute_result"
    }
   ],
   "source": [
    "str1[6:12] # String slicing - Retreive all characters between 6 - 12 index loc excluding other elements"
   ]
  },
  {
   "cell_type": "code",
   "execution_count": 58,
   "id": "bdb46940",
   "metadata": {},
   "outputs": [
    {
     "data": {
      "text/plain": [
       "'o Python'"
      ]
     },
     "execution_count": 58,
     "metadata": {},
     "output_type": "execute_result"
    }
   ],
   "source": [
    "str1[-4:] # Retreive last four characters of the string"
   ]
  },
  {
   "cell_type": "code",
   "execution_count": 59,
   "id": "20f909c2",
   "metadata": {},
   "outputs": [
    {
     "data": {
      "text/plain": [
       "'Python'"
      ]
     },
     "execution_count": 59,
     "metadata": {},
     "output_type": "execute_result"
    }
   ],
   "source": [
    "str1[-6:] # Retreive last six characters of the string"
   ]
  },
  {
   "cell_type": "code",
   "execution_count": 60,
   "id": "b21e4a14",
   "metadata": {},
   "outputs": [
    {
     "data": {
      "text/plain": [
       "'Hell'"
      ]
     },
     "execution_count": 60,
     "metadata": {},
     "output_type": "execute_result"
    }
   ],
   "source": [
    "str1[:4] # Retreive first four characters of the string"
   ]
  },
  {
   "cell_type": "code",
   "execution_count": 61,
   "id": "4c8da67b",
   "metadata": {},
   "outputs": [
    {
     "data": {
      "text/plain": [
       "'Hello '"
      ]
     },
     "execution_count": 61,
     "metadata": {},
     "output_type": "execute_result"
    }
   ],
   "source": [
    "str1[:6] # Retreive first six characters of the string"
   ]
  },
  {
   "cell_type": "code",
   "execution_count": 62,
   "id": "8cd8d7bf",
   "metadata": {},
   "outputs": [
    {
     "data": {
      "text/plain": [
       "'Hello Python'"
      ]
     },
     "execution_count": 62,
     "metadata": {},
     "output_type": "execute_result"
    }
   ],
   "source": [
    "str1"
   ]
  },
  {
   "cell_type": "markdown",
   "id": "453f80d6",
   "metadata": {},
   "source": [
    "### Update & Delete String"
   ]
  },
  {
   "cell_type": "code",
   "execution_count": 65,
   "id": "363c7734",
   "metadata": {},
   "outputs": [
    {
     "ename": "TypeError",
     "evalue": "'str' object does not support item assignment",
     "output_type": "error",
     "traceback": [
      "\u001b[1;31m---------------------------------------------------------------------------\u001b[0m",
      "\u001b[1;31mTypeError\u001b[0m                                 Traceback (most recent call last)",
      "\u001b[1;32m<ipython-input-65-71e50137b467>\u001b[0m in \u001b[0;36m<module>\u001b[1;34m\u001b[0m\n\u001b[0;32m      1\u001b[0m \u001b[1;31m#Strings are immutable which means elements of a string cannot be changed once the value\u001b[0m\u001b[1;33m\u001b[0m\u001b[1;33m\u001b[0m\u001b[1;33m\u001b[0m\u001b[0m\n\u001b[1;32m----> 2\u001b[1;33m \u001b[0mstr1\u001b[0m\u001b[1;33m[\u001b[0m\u001b[1;36m0\u001b[0m\u001b[1;33m:\u001b[0m\u001b[1;36m5\u001b[0m\u001b[1;33m]\u001b[0m \u001b[1;33m=\u001b[0m \u001b[1;34m'HOLAA'\u001b[0m\u001b[1;33m\u001b[0m\u001b[1;33m\u001b[0m\u001b[0m\n\u001b[0m",
      "\u001b[1;31mTypeError\u001b[0m: 'str' object does not support item assignment"
     ]
    }
   ],
   "source": [
    "#Strings are immutable which means elements of a string cannot be changed once the value\n",
    "str1[0:5] = 'HOLAA'"
   ]
  },
  {
   "cell_type": "code",
   "execution_count": 66,
   "id": "7b8ec1ac",
   "metadata": {},
   "outputs": [
    {
     "ename": "NameError",
     "evalue": "name 'srt1' is not defined",
     "output_type": "error",
     "traceback": [
      "\u001b[1;31m---------------------------------------------------------------------------\u001b[0m",
      "\u001b[1;31mNameError\u001b[0m                                 Traceback (most recent call last)",
      "\u001b[1;32m<ipython-input-66-7fcc0cc83dcc>\u001b[0m in \u001b[0;36m<module>\u001b[1;34m\u001b[0m\n\u001b[0;32m      1\u001b[0m \u001b[1;32mdel\u001b[0m \u001b[0mstr1\u001b[0m \u001b[1;31m# Delete a string\u001b[0m\u001b[1;33m\u001b[0m\u001b[1;33m\u001b[0m\u001b[0m\n\u001b[1;32m----> 2\u001b[1;33m \u001b[0mprint\u001b[0m\u001b[1;33m(\u001b[0m\u001b[0msrt1\u001b[0m\u001b[1;33m)\u001b[0m\u001b[1;33m\u001b[0m\u001b[1;33m\u001b[0m\u001b[0m\n\u001b[0m",
      "\u001b[1;31mNameError\u001b[0m: name 'srt1' is not defined"
     ]
    }
   ],
   "source": [
    "del str1 # Delete a string\n",
    "print(srt1)"
   ]
  },
  {
   "cell_type": "markdown",
   "id": "a28aa5e4",
   "metadata": {},
   "source": [
    "### String concatenation"
   ]
  },
  {
   "cell_type": "code",
   "execution_count": 68,
   "id": "0a3b828e",
   "metadata": {},
   "outputs": [
    {
     "name": "stdout",
     "output_type": "stream",
     "text": [
      "HelloAsif\n"
     ]
    }
   ],
   "source": [
    "# String concatenation\n",
    "s1 = \"Hello\"\n",
    "s2 = \"Asif\"\n",
    "s3 = s1 + s2\n",
    "print(s3)"
   ]
  },
  {
   "cell_type": "code",
   "execution_count": 69,
   "id": "96a378cf",
   "metadata": {},
   "outputs": [
    {
     "name": "stdout",
     "output_type": "stream",
     "text": [
      "Hello Asif\n"
     ]
    }
   ],
   "source": [
    "s1 = \"Hello\"\n",
    "s2 = \"Asif\"\n",
    "s3 =  s1 + \" \" + s2\n",
    "print(s3)"
   ]
  },
  {
   "cell_type": "markdown",
   "id": "d637821b",
   "metadata": {},
   "source": [
    "### Iterating through a String"
   ]
  },
  {
   "cell_type": "code",
   "execution_count": 72,
   "id": "8ae81565",
   "metadata": {},
   "outputs": [
    {
     "name": "stdout",
     "output_type": "stream",
     "text": [
      "H\n",
      "e\n",
      "l\n",
      "l\n",
      "o\n",
      " \n",
      "E\n",
      "v\n",
      "e\n",
      "r\n",
      "y\n",
      "o\n",
      "n\n",
      "e\n"
     ]
    }
   ],
   "source": [
    "mystr1 = \"Hello Everyone\"\n",
    "# Iteration\n",
    "for i in mystr1:\n",
    "    print(i)"
   ]
  },
  {
   "cell_type": "code",
   "execution_count": 73,
   "id": "8dc9b94f",
   "metadata": {},
   "outputs": [
    {
     "name": "stdout",
     "output_type": "stream",
     "text": [
      "(0, 'H')\n",
      "(1, 'e')\n",
      "(2, 'l')\n",
      "(3, 'l')\n",
      "(4, 'o')\n",
      "(5, ' ')\n",
      "(6, 'E')\n",
      "(7, 'v')\n",
      "(8, 'e')\n",
      "(9, 'r')\n",
      "(10, 'y')\n",
      "(11, 'o')\n",
      "(12, 'n')\n",
      "(13, 'e')\n"
     ]
    }
   ],
   "source": [
    "for i in enumerate(mystr1):\n",
    "    print(i)"
   ]
  },
  {
   "cell_type": "code",
   "execution_count": 74,
   "id": "30dec747",
   "metadata": {},
   "outputs": [
    {
     "data": {
      "text/plain": [
       "[(0, 'H'),\n",
       " (1, 'e'),\n",
       " (2, 'l'),\n",
       " (3, 'l'),\n",
       " (4, 'o'),\n",
       " (5, ' '),\n",
       " (6, 'E'),\n",
       " (7, 'v'),\n",
       " (8, 'e'),\n",
       " (9, 'r'),\n",
       " (10, 'y'),\n",
       " (11, 'o'),\n",
       " (12, 'n'),\n",
       " (13, 'e')]"
      ]
     },
     "execution_count": 74,
     "metadata": {},
     "output_type": "execute_result"
    }
   ],
   "source": [
    "list(enumerate(mystr1)) # Enumerate method adds a counter to an iterable and return"
   ]
  },
  {
   "cell_type": "markdown",
   "id": "33f220d0",
   "metadata": {},
   "source": [
    "#### String Membership"
   ]
  },
  {
   "cell_type": "code",
   "execution_count": 75,
   "id": "d0502fc5",
   "metadata": {},
   "outputs": [
    {
     "name": "stdout",
     "output_type": "stream",
     "text": [
      "True\n",
      "True\n",
      "False\n"
     ]
    }
   ],
   "source": [
    "# String membership\n",
    "mystr1 = \"Hello Everyone\"\n",
    "\n",
    "print('Hello' in mystr1) # Check whether substring \"Hello\" is present in string\n",
    "print('Everyone' in mystr1) # Check whether substring \"Everyone\" is present in string \"mystr1\"\n",
    "print('Hi' in mystr1) # Check whether substring \"Hi\" is present in string \"mystr1\""
   ]
  },
  {
   "cell_type": "markdown",
   "id": "9f69e6fe",
   "metadata": {},
   "source": [
    "### String Partitioning"
   ]
  },
  {
   "cell_type": "code",
   "execution_count": 78,
   "id": "675e5887",
   "metadata": {},
   "outputs": [
    {
     "name": "stdout",
     "output_type": "stream",
     "text": [
      "Natural language processing with Python \n",
      "and\n",
      " R and Java\n"
     ]
    }
   ],
   "source": [
    "\"\"\"\n",
    "The partition() method searches for a specified string and splits the string into\n",
    "\n",
    "- The first element contains the part before the argument string.\n",
    "\n",
    "- The second element contains the argument string.\n",
    "\n",
    "- The third element contains the part after the argument string.\n",
    "\n",
    "\"\"\"\n",
    "str5 = \"Natural language processing with Python and R and Java\"\n",
    "L = str5.partition(\"and\")\n",
    "print(L[0])\n",
    "print(L[1])\n",
    "print(L[2])"
   ]
  },
  {
   "cell_type": "code",
   "execution_count": 79,
   "id": "2d199e39",
   "metadata": {},
   "outputs": [
    {
     "name": "stdout",
     "output_type": "stream",
     "text": [
      "('Natural language processing with Python and R ', 'and', ' Java')\n"
     ]
    }
   ],
   "source": [
    "\"\"\"\n",
    "The rpartition() method searches for the last occurence of the specified string a\n",
    "containing three elements.\n",
    "- The first element contains the part before the argument string.\n",
    "- The second element contains the argument string.\n",
    "- The third element contains the part after the argument string.\n",
    "\"\"\"\n",
    "str5 = \"Natural language processing with Python and R and Java\"\n",
    "L = str5.rpartition(\"and\")\n",
    "print(L)"
   ]
  },
  {
   "cell_type": "markdown",
   "id": "019cdb6c",
   "metadata": {},
   "source": [
    "### String Functions"
   ]
  },
  {
   "cell_type": "code",
   "execution_count": 80,
   "id": "e4bb68db",
   "metadata": {},
   "outputs": [
    {
     "data": {
      "text/plain": [
       "' Hello Everyone '"
      ]
     },
     "execution_count": 80,
     "metadata": {},
     "output_type": "execute_result"
    }
   ],
   "source": [
    "mystr2 = \" Hello Everyone \"\n",
    "mystr2"
   ]
  },
  {
   "cell_type": "code",
   "execution_count": 81,
   "id": "d5587359",
   "metadata": {},
   "outputs": [
    {
     "data": {
      "text/plain": [
       "'Hello Everyone'"
      ]
     },
     "execution_count": 81,
     "metadata": {},
     "output_type": "execute_result"
    }
   ],
   "source": [
    "mystr2.strip() # Removes white space from begining & end"
   ]
  },
  {
   "cell_type": "code",
   "execution_count": 82,
   "id": "cd502f72",
   "metadata": {},
   "outputs": [
    {
     "data": {
      "text/plain": [
       "' Hello Everyone'"
      ]
     },
     "execution_count": 82,
     "metadata": {},
     "output_type": "execute_result"
    }
   ],
   "source": [
    "mystr2.rstrip() # Removes all whitespaces at the end of the string"
   ]
  },
  {
   "cell_type": "code",
   "execution_count": 83,
   "id": "3e57af50",
   "metadata": {},
   "outputs": [
    {
     "data": {
      "text/plain": [
       "'Hello Everyone '"
      ]
     },
     "execution_count": 83,
     "metadata": {},
     "output_type": "execute_result"
    }
   ],
   "source": [
    "mystr2.lstrip() # Removes all whitespaces at the begining of the string"
   ]
  },
  {
   "cell_type": "code",
   "execution_count": 84,
   "id": "16d355fb",
   "metadata": {},
   "outputs": [
    {
     "data": {
      "text/plain": [
       "'*********Hello Everyone***********All the Best**********'"
      ]
     },
     "execution_count": 84,
     "metadata": {},
     "output_type": "execute_result"
    }
   ],
   "source": [
    "mystr2 = \"*********Hello Everyone***********All the Best**********\"\n",
    "mystr2"
   ]
  },
  {
   "cell_type": "code",
   "execution_count": 86,
   "id": "2dcf8e80",
   "metadata": {},
   "outputs": [
    {
     "data": {
      "text/plain": [
       "'Hello Everyone***********All the Best'"
      ]
     },
     "execution_count": 86,
     "metadata": {},
     "output_type": "execute_result"
    }
   ],
   "source": [
    "mystr2.strip('*') # Removes all '*' characters from begining & end of the string"
   ]
  },
  {
   "cell_type": "code",
   "execution_count": 88,
   "id": "5aa821a1",
   "metadata": {},
   "outputs": [
    {
     "data": {
      "text/plain": [
       "'*********Hello Everyone***********All the Best'"
      ]
     },
     "execution_count": 88,
     "metadata": {},
     "output_type": "execute_result"
    }
   ],
   "source": [
    "mystr2.rstrip('*') # Removes all '*' characters at the end of the string"
   ]
  },
  {
   "cell_type": "code",
   "execution_count": 89,
   "id": "ca5a64b9",
   "metadata": {},
   "outputs": [
    {
     "data": {
      "text/plain": [
       "'Hello Everyone***********All the Best**********'"
      ]
     },
     "execution_count": 89,
     "metadata": {},
     "output_type": "execute_result"
    }
   ],
   "source": [
    "mystr2.lstrip('*') # Removes all '*' characters at the begining of the string"
   ]
  },
  {
   "cell_type": "code",
   "execution_count": 90,
   "id": "1af4a427",
   "metadata": {},
   "outputs": [],
   "source": [
    "mystr2 = \" Hello Everyone \""
   ]
  },
  {
   "cell_type": "code",
   "execution_count": 91,
   "id": "c91b89b4",
   "metadata": {},
   "outputs": [
    {
     "data": {
      "text/plain": [
       "' hello everyone '"
      ]
     },
     "execution_count": 91,
     "metadata": {},
     "output_type": "execute_result"
    }
   ],
   "source": [
    "mystr2.lower() # Return whole string in lowercase"
   ]
  },
  {
   "cell_type": "code",
   "execution_count": 92,
   "id": "3b749c14",
   "metadata": {},
   "outputs": [
    {
     "data": {
      "text/plain": [
       "' HELLO EVERYONE '"
      ]
     },
     "execution_count": 92,
     "metadata": {},
     "output_type": "execute_result"
    }
   ],
   "source": [
    "mystr2.upper() # Return whole string in uppercase"
   ]
  },
  {
   "cell_type": "code",
   "execution_count": 93,
   "id": "388239e1",
   "metadata": {},
   "outputs": [
    {
     "data": {
      "text/plain": [
       "' Hollo Everyone '"
      ]
     },
     "execution_count": 93,
     "metadata": {},
     "output_type": "execute_result"
    }
   ],
   "source": [
    "mystr2.replace(\"He\",\"Ho\") #Replace substring \"He\" with \"Ho\""
   ]
  },
  {
   "cell_type": "code",
   "execution_count": 99,
   "id": "01e7ecff",
   "metadata": {},
   "outputs": [
    {
     "data": {
      "text/plain": [
       "'HelloEveryone'"
      ]
     },
     "execution_count": 99,
     "metadata": {},
     "output_type": "execute_result"
    }
   ],
   "source": [
    "mystr2.replace(\" \",\"\") # Remove all whitespaces using replace function"
   ]
  },
  {
   "cell_type": "code",
   "execution_count": 98,
   "id": "d449e8ed",
   "metadata": {},
   "outputs": [],
   "source": [
    "mystr5 = \"one two Three one two two three\""
   ]
  },
  {
   "cell_type": "code",
   "execution_count": 97,
   "id": "6593d553",
   "metadata": {},
   "outputs": [
    {
     "data": {
      "text/plain": [
       "2"
      ]
     },
     "execution_count": 97,
     "metadata": {},
     "output_type": "execute_result"
    }
   ],
   "source": [
    "mystr5.count(\"one\") # Number of times substring \"one\" occurred in string."
   ]
  },
  {
   "cell_type": "code",
   "execution_count": 100,
   "id": "fa78584a",
   "metadata": {},
   "outputs": [
    {
     "data": {
      "text/plain": [
       "3"
      ]
     },
     "execution_count": 100,
     "metadata": {},
     "output_type": "execute_result"
    }
   ],
   "source": [
    "mystr5.count(\"two\") # Number of times substring \"two\" occurred in string."
   ]
  },
  {
   "cell_type": "code",
   "execution_count": 101,
   "id": "fdae3f72",
   "metadata": {},
   "outputs": [
    {
     "data": {
      "text/plain": [
       "True"
      ]
     },
     "execution_count": 101,
     "metadata": {},
     "output_type": "execute_result"
    }
   ],
   "source": [
    "mystr5.startswith(\"one\") # Return boolean value True if string starts with \"one\""
   ]
  },
  {
   "cell_type": "code",
   "execution_count": 102,
   "id": "cbd677dc",
   "metadata": {},
   "outputs": [
    {
     "data": {
      "text/plain": [
       "True"
      ]
     },
     "execution_count": 102,
     "metadata": {},
     "output_type": "execute_result"
    }
   ],
   "source": [
    "mystr5.endswith(\"three\") # Return boolean value True if string ends with \"three\""
   ]
  },
  {
   "cell_type": "code",
   "execution_count": 105,
   "id": "529b22d6",
   "metadata": {},
   "outputs": [],
   "source": [
    "mystr4 = \"one two three four one two two three five five six seven six seven one one, one, ten, eight, ten, nine, eleven, ten, ten, nine\""
   ]
  },
  {
   "cell_type": "code",
   "execution_count": 107,
   "id": "179e3e4e",
   "metadata": {},
   "outputs": [
    {
     "data": {
      "text/plain": [
       "['one',\n",
       " 'two',\n",
       " 'three',\n",
       " 'four',\n",
       " 'one',\n",
       " 'two',\n",
       " 'two',\n",
       " 'three',\n",
       " 'five',\n",
       " 'five',\n",
       " 'six',\n",
       " 'seven',\n",
       " 'six',\n",
       " 'seven',\n",
       " 'one',\n",
       " 'one,',\n",
       " 'one,',\n",
       " 'ten,',\n",
       " 'eight,',\n",
       " 'ten,',\n",
       " 'nine,',\n",
       " 'eleven,',\n",
       " 'ten,',\n",
       " 'ten,',\n",
       " 'nine']"
      ]
     },
     "execution_count": 107,
     "metadata": {},
     "output_type": "execute_result"
    }
   ],
   "source": [
    "mylist = mystr4.split() # Split String into substrings\n",
    "mylist"
   ]
  },
  {
   "cell_type": "code",
   "execution_count": 108,
   "id": "f0ec6672",
   "metadata": {},
   "outputs": [
    {
     "name": "stdout",
     "output_type": "stream",
     "text": [
      "Cost of item1 , item2 and item3 are 40 , 55 and 77\n"
     ]
    }
   ],
   "source": [
    "# Combining string & numbers using format method\n",
    "item1 = 40\n",
    "item2 = 55\n",
    "item3 = 77 \n",
    "res = \"Cost of item1 , item2 and item3 are {} , {} and {}\"\n",
    "print(res.format(item1, item2, item3))"
   ]
  },
  {
   "cell_type": "code",
   "execution_count": 110,
   "id": "ceb9739e",
   "metadata": {},
   "outputs": [
    {
     "name": "stdout",
     "output_type": "stream",
     "text": [
      "Cost of item3 , item2 and item1 are 77, 55 and 40\n"
     ]
    }
   ],
   "source": [
    "# Combining string & numbers using format method\n",
    "item1 = 40\n",
    "item2 = 55\n",
    "item3 = 77 \n",
    "res = \"Cost of item3 , item2 and item1 are {2}, {1} and {0}\"\n",
    "print(res.format(item1, item2, item3))"
   ]
  },
  {
   "cell_type": "code",
   "execution_count": 113,
   "id": "a6421cbd",
   "metadata": {},
   "outputs": [
    {
     "name": "stdout",
     "output_type": "stream",
     "text": [
      "                                          WELCOME EVERYONE                                          \n"
     ]
    }
   ],
   "source": [
    "str2 = \" WELCOME EVERYONE \"\n",
    "str2 = str2.center(100)\n",
    "# center align the string using a specific character as t\n",
    "print(str2)"
   ]
  },
  {
   "cell_type": "code",
   "execution_count": 114,
   "id": "d04e6485",
   "metadata": {},
   "outputs": [
    {
     "name": "stdout",
     "output_type": "stream",
     "text": [
      "***************************************** WELCOME EVERYONE *****************************************\n"
     ]
    }
   ],
   "source": [
    "str2 = \" WELCOME EVERYONE \"\n",
    "str2 = str2.center(100, '*') # center align the string using a specific character\n",
    "print(str2)"
   ]
  },
  {
   "cell_type": "code",
   "execution_count": 115,
   "id": "459e2bee",
   "metadata": {},
   "outputs": [
    {
     "name": "stdout",
     "output_type": "stream",
     "text": [
      "                                 WELCOME EVERYONE \n"
     ]
    }
   ],
   "source": [
    "str2 = \" WELCOME EVERYONE \"\n",
    "str2 = str2.rjust(50) # Right align the string using a specific character as the\n",
    "print(str2)"
   ]
  },
  {
   "cell_type": "code",
   "execution_count": 116,
   "id": "10cbc9d9",
   "metadata": {},
   "outputs": [
    {
     "name": "stdout",
     "output_type": "stream",
     "text": [
      "******************************** WELCOME EVERYONE \n"
     ]
    }
   ],
   "source": [
    "str2 = \" WELCOME EVERYONE \"\n",
    "str2 = str2.rjust(50,'*') # Right align the string using a specific character ('*\n",
    "print(str2)"
   ]
  },
  {
   "cell_type": "code",
   "execution_count": 117,
   "id": "74823d58",
   "metadata": {},
   "outputs": [
    {
     "name": "stdout",
     "output_type": "stream",
     "text": [
      "19\n"
     ]
    }
   ],
   "source": [
    "str4 = \"one two three four five six seven\"\n",
    "loc = str4.find(\"five\") # Find the location of word 'five' in the string \"str4\"\n",
    "print(loc)"
   ]
  },
  {
   "cell_type": "code",
   "execution_count": 118,
   "id": "40a02cd3",
   "metadata": {},
   "outputs": [
    {
     "name": "stdout",
     "output_type": "stream",
     "text": [
      "19\n"
     ]
    }
   ],
   "source": [
    "str4 = \"one two three four five six seven\"\n",
    "loc = str4.index(\"five\") # Find the location of word 'five' in the string \"str4\"\n",
    "print(loc)"
   ]
  },
  {
   "cell_type": "code",
   "execution_count": 120,
   "id": "e413d8f5",
   "metadata": {},
   "outputs": [
    {
     "name": "stdout",
     "output_type": "stream",
     "text": [
      "False\n",
      "True\n",
      "True\n",
      "True\n"
     ]
    }
   ],
   "source": [
    "mystr6 = '123456789'\n",
    "print(mystr6.isalpha()) # returns True if all the characters in the text are letter\n",
    "print(mystr6.isalnum()) # returns True if a string contains only letters or numbers\n",
    "print(mystr6.isdecimal()) # returns True if all the characters are decimals (0-9)\n",
    "print(mystr6.isnumeric()) # returns True if all the characters are numeric (0-9)"
   ]
  },
  {
   "cell_type": "code",
   "execution_count": 121,
   "id": "87dd8b90",
   "metadata": {},
   "outputs": [
    {
     "name": "stdout",
     "output_type": "stream",
     "text": [
      "True\n",
      "True\n",
      "False\n",
      "False\n"
     ]
    }
   ],
   "source": [
    "mystr6 = 'abcde'\n",
    "print(mystr6.isalpha()) # returns True if all the characters in the text are lett\n",
    "print(mystr6.isalnum()) # returns True if a string contains only letters or numb\n",
    "print(mystr6.isdecimal()) # returns True if all the characters are decimals (0-9)\n",
    "print(mystr6.isnumeric()) # returns True if all the characters are numeric (0-9)"
   ]
  },
  {
   "cell_type": "code",
   "execution_count": 122,
   "id": "433d8152",
   "metadata": {},
   "outputs": [
    {
     "name": "stdout",
     "output_type": "stream",
     "text": [
      "False\n",
      "True\n",
      "False\n",
      "False\n"
     ]
    }
   ],
   "source": [
    "mystr6 = 'abc12309'\n",
    "print(mystr6.isalpha())\n",
    "# returns True if all the characters in the text are lett\n",
    "print(mystr6.isalnum())\n",
    "# returns True if a string contains only letters or numb\n",
    "print(mystr6.isdecimal()) # returns True if all the characters are decimals (0-9)\n",
    "print(mystr6.isnumeric ()) # returns True if all the characters are numeric (0-9)"
   ]
  },
  {
   "cell_type": "code",
   "execution_count": 123,
   "id": "8d4b7a68",
   "metadata": {},
   "outputs": [
    {
     "name": "stdout",
     "output_type": "stream",
     "text": [
      "True\n",
      "False\n"
     ]
    }
   ],
   "source": [
    "mystr7 = 'ABCDEF'\n",
    "print(mystr7.isupper())   # Returns True if all the characters are in upper case\n",
    "print(mystr7.islower()) # Returns True if all the characters are in lower case"
   ]
  },
  {
   "cell_type": "code",
   "execution_count": 124,
   "id": "52df5dfd",
   "metadata": {},
   "outputs": [
    {
     "name": "stdout",
     "output_type": "stream",
     "text": [
      "False\n",
      "True\n"
     ]
    }
   ],
   "source": [
    "mystr8 = 'abcdef'\n",
    "print(mystr8.isupper()) # Returns True if all the characters are in upper case\n",
    "print(mystr8.islower()) # Returns True if all the characters are in lower case"
   ]
  },
  {
   "cell_type": "code",
   "execution_count": 126,
   "id": "a402175a",
   "metadata": {},
   "outputs": [
    {
     "name": "stdout",
     "output_type": "stream",
     "text": [
      "51\n"
     ]
    }
   ],
   "source": [
    "str6 = \"one two three four one two two three five five six one ten eight ten nine\"\n",
    "loc = str6.rfind(\"one\") # last occurrence of word 'one' in string \"str6\"\n",
    "print(loc)"
   ]
  },
  {
   "cell_type": "code",
   "execution_count": 127,
   "id": "36bb56e4",
   "metadata": {},
   "outputs": [
    {
     "name": "stdout",
     "output_type": "stream",
     "text": [
      "51\n"
     ]
    }
   ],
   "source": [
    "loc = str6.rindex(\"one\") # last occurrence of word 'one' in string \"str6\"\n",
    "print(loc)"
   ]
  },
  {
   "cell_type": "code",
   "execution_count": 128,
   "id": "81764b9e",
   "metadata": {},
   "outputs": [
    {
     "data": {
      "text/plain": [
       "' abc def ghi'"
      ]
     },
     "execution_count": 128,
     "metadata": {},
     "output_type": "execute_result"
    }
   ],
   "source": [
    "txt = \" abc def ghi \"\n",
    "txt.rstrip()"
   ]
  },
  {
   "cell_type": "code",
   "execution_count": 129,
   "id": "05b4567d",
   "metadata": {},
   "outputs": [
    {
     "data": {
      "text/plain": [
       "'abc def ghi '"
      ]
     },
     "execution_count": 129,
     "metadata": {},
     "output_type": "execute_result"
    }
   ],
   "source": [
    "txt = \" abc def ghi \"\n",
    "txt.lstrip()"
   ]
  },
  {
   "cell_type": "code",
   "execution_count": 130,
   "id": "18830e64",
   "metadata": {},
   "outputs": [
    {
     "data": {
      "text/plain": [
       "'abc def ghi'"
      ]
     },
     "execution_count": 130,
     "metadata": {},
     "output_type": "execute_result"
    }
   ],
   "source": [
    "txt = \" abc def ghi \"\n",
    "txt.strip()"
   ]
  },
  {
   "cell_type": "markdown",
   "id": "d0584e00",
   "metadata": {},
   "source": [
    "### Using Escape Character"
   ]
  },
  {
   "cell_type": "code",
   "execution_count": 131,
   "id": "3837c7c4",
   "metadata": {},
   "outputs": [
    {
     "ename": "SyntaxError",
     "evalue": "invalid syntax (<ipython-input-131-4dd51e12dc57>, line 2)",
     "output_type": "error",
     "traceback": [
      "\u001b[1;36m  File \u001b[1;32m\"<ipython-input-131-4dd51e12dc57>\"\u001b[1;36m, line \u001b[1;32m2\u001b[0m\n\u001b[1;33m    mystr = \"My favourite TV Series is \"Game of Thrones \"\"\u001b[0m\n\u001b[1;37m                                           ^\u001b[0m\n\u001b[1;31mSyntaxError\u001b[0m\u001b[1;31m:\u001b[0m invalid syntax\n"
     ]
    }
   ],
   "source": [
    "#Using double quotes in the string is not allowed.\n",
    "mystr = \"My favourite TV Series is \"Game of Thrones \"\""
   ]
  },
  {
   "cell_type": "code",
   "execution_count": 132,
   "id": "b27c51d5",
   "metadata": {},
   "outputs": [
    {
     "name": "stdout",
     "output_type": "stream",
     "text": [
      "My favourite series is \"Game of Thrones\"\n"
     ]
    }
   ],
   "source": [
    "#Using escape character to allow illegal characters\n",
    "mystr = \"My favourite series is \\\"Game of Thrones\\\"\"\n",
    "print(mystr)"
   ]
  },
  {
   "cell_type": "markdown",
   "id": "f73d70d8",
   "metadata": {},
   "source": [
    "## List\n",
    "1. List is an ordered sequence of items.\n",
    "2. We can have different data types under a list. E.g we can have integer, float and string items ina same list."
   ]
  },
  {
   "cell_type": "markdown",
   "id": "3034b08a",
   "metadata": {},
   "source": [
    "### List Creation"
   ]
  },
  {
   "cell_type": "code",
   "execution_count": 137,
   "id": "bedd0840",
   "metadata": {},
   "outputs": [
    {
     "name": "stdout",
     "output_type": "stream",
     "text": [
      "[]\n",
      "<class 'list'>\n"
     ]
    }
   ],
   "source": [
    "list1 = [] # Empty List\n",
    "print(list1)\n",
    "print(type(list1))"
   ]
  },
  {
   "cell_type": "code",
   "execution_count": 138,
   "id": "79b3ceca",
   "metadata": {},
   "outputs": [],
   "source": [
    "list2 = [10, 30, 60] # List of integers numbers"
   ]
  },
  {
   "cell_type": "code",
   "execution_count": 139,
   "id": "613378cc",
   "metadata": {},
   "outputs": [],
   "source": [
    "list3 = [10.77,30.66,60.89] # List of float numbers"
   ]
  },
  {
   "cell_type": "code",
   "execution_count": 140,
   "id": "4ab3aa7a",
   "metadata": {},
   "outputs": [],
   "source": [
    "list4 = ['one','two',\"three\"] # List of strings"
   ]
  },
  {
   "cell_type": "code",
   "execution_count": 141,
   "id": "c3f0c662",
   "metadata": {},
   "outputs": [],
   "source": [
    "list5 = ['Asif',25,[50,100],[150,90]] # Nested Lists"
   ]
  },
  {
   "cell_type": "code",
   "execution_count": 142,
   "id": "9ce8c39e",
   "metadata": {},
   "outputs": [],
   "source": [
    "list6 =[100,'Asif',17.765] # List of mixed data types"
   ]
  },
  {
   "cell_type": "code",
   "execution_count": 143,
   "id": "701e4bd1",
   "metadata": {},
   "outputs": [],
   "source": [
    "list7 = ['Asif',25,[50,100],[150,90] , {'John','David'}]"
   ]
  },
  {
   "cell_type": "code",
   "execution_count": 144,
   "id": "ed492d3d",
   "metadata": {},
   "outputs": [
    {
     "data": {
      "text/plain": [
       "3"
      ]
     },
     "execution_count": 144,
     "metadata": {},
     "output_type": "execute_result"
    }
   ],
   "source": [
    "len(list6)"
   ]
  },
  {
   "cell_type": "code",
   "execution_count": 147,
   "id": "47ce7438",
   "metadata": {},
   "outputs": [
    {
     "data": {
      "text/plain": [
       "10"
      ]
     },
     "execution_count": 147,
     "metadata": {},
     "output_type": "execute_result"
    }
   ],
   "source": [
    "list2[0] # Retreive first element of the list"
   ]
  },
  {
   "cell_type": "code",
   "execution_count": 148,
   "id": "b1fcda9f",
   "metadata": {},
   "outputs": [
    {
     "data": {
      "text/plain": [
       "'one'"
      ]
     },
     "execution_count": 148,
     "metadata": {},
     "output_type": "execute_result"
    }
   ],
   "source": [
    "list4[0] # Retreive first element of the list"
   ]
  },
  {
   "cell_type": "code",
   "execution_count": 149,
   "id": "ff9d79c3",
   "metadata": {},
   "outputs": [
    {
     "data": {
      "text/plain": [
       "'o'"
      ]
     },
     "execution_count": 149,
     "metadata": {},
     "output_type": "execute_result"
    }
   ],
   "source": [
    "list4[0][0] # Nested indexing - Access the first character of the first list element."
   ]
  },
  {
   "cell_type": "code",
   "execution_count": 150,
   "id": "e827a635",
   "metadata": {},
   "outputs": [
    {
     "data": {
      "text/plain": [
       "'three'"
      ]
     },
     "execution_count": 150,
     "metadata": {},
     "output_type": "execute_result"
    }
   ],
   "source": [
    "list4[-1] # Last item of the list"
   ]
  },
  {
   "cell_type": "code",
   "execution_count": 152,
   "id": "20feeffd",
   "metadata": {},
   "outputs": [
    {
     "data": {
      "text/plain": [
       "[150, 90]"
      ]
     },
     "execution_count": 152,
     "metadata": {},
     "output_type": "execute_result"
    }
   ],
   "source": [
    "list5[-1] # Last item of the list"
   ]
  },
  {
   "cell_type": "markdown",
   "id": "9cd7d231",
   "metadata": {},
   "source": [
    "### List Slicing"
   ]
  },
  {
   "cell_type": "code",
   "execution_count": 154,
   "id": "9f9bf7ed",
   "metadata": {},
   "outputs": [],
   "source": [
    "mylist = ['one','two','three','four','five','six','seven','eight']"
   ]
  },
  {
   "cell_type": "code",
   "execution_count": 155,
   "id": "56e60ba5",
   "metadata": {},
   "outputs": [
    {
     "data": {
      "text/plain": [
       "['one', 'two', 'three']"
      ]
     },
     "execution_count": 155,
     "metadata": {},
     "output_type": "execute_result"
    }
   ],
   "source": [
    "mylist[0:3] # Return all items from 0th to 3rd index location excluding the items not in the range."
   ]
  },
  {
   "cell_type": "code",
   "execution_count": 156,
   "id": "5cbaf740",
   "metadata": {},
   "outputs": [
    {
     "data": {
      "text/plain": [
       "['three', 'four', 'five']"
      ]
     },
     "execution_count": 156,
     "metadata": {},
     "output_type": "execute_result"
    }
   ],
   "source": [
    "mylist[2:5] # List all items from 2nd to 5th index location excluding the item at"
   ]
  },
  {
   "cell_type": "code",
   "execution_count": 157,
   "id": "709a609a",
   "metadata": {},
   "outputs": [
    {
     "data": {
      "text/plain": [
       "['one', 'two', 'three']"
      ]
     },
     "execution_count": 157,
     "metadata": {},
     "output_type": "execute_result"
    }
   ],
   "source": [
    "mylist[:3] # Return first three items"
   ]
  },
  {
   "cell_type": "code",
   "execution_count": 158,
   "id": "068cfd5e",
   "metadata": {},
   "outputs": [
    {
     "data": {
      "text/plain": [
       "['one', 'two']"
      ]
     },
     "execution_count": 158,
     "metadata": {},
     "output_type": "execute_result"
    }
   ],
   "source": [
    "mylist[:2] # Return first two items"
   ]
  },
  {
   "cell_type": "code",
   "execution_count": 159,
   "id": "d2e52864",
   "metadata": {},
   "outputs": [
    {
     "data": {
      "text/plain": [
       "['six', 'seven', 'eight']"
      ]
     },
     "execution_count": 159,
     "metadata": {},
     "output_type": "execute_result"
    }
   ],
   "source": [
    "mylist[-3:]# Return last three items"
   ]
  },
  {
   "cell_type": "code",
   "execution_count": 160,
   "id": "b018f6c3",
   "metadata": {},
   "outputs": [
    {
     "data": {
      "text/plain": [
       "['seven', 'eight']"
      ]
     },
     "execution_count": 160,
     "metadata": {},
     "output_type": "execute_result"
    }
   ],
   "source": [
    "mylist[-2:]# Return last two items"
   ]
  },
  {
   "cell_type": "code",
   "execution_count": 161,
   "id": "e85e19c8",
   "metadata": {},
   "outputs": [
    {
     "data": {
      "text/plain": [
       "'eight'"
      ]
     },
     "execution_count": 161,
     "metadata": {},
     "output_type": "execute_result"
    }
   ],
   "source": [
    "mylist[-1]# Return last item of the list"
   ]
  },
  {
   "cell_type": "code",
   "execution_count": 162,
   "id": "39d22103",
   "metadata": {},
   "outputs": [
    {
     "data": {
      "text/plain": [
       "['one', 'two', 'three', 'four', 'five', 'six', 'seven', 'eight']"
      ]
     },
     "execution_count": 162,
     "metadata": {},
     "output_type": "execute_result"
    }
   ],
   "source": [
    "mylist[:]# Return whole list"
   ]
  },
  {
   "cell_type": "markdown",
   "id": "a02ccdca",
   "metadata": {},
   "source": [
    "### Add , Remove & Change Items"
   ]
  },
  {
   "cell_type": "code",
   "execution_count": 163,
   "id": "c515b5b8",
   "metadata": {},
   "outputs": [
    {
     "data": {
      "text/plain": [
       "['one', 'two', 'three', 'four', 'five', 'six', 'seven', 'eight']"
      ]
     },
     "execution_count": 163,
     "metadata": {},
     "output_type": "execute_result"
    }
   ],
   "source": [
    "mylist"
   ]
  },
  {
   "cell_type": "code",
   "execution_count": 165,
   "id": "aaf1902b",
   "metadata": {},
   "outputs": [
    {
     "data": {
      "text/plain": [
       "['one',\n",
       " 'two',\n",
       " 'three',\n",
       " 'four',\n",
       " 'five',\n",
       " 'six',\n",
       " 'seven',\n",
       " 'eight',\n",
       " 'nine',\n",
       " 'nine']"
      ]
     },
     "execution_count": 165,
     "metadata": {},
     "output_type": "execute_result"
    }
   ],
   "source": [
    "mylist.append('nine') # Add an item to the end of the list\n",
    "mylist"
   ]
  },
  {
   "cell_type": "code",
   "execution_count": 167,
   "id": "0733586d",
   "metadata": {},
   "outputs": [
    {
     "data": {
      "text/plain": [
       "['one',\n",
       " 'two',\n",
       " 'three',\n",
       " 'four',\n",
       " 'five',\n",
       " 'six',\n",
       " 'seven',\n",
       " 'eight',\n",
       " 'nine',\n",
       " 'ten',\n",
       " 'ten',\n",
       " 'nine']"
      ]
     },
     "execution_count": 167,
     "metadata": {},
     "output_type": "execute_result"
    }
   ],
   "source": [
    "mylist.insert(9,'ten') # Add item at index location 9, element at the 9th position will be moved to 10th position.\n",
    "mylist"
   ]
  },
  {
   "cell_type": "code",
   "execution_count": 168,
   "id": "b8d49dd2",
   "metadata": {},
   "outputs": [
    {
     "data": {
      "text/plain": [
       "['one',\n",
       " 'ONE',\n",
       " 'two',\n",
       " 'three',\n",
       " 'four',\n",
       " 'five',\n",
       " 'six',\n",
       " 'seven',\n",
       " 'eight',\n",
       " 'nine',\n",
       " 'ten',\n",
       " 'ten',\n",
       " 'nine']"
      ]
     },
     "execution_count": 168,
     "metadata": {},
     "output_type": "execute_result"
    }
   ],
   "source": [
    "mylist.insert(1,'ONE') # Add item at index location 1\n",
    "mylist"
   ]
  },
  {
   "cell_type": "code",
   "execution_count": 169,
   "id": "2efe63ce",
   "metadata": {},
   "outputs": [
    {
     "data": {
      "text/plain": [
       "['one',\n",
       " 'two',\n",
       " 'three',\n",
       " 'four',\n",
       " 'five',\n",
       " 'six',\n",
       " 'seven',\n",
       " 'eight',\n",
       " 'nine',\n",
       " 'ten',\n",
       " 'ten',\n",
       " 'nine']"
      ]
     },
     "execution_count": 169,
     "metadata": {},
     "output_type": "execute_result"
    }
   ],
   "source": [
    "mylist.remove('ONE') # Remove item \"ONE\"\n",
    "mylist"
   ]
  },
  {
   "cell_type": "code",
   "execution_count": 170,
   "id": "9e2b6555",
   "metadata": {},
   "outputs": [
    {
     "data": {
      "text/plain": [
       "['one',\n",
       " 'two',\n",
       " 'three',\n",
       " 'four',\n",
       " 'five',\n",
       " 'six',\n",
       " 'seven',\n",
       " 'eight',\n",
       " 'nine',\n",
       " 'ten',\n",
       " 'ten']"
      ]
     },
     "execution_count": 170,
     "metadata": {},
     "output_type": "execute_result"
    }
   ],
   "source": [
    "mylist.pop() # Remove last item of the list\n",
    "mylist"
   ]
  },
  {
   "cell_type": "code",
   "execution_count": 171,
   "id": "48f89ae6",
   "metadata": {},
   "outputs": [
    {
     "data": {
      "text/plain": [
       "['one', 'two', 'three', 'four', 'five', 'six', 'seven', 'eight', 'ten', 'ten']"
      ]
     },
     "execution_count": 171,
     "metadata": {},
     "output_type": "execute_result"
    }
   ],
   "source": [
    "mylist.pop(8)# Remove item at index location 8\n",
    "mylist"
   ]
  },
  {
   "cell_type": "code",
   "execution_count": 172,
   "id": "eb8204e3",
   "metadata": {},
   "outputs": [
    {
     "data": {
      "text/plain": [
       "['one', 'two', 'three', 'four', 'five', 'six', 'seven', 'ten', 'ten']"
      ]
     },
     "execution_count": 172,
     "metadata": {},
     "output_type": "execute_result"
    }
   ],
   "source": [
    "del mylist[7] # Remove item at index location 7\n",
    "mylist"
   ]
  },
  {
   "cell_type": "code",
   "execution_count": 173,
   "id": "2d4c2f23",
   "metadata": {},
   "outputs": [
    {
     "data": {
      "text/plain": [
       "[1, 2, 3, 'four', 'five', 'six', 'seven', 'ten', 'ten']"
      ]
     },
     "execution_count": 173,
     "metadata": {},
     "output_type": "execute_result"
    }
   ],
   "source": [
    "# Change value of the string\n",
    "mylist[0] = 1\n",
    "mylist[1] = 2\n",
    "mylist[2] = 3\n",
    "mylist"
   ]
  },
  {
   "cell_type": "code",
   "execution_count": 174,
   "id": "18bbff73",
   "metadata": {},
   "outputs": [
    {
     "data": {
      "text/plain": [
       "[]"
      ]
     },
     "execution_count": 174,
     "metadata": {},
     "output_type": "execute_result"
    }
   ],
   "source": [
    "mylist.clear() # Empty List / Delete all items in the list\n",
    "mylist"
   ]
  },
  {
   "cell_type": "code",
   "execution_count": 175,
   "id": "2b92ba65",
   "metadata": {},
   "outputs": [
    {
     "ename": "NameError",
     "evalue": "name 'mylist' is not defined",
     "output_type": "error",
     "traceback": [
      "\u001b[1;31m---------------------------------------------------------------------------\u001b[0m",
      "\u001b[1;31mNameError\u001b[0m                                 Traceback (most recent call last)",
      "\u001b[1;32m<ipython-input-175-50c7849aa2cb>\u001b[0m in \u001b[0;36m<module>\u001b[1;34m\u001b[0m\n\u001b[0;32m      1\u001b[0m \u001b[1;32mdel\u001b[0m \u001b[0mmylist\u001b[0m \u001b[1;31m# Delete the whole list\u001b[0m\u001b[1;33m\u001b[0m\u001b[1;33m\u001b[0m\u001b[0m\n\u001b[1;32m----> 2\u001b[1;33m \u001b[0mmylist\u001b[0m\u001b[1;33m\u001b[0m\u001b[1;33m\u001b[0m\u001b[0m\n\u001b[0m",
      "\u001b[1;31mNameError\u001b[0m: name 'mylist' is not defined"
     ]
    }
   ],
   "source": [
    "del mylist # Delete the whole list\n",
    "mylist"
   ]
  },
  {
   "cell_type": "markdown",
   "id": "d2338cf2",
   "metadata": {},
   "source": [
    "### Copy List"
   ]
  },
  {
   "cell_type": "code",
   "execution_count": 179,
   "id": "40ae9ca1",
   "metadata": {},
   "outputs": [
    {
     "data": {
      "text/plain": [
       "(2049680679688, 2049680679688)"
      ]
     },
     "execution_count": 179,
     "metadata": {},
     "output_type": "execute_result"
    }
   ],
   "source": [
    "mylist = ['one','two','three','four','five','six','seven','eight','nine','ten']\n",
    "mylist1 = mylist # Create a new reference \"mylist1\"\n",
    "id(mylist),id(mylist1) # The address of both mylist & mylist1 will be the same"
   ]
  },
  {
   "cell_type": "code",
   "execution_count": 182,
   "id": "373f31ec",
   "metadata": {},
   "outputs": [],
   "source": [
    "mylist2 = mylist.copy() # Create a copy of the list"
   ]
  },
  {
   "cell_type": "code",
   "execution_count": 183,
   "id": "39c4a292",
   "metadata": {},
   "outputs": [
    {
     "data": {
      "text/plain": [
       "2049680681352"
      ]
     },
     "execution_count": 183,
     "metadata": {},
     "output_type": "execute_result"
    }
   ],
   "source": [
    "id(mylist2) # The address of mylist2 will be different from mylist because mylist"
   ]
  },
  {
   "cell_type": "code",
   "execution_count": 185,
   "id": "98eba14b",
   "metadata": {},
   "outputs": [
    {
     "data": {
      "text/plain": [
       "[1, 'two', 'three', 'four', 'five', 'six', 'seven', 'eight', 'nine', 'ten']"
      ]
     },
     "execution_count": 185,
     "metadata": {},
     "output_type": "execute_result"
    }
   ],
   "source": [
    "mylist[0] = 1 \n",
    "mylist\n",
    "mylist1 # mylist1 will be also impacted as it is pointing to the same list"
   ]
  },
  {
   "cell_type": "code",
   "execution_count": 186,
   "id": "6a44ce9e",
   "metadata": {},
   "outputs": [
    {
     "data": {
      "text/plain": [
       "['one', 'two', 'three', 'four', 'five', 'six', 'seven', 'eight', 'nine', 'ten']"
      ]
     },
     "execution_count": 186,
     "metadata": {},
     "output_type": "execute_result"
    }
   ],
   "source": [
    "mylist2 # Copy of list won't be impacted due to changes made on the original list"
   ]
  },
  {
   "cell_type": "markdown",
   "id": "ed6844e7",
   "metadata": {},
   "source": [
    "### Join List"
   ]
  },
  {
   "cell_type": "code",
   "execution_count": 211,
   "id": "0fb5a3cf",
   "metadata": {},
   "outputs": [
    {
     "data": {
      "text/plain": [
       "['one', 'two', 'three', 'four', 'five', 'six', 'seven', 'eight']"
      ]
     },
     "execution_count": 211,
     "metadata": {},
     "output_type": "execute_result"
    }
   ],
   "source": [
    "list1 = ['one','two','three','four']\n",
    "list2 = ['five','six','seven','eight']\n",
    "list3 = list1 + list2 # Join two lists by '+' operator\n",
    "list3"
   ]
  },
  {
   "cell_type": "code",
   "execution_count": 212,
   "id": "3beaf883",
   "metadata": {},
   "outputs": [
    {
     "data": {
      "text/plain": [
       "['one', 'two', 'three', 'four', 'five', 'six', 'seven', 'eight']"
      ]
     },
     "execution_count": 212,
     "metadata": {},
     "output_type": "execute_result"
    }
   ],
   "source": [
    "list1.extend(list2) #Append list2 with list1 \n",
    "list1"
   ]
  },
  {
   "cell_type": "markdown",
   "id": "f9fd9f99",
   "metadata": {},
   "source": [
    "### List Membership"
   ]
  },
  {
   "cell_type": "code",
   "execution_count": 192,
   "id": "085c6f1a",
   "metadata": {},
   "outputs": [
    {
     "data": {
      "text/plain": [
       "['one', 'two', 'three', 'four', 'five', 'six', 'seven', 'eight']"
      ]
     },
     "execution_count": 192,
     "metadata": {},
     "output_type": "execute_result"
    }
   ],
   "source": [
    "list1"
   ]
  },
  {
   "cell_type": "code",
   "execution_count": 193,
   "id": "ed8788db",
   "metadata": {},
   "outputs": [
    {
     "data": {
      "text/plain": [
       "True"
      ]
     },
     "execution_count": 193,
     "metadata": {},
     "output_type": "execute_result"
    }
   ],
   "source": [
    "'one' in list1"
   ]
  },
  {
   "cell_type": "code",
   "execution_count": 194,
   "id": "9465abf5",
   "metadata": {},
   "outputs": [
    {
     "data": {
      "text/plain": [
       "False"
      ]
     },
     "execution_count": 194,
     "metadata": {},
     "output_type": "execute_result"
    }
   ],
   "source": [
    "'ten' in list1 # Check if 'ten' exist in the list"
   ]
  },
  {
   "cell_type": "code",
   "execution_count": 195,
   "id": "3a53f969",
   "metadata": {},
   "outputs": [
    {
     "name": "stdout",
     "output_type": "stream",
     "text": [
      "Three is present in the list\n"
     ]
    }
   ],
   "source": [
    "if 'three' in list1 : # Check if 'three' exist in the list\n",
    "    print('Three is present in the list')\n",
    "else:\n",
    "    print('Three is not present in the list')"
   ]
  },
  {
   "cell_type": "code",
   "execution_count": 197,
   "id": "e4f9eb78",
   "metadata": {},
   "outputs": [
    {
     "name": "stdout",
     "output_type": "stream",
     "text": [
      "eleven is not present in the list\n"
     ]
    }
   ],
   "source": [
    "if'eleven' in list1: # Check if 'eleven' exist in the list\n",
    "    print('eleven is present in the list')\n",
    "else:\n",
    "    print('eleven is not present in the list')"
   ]
  },
  {
   "cell_type": "code",
   "execution_count": 198,
   "id": "5f84882b",
   "metadata": {},
   "outputs": [],
   "source": [
    "### Reverse & Sort List"
   ]
  },
  {
   "cell_type": "code",
   "execution_count": 210,
   "id": "f44dfdbc",
   "metadata": {},
   "outputs": [],
   "source": [
    "list1"
   ]
  },
  {
   "cell_type": "code",
   "execution_count": 218,
   "id": "29d327e2",
   "metadata": {},
   "outputs": [
    {
     "data": {
      "text/plain": [
       "['eight', 'seven', 'six', 'five', 'four', 'three', 'two', 'one']"
      ]
     },
     "execution_count": 218,
     "metadata": {},
     "output_type": "execute_result"
    }
   ],
   "source": [
    "list1 = ['one', 'two', 'three', 'four', 'five', 'six', 'seven', 'eight']\n",
    "list1.reverse() # Reverse the list\n",
    "list1"
   ]
  },
  {
   "cell_type": "code",
   "execution_count": 217,
   "id": "824a3bf4",
   "metadata": {},
   "outputs": [
    {
     "data": {
      "text/plain": [
       "['eight', 'seven', 'six', 'five', 'four', 'three', 'two', 'one']"
      ]
     },
     "execution_count": 217,
     "metadata": {},
     "output_type": "execute_result"
    }
   ],
   "source": [
    "list1 = list1[::-1] # Reverse the list \n",
    "list1"
   ]
  },
  {
   "cell_type": "code",
   "execution_count": 219,
   "id": "4751a8f8",
   "metadata": {},
   "outputs": [
    {
     "data": {
      "text/plain": [
       "[2, 5, 9, 12, 34, 88, 99]"
      ]
     },
     "execution_count": 219,
     "metadata": {},
     "output_type": "execute_result"
    }
   ],
   "source": [
    "mylist3 = [9,5,2,99,12,88,34]\n",
    "mylist3.sort() # Sort list in ascending order\n",
    "mylist3"
   ]
  },
  {
   "cell_type": "code",
   "execution_count": 220,
   "id": "9b51300a",
   "metadata": {},
   "outputs": [
    {
     "data": {
      "text/plain": [
       "[99, 88, 34, 12, 9, 5, 2]"
      ]
     },
     "execution_count": 220,
     "metadata": {},
     "output_type": "execute_result"
    }
   ],
   "source": [
    "mylist3 = [9,5,2,99,12,88,34]\n",
    "mylist3.sort(reverse = True) # Sort list in descending order\n",
    "mylist3"
   ]
  },
  {
   "cell_type": "code",
   "execution_count": 221,
   "id": "f053c7ac",
   "metadata": {},
   "outputs": [
    {
     "data": {
      "text/plain": [
       "[11, 21, 33, 65, 88, 98]"
      ]
     },
     "execution_count": 221,
     "metadata": {},
     "output_type": "execute_result"
    }
   ],
   "source": [
    "mylist4 = [88,65,33,21,11,98] \n",
    "sorted(mylist4)\n",
    "# Returns a new sorted list and doesn't change original li"
   ]
  },
  {
   "cell_type": "markdown",
   "id": "dcdebe10",
   "metadata": {},
   "source": [
    "#### Loop through a list"
   ]
  },
  {
   "cell_type": "code",
   "execution_count": 222,
   "id": "980195d3",
   "metadata": {},
   "outputs": [
    {
     "name": "stdout",
     "output_type": "stream",
     "text": [
      "eight\n",
      "seven\n",
      "six\n",
      "five\n",
      "four\n",
      "three\n",
      "two\n",
      "one\n"
     ]
    }
   ],
   "source": [
    "for i in list1:\n",
    "    print(i)"
   ]
  },
  {
   "cell_type": "code",
   "execution_count": 223,
   "id": "d61331f3",
   "metadata": {},
   "outputs": [
    {
     "name": "stdout",
     "output_type": "stream",
     "text": [
      "(0, 'eight')\n",
      "(1, 'seven')\n",
      "(2, 'six')\n",
      "(3, 'five')\n",
      "(4, 'four')\n",
      "(5, 'three')\n",
      "(6, 'two')\n",
      "(7, 'one')\n"
     ]
    }
   ],
   "source": [
    "for i in enumerate(list1):\n",
    "    print(i)"
   ]
  },
  {
   "cell_type": "code",
   "execution_count": 224,
   "id": "60e5d71a",
   "metadata": {},
   "outputs": [],
   "source": [
    "list10 = [ 'one' , 'two' , 'three' , 'four' , 'one' , 'one' , 'two' , 'three' ]"
   ]
  },
  {
   "cell_type": "code",
   "execution_count": 225,
   "id": "ac74bedb",
   "metadata": {},
   "outputs": [
    {
     "data": {
      "text/plain": [
       "3"
      ]
     },
     "execution_count": 225,
     "metadata": {},
     "output_type": "execute_result"
    }
   ],
   "source": [
    "list10.count('one') # Number of times item \"one\" occurred in the list."
   ]
  },
  {
   "cell_type": "code",
   "execution_count": 226,
   "id": "aa6aefd7",
   "metadata": {},
   "outputs": [
    {
     "data": {
      "text/plain": [
       "2"
      ]
     },
     "execution_count": 226,
     "metadata": {},
     "output_type": "execute_result"
    }
   ],
   "source": [
    "list10.count('two') # Occurence of item 'two' in the list"
   ]
  },
  {
   "cell_type": "code",
   "execution_count": 227,
   "id": "f55f68e4",
   "metadata": {},
   "outputs": [
    {
     "data": {
      "text/plain": [
       "1"
      ]
     },
     "execution_count": 227,
     "metadata": {},
     "output_type": "execute_result"
    }
   ],
   "source": [
    "list10.count ( 'four' ) #Occurence of item 'four' in the list"
   ]
  },
  {
   "cell_type": "markdown",
   "id": "2a345696",
   "metadata": {},
   "source": [
    "# All / Any\n",
    "The all() method returns:\n",
    "1. True\n",
    "    - If all elements in a list are true\n",
    "2. False\n",
    "    - If any element in a list is false\n",
    "\n",
    "The any() function returns True if any element in the list is True. If not, any() returns False."
   ]
  },
  {
   "cell_type": "code",
   "execution_count": 228,
   "id": "f1926ad7",
   "metadata": {},
   "outputs": [],
   "source": [
    "L1 = [ 1 , 2 , 3 , 4 , 0 ]"
   ]
  },
  {
   "cell_type": "code",
   "execution_count": 230,
   "id": "2574c0ea",
   "metadata": {},
   "outputs": [
    {
     "data": {
      "text/plain": [
       "False"
      ]
     },
     "execution_count": 230,
     "metadata": {},
     "output_type": "execute_result"
    }
   ],
   "source": [
    "all (L1) # Will Return false as one value is false (Value 0)"
   ]
  },
  {
   "cell_type": "code",
   "execution_count": 231,
   "id": "7c117781",
   "metadata": {},
   "outputs": [
    {
     "data": {
      "text/plain": [
       "True"
      ]
     },
     "execution_count": 231,
     "metadata": {},
     "output_type": "execute_result"
    }
   ],
   "source": [
    "any(L1) # Will Return True as we have items in the list with True value"
   ]
  },
  {
   "cell_type": "code",
   "execution_count": 232,
   "id": "dbdedfb3",
   "metadata": {},
   "outputs": [],
   "source": [
    "L2 = [ 1 , 2 , 3 , 4 , True , False ]"
   ]
  },
  {
   "cell_type": "code",
   "execution_count": 233,
   "id": "ff4cc385",
   "metadata": {},
   "outputs": [
    {
     "data": {
      "text/plain": [
       "False"
      ]
     },
     "execution_count": 233,
     "metadata": {},
     "output_type": "execute_result"
    }
   ],
   "source": [
    "all(L2)"
   ]
  },
  {
   "cell_type": "code",
   "execution_count": 234,
   "id": "2a0f3300",
   "metadata": {},
   "outputs": [
    {
     "data": {
      "text/plain": [
       "True"
      ]
     },
     "execution_count": 234,
     "metadata": {},
     "output_type": "execute_result"
    }
   ],
   "source": [
    "any ( L2 ) # Will Return True as we have items in the list with True value"
   ]
  },
  {
   "cell_type": "code",
   "execution_count": 235,
   "id": "87d5ba31",
   "metadata": {},
   "outputs": [],
   "source": [
    "L3 = [ 1 , 2 , 3 , True ]"
   ]
  },
  {
   "cell_type": "code",
   "execution_count": 236,
   "id": "8a2baf4e",
   "metadata": {},
   "outputs": [
    {
     "data": {
      "text/plain": [
       "True"
      ]
     },
     "execution_count": 236,
     "metadata": {},
     "output_type": "execute_result"
    }
   ],
   "source": [
    "all(L3) # Will return True as all items in the list are True"
   ]
  },
  {
   "cell_type": "code",
   "execution_count": 237,
   "id": "813418af",
   "metadata": {},
   "outputs": [
    {
     "data": {
      "text/plain": [
       "True"
      ]
     },
     "execution_count": 237,
     "metadata": {},
     "output_type": "execute_result"
    }
   ],
   "source": [
    "any(L3) # Will Return True as we have items in the list with True value"
   ]
  },
  {
   "cell_type": "markdown",
   "id": "0db3d00e",
   "metadata": {},
   "source": [
    "# List Comprehensions\n",
    "- List Comprehensions provide an elegant way to create new lists.\n",
    "- It consists of brackets containing an expression followed by a for clause, then zero or more for or if clauses."
   ]
  },
  {
   "cell_type": "code",
   "execution_count": 240,
   "id": "c134a7e9",
   "metadata": {},
   "outputs": [
    {
     "data": {
      "text/plain": [
       "['W', 'E', 'L', 'C', 'O', 'M', 'E']"
      ]
     },
     "execution_count": 240,
     "metadata": {},
     "output_type": "execute_result"
    }
   ],
   "source": [
    "mystring = \"WELCOME\"\n",
    "mylist = [ i for i in mystring ] # Iterating through a string Using List Comprehe \n",
    "mylist"
   ]
  },
  {
   "cell_type": "code",
   "execution_count": 242,
   "id": "f5a76292",
   "metadata": {},
   "outputs": [
    {
     "data": {
      "text/plain": [
       "[0, 2, 4, 6, 8, 10, 12, 14, 16, 18, 20, 22, 24, 26, 28, 30, 32, 34, 36, 38]"
      ]
     },
     "execution_count": 242,
     "metadata": {},
     "output_type": "execute_result"
    }
   ],
   "source": [
    "mylist1 = [ i for i in range ( 40 ) if i % 2 == 0 ] # Display all even numbers betwee \n",
    "mylist1"
   ]
  },
  {
   "cell_type": "code",
   "execution_count": 243,
   "id": "93037b1a",
   "metadata": {},
   "outputs": [
    {
     "data": {
      "text/plain": [
       "[1, 3, 5, 7, 9, 11, 13, 15, 17, 19, 21, 23, 25, 27, 29, 31, 33, 35, 37, 39]"
      ]
     },
     "execution_count": 243,
     "metadata": {},
     "output_type": "execute_result"
    }
   ],
   "source": [
    "mylist2 = [ i for i in range ( 40 ) if i % 2 == 1 ] # Display all odd numbers between\n",
    "mylist2"
   ]
  },
  {
   "cell_type": "code",
   "execution_count": 244,
   "id": "211bbc7f",
   "metadata": {},
   "outputs": [
    {
     "data": {
      "text/plain": [
       "[0, 1, 4, 9, 16, 25, 36, 49, 64, 81]"
      ]
     },
     "execution_count": 244,
     "metadata": {},
     "output_type": "execute_result"
    }
   ],
   "source": [
    "mylist3 = [ num ** 2 for num in range ( 10 )] # calculate square of all numbers between\n",
    "mylist3"
   ]
  },
  {
   "cell_type": "code",
   "execution_count": 245,
   "id": "1815d6d3",
   "metadata": {},
   "outputs": [
    {
     "data": {
      "text/plain": [
       "[20, 30, 40, 50, 60, 70, 80]"
      ]
     },
     "execution_count": 245,
     "metadata": {},
     "output_type": "execute_result"
    }
   ],
   "source": [
    "# Multiple whole list by 10\n",
    "list1 = [ 2 , 3 , 4 , 5 , 6 , 7 , 8 ]\n",
    "list1 = [ i * 10 for i in list1 ]\n",
    "list1"
   ]
  },
  {
   "cell_type": "code",
   "execution_count": 246,
   "id": "ab0546f8",
   "metadata": {},
   "outputs": [
    {
     "data": {
      "text/plain": [
       "[0, 36, 72, 108, 144, 180]"
      ]
     },
     "execution_count": 246,
     "metadata": {},
     "output_type": "execute_result"
    }
   ],
   "source": [
    "#List all numbers divisible by 3 , 9 & 12 using nested \"if\" with List Comprehensi \n",
    "mylist4 = [ i for i in range ( 200 ) if i % 3 == 0 if i % 9 == 0 if i % 12 == 0 ] \n",
    "mylist4"
   ]
  },
  {
   "cell_type": "code",
   "execution_count": 251,
   "id": "a9541d9a",
   "metadata": {},
   "outputs": [
    {
     "name": "stdout",
     "output_type": "stream",
     "text": [
      "0 is Even Number\n",
      "1 is odd number\n",
      "2 is Even Number\n",
      "3 is odd number\n",
      "4 is Even Number\n",
      "5 is odd number\n",
      "6 is Even Number\n",
      "7 is odd number\n",
      "8 is Even Number\n",
      "9 is odd number\n"
     ]
    }
   ],
   "source": [
    "# Odd even test\n",
    "l1 = [ print (\"{} is Even Number\".format ( i )) if i % 2 == 0 else print (\"{} is odd number\".format(i)) for i in range(10)]"
   ]
  },
  {
   "cell_type": "code",
   "execution_count": 252,
   "id": "66f015aa",
   "metadata": {},
   "outputs": [
    {
     "data": {
      "text/plain": [
       "['1', '2', '3', '4', '5', '6', '7', '8', '9']"
      ]
     },
     "execution_count": 252,
     "metadata": {},
     "output_type": "execute_result"
    }
   ],
   "source": [
    "# Extract numbers from a string\n",
    "mystr = \"One 1 two 2 three 3 four 4 five 5 six 6789\"\n",
    "numbers = [ i for i in mystr if i.isdigit()]\n",
    "numbers"
   ]
  },
  {
   "cell_type": "code",
   "execution_count": 254,
   "id": "a202c8f7",
   "metadata": {},
   "outputs": [
    {
     "data": {
      "text/plain": [
       "['O',\n",
       " 'n',\n",
       " 'e',\n",
       " 't',\n",
       " 'w',\n",
       " 'o',\n",
       " 't',\n",
       " 'h',\n",
       " 'r',\n",
       " 'e',\n",
       " 'e',\n",
       " 'f',\n",
       " 'o',\n",
       " 'u',\n",
       " 'r',\n",
       " 'f',\n",
       " 'i',\n",
       " 'v',\n",
       " 'e',\n",
       " 's',\n",
       " 'i',\n",
       " 'x']"
      ]
     },
     "execution_count": 254,
     "metadata": {},
     "output_type": "execute_result"
    }
   ],
   "source": [
    "# Extract letters from a string\n",
    "mystr = \"One 1 two 2 three 3 four 4 five 5 six 6789\"\n",
    "numbers = [i for i in mystr if i.isalpha()]\n",
    "numbers"
   ]
  },
  {
   "cell_type": "markdown",
   "id": "cbb7a4a0",
   "metadata": {},
   "source": [
    "## Tuples\n",
    "\n",
    "1. Tuple is similar to List except that the objects in tuple are immutable which means we cannot change the elements of a tuple  once assigned.\n",
    "2. When we do not want to change the data over time, tuple is a preferred data type.\n",
    "3. Iterating over the elements of a tuple is faster compared to iterating over a list.\n",
    "\n",
    "#### Tuple Creation"
   ]
  },
  {
   "cell_type": "code",
   "execution_count": 256,
   "id": "6ac72aad",
   "metadata": {},
   "outputs": [],
   "source": [
    "tup1 = () # Empty tuple"
   ]
  },
  {
   "cell_type": "code",
   "execution_count": 257,
   "id": "8d360a29",
   "metadata": {},
   "outputs": [],
   "source": [
    "tup2 = (10,30,60) # tuple of integers numbers"
   ]
  },
  {
   "cell_type": "code",
   "execution_count": 258,
   "id": "aa6e798d",
   "metadata": {},
   "outputs": [],
   "source": [
    "tup3 = (10.77,30.66,60.89) # tuple of float numbers"
   ]
  },
  {
   "cell_type": "code",
   "execution_count": 259,
   "id": "0e5f09fc",
   "metadata": {},
   "outputs": [],
   "source": [
    "tup4 = ('one','two',\"three\") # tuple of strings"
   ]
  },
  {
   "cell_type": "code",
   "execution_count": 260,
   "id": "c93f6363",
   "metadata": {},
   "outputs": [],
   "source": [
    "tup5 = ('Asif',25,(50,100),(150,90)) # Nested tuples"
   ]
  },
  {
   "cell_type": "code",
   "execution_count": 261,
   "id": "aa5e9274",
   "metadata": {},
   "outputs": [],
   "source": [
    "tup6 = (100,'Asif',17.765) # Tuple of mixed data types"
   ]
  },
  {
   "cell_type": "code",
   "execution_count": 262,
   "id": "b2cb9da3",
   "metadata": {},
   "outputs": [],
   "source": [
    "tup7 = ( 'Asif' , 25 ,[ 50 , 100 ],[ 150 , 90 ] , { 'John' , 'David' } , ( 99 , 22 , 33 ))"
   ]
  },
  {
   "cell_type": "code",
   "execution_count": 263,
   "id": "7eeb6609",
   "metadata": {},
   "outputs": [
    {
     "data": {
      "text/plain": [
       "6"
      ]
     },
     "execution_count": 263,
     "metadata": {},
     "output_type": "execute_result"
    }
   ],
   "source": [
    "len ( tup7 ) #Length of list"
   ]
  },
  {
   "cell_type": "markdown",
   "id": "c1735aa8",
   "metadata": {},
   "source": [
    "### Tuple Indexing"
   ]
  },
  {
   "cell_type": "code",
   "execution_count": 264,
   "id": "1a15c79d",
   "metadata": {},
   "outputs": [
    {
     "data": {
      "text/plain": [
       "10"
      ]
     },
     "execution_count": 264,
     "metadata": {},
     "output_type": "execute_result"
    }
   ],
   "source": [
    "tup2 [ 0 ] # Retreive first element of the tuple"
   ]
  },
  {
   "cell_type": "code",
   "execution_count": 265,
   "id": "4814852b",
   "metadata": {},
   "outputs": [
    {
     "data": {
      "text/plain": [
       "'one'"
      ]
     },
     "execution_count": 265,
     "metadata": {},
     "output_type": "execute_result"
    }
   ],
   "source": [
    "tup4 [ 0 ] # Retreive first element of the tuple"
   ]
  },
  {
   "cell_type": "code",
   "execution_count": 266,
   "id": "0f0cf0f5",
   "metadata": {},
   "outputs": [
    {
     "data": {
      "text/plain": [
       "'o'"
      ]
     },
     "execution_count": 266,
     "metadata": {},
     "output_type": "execute_result"
    }
   ],
   "source": [
    "tup4[0][0] # Nested indexing - Access the first character of the first tuple elem"
   ]
  },
  {
   "cell_type": "code",
   "execution_count": 267,
   "id": "d882aef8",
   "metadata": {},
   "outputs": [
    {
     "data": {
      "text/plain": [
       "'three'"
      ]
     },
     "execution_count": 267,
     "metadata": {},
     "output_type": "execute_result"
    }
   ],
   "source": [
    "tup4 [-1] # Last item of the tuple"
   ]
  },
  {
   "cell_type": "code",
   "execution_count": 268,
   "id": "97561eec",
   "metadata": {},
   "outputs": [
    {
     "data": {
      "text/plain": [
       "(150, 90)"
      ]
     },
     "execution_count": 268,
     "metadata": {},
     "output_type": "execute_result"
    }
   ],
   "source": [
    "tup5[-1] # Last item of the tuple"
   ]
  },
  {
   "cell_type": "markdown",
   "id": "adf2b600",
   "metadata": {},
   "source": [
    "### Tuple Slicing"
   ]
  },
  {
   "cell_type": "code",
   "execution_count": 270,
   "id": "635edccc",
   "metadata": {},
   "outputs": [],
   "source": [
    "mytuple = ('one' , 'two' , 'three' , 'four' , 'five' , 'six' , 'seven' , 'eight' )"
   ]
  },
  {
   "cell_type": "code",
   "execution_count": 271,
   "id": "6dbd4be4",
   "metadata": {},
   "outputs": [
    {
     "data": {
      "text/plain": [
       "('one', 'two', 'three')"
      ]
     },
     "execution_count": 271,
     "metadata": {},
     "output_type": "execute_result"
    }
   ],
   "source": [
    "mytuple[0:3] # Return all items from 0th to 3rd index location excluding the item"
   ]
  },
  {
   "cell_type": "code",
   "execution_count": 272,
   "id": "54bac29e",
   "metadata": {},
   "outputs": [
    {
     "data": {
      "text/plain": [
       "('three', 'four', 'five')"
      ]
     },
     "execution_count": 272,
     "metadata": {},
     "output_type": "execute_result"
    }
   ],
   "source": [
    "mytuple [ 2 : 5 ] # List all items from 2nd to 5th index location excluding the item a"
   ]
  },
  {
   "cell_type": "code",
   "execution_count": 273,
   "id": "8e27080a",
   "metadata": {},
   "outputs": [
    {
     "data": {
      "text/plain": [
       "('one', 'two', 'three')"
      ]
     },
     "execution_count": 273,
     "metadata": {},
     "output_type": "execute_result"
    }
   ],
   "source": [
    "mytuple [: 3 ] # Return first three items"
   ]
  },
  {
   "cell_type": "code",
   "execution_count": 277,
   "id": "9341d083",
   "metadata": {},
   "outputs": [
    {
     "data": {
      "text/plain": [
       "('one', 'two')"
      ]
     },
     "execution_count": 277,
     "metadata": {},
     "output_type": "execute_result"
    }
   ],
   "source": [
    "mytuple [:2] # Return first two items"
   ]
  },
  {
   "cell_type": "code",
   "execution_count": 276,
   "id": "45e126d8",
   "metadata": {},
   "outputs": [
    {
     "data": {
      "text/plain": [
       "('six', 'seven', 'eight')"
      ]
     },
     "execution_count": 276,
     "metadata": {},
     "output_type": "execute_result"
    }
   ],
   "source": [
    "mytuple [ -3:] # Return last three items"
   ]
  },
  {
   "cell_type": "code",
   "execution_count": 279,
   "id": "05b91fe2",
   "metadata": {},
   "outputs": [
    {
     "data": {
      "text/plain": [
       "('seven', 'eight')"
      ]
     },
     "execution_count": 279,
     "metadata": {},
     "output_type": "execute_result"
    }
   ],
   "source": [
    "mytuple [-2:] # Return last two items"
   ]
  },
  {
   "cell_type": "code",
   "execution_count": 280,
   "id": "f3bea6a2",
   "metadata": {},
   "outputs": [
    {
     "data": {
      "text/plain": [
       "'eight'"
      ]
     },
     "execution_count": 280,
     "metadata": {},
     "output_type": "execute_result"
    }
   ],
   "source": [
    "mytuple[- 1] # Return last item of the tuple"
   ]
  },
  {
   "cell_type": "code",
   "execution_count": null,
   "id": "d615a8ab",
   "metadata": {},
   "outputs": [],
   "source": [
    "mytuple[:] # Return whole tuple"
   ]
  },
  {
   "cell_type": "markdown",
   "id": "da46d337",
   "metadata": {},
   "source": [
    "#### Remove & Change Items"
   ]
  },
  {
   "cell_type": "code",
   "execution_count": 283,
   "id": "6d8fabae",
   "metadata": {},
   "outputs": [
    {
     "data": {
      "text/plain": [
       "('one', 'two', 'three', 'four', 'five', 'six', 'seven', 'eight')"
      ]
     },
     "execution_count": 283,
     "metadata": {},
     "output_type": "execute_result"
    }
   ],
   "source": [
    "mytuple"
   ]
  },
  {
   "cell_type": "code",
   "execution_count": 286,
   "id": "c782b02b",
   "metadata": {},
   "outputs": [
    {
     "ename": "TypeError",
     "evalue": "'tuple' object doesn't support item deletion",
     "output_type": "error",
     "traceback": [
      "\u001b[1;31m---------------------------------------------------------------------------\u001b[0m",
      "\u001b[1;31mTypeError\u001b[0m                                 Traceback (most recent call last)",
      "\u001b[1;32m<ipython-input-286-96051e0b9682>\u001b[0m in \u001b[0;36m<module>\u001b[1;34m\u001b[0m\n\u001b[1;32m----> 1\u001b[1;33m \u001b[1;32mdel\u001b[0m \u001b[0mmytuple\u001b[0m\u001b[1;33m[\u001b[0m\u001b[1;36m0\u001b[0m\u001b[1;33m]\u001b[0m \u001b[1;31m# Tuples are immutable which means we can't DELETE tuple items\u001b[0m\u001b[1;33m\u001b[0m\u001b[1;33m\u001b[0m\u001b[0m\n\u001b[0m",
      "\u001b[1;31mTypeError\u001b[0m: 'tuple' object doesn't support item deletion"
     ]
    }
   ],
   "source": [
    "del mytuple[0] # Tuples are immutable which means we can't DELETE tuple items"
   ]
  },
  {
   "cell_type": "code",
   "execution_count": 287,
   "id": "dc27f5e5",
   "metadata": {},
   "outputs": [
    {
     "ename": "TypeError",
     "evalue": "'tuple' object does not support item assignment",
     "output_type": "error",
     "traceback": [
      "\u001b[1;31m---------------------------------------------------------------------------\u001b[0m",
      "\u001b[1;31mTypeError\u001b[0m                                 Traceback (most recent call last)",
      "\u001b[1;32m<ipython-input-287-4c2ed09725a9>\u001b[0m in \u001b[0;36m<module>\u001b[1;34m\u001b[0m\n\u001b[1;32m----> 1\u001b[1;33m \u001b[0mmytuple\u001b[0m\u001b[1;33m[\u001b[0m\u001b[1;36m0\u001b[0m\u001b[1;33m]\u001b[0m \u001b[1;33m=\u001b[0m \u001b[1;36m1\u001b[0m \u001b[1;31m# Tuples are immutable which means we can't CHANGE tuple items\u001b[0m\u001b[1;33m\u001b[0m\u001b[1;33m\u001b[0m\u001b[0m\n\u001b[0m",
      "\u001b[1;31mTypeError\u001b[0m: 'tuple' object does not support item assignment"
     ]
    }
   ],
   "source": [
    "mytuple[0] = 1 # Tuples are immutable which means we can't CHANGE tuple items"
   ]
  },
  {
   "cell_type": "code",
   "execution_count": 288,
   "id": "016003b3",
   "metadata": {},
   "outputs": [],
   "source": [
    "del mytuple # Deleting entire tuple object is possible"
   ]
  },
  {
   "cell_type": "markdown",
   "id": "983f77b4",
   "metadata": {},
   "source": [
    "## Loop through a tuple"
   ]
  },
  {
   "cell_type": "code",
   "execution_count": 292,
   "id": "e1eb7dec",
   "metadata": {},
   "outputs": [
    {
     "data": {
      "text/plain": [
       "('one', 'two', 'three', 'four', 'five', 'six', 'seven', 'eight')"
      ]
     },
     "execution_count": 292,
     "metadata": {},
     "output_type": "execute_result"
    }
   ],
   "source": [
    "mytuple = ('one' , 'two' , 'three' , 'four' , 'five' , 'six' , 'seven' , 'eight' )\n",
    "mytuple"
   ]
  },
  {
   "cell_type": "code",
   "execution_count": 294,
   "id": "31b11df3",
   "metadata": {},
   "outputs": [
    {
     "name": "stdout",
     "output_type": "stream",
     "text": [
      "one\n",
      "two\n",
      "three\n",
      "four\n",
      "five\n",
      "six\n",
      "seven\n",
      "eight\n"
     ]
    }
   ],
   "source": [
    "for i in mytuple : \n",
    "    print ( i )"
   ]
  },
  {
   "cell_type": "code",
   "execution_count": 296,
   "id": "df7f48fc",
   "metadata": {},
   "outputs": [
    {
     "name": "stdout",
     "output_type": "stream",
     "text": [
      "(0, 'one')\n",
      "(1, 'two')\n",
      "(2, 'three')\n",
      "(3, 'four')\n",
      "(4, 'five')\n",
      "(5, 'six')\n",
      "(6, 'seven')\n",
      "(7, 'eight')\n"
     ]
    }
   ],
   "source": [
    "for i in enumerate(mytuple):\n",
    "    print ( i )"
   ]
  },
  {
   "cell_type": "markdown",
   "id": "33cc37e2",
   "metadata": {},
   "source": [
    "### Count"
   ]
  },
  {
   "cell_type": "code",
   "execution_count": 297,
   "id": "ab6380e1",
   "metadata": {},
   "outputs": [],
   "source": [
    "mytuple1 = ( 'one' , 'two' , 'three' , 'four' , 'one' , 'one' , 'two' , 'three' )"
   ]
  },
  {
   "cell_type": "code",
   "execution_count": 298,
   "id": "4a57e432",
   "metadata": {},
   "outputs": [
    {
     "data": {
      "text/plain": [
       "3"
      ]
     },
     "execution_count": 298,
     "metadata": {},
     "output_type": "execute_result"
    }
   ],
   "source": [
    "mytuple1.count('one') # Number of times item \"one\" occurred in the tuple."
   ]
  },
  {
   "cell_type": "code",
   "execution_count": 299,
   "id": "3236ad0a",
   "metadata": {},
   "outputs": [
    {
     "data": {
      "text/plain": [
       "2"
      ]
     },
     "execution_count": 299,
     "metadata": {},
     "output_type": "execute_result"
    }
   ],
   "source": [
    "mytuple1.count('two') # Occurence of item 'two' in the tuple"
   ]
  },
  {
   "cell_type": "code",
   "execution_count": 300,
   "id": "f6cede93",
   "metadata": {},
   "outputs": [
    {
     "data": {
      "text/plain": [
       "1"
      ]
     },
     "execution_count": 300,
     "metadata": {},
     "output_type": "execute_result"
    }
   ],
   "source": [
    "mytuple1.count('four') #Occurence of item 'four' in the tuple"
   ]
  },
  {
   "cell_type": "markdown",
   "id": "709d16ff",
   "metadata": {},
   "source": [
    "### Tuple Membership"
   ]
  },
  {
   "cell_type": "code",
   "execution_count": 301,
   "id": "ecdfd88a",
   "metadata": {},
   "outputs": [
    {
     "data": {
      "text/plain": [
       "('one', 'two', 'three', 'four', 'five', 'six', 'seven', 'eight')"
      ]
     },
     "execution_count": 301,
     "metadata": {},
     "output_type": "execute_result"
    }
   ],
   "source": [
    "mytuple"
   ]
  },
  {
   "cell_type": "code",
   "execution_count": 302,
   "id": "62d2cd0c",
   "metadata": {},
   "outputs": [
    {
     "data": {
      "text/plain": [
       "True"
      ]
     },
     "execution_count": 302,
     "metadata": {},
     "output_type": "execute_result"
    }
   ],
   "source": [
    "'one' in mytuple # Check if 'one' exist in the list"
   ]
  },
  {
   "cell_type": "code",
   "execution_count": 303,
   "id": "d266926f",
   "metadata": {},
   "outputs": [
    {
     "data": {
      "text/plain": [
       "False"
      ]
     },
     "execution_count": 303,
     "metadata": {},
     "output_type": "execute_result"
    }
   ],
   "source": [
    "'ten' in mytuple # Check if 'ten' exist in the list"
   ]
  },
  {
   "cell_type": "code",
   "execution_count": 304,
   "id": "8c6ff7ee",
   "metadata": {},
   "outputs": [
    {
     "name": "stdout",
     "output_type": "stream",
     "text": [
      "Three is present in the tuple\n"
     ]
    }
   ],
   "source": [
    "if 'three' in mytuple: # Check if 'three' exist in the list  \n",
    "    print ( 'Three is present in the tuple' ) \n",
    "else:\n",
    "    print ( 'Three is not present in the tuple' )"
   ]
  },
  {
   "cell_type": "code",
   "execution_count": 305,
   "id": "acc59190",
   "metadata": {},
   "outputs": [
    {
     "name": "stdout",
     "output_type": "stream",
     "text": [
      "eleven is not present in the tuple\n"
     ]
    }
   ],
   "source": [
    "if 'eleven' in mytuple: # Check if 'eleven' exist in the list \n",
    "    print ( 'eleven is present in the tuple' )\n",
    "else:\n",
    "    print ( 'eleven is not present in the tuple' )"
   ]
  },
  {
   "cell_type": "code",
   "execution_count": 306,
   "id": "f9eba180",
   "metadata": {},
   "outputs": [
    {
     "data": {
      "text/plain": [
       "('one', 'two', 'three', 'four', 'five', 'six', 'seven', 'eight')"
      ]
     },
     "execution_count": 306,
     "metadata": {},
     "output_type": "execute_result"
    }
   ],
   "source": [
    "mytuple"
   ]
  },
  {
   "cell_type": "code",
   "execution_count": 307,
   "id": "6668e614",
   "metadata": {},
   "outputs": [
    {
     "data": {
      "text/plain": [
       "0"
      ]
     },
     "execution_count": 307,
     "metadata": {},
     "output_type": "execute_result"
    }
   ],
   "source": [
    "mytuple.index('one') # Index of first element equal to 'one'"
   ]
  },
  {
   "cell_type": "code",
   "execution_count": 309,
   "id": "15a0e9f6",
   "metadata": {},
   "outputs": [
    {
     "data": {
      "text/plain": [
       "('one', 'two', 'three', 'four', 'one', 'one', 'two', 'three')"
      ]
     },
     "execution_count": 309,
     "metadata": {},
     "output_type": "execute_result"
    }
   ],
   "source": [
    "mytuple.index('five') # Index of first element equal to 'five'\n",
    "mytuple1"
   ]
  },
  {
   "cell_type": "code",
   "execution_count": 310,
   "id": "a34b7803",
   "metadata": {},
   "outputs": [
    {
     "data": {
      "text/plain": [
       "0"
      ]
     },
     "execution_count": 310,
     "metadata": {},
     "output_type": "execute_result"
    }
   ],
   "source": [
    "mytuple1.index('one')  # Index of first element equal to 'one'"
   ]
  },
  {
   "cell_type": "markdown",
   "id": "5c52a472",
   "metadata": {},
   "source": [
    "### Sorting"
   ]
  },
  {
   "cell_type": "code",
   "execution_count": 311,
   "id": "65f7af31",
   "metadata": {},
   "outputs": [],
   "source": [
    "mytuple2 = ( 43 , 67 , 99 , 12 , 6 , 90 , 67 )"
   ]
  },
  {
   "cell_type": "code",
   "execution_count": 312,
   "id": "c6c92424",
   "metadata": {},
   "outputs": [
    {
     "data": {
      "text/plain": [
       "[6, 12, 43, 67, 67, 90, 99]"
      ]
     },
     "execution_count": 312,
     "metadata": {},
     "output_type": "execute_result"
    }
   ],
   "source": [
    "sorted(mytuple2) # Returns a new sorted list and doesn't change original tuple"
   ]
  },
  {
   "cell_type": "code",
   "execution_count": 313,
   "id": "a6d70797",
   "metadata": {},
   "outputs": [
    {
     "data": {
      "text/plain": [
       "[99, 90, 67, 67, 43, 12, 6]"
      ]
     },
     "execution_count": 313,
     "metadata": {},
     "output_type": "execute_result"
    }
   ],
   "source": [
    "sorted(mytuple2 , reverse = True ) # Sort in descending order"
   ]
  },
  {
   "cell_type": "markdown",
   "id": "d7b0e33e",
   "metadata": {},
   "source": [
    "# Sets\n",
    "1. Unordered & Unindexed collection of items.\n",
    "2. Set elements are unique. Duplicate elements are not allowed.\n",
    "3. Set elements are immutable (cannot be changed).\n",
    "4. Set itself is mutable. We can add or remove items from it.\n",
    "\n",
    "### Set Creation"
   ]
  },
  {
   "cell_type": "code",
   "execution_count": 315,
   "id": "c9fb0ffe",
   "metadata": {},
   "outputs": [],
   "source": [
    "myset = { 1 , 2 , 3 , 4 , 5 } # Set of numbers myset"
   ]
  },
  {
   "cell_type": "code",
   "execution_count": 316,
   "id": "ed24b10d",
   "metadata": {},
   "outputs": [
    {
     "data": {
      "text/plain": [
       "5"
      ]
     },
     "execution_count": 316,
     "metadata": {},
     "output_type": "execute_result"
    }
   ],
   "source": [
    "len(myset) #Length of the set"
   ]
  },
  {
   "cell_type": "code",
   "execution_count": 317,
   "id": "77c29d72",
   "metadata": {},
   "outputs": [
    {
     "data": {
      "text/plain": [
       "{1, 2, 3, 4, 5}"
      ]
     },
     "execution_count": 317,
     "metadata": {},
     "output_type": "execute_result"
    }
   ],
   "source": [
    "my_set = { 1 , 1 , 2 , 2 , 3 , 4 , 5 , 5 }\n",
    "my_set"
   ]
  },
  {
   "cell_type": "code",
   "execution_count": 318,
   "id": "c67a4043",
   "metadata": {},
   "outputs": [
    {
     "data": {
      "text/plain": [
       "{1.79, 2.08, 3.99, 4.56, 5.45}"
      ]
     },
     "execution_count": 318,
     "metadata": {},
     "output_type": "execute_result"
    }
   ],
   "source": [
    "myset1 = { 1.79 , 2.08 , 3.99 , 4.56 , 5.45 } # Set of float numbers\n",
    "myset1"
   ]
  },
  {
   "cell_type": "code",
   "execution_count": 319,
   "id": "1d19d66e",
   "metadata": {},
   "outputs": [
    {
     "data": {
      "text/plain": [
       "{'Asif', 'John', 'Tyrion'}"
      ]
     },
     "execution_count": 319,
     "metadata": {},
     "output_type": "execute_result"
    }
   ],
   "source": [
    "myset2 = { 'Asif' , 'John' , 'Tyrion' } # Set of Strings\n",
    "myset2"
   ]
  },
  {
   "cell_type": "code",
   "execution_count": 320,
   "id": "644bddaf",
   "metadata": {},
   "outputs": [
    {
     "data": {
      "text/plain": [
       "{(11, 22, 32), 10, 20, 'Hola'}"
      ]
     },
     "execution_count": 320,
     "metadata": {},
     "output_type": "execute_result"
    }
   ],
   "source": [
    "myset3 = { 10 , 20 , \"Hola\" , ( 11 , 22 , 32 )} # Mixed datatypes\n",
    "myset3"
   ]
  },
  {
   "cell_type": "code",
   "execution_count": 321,
   "id": "054d54f8",
   "metadata": {},
   "outputs": [
    {
     "ename": "TypeError",
     "evalue": "unhashable type: 'list'",
     "output_type": "error",
     "traceback": [
      "\u001b[1;31m---------------------------------------------------------------------------\u001b[0m",
      "\u001b[1;31mTypeError\u001b[0m                                 Traceback (most recent call last)",
      "\u001b[1;32m<ipython-input-321-b7e6e0ba0323>\u001b[0m in \u001b[0;36m<module>\u001b[1;34m\u001b[0m\n\u001b[1;32m----> 1\u001b[1;33m \u001b[0mmyset3\u001b[0m \u001b[1;33m=\u001b[0m \u001b[1;33m{\u001b[0m \u001b[1;36m10\u001b[0m \u001b[1;33m,\u001b[0m \u001b[1;36m20\u001b[0m \u001b[1;33m,\u001b[0m \u001b[1;34m\"Hola\"\u001b[0m \u001b[1;33m,\u001b[0m \u001b[1;33m[\u001b[0m \u001b[1;36m11\u001b[0m \u001b[1;33m,\u001b[0m \u001b[1;36m22\u001b[0m \u001b[1;33m,\u001b[0m \u001b[1;36m32\u001b[0m \u001b[1;33m]\u001b[0m\u001b[1;33m}\u001b[0m \u001b[1;31m# set doesn't allow mutable items like lis myset3\u001b[0m\u001b[1;33m\u001b[0m\u001b[1;33m\u001b[0m\u001b[0m\n\u001b[0m",
      "\u001b[1;31mTypeError\u001b[0m: unhashable type: 'list'"
     ]
    }
   ],
   "source": [
    "myset3 = { 10 , 20 , \"Hola\" , [ 11 , 22 , 32 ]} # set doesn't allow mutable items like lis myset3"
   ]
  },
  {
   "cell_type": "code",
   "execution_count": 322,
   "id": "6bd10387",
   "metadata": {},
   "outputs": [],
   "source": [
    "myset4 = set () # Create an empty set print ( type ( myset4 ))"
   ]
  },
  {
   "cell_type": "code",
   "execution_count": 323,
   "id": "13f5b868",
   "metadata": {},
   "outputs": [
    {
     "data": {
      "text/plain": [
       "{'four', 'one', 'three', 'two'}"
      ]
     },
     "execution_count": 323,
     "metadata": {},
     "output_type": "execute_result"
    }
   ],
   "source": [
    "my_set1 = set (( 'one' , 'two' , 'three' , 'four' ))\n",
    "my_set1"
   ]
  },
  {
   "cell_type": "markdown",
   "id": "df63b23a",
   "metadata": {},
   "source": [
    "## Loop through a Set"
   ]
  },
  {
   "cell_type": "code",
   "execution_count": 324,
   "id": "5fd049bb",
   "metadata": {},
   "outputs": [
    {
     "name": "stdout",
     "output_type": "stream",
     "text": [
      "five\n",
      "four\n",
      "eight\n",
      "six\n",
      "seven\n",
      "two\n",
      "three\n",
      "one\n"
     ]
    }
   ],
   "source": [
    "myset = { 'one' , 'two' , 'three' , 'four' , 'five' , 'six' , 'seven' , 'eight' } \n",
    "for i in myset : \n",
    "    print ( i )"
   ]
  },
  {
   "cell_type": "code",
   "execution_count": 325,
   "id": "eaf8b6be",
   "metadata": {},
   "outputs": [
    {
     "name": "stdout",
     "output_type": "stream",
     "text": [
      "(0, 'five')\n",
      "(1, 'four')\n",
      "(2, 'eight')\n",
      "(3, 'six')\n",
      "(4, 'seven')\n",
      "(5, 'two')\n",
      "(6, 'three')\n",
      "(7, 'one')\n"
     ]
    }
   ],
   "source": [
    "for i in enumerate ( myset ): print ( i )"
   ]
  },
  {
   "cell_type": "markdown",
   "id": "ac212984",
   "metadata": {},
   "source": [
    "#### Set Membership"
   ]
  },
  {
   "cell_type": "code",
   "execution_count": 327,
   "id": "cddef9ed",
   "metadata": {},
   "outputs": [
    {
     "data": {
      "text/plain": [
       "{'eight', 'five', 'four', 'one', 'seven', 'six', 'three', 'two'}"
      ]
     },
     "execution_count": 327,
     "metadata": {},
     "output_type": "execute_result"
    }
   ],
   "source": [
    "myset"
   ]
  },
  {
   "cell_type": "code",
   "execution_count": 328,
   "id": "df23b865",
   "metadata": {},
   "outputs": [
    {
     "data": {
      "text/plain": [
       "True"
      ]
     },
     "execution_count": 328,
     "metadata": {},
     "output_type": "execute_result"
    }
   ],
   "source": [
    "'one' in myset # Check if 'one' exist in the set"
   ]
  },
  {
   "cell_type": "code",
   "execution_count": 329,
   "id": "8ccd65b1",
   "metadata": {},
   "outputs": [
    {
     "data": {
      "text/plain": [
       "False"
      ]
     },
     "execution_count": 329,
     "metadata": {},
     "output_type": "execute_result"
    }
   ],
   "source": [
    "'ten' in myset # Check if 'ten' exist in the set"
   ]
  },
  {
   "cell_type": "code",
   "execution_count": 330,
   "id": "28468c76",
   "metadata": {},
   "outputs": [
    {
     "name": "stdout",
     "output_type": "stream",
     "text": [
      "Three is present in the set\n"
     ]
    }
   ],
   "source": [
    "if 'three' in myset: # Check if 'three' exist in the set \n",
    "    print ( 'Three is present in the set' )\n",
    "else:\n",
    "    print ( 'Three is not present in the set' )"
   ]
  },
  {
   "cell_type": "code",
   "execution_count": 331,
   "id": "2cf1a12b",
   "metadata": {},
   "outputs": [
    {
     "data": {
      "text/plain": [
       "{'eight', 'five', 'four', 'one', 'seven', 'six', 'three', 'two'}"
      ]
     },
     "execution_count": 331,
     "metadata": {},
     "output_type": "execute_result"
    }
   ],
   "source": [
    "myset"
   ]
  },
  {
   "cell_type": "code",
   "execution_count": 336,
   "id": "7435429f",
   "metadata": {},
   "outputs": [],
   "source": [
    "myset.add('NINE') # Add item to a set using add() method myset"
   ]
  },
  {
   "cell_type": "code",
   "execution_count": 337,
   "id": "9773b9ab",
   "metadata": {},
   "outputs": [],
   "source": [
    "myset.update([ 'TEN' , 'ELEVEN' , 'TWELVE' ]) # Add multiple item to a set using u myset"
   ]
  },
  {
   "cell_type": "code",
   "execution_count": 338,
   "id": "d9ff24c2",
   "metadata": {},
   "outputs": [],
   "source": [
    "myset.remove('NINE') # remove item in a set using remove() method myset"
   ]
  },
  {
   "cell_type": "code",
   "execution_count": 340,
   "id": "655f5cca",
   "metadata": {},
   "outputs": [
    {
     "data": {
      "text/plain": [
       "{'ELEVEN',\n",
       " 'TWELVE',\n",
       " 'eight',\n",
       " 'five',\n",
       " 'four',\n",
       " 'one',\n",
       " 'seven',\n",
       " 'six',\n",
       " 'three',\n",
       " 'two'}"
      ]
     },
     "execution_count": 340,
     "metadata": {},
     "output_type": "execute_result"
    }
   ],
   "source": [
    "myset.discard ('TEN') # remove item from a set using discard() method\n",
    "myset"
   ]
  },
  {
   "cell_type": "code",
   "execution_count": 342,
   "id": "0b2d3d38",
   "metadata": {},
   "outputs": [
    {
     "data": {
      "text/plain": [
       "set()"
      ]
     },
     "execution_count": 342,
     "metadata": {},
     "output_type": "execute_result"
    }
   ],
   "source": [
    "myset.clear() # Delete all items in a set\n",
    "myset"
   ]
  },
  {
   "cell_type": "code",
   "execution_count": 344,
   "id": "4a564274",
   "metadata": {},
   "outputs": [
    {
     "ename": "NameError",
     "evalue": "name 'myset' is not defined",
     "output_type": "error",
     "traceback": [
      "\u001b[1;31m---------------------------------------------------------------------------\u001b[0m",
      "\u001b[1;31mNameError\u001b[0m                                 Traceback (most recent call last)",
      "\u001b[1;32m<ipython-input-344-8096fc3734fe>\u001b[0m in \u001b[0;36m<module>\u001b[1;34m\u001b[0m\n\u001b[1;32m----> 1\u001b[1;33m \u001b[1;32mdel\u001b[0m \u001b[0mmyset\u001b[0m \u001b[1;31m# Delete the set object\u001b[0m\u001b[1;33m\u001b[0m\u001b[1;33m\u001b[0m\u001b[0m\n\u001b[0m\u001b[0;32m      2\u001b[0m \u001b[0mmyset\u001b[0m\u001b[1;33m\u001b[0m\u001b[1;33m\u001b[0m\u001b[0m\n",
      "\u001b[1;31mNameError\u001b[0m: name 'myset' is not defined"
     ]
    }
   ],
   "source": [
    "del myset # Delete the set object\n",
    "myset"
   ]
  },
  {
   "cell_type": "code",
   "execution_count": 345,
   "id": "c9c5f622",
   "metadata": {},
   "outputs": [],
   "source": [
    "# Copy Set"
   ]
  },
  {
   "cell_type": "code",
   "execution_count": 347,
   "id": "fea468cb",
   "metadata": {},
   "outputs": [
    {
     "data": {
      "text/plain": [
       "{'eight', 'five', 'four', 'one', 'seven', 'six', 'three', 'two'}"
      ]
     },
     "execution_count": 347,
     "metadata": {},
     "output_type": "execute_result"
    }
   ],
   "source": [
    "myset = { 'one' , 'two' , 'three' , 'four' , 'five' , 'six' , 'seven' , 'eight' }\n",
    "myset"
   ]
  },
  {
   "cell_type": "code",
   "execution_count": 350,
   "id": "fc226d90",
   "metadata": {},
   "outputs": [
    {
     "data": {
      "text/plain": [
       "(2049679884072, 2049679884072)"
      ]
     },
     "execution_count": 350,
     "metadata": {},
     "output_type": "execute_result"
    }
   ],
   "source": [
    "myset1 = myset # Create a new reference \"myset1\"\n",
    "myset1\n",
    "\n",
    "id(myset),id(myset1)"
   ]
  },
  {
   "cell_type": "code",
   "execution_count": 355,
   "id": "915f9154",
   "metadata": {},
   "outputs": [],
   "source": [
    "my_set = myset.copy () # Create a copy of the list my_set"
   ]
  },
  {
   "cell_type": "code",
   "execution_count": 356,
   "id": "ff3992c9",
   "metadata": {},
   "outputs": [
    {
     "data": {
      "text/plain": [
       "2049680910824"
      ]
     },
     "execution_count": 356,
     "metadata": {},
     "output_type": "execute_result"
    }
   ],
   "source": [
    "id(my_set) # The address of my_set will be different from myset because my_set i"
   ]
  },
  {
   "cell_type": "code",
   "execution_count": 360,
   "id": "84d11d3c",
   "metadata": {},
   "outputs": [
    {
     "data": {
      "text/plain": [
       "{'eight', 'five', 'four', 'nine', 'one', 'seven', 'six', 'three', 'two'}"
      ]
     },
     "execution_count": 360,
     "metadata": {},
     "output_type": "execute_result"
    }
   ],
   "source": [
    "myset.add('nine')\n",
    "myset"
   ]
  },
  {
   "cell_type": "code",
   "execution_count": 358,
   "id": "c01532b0",
   "metadata": {},
   "outputs": [
    {
     "data": {
      "text/plain": [
       "{'eight', 'five', 'four', 'nine', 'one', 'seven', 'six', 'three', 'two'}"
      ]
     },
     "execution_count": 358,
     "metadata": {},
     "output_type": "execute_result"
    }
   ],
   "source": [
    "myset1 # myset1 will be also impacted as it is pointing to the same Set"
   ]
  },
  {
   "cell_type": "code",
   "execution_count": 359,
   "id": "e9295fc3",
   "metadata": {},
   "outputs": [
    {
     "data": {
      "text/plain": [
       "{'eight', 'five', 'four', 'nine', 'one', 'seven', 'six', 'three', 'two'}"
      ]
     },
     "execution_count": 359,
     "metadata": {},
     "output_type": "execute_result"
    }
   ],
   "source": [
    "my_set"
   ]
  },
  {
   "cell_type": "markdown",
   "id": "55072958",
   "metadata": {},
   "source": [
    "## Set Operation\n",
    "\n",
    "#### Union"
   ]
  },
  {
   "cell_type": "code",
   "execution_count": 361,
   "id": "e6db2879",
   "metadata": {},
   "outputs": [],
   "source": [
    "A = { 1 , 2 , 3 , 4 , 5 }\n",
    "B = { 4 , 5 , 6 , 7 , 8 }\n",
    "C = { 8 , 9 , 10 }"
   ]
  },
  {
   "cell_type": "code",
   "execution_count": 362,
   "id": "3238219f",
   "metadata": {},
   "outputs": [
    {
     "data": {
      "text/plain": [
       "{1, 2, 3, 4, 5, 6, 7, 8}"
      ]
     },
     "execution_count": 362,
     "metadata": {},
     "output_type": "execute_result"
    }
   ],
   "source": [
    "A | B # Union of A and B (All elements from both sets. NO DUPLICATES)"
   ]
  },
  {
   "cell_type": "code",
   "execution_count": 363,
   "id": "6eedf010",
   "metadata": {},
   "outputs": [
    {
     "data": {
      "text/plain": [
       "{1, 2, 3, 4, 5, 6, 7, 8}"
      ]
     },
     "execution_count": 363,
     "metadata": {},
     "output_type": "execute_result"
    }
   ],
   "source": [
    "A.union(B) # Union of A and B"
   ]
  },
  {
   "cell_type": "code",
   "execution_count": 364,
   "id": "34279d2e",
   "metadata": {},
   "outputs": [
    {
     "data": {
      "text/plain": [
       "{1, 2, 3, 4, 5, 6, 7, 8, 9, 10}"
      ]
     },
     "execution_count": 364,
     "metadata": {},
     "output_type": "execute_result"
    }
   ],
   "source": [
    "A.union(B,C) # Union of A, B and C."
   ]
  },
  {
   "cell_type": "code",
   "execution_count": 365,
   "id": "c66d1b18",
   "metadata": {},
   "outputs": [
    {
     "data": {
      "text/plain": [
       "{1, 2, 3, 4, 5, 6, 7, 8, 9, 10}"
      ]
     },
     "execution_count": 365,
     "metadata": {},
     "output_type": "execute_result"
    }
   ],
   "source": [
    "\"\"\"\n",
    "Updates the set calling the update() method with union of A , B & C.\n",
    "For below example Set A will be updated with union of A,B & C.\n",
    "\"\"\"\n",
    "A.update(B,C)\n",
    "A"
   ]
  },
  {
   "cell_type": "markdown",
   "id": "880fa6fe",
   "metadata": {},
   "source": [
    "### Intersection"
   ]
  },
  {
   "cell_type": "code",
   "execution_count": 367,
   "id": "346752ad",
   "metadata": {},
   "outputs": [
    {
     "data": {
      "text/plain": [
       "{4, 5}"
      ]
     },
     "execution_count": 367,
     "metadata": {},
     "output_type": "execute_result"
    }
   ],
   "source": [
    "A = { 1 , 2 , 3 , 4 , 5 }\n",
    "B = { 4 , 5 , 6 , 7 , 8 }\n",
    "A & B"
   ]
  },
  {
   "cell_type": "code",
   "execution_count": 368,
   "id": "69b0aea1",
   "metadata": {},
   "outputs": [
    {
     "data": {
      "text/plain": [
       "{4, 5}"
      ]
     },
     "execution_count": 368,
     "metadata": {},
     "output_type": "execute_result"
    }
   ],
   "source": [
    "A.intersection(B) # Intersection of A and B"
   ]
  },
  {
   "cell_type": "code",
   "execution_count": 369,
   "id": "371b00fd",
   "metadata": {},
   "outputs": [
    {
     "data": {
      "text/plain": [
       "{4, 5}"
      ]
     },
     "execution_count": 369,
     "metadata": {},
     "output_type": "execute_result"
    }
   ],
   "source": [
    "\"\"\"\n",
    "Updates the set calling the intersection_update() method with the intersection of\n",
    "For below example Set A will be updated with the intersection of A & B.\n",
    "\"\"\"\n",
    "A.intersection_update(B)\n",
    "A"
   ]
  },
  {
   "cell_type": "markdown",
   "id": "19b002bd",
   "metadata": {},
   "source": [
    "### Difference"
   ]
  },
  {
   "cell_type": "code",
   "execution_count": 371,
   "id": "caa6b7c9",
   "metadata": {},
   "outputs": [],
   "source": [
    "A = { 1 , 2 , 3 , 4 , 5 }\n",
    "B = { 4 , 5 , 6 , 7 , 8 }"
   ]
  },
  {
   "cell_type": "code",
   "execution_count": 373,
   "id": "dd84f465",
   "metadata": {},
   "outputs": [
    {
     "data": {
      "text/plain": [
       "{1, 2, 3}"
      ]
     },
     "execution_count": 373,
     "metadata": {},
     "output_type": "execute_result"
    }
   ],
   "source": [
    "A - B # set of elements that are only in A but not in B"
   ]
  },
  {
   "cell_type": "code",
   "execution_count": 374,
   "id": "64246c2b",
   "metadata": {},
   "outputs": [
    {
     "data": {
      "text/plain": [
       "{1, 2, 3}"
      ]
     },
     "execution_count": 374,
     "metadata": {},
     "output_type": "execute_result"
    }
   ],
   "source": [
    "A.difference(B) # Difference of sets"
   ]
  },
  {
   "cell_type": "code",
   "execution_count": 375,
   "id": "c73e8629",
   "metadata": {},
   "outputs": [
    {
     "data": {
      "text/plain": [
       "{6, 7, 8}"
      ]
     },
     "execution_count": 375,
     "metadata": {},
     "output_type": "execute_result"
    }
   ],
   "source": [
    "B - A # set of elements that are only in B but not in A"
   ]
  },
  {
   "cell_type": "code",
   "execution_count": 376,
   "id": "ea86d9a4",
   "metadata": {},
   "outputs": [
    {
     "data": {
      "text/plain": [
       "{6, 7, 8}"
      ]
     },
     "execution_count": 376,
     "metadata": {},
     "output_type": "execute_result"
    }
   ],
   "source": [
    "B.difference(A)"
   ]
  },
  {
   "cell_type": "code",
   "execution_count": 377,
   "id": "a537637f",
   "metadata": {},
   "outputs": [
    {
     "data": {
      "text/plain": [
       "{6, 7, 8}"
      ]
     },
     "execution_count": 377,
     "metadata": {},
     "output_type": "execute_result"
    }
   ],
   "source": [
    "\"\"\"\n",
    "Updates the set calling the difference_update() method with the difference of set\n",
    "For below example Set B will be updated with the difference of B & A.\n",
    "\"\"\"\n",
    "B.difference_update(A)\n",
    "B"
   ]
  },
  {
   "cell_type": "code",
   "execution_count": 378,
   "id": "8d6593da",
   "metadata": {},
   "outputs": [],
   "source": [
    "# Symmetric Difference"
   ]
  },
  {
   "cell_type": "code",
   "execution_count": 379,
   "id": "bf18e208",
   "metadata": {},
   "outputs": [],
   "source": [
    "A = { 1 , 2 , 3 , 4 , 5 }\n",
    "B = { 4 , 5 , 6 , 7 , 8 }"
   ]
  },
  {
   "cell_type": "code",
   "execution_count": 380,
   "id": "c47fe275",
   "metadata": {},
   "outputs": [
    {
     "data": {
      "text/plain": [
       "{1, 2, 3, 6, 7, 8}"
      ]
     },
     "execution_count": 380,
     "metadata": {},
     "output_type": "execute_result"
    }
   ],
   "source": [
    "A ^ B # Symmetric difference (Set of elements in A and B but not in both. \"EXCLUDED THE COMMON FIELDS\""
   ]
  },
  {
   "cell_type": "code",
   "execution_count": 381,
   "id": "5ee6dbad",
   "metadata": {},
   "outputs": [
    {
     "data": {
      "text/plain": [
       "{1, 2, 3, 6, 7, 8}"
      ]
     },
     "execution_count": 381,
     "metadata": {},
     "output_type": "execute_result"
    }
   ],
   "source": [
    "A.symmetric_difference(B) # Symmetric difference of sets"
   ]
  },
  {
   "cell_type": "code",
   "execution_count": 382,
   "id": "21391a8b",
   "metadata": {},
   "outputs": [
    {
     "data": {
      "text/plain": [
       "{1, 2, 3, 6, 7, 8}"
      ]
     },
     "execution_count": 382,
     "metadata": {},
     "output_type": "execute_result"
    }
   ],
   "source": [
    "\"\"\"\n",
    "Updates the set calling the symmetric_difference_update() method with the symmetr\n",
    "For below example Set A will be updated with the symmetric difference of A & B.\n",
    "\"\"\"\n",
    "A.symmetric_difference_update(B)\n",
    "A"
   ]
  },
  {
   "cell_type": "markdown",
   "id": "74a8f49b",
   "metadata": {},
   "source": [
    "## Subset , Superset & Disjoint"
   ]
  },
  {
   "cell_type": "code",
   "execution_count": 383,
   "id": "9a4dbf0a",
   "metadata": {},
   "outputs": [],
   "source": [
    "\n",
    "A = { 1 , 2 , 3 , 4 , 5 , 6 , 7 , 8 , 9 }\n",
    "B = { 3 , 4 , 5 , 6 , 7 , 8 }\n",
    "C = { 10 , 20 , 30 , 40 }"
   ]
  },
  {
   "cell_type": "code",
   "execution_count": 384,
   "id": "35ff9de1",
   "metadata": {},
   "outputs": [
    {
     "data": {
      "text/plain": [
       "True"
      ]
     },
     "execution_count": 384,
     "metadata": {},
     "output_type": "execute_result"
    }
   ],
   "source": [
    "B.issubset(A) # Set B is said to be the subset of set A if all elements of B are"
   ]
  },
  {
   "cell_type": "code",
   "execution_count": 385,
   "id": "17a6cc3d",
   "metadata": {},
   "outputs": [
    {
     "data": {
      "text/plain": [
       "True"
      ]
     },
     "execution_count": 385,
     "metadata": {},
     "output_type": "execute_result"
    }
   ],
   "source": [
    "A.issuperset(B) # Set A is said to be the superset of set B if all elements of B"
   ]
  },
  {
   "cell_type": "code",
   "execution_count": 386,
   "id": "88217cc9",
   "metadata": {},
   "outputs": [
    {
     "data": {
      "text/plain": [
       "True"
      ]
     },
     "execution_count": 386,
     "metadata": {},
     "output_type": "execute_result"
    }
   ],
   "source": [
    "C.isdisjoint(A) # Two sets are said to be disjoint sets if they have no common elements of C"
   ]
  },
  {
   "cell_type": "code",
   "execution_count": 387,
   "id": "8da5f277",
   "metadata": {},
   "outputs": [
    {
     "data": {
      "text/plain": [
       "False"
      ]
     },
     "execution_count": 387,
     "metadata": {},
     "output_type": "execute_result"
    }
   ],
   "source": [
    "B.isdisjoint(A) # Two sets are said to be disjoint sets if they have no common elements"
   ]
  },
  {
   "cell_type": "markdown",
   "id": "d98fefe9",
   "metadata": {},
   "source": [
    "## Other Builtin functions"
   ]
  },
  {
   "cell_type": "code",
   "execution_count": 388,
   "id": "cab5de97",
   "metadata": {},
   "outputs": [
    {
     "data": {
      "text/plain": [
       "{1, 2, 3, 4, 5, 6, 7, 8, 9}"
      ]
     },
     "execution_count": 388,
     "metadata": {},
     "output_type": "execute_result"
    }
   ],
   "source": [
    "A"
   ]
  },
  {
   "cell_type": "code",
   "execution_count": 389,
   "id": "30276e61",
   "metadata": {},
   "outputs": [
    {
     "data": {
      "text/plain": [
       "45"
      ]
     },
     "execution_count": 389,
     "metadata": {},
     "output_type": "execute_result"
    }
   ],
   "source": [
    "sum(A)"
   ]
  },
  {
   "cell_type": "code",
   "execution_count": 390,
   "id": "193c7d9c",
   "metadata": {},
   "outputs": [
    {
     "data": {
      "text/plain": [
       "9"
      ]
     },
     "execution_count": 390,
     "metadata": {},
     "output_type": "execute_result"
    }
   ],
   "source": [
    "max(A)"
   ]
  },
  {
   "cell_type": "code",
   "execution_count": 391,
   "id": "8e99f796",
   "metadata": {},
   "outputs": [
    {
     "data": {
      "text/plain": [
       "1"
      ]
     },
     "execution_count": 391,
     "metadata": {},
     "output_type": "execute_result"
    }
   ],
   "source": [
    "min(A)"
   ]
  },
  {
   "cell_type": "code",
   "execution_count": 392,
   "id": "2a1e9ff5",
   "metadata": {},
   "outputs": [
    {
     "data": {
      "text/plain": [
       "9"
      ]
     },
     "execution_count": 392,
     "metadata": {},
     "output_type": "execute_result"
    }
   ],
   "source": [
    "len(A)"
   ]
  },
  {
   "cell_type": "code",
   "execution_count": 393,
   "id": "86cd1586",
   "metadata": {},
   "outputs": [
    {
     "data": {
      "text/plain": [
       "[(0, 1), (1, 2), (2, 3), (3, 4), (4, 5), (5, 6), (6, 7), (7, 8), (8, 9)]"
      ]
     },
     "execution_count": 393,
     "metadata": {},
     "output_type": "execute_result"
    }
   ],
   "source": [
    "list(enumerate(A))"
   ]
  },
  {
   "cell_type": "code",
   "execution_count": 394,
   "id": "b0e63cf1",
   "metadata": {},
   "outputs": [
    {
     "data": {
      "text/plain": [
       "[9, 8, 7, 6, 5, 4, 3, 2, 1]"
      ]
     },
     "execution_count": 394,
     "metadata": {},
     "output_type": "execute_result"
    }
   ],
   "source": [
    "D = sorted(A, reverse = True )\n",
    "D"
   ]
  },
  {
   "cell_type": "code",
   "execution_count": 395,
   "id": "d365a5f6",
   "metadata": {},
   "outputs": [
    {
     "data": {
      "text/plain": [
       "[1, 2, 3, 4, 5, 6, 7, 8, 9]"
      ]
     },
     "execution_count": 395,
     "metadata": {},
     "output_type": "execute_result"
    }
   ],
   "source": [
    "sorted(D)"
   ]
  },
  {
   "cell_type": "markdown",
   "id": "14315220",
   "metadata": {},
   "source": [
    "### Dictionary\n",
    "1. Dictionary is a mutable data type in Python.\n",
    "2. A python dictionary is a collection of key and value pairs separated by a colon (:) & enclosedin curly braces {}.\n",
    "3. Keys must be unique in a dictionary, duplicate values are allowed."
   ]
  },
  {
   "cell_type": "code",
   "execution_count": 397,
   "id": "69b9a68b",
   "metadata": {},
   "outputs": [
    {
     "data": {
      "text/plain": [
       "{}"
      ]
     },
     "execution_count": 397,
     "metadata": {},
     "output_type": "execute_result"
    }
   ],
   "source": [
    "mydict = dict()\n",
    "mydict"
   ]
  },
  {
   "cell_type": "code",
   "execution_count": 399,
   "id": "7bf5032d",
   "metadata": {},
   "outputs": [
    {
     "data": {
      "text/plain": [
       "{}"
      ]
     },
     "execution_count": 399,
     "metadata": {},
     "output_type": "execute_result"
    }
   ],
   "source": [
    "mydict = {}\n",
    "mydict"
   ]
  },
  {
   "cell_type": "code",
   "execution_count": 400,
   "id": "7368abb2",
   "metadata": {},
   "outputs": [
    {
     "data": {
      "text/plain": [
       "{1: 'one', 2: 'two', 3: 'three'}"
      ]
     },
     "execution_count": 400,
     "metadata": {},
     "output_type": "execute_result"
    }
   ],
   "source": [
    "mydict = { 1 : 'one' , 2 : 'two' , 3 : 'three' } # dictionary with integer keys \n",
    "mydict"
   ]
  },
  {
   "cell_type": "code",
   "execution_count": 401,
   "id": "5b56ee80",
   "metadata": {},
   "outputs": [
    {
     "data": {
      "text/plain": [
       "{1: 'one', 2: 'two', 3: 'three'}"
      ]
     },
     "execution_count": 401,
     "metadata": {},
     "output_type": "execute_result"
    }
   ],
   "source": [
    "mydict = dict ({ 1 : 'one' , 2 : 'two' , 3 : 'three' }) # Create dictionary using dict()\n",
    "mydict"
   ]
  },
  {
   "cell_type": "code",
   "execution_count": 402,
   "id": "d3dbda9c",
   "metadata": {},
   "outputs": [
    {
     "data": {
      "text/plain": [
       "{'A': 'one', 'B': 'two', 'C': 'three'}"
      ]
     },
     "execution_count": 402,
     "metadata": {},
     "output_type": "execute_result"
    }
   ],
   "source": [
    "mydict = { 'A' : 'one' , 'B' : 'two' , 'C' : 'three' } # dictionary with character keys\n",
    "mydict"
   ]
  },
  {
   "cell_type": "code",
   "execution_count": 405,
   "id": "5d337a6b",
   "metadata": {},
   "outputs": [
    {
     "data": {
      "text/plain": [
       "{1: 'one', 'A': 'two', 3: 'three'}"
      ]
     },
     "execution_count": 405,
     "metadata": {},
     "output_type": "execute_result"
    }
   ],
   "source": [
    "mydict = { 1 : 'one' , 'A' : 'two' , 3 : 'three' } # dictionary with mixed keys\n",
    "mydict"
   ]
  },
  {
   "cell_type": "code",
   "execution_count": 406,
   "id": "3fc4325d",
   "metadata": {},
   "outputs": [
    {
     "data": {
      "text/plain": [
       "dict_keys([1, 'A', 3])"
      ]
     },
     "execution_count": 406,
     "metadata": {},
     "output_type": "execute_result"
    }
   ],
   "source": [
    "mydict.keys() # Return Dictionary Keys using keys() method"
   ]
  },
  {
   "cell_type": "code",
   "execution_count": 407,
   "id": "02c228cd",
   "metadata": {},
   "outputs": [
    {
     "data": {
      "text/plain": [
       "dict_values(['one', 'two', 'three'])"
      ]
     },
     "execution_count": 407,
     "metadata": {},
     "output_type": "execute_result"
    }
   ],
   "source": [
    "mydict.values() # Return Dictionary Values using values() method"
   ]
  },
  {
   "cell_type": "code",
   "execution_count": 409,
   "id": "75e92866",
   "metadata": {},
   "outputs": [
    {
     "data": {
      "text/plain": [
       "dict_items([(1, 'one'), ('A', 'two'), (3, 'three')])"
      ]
     },
     "execution_count": 409,
     "metadata": {},
     "output_type": "execute_result"
    }
   ],
   "source": [
    "mydict.items()"
   ]
  },
  {
   "cell_type": "code",
   "execution_count": 410,
   "id": "77abb704",
   "metadata": {},
   "outputs": [
    {
     "data": {
      "text/plain": [
       "{1: 'one', 2: 'two', 'A': ['asif', 'john', 'Maria']}"
      ]
     },
     "execution_count": 410,
     "metadata": {},
     "output_type": "execute_result"
    }
   ],
   "source": [
    "mydict = { 1 : 'one' , 2 : 'two' , 'A' :[ 'asif' , 'john' , 'Maria' ]} # dictionary with \n",
    "mydict"
   ]
  },
  {
   "cell_type": "code",
   "execution_count": 414,
   "id": "42903176",
   "metadata": {},
   "outputs": [
    {
     "data": {
      "text/plain": [
       "{1: 'one',\n",
       " 2: 'two',\n",
       " 'A': ['asif', 'john', 'Maria'],\n",
       " 'B': ('Bat', 'cat', 'hat')}"
      ]
     },
     "execution_count": 414,
     "metadata": {},
     "output_type": "execute_result"
    }
   ],
   "source": [
    "mydict = { 1 : 'one' , 2 : 'two' , 'A' :[ 'asif' , 'john' , 'Maria' ], 'B':( 'Bat' , 'cat', 'hat')}\n",
    "mydict"
   ]
  },
  {
   "cell_type": "code",
   "execution_count": 415,
   "id": "eeeffed7",
   "metadata": {},
   "outputs": [
    {
     "data": {
      "text/plain": [
       "{'b': None, 'a': None, 'd': None, 'c': None}"
      ]
     },
     "execution_count": 415,
     "metadata": {},
     "output_type": "execute_result"
    }
   ],
   "source": [
    "keys = { 'a' , 'b' , 'c' , 'd' }\n",
    "mydict3 = dict.fromkeys(keys) # Create a dictionary from a sequence of keys\n",
    "mydict3"
   ]
  },
  {
   "cell_type": "code",
   "execution_count": 417,
   "id": "0cb96da5",
   "metadata": {},
   "outputs": [
    {
     "data": {
      "text/plain": [
       "{'b': 10, 'a': 10, 'd': 10, 'c': 10}"
      ]
     },
     "execution_count": 417,
     "metadata": {},
     "output_type": "execute_result"
    }
   ],
   "source": [
    "keys = { 'a' , 'b' , 'c' , 'd' }\n",
    "value = 10\n",
    "mydict3 = dict.fromkeys(keys , value ) # Create a dictionary from a sequence of k \n",
    "mydict3"
   ]
  },
  {
   "cell_type": "code",
   "execution_count": 418,
   "id": "1c6ac17e",
   "metadata": {},
   "outputs": [
    {
     "data": {
      "text/plain": [
       "{'b': [10, 20, 30], 'a': [10, 20, 30], 'd': [10, 20, 30], 'c': [10, 20, 30]}"
      ]
     },
     "execution_count": 418,
     "metadata": {},
     "output_type": "execute_result"
    }
   ],
   "source": [
    "keys = { 'a' , 'b' , 'c' , 'd' }\n",
    "value = [ 10 , 20 , 30 ] \n",
    "mydict3 = dict.fromkeys(keys,value ) # Create a dictionary from a sequence of k\n",
    "mydict3"
   ]
  },
  {
   "cell_type": "code",
   "execution_count": 419,
   "id": "3e1766e8",
   "metadata": {},
   "outputs": [
    {
     "data": {
      "text/plain": [
       "{'b': [10, 20, 30, 40],\n",
       " 'a': [10, 20, 30, 40],\n",
       " 'd': [10, 20, 30, 40],\n",
       " 'c': [10, 20, 30, 40]}"
      ]
     },
     "execution_count": 419,
     "metadata": {},
     "output_type": "execute_result"
    }
   ],
   "source": [
    "value.append(40)\n",
    "mydict3"
   ]
  },
  {
   "cell_type": "markdown",
   "id": "00f50b29",
   "metadata": {},
   "source": [
    "### Accessing Items"
   ]
  },
  {
   "cell_type": "code",
   "execution_count": 420,
   "id": "40434942",
   "metadata": {},
   "outputs": [
    {
     "data": {
      "text/plain": [
       "{1: 'one', 2: 'two', 3: 'three', 4: 'four'}"
      ]
     },
     "execution_count": 420,
     "metadata": {},
     "output_type": "execute_result"
    }
   ],
   "source": [
    "mydict = { 1 : 'one' , 2 : 'two' , 3 : 'three' , 4 : 'four' }\n",
    "mydict"
   ]
  },
  {
   "cell_type": "code",
   "execution_count": 421,
   "id": "0497a9c1",
   "metadata": {},
   "outputs": [
    {
     "data": {
      "text/plain": [
       "'one'"
      ]
     },
     "execution_count": 421,
     "metadata": {},
     "output_type": "execute_result"
    }
   ],
   "source": [
    "mydict[1] # Access item using key"
   ]
  },
  {
   "cell_type": "code",
   "execution_count": 422,
   "id": "d291a9b7",
   "metadata": {},
   "outputs": [
    {
     "data": {
      "text/plain": [
       "'one'"
      ]
     },
     "execution_count": 422,
     "metadata": {},
     "output_type": "execute_result"
    }
   ],
   "source": [
    "mydict.get(1) # Access item using get() method"
   ]
  },
  {
   "cell_type": "code",
   "execution_count": 423,
   "id": "3359a6b8",
   "metadata": {},
   "outputs": [
    {
     "data": {
      "text/plain": [
       "{'Name': 'Asif', 'ID': 74123, 'DOB': 1991, 'job': 'Analyst'}"
      ]
     },
     "execution_count": 423,
     "metadata": {},
     "output_type": "execute_result"
    }
   ],
   "source": [
    "mydict1 = {'Name' : 'Asif', 'ID' : 74123, 'DOB' : 1991, 'job' : 'Analyst' }\n",
    "mydict1"
   ]
  },
  {
   "cell_type": "code",
   "execution_count": 424,
   "id": "a88763b6",
   "metadata": {},
   "outputs": [
    {
     "data": {
      "text/plain": [
       "'Asif'"
      ]
     },
     "execution_count": 424,
     "metadata": {},
     "output_type": "execute_result"
    }
   ],
   "source": [
    "mydict1['Name'] # Access item using key"
   ]
  },
  {
   "cell_type": "code",
   "execution_count": 425,
   "id": "15053c50",
   "metadata": {},
   "outputs": [
    {
     "data": {
      "text/plain": [
       "'Analyst'"
      ]
     },
     "execution_count": 425,
     "metadata": {},
     "output_type": "execute_result"
    }
   ],
   "source": [
    "mydict1.get('job') # Access item using get() method"
   ]
  },
  {
   "cell_type": "markdown",
   "id": "f9e33861",
   "metadata": {},
   "source": [
    "## Add, Remove & Change Items"
   ]
  },
  {
   "cell_type": "code",
   "execution_count": 427,
   "id": "17dc0c1e",
   "metadata": {},
   "outputs": [
    {
     "data": {
      "text/plain": [
       "{'Name': 'Asif', 'ID': 12345, 'DOB': 1991, 'Address': 'Hilsinki'}"
      ]
     },
     "execution_count": 427,
     "metadata": {},
     "output_type": "execute_result"
    }
   ],
   "source": [
    "mydict1 = {'Name':'Asif', 'ID':12345, 'DOB' : 1991 , 'Address' : 'Hilsinki' }\n",
    "mydict1"
   ]
  },
  {
   "cell_type": "code",
   "execution_count": 428,
   "id": "6f0be068",
   "metadata": {},
   "outputs": [
    {
     "data": {
      "text/plain": [
       "{'Name': 'Asif', 'ID': 12345, 'DOB': 1992, 'Address': 'Hilsinki'}"
      ]
     },
     "execution_count": 428,
     "metadata": {},
     "output_type": "execute_result"
    }
   ],
   "source": [
    "mydict1['DOB'] = 1992 # Changing Dictionary Items mydict1 [ 'Address' ] = 'Delhi'\n",
    "mydict1"
   ]
  },
  {
   "cell_type": "code",
   "execution_count": 430,
   "id": "860ef09f",
   "metadata": {},
   "outputs": [
    {
     "data": {
      "text/plain": [
       "{'Name': 'Asif', 'ID': 12345, 'DOB': 1995, 'Address': 'Hilsinki'}"
      ]
     },
     "execution_count": 430,
     "metadata": {},
     "output_type": "execute_result"
    }
   ],
   "source": [
    "dict1 = {'DOB' : 1995}\n",
    "mydict1.update(dict1)\n",
    "mydict1"
   ]
  },
  {
   "cell_type": "code",
   "execution_count": 431,
   "id": "82c526e8",
   "metadata": {},
   "outputs": [
    {
     "data": {
      "text/plain": [
       "{'Name': 'Asif',\n",
       " 'ID': 12345,\n",
       " 'DOB': 1995,\n",
       " 'Address': 'Hilsinki',\n",
       " 'Job': 'Analyst'}"
      ]
     },
     "execution_count": 431,
     "metadata": {},
     "output_type": "execute_result"
    }
   ],
   "source": [
    "mydict1['Job'] = 'Analyst' # Adding items in the dictionary \n",
    "mydict1"
   ]
  },
  {
   "cell_type": "code",
   "execution_count": 432,
   "id": "eea87aeb",
   "metadata": {},
   "outputs": [
    {
     "data": {
      "text/plain": [
       "{'Name': 'Asif', 'ID': 12345, 'DOB': 1995, 'Address': 'Hilsinki'}"
      ]
     },
     "execution_count": 432,
     "metadata": {},
     "output_type": "execute_result"
    }
   ],
   "source": [
    "mydict1.pop('Job') # Removing items in the dictionary using Pop method\n",
    "mydict1"
   ]
  },
  {
   "cell_type": "code",
   "execution_count": 434,
   "id": "356c45fd",
   "metadata": {},
   "outputs": [
    {
     "data": {
      "text/plain": [
       "{'Name': 'Asif', 'ID': 12345}"
      ]
     },
     "execution_count": 434,
     "metadata": {},
     "output_type": "execute_result"
    }
   ],
   "source": [
    "mydict1.popitem() # A random item is removed\n",
    "mydict1"
   ]
  },
  {
   "cell_type": "code",
   "execution_count": 435,
   "id": "075a86fb",
   "metadata": {},
   "outputs": [
    {
     "data": {
      "text/plain": [
       "{'Name': 'Asif'}"
      ]
     },
     "execution_count": 435,
     "metadata": {},
     "output_type": "execute_result"
    }
   ],
   "source": [
    "del [mydict1['ID']] # Removing item using del method\n",
    "mydict1"
   ]
  },
  {
   "cell_type": "code",
   "execution_count": 436,
   "id": "898c46e7",
   "metadata": {},
   "outputs": [
    {
     "ename": "NameError",
     "evalue": "name 'mydict1' is not defined",
     "output_type": "error",
     "traceback": [
      "\u001b[1;31m---------------------------------------------------------------------------\u001b[0m",
      "\u001b[1;31mNameError\u001b[0m                                 Traceback (most recent call last)",
      "\u001b[1;32m<ipython-input-436-da2fba4eca0f>\u001b[0m in \u001b[0;36m<module>\u001b[1;34m\u001b[0m\n\u001b[0;32m      1\u001b[0m \u001b[1;32mdel\u001b[0m \u001b[0mmydict1\u001b[0m \u001b[1;31m# Delete the dictionary object\u001b[0m\u001b[1;33m\u001b[0m\u001b[1;33m\u001b[0m\u001b[0m\n\u001b[1;32m----> 2\u001b[1;33m \u001b[0mmydict1\u001b[0m\u001b[1;33m\u001b[0m\u001b[1;33m\u001b[0m\u001b[0m\n\u001b[0m",
      "\u001b[1;31mNameError\u001b[0m: name 'mydict1' is not defined"
     ]
    }
   ],
   "source": [
    "del mydict1 # Delete the dictionary object\n",
    "mydict1"
   ]
  },
  {
   "cell_type": "code",
   "execution_count": 437,
   "id": "9e5a92de",
   "metadata": {},
   "outputs": [
    {
     "data": {
      "text/plain": [
       "{'Name': 'Asif', 'ID': 12345, 'DOB': 1991, 'Address': 'Hilsinki'}"
      ]
     },
     "execution_count": 437,
     "metadata": {},
     "output_type": "execute_result"
    }
   ],
   "source": [
    "mydict = { 'Name' : 'Asif' , 'ID' : 12345 , 'DOB' : 1991 , 'Address' : 'Hilsinki' }\n",
    "mydict"
   ]
  },
  {
   "cell_type": "code",
   "execution_count": 438,
   "id": "c8d8e0f7",
   "metadata": {},
   "outputs": [],
   "source": [
    "mydict1 = mydict # Create a new reference \"mydict1\""
   ]
  },
  {
   "cell_type": "code",
   "execution_count": 439,
   "id": "b7d81e2c",
   "metadata": {},
   "outputs": [
    {
     "data": {
      "text/plain": [
       "(2049680780408, 2049680780408)"
      ]
     },
     "execution_count": 439,
     "metadata": {},
     "output_type": "execute_result"
    }
   ],
   "source": [
    "id(mydict), id(mydict1) # The address of both mydict & mydict1 will be the same"
   ]
  },
  {
   "cell_type": "code",
   "execution_count": 440,
   "id": "5462dfc0",
   "metadata": {},
   "outputs": [],
   "source": [
    "mydict2 = mydict.copy()# Create a copy of the dictionar "
   ]
  },
  {
   "cell_type": "code",
   "execution_count": 441,
   "id": "cd443679",
   "metadata": {},
   "outputs": [
    {
     "data": {
      "text/plain": [
       "2049681006664"
      ]
     },
     "execution_count": 441,
     "metadata": {},
     "output_type": "execute_result"
    }
   ],
   "source": [
    "id(mydict2) # The address of mydict2 will be different from mydict because mydict"
   ]
  },
  {
   "cell_type": "code",
   "execution_count": 444,
   "id": "606966b7",
   "metadata": {},
   "outputs": [
    {
     "data": {
      "text/plain": [
       "{'Name': 'Asif', 'ID': 12345, 'DOB': 1991, 'Address': 'Mumbai'}"
      ]
     },
     "execution_count": 444,
     "metadata": {},
     "output_type": "execute_result"
    }
   ],
   "source": [
    "mydict['Address'] = 'Mumbai'\n",
    "mydict"
   ]
  },
  {
   "cell_type": "markdown",
   "id": "e6018894",
   "metadata": {},
   "source": [
    "### Loop through a Dictionary\n"
   ]
  },
  {
   "cell_type": "code",
   "execution_count": 446,
   "id": "ebb19a8d",
   "metadata": {},
   "outputs": [
    {
     "data": {
      "text/plain": [
       "{'Name': 'Asif',\n",
       " 'ID': 12345,\n",
       " 'DOB': 1991,\n",
       " 'Address': 'Hilsinki',\n",
       " 'Job': 'Analyst'}"
      ]
     },
     "execution_count": 446,
     "metadata": {},
     "output_type": "execute_result"
    }
   ],
   "source": [
    "mydict1 = { 'Name' : 'Asif' , 'ID' : 12345 , 'DOB' : 1991 , 'Address' : 'Hilsinki' , 'Job': 'Analyst'}\n",
    "mydict1"
   ]
  },
  {
   "cell_type": "code",
   "execution_count": 447,
   "id": "1d4c4517",
   "metadata": {},
   "outputs": [
    {
     "name": "stdout",
     "output_type": "stream",
     "text": [
      "Name : Asif\n",
      "ID : 12345\n",
      "DOB : 1991\n",
      "Address : Hilsinki\n",
      "Job : Analyst\n"
     ]
    }
   ],
   "source": [
    "for i in mydict1:\n",
    "    print(i, ':', mydict1 [ i ]) # Key & value pair"
   ]
  },
  {
   "cell_type": "code",
   "execution_count": 448,
   "id": "ecb223e0",
   "metadata": {},
   "outputs": [
    {
     "name": "stdout",
     "output_type": "stream",
     "text": [
      "Asif\n",
      "12345\n",
      "1991\n",
      "Hilsinki\n",
      "Analyst\n"
     ]
    }
   ],
   "source": [
    "for i in mydict1:\n",
    "    print(mydict1[i]) # Dictionary items"
   ]
  },
  {
   "cell_type": "code",
   "execution_count": 450,
   "id": "861d73cf",
   "metadata": {},
   "outputs": [
    {
     "data": {
      "text/plain": [
       "{'Name': 'Asif', 'ID': 12345, 'DOB': 1991, 'Job': 'Analyst'}"
      ]
     },
     "execution_count": 450,
     "metadata": {},
     "output_type": "execute_result"
    }
   ],
   "source": [
    "mydict1={'Name':'Asif',\n",
    "         'ID' : 12345,\n",
    "         'DOB':1991,\n",
    "         'Job':'Analyst'}\n",
    "mydict1"
   ]
  },
  {
   "cell_type": "markdown",
   "id": "f50e7014",
   "metadata": {},
   "source": [
    "### Dictionary Membership"
   ]
  },
  {
   "cell_type": "code",
   "execution_count": 454,
   "id": "e773261c",
   "metadata": {},
   "outputs": [
    {
     "data": {
      "text/plain": [
       "True"
      ]
     },
     "execution_count": 454,
     "metadata": {},
     "output_type": "execute_result"
    }
   ],
   "source": [
    "'Name' in mydict1 # Test if a key is in a dictionary or not."
   ]
  },
  {
   "cell_type": "code",
   "execution_count": 455,
   "id": "a71edbd1",
   "metadata": {},
   "outputs": [
    {
     "data": {
      "text/plain": [
       "False"
      ]
     },
     "execution_count": 455,
     "metadata": {},
     "output_type": "execute_result"
    }
   ],
   "source": [
    "'Asif' in mydict1 # Membership test can be only done for keys."
   ]
  },
  {
   "cell_type": "code",
   "execution_count": 456,
   "id": "04895501",
   "metadata": {},
   "outputs": [
    {
     "data": {
      "text/plain": [
       "True"
      ]
     },
     "execution_count": 456,
     "metadata": {},
     "output_type": "execute_result"
    }
   ],
   "source": [
    "'ID' in mydict1"
   ]
  },
  {
   "cell_type": "markdown",
   "id": "6a7fc138",
   "metadata": {},
   "source": [
    "### Dictionary Comprehension"
   ]
  },
  {
   "cell_type": "code",
   "execution_count": 460,
   "id": "8c38a961",
   "metadata": {},
   "outputs": [
    {
     "data": {
      "text/plain": [
       "{0: 0, 1: 2, 2: 4, 3: 6, 4: 8, 5: 10, 6: 12, 7: 14, 8: 16, 9: 18}"
      ]
     },
     "execution_count": 460,
     "metadata": {},
     "output_type": "execute_result"
    }
   ],
   "source": [
    "double = { i : i * 2 for i in range ( 10 )} #double each value using dict comprehension double\n",
    "double"
   ]
  },
  {
   "cell_type": "code",
   "execution_count": 462,
   "id": "4c9b6623",
   "metadata": {},
   "outputs": [
    {
     "data": {
      "text/plain": [
       "{0: 0, 1: 1, 2: 4, 3: 9, 4: 16, 5: 25, 6: 36, 7: 49, 8: 64, 9: 81}"
      ]
     },
     "execution_count": 462,
     "metadata": {},
     "output_type": "execute_result"
    }
   ],
   "source": [
    "square = { i : i ** 2 for i in range ( 10 )}\n",
    "square"
   ]
  },
  {
   "cell_type": "code",
   "execution_count": 463,
   "id": "63f8edcc",
   "metadata": {},
   "outputs": [
    {
     "data": {
      "text/plain": [
       "{'a': 1.0, 'b': 2.0, 'c': 3.0, 'd': 4.0, 'e': 5.0}"
      ]
     },
     "execution_count": 463,
     "metadata": {},
     "output_type": "execute_result"
    }
   ],
   "source": [
    "mydict1 = { 'a' : 10 , 'b' : 20 , 'c' : 30 , 'd' : 40 , 'e' : 50 }\n",
    "mydict1 = { k : v / 10 for ( k , v ) in mydict1.items ()} # Divide all values in a dictiona\n",
    "mydict1"
   ]
  },
  {
   "cell_type": "code",
   "execution_count": 464,
   "id": "95690242",
   "metadata": {},
   "outputs": [
    {
     "data": {
      "text/plain": [
       "{0: 'N',\n",
       " 1: 'a',\n",
       " 2: 't',\n",
       " 3: 'u',\n",
       " 4: 'r',\n",
       " 5: 'a',\n",
       " 6: 'l',\n",
       " 7: ' ',\n",
       " 8: 'L',\n",
       " 9: 'a',\n",
       " 10: 'n',\n",
       " 11: 'g',\n",
       " 12: 'u',\n",
       " 13: 'a',\n",
       " 14: 'g',\n",
       " 15: 'e',\n",
       " 16: ' ',\n",
       " 17: 'P',\n",
       " 18: 'r',\n",
       " 19: 'o',\n",
       " 20: 'c',\n",
       " 21: 'e',\n",
       " 22: 's',\n",
       " 23: 's',\n",
       " 24: 'i',\n",
       " 25: 'n',\n",
       " 26: 'g'}"
      ]
     },
     "execution_count": 464,
     "metadata": {},
     "output_type": "execute_result"
    }
   ],
   "source": [
    "str1 = \"Natural Language Processing\"\n",
    "mydict2 = { k : v for ( k , v ) in enumerate ( str1 )} # Store enumerated values in a dicti \n",
    "mydict2"
   ]
  },
  {
   "cell_type": "code",
   "execution_count": 465,
   "id": "14d8a449",
   "metadata": {},
   "outputs": [
    {
     "data": {
      "text/plain": [
       "{'a': 'A',\n",
       " 'b': 'B',\n",
       " 'c': 'C',\n",
       " 'd': 'D',\n",
       " 'e': 'E',\n",
       " 'f': 'F',\n",
       " 'g': 'G',\n",
       " 'h': 'H',\n",
       " 'i': 'I',\n",
       " 'j': 'J',\n",
       " 'k': 'K',\n",
       " 'l': 'L',\n",
       " 'm': 'M',\n",
       " 'n': 'N',\n",
       " 'o': 'O',\n",
       " 'p': 'P',\n",
       " 'q': 'Q',\n",
       " 'r': 'R',\n",
       " 's': 'S',\n",
       " 't': 'T',\n",
       " 'u': 'U',\n",
       " 'v': 'V',\n",
       " 'w': 'W',\n",
       " 'x': 'X',\n",
       " 'y': 'Y',\n",
       " 'z': 'Z'}"
      ]
     },
     "execution_count": 465,
     "metadata": {},
     "output_type": "execute_result"
    }
   ],
   "source": [
    "str1 = \"abcdefghijklmnopqrstuvwxyz\"\n",
    "mydict3 = { i : i.upper() for i in str1 } # Lower to Upper Case\n",
    "mydict3"
   ]
  },
  {
   "cell_type": "code",
   "execution_count": 468,
   "id": "41dc0b7a",
   "metadata": {},
   "outputs": [],
   "source": [
    "### Word Frequency using dictionary"
   ]
  },
  {
   "cell_type": "code",
   "execution_count": 469,
   "id": "6a6bdcf5",
   "metadata": {},
   "outputs": [
    {
     "data": {
      "text/plain": [
       "['one',\n",
       " 'two',\n",
       " 'three',\n",
       " 'four',\n",
       " 'one',\n",
       " 'two',\n",
       " 'two',\n",
       " 'three',\n",
       " 'five',\n",
       " 'five',\n",
       " 'six',\n",
       " 'seven',\n",
       " 'six',\n",
       " 'seven',\n",
       " 'one',\n",
       " 'one',\n",
       " 'one',\n",
       " 'ten',\n",
       " 'eight',\n",
       " 'ten',\n",
       " 'nine',\n",
       " 'eleven',\n",
       " 'ten',\n",
       " 'ten',\n",
       " 'nine']"
      ]
     },
     "execution_count": 469,
     "metadata": {},
     "output_type": "execute_result"
    }
   ],
   "source": [
    "mystr4 = \"one two three four one two two three five five six seven six seven one one one ten eight ten nine eleven ten ten nine\"\n",
    "mylist = mystr4.split() # Split String into substrings\n",
    "mylist"
   ]
  },
  {
   "cell_type": "code",
   "execution_count": 470,
   "id": "a854a33e",
   "metadata": {},
   "outputs": [
    {
     "data": {
      "text/plain": [
       "['eleven',\n",
       " 'five',\n",
       " 'four',\n",
       " 'nine',\n",
       " 'eight',\n",
       " 'six',\n",
       " 'seven',\n",
       " 'two',\n",
       " 'three',\n",
       " 'ten',\n",
       " 'one']"
      ]
     },
     "execution_count": 470,
     "metadata": {},
     "output_type": "execute_result"
    }
   ],
   "source": [
    "mylist1 = set(mylist) # Unique values in a list\n",
    "mylist1 = list(mylist1)\n",
    "mylist1"
   ]
  },
  {
   "cell_type": "markdown",
   "id": "b05cdebf",
   "metadata": {},
   "source": [
    "### Calculate frequenct of each word"
   ]
  },
  {
   "cell_type": "code",
   "execution_count": 472,
   "id": "43cfe0d9",
   "metadata": {},
   "outputs": [
    {
     "name": "stdout",
     "output_type": "stream",
     "text": [
      "{'eleven': 1, 'five': 2, 'four': 1, 'nine': 2, 'eight': 1, 'six': 2, 'seven': 2, 'two': 3, 'three': 2, 'ten': 4, 'one': 5}\n"
     ]
    }
   ],
   "source": [
    "count1 = [ 0 ] * len(mylist1)\n",
    "mydict5 = dict() \n",
    "\n",
    "for i in range(len(mylist1)): \n",
    "    for j in range (len(mylist)): \n",
    "        if mylist1[i] == mylist [j]:\n",
    "            count1[i] += 1\n",
    "            mydict5[mylist1[i]] = count1[i]\n",
    "print ( mydict5 )"
   ]
  },
  {
   "cell_type": "markdown",
   "id": "73effdc4",
   "metadata": {},
   "source": [
    "# Functions\n",
    "1. A function is a block of organized code written to carry out a specified task. \n",
    "2. Functions help break our program into smaller and modular chunks for better readability.\n",
    "3. Information can be passed into a function as arguments.\n",
    "4. Parameters are specified after the function name inside the parentheses.\n",
    "5. We can add as many parameters as we want. Parameters must be separated with a comma.\n",
    "6. A function may or may not return data.\n",
    "7. In Python a function is defined using the def keyword\n",
    "\n",
    "### Parameter VS Argument\n",
    "1. A parameter is the variable listed inside the parentheses in the function definition.\n",
    "2. An argument is the value that is sent to the function when it is called.\n",
    "\n",
    "#### Three types of functions in Python:-\n",
    "##### Built-in function :-\n",
    "- Python predefined functions that are readily available for use like min() ,max() , sum() , print() etc.\n",
    "##### User-Defined Functions:-\n",
    "- Function that we define ourselves to perform a specific task.\n",
    "##### Anonymous functions : \n",
    "- Function that is defined without a name. Anonymous functions arealso called as lambda functions. They are not declared with the def keyword.\n",
    "\n"
   ]
  },
  {
   "cell_type": "code",
   "execution_count": 473,
   "id": "7718be2c",
   "metadata": {},
   "outputs": [
    {
     "name": "stdout",
     "output_type": "stream",
     "text": [
      "Hello Python Lovers\n"
     ]
    }
   ],
   "source": [
    "def myfunc():\n",
    "    print(\"Hello Python Lovers\")\n",
    "myfunc()"
   ]
  },
  {
   "cell_type": "code",
   "execution_count": 475,
   "id": "46f178bc",
   "metadata": {},
   "outputs": [
    {
     "name": "stdout",
     "output_type": "stream",
     "text": [
      "Name :-  Asif\n",
      "User ID is :-  asif123\n",
      "Country :-  India\n"
     ]
    }
   ],
   "source": [
    "def details (name , userid , country ): # Function to print User details\n",
    "    print ('Name :- ' , name ) \n",
    "    print ('User ID is :- ' , userid )\n",
    "    print ('Country :- ' , country ) \n",
    "details ( 'Asif' , 'asif123' , 'India' )"
   ]
  },
  {
   "cell_type": "code",
   "execution_count": 476,
   "id": "018912b6",
   "metadata": {},
   "outputs": [
    {
     "data": {
      "text/plain": [
       "100"
      ]
     },
     "execution_count": 476,
     "metadata": {},
     "output_type": "execute_result"
    }
   ],
   "source": [
    "def square ( n ): #function to find square of a number \n",
    "    n = n * n \n",
    "    return n \n",
    "square ( 10 )"
   ]
  },
  {
   "cell_type": "code",
   "execution_count": 477,
   "id": "b47e2c2e",
   "metadata": {},
   "outputs": [
    {
     "name": "stdout",
     "output_type": "stream",
     "text": [
      "3  is odd number\n",
      "4  is even number\n",
      " This function will check whether a number is even or odd\n"
     ]
    }
   ],
   "source": [
    "def even_odd (num): #Even odd test\n",
    "    \"\"\" This function will check whether a number is even or odd\"\"\"\n",
    "    if num % 2 == 0: \n",
    "        print (num, ' is even number' )\n",
    "    else:\n",
    "        print (num, ' is odd number' )\n",
    "even_odd (3)\n",
    "even_odd (4)\n",
    "print ( even_odd . __doc__ ) # Print function documentation string"
   ]
  },
  {
   "cell_type": "code",
   "execution_count": 479,
   "id": "06db24e2",
   "metadata": {},
   "outputs": [
    {
     "name": "stdout",
     "output_type": "stream",
     "text": [
      "Asif Ali Bhat\n"
     ]
    }
   ],
   "source": [
    "def fullname (firstname, middlename , lastname ): #Concatenate Strings\n",
    "    fullname = \"{} {} {}\" . format ( firstname , middlename , lastname ) \n",
    "    print ( fullname )\n",
    "fullname ( 'Asif' , 'Ali' , 'Bhat' )"
   ]
  },
  {
   "cell_type": "code",
   "execution_count": 480,
   "id": "01bdee2b",
   "metadata": {},
   "outputs": [
    {
     "name": "stdout",
     "output_type": "stream",
     "text": [
      "Asif Ali Bhat\n"
     ]
    }
   ],
   "source": [
    "def fullname ( firstname , middlename , lastname ): #Concatenate Strings\n",
    "    fullname = \"{} {} {}\" . format ( firstname , middlename , lastname )\n",
    "    print ( fullname )\n",
    "\n",
    "fullname (lastname = 'Bhat', middlename = 'Ali', firstname = 'Asif') # Keyword Arguments\n"
   ]
  },
  {
   "cell_type": "code",
   "execution_count": 481,
   "id": "611f73e4",
   "metadata": {},
   "outputs": [
    {
     "ename": "TypeError",
     "evalue": "fullname() missing 2 required positional arguments: 'middlename' and 'lastname'",
     "output_type": "error",
     "traceback": [
      "\u001b[1;31m---------------------------------------------------------------------------\u001b[0m",
      "\u001b[1;31mTypeError\u001b[0m                                 Traceback (most recent call last)",
      "\u001b[1;32m<ipython-input-481-38f0d14e6705>\u001b[0m in \u001b[0;36m<module>\u001b[1;34m\u001b[0m\n\u001b[1;32m----> 1\u001b[1;33m \u001b[0mfullname\u001b[0m\u001b[1;33m(\u001b[0m\u001b[1;34m'Asif'\u001b[0m\u001b[1;33m)\u001b[0m \u001b[1;31m# This will throw error as function is expecting 3 arguments.\u001b[0m\u001b[1;33m\u001b[0m\u001b[1;33m\u001b[0m\u001b[0m\n\u001b[0m",
      "\u001b[1;31mTypeError\u001b[0m: fullname() missing 2 required positional arguments: 'middlename' and 'lastname'"
     ]
    }
   ],
   "source": [
    "fullname('Asif') # This will throw error as function is expecting 3 arguments."
   ]
  },
  {
   "cell_type": "code",
   "execution_count": 482,
   "id": "08e31176",
   "metadata": {},
   "outputs": [
    {
     "name": "stdout",
     "output_type": "stream",
     "text": [
      "Most Populous City :-  Mumbai\n"
     ]
    }
   ],
   "source": [
    "def myfunc ( city = 'Mumbai' ): \n",
    "    print ( 'Most Populous City :- ' , city ) \n",
    "myfunc () # When a function is called without an argument it will use default valu"
   ]
  },
  {
   "cell_type": "code",
   "execution_count": 483,
   "id": "45edb3bd",
   "metadata": {},
   "outputs": [
    {
     "name": "stdout",
     "output_type": "stream",
     "text": [
      "100\n",
      "100\n"
     ]
    }
   ],
   "source": [
    "var1 = 100 # Variable with Global scope. \n",
    "def myfunc(): \n",
    "    print ( var1 ) # Value 100 will be displayed due to global scope of var1 \n",
    "myfunc() \n",
    "print ( var1 )"
   ]
  },
  {
   "cell_type": "code",
   "execution_count": 484,
   "id": "b6266a94",
   "metadata": {},
   "outputs": [
    {
     "name": "stdout",
     "output_type": "stream",
     "text": [
      "10\n"
     ]
    },
    {
     "ename": "NameError",
     "evalue": "name 'var2' is not defined",
     "output_type": "error",
     "traceback": [
      "\u001b[1;31m---------------------------------------------------------------------------\u001b[0m",
      "\u001b[1;31mNameError\u001b[0m                                 Traceback (most recent call last)",
      "\u001b[1;32m<ipython-input-484-f5b104be9823>\u001b[0m in \u001b[0;36m<module>\u001b[1;34m\u001b[0m\n\u001b[0;32m      6\u001b[0m \u001b[1;33m\u001b[0m\u001b[0m\n\u001b[0;32m      7\u001b[0m \u001b[0mmyfunc1\u001b[0m \u001b[1;33m(\u001b[0m\u001b[1;33m)\u001b[0m\u001b[1;33m\u001b[0m\u001b[1;33m\u001b[0m\u001b[0m\n\u001b[1;32m----> 8\u001b[1;33m \u001b[0mmyfunc2\u001b[0m \u001b[1;33m(\u001b[0m\u001b[1;33m)\u001b[0m\u001b[1;33m\u001b[0m\u001b[1;33m\u001b[0m\u001b[0m\n\u001b[0m",
      "\u001b[1;32m<ipython-input-484-f5b104be9823>\u001b[0m in \u001b[0;36mmyfunc2\u001b[1;34m()\u001b[0m\n\u001b[0;32m      3\u001b[0m     \u001b[0mprint\u001b[0m \u001b[1;33m(\u001b[0m \u001b[0mvar2\u001b[0m \u001b[1;33m)\u001b[0m\u001b[1;33m\u001b[0m\u001b[1;33m\u001b[0m\u001b[0m\n\u001b[0;32m      4\u001b[0m \u001b[1;32mdef\u001b[0m \u001b[0mmyfunc2\u001b[0m \u001b[1;33m(\u001b[0m\u001b[1;33m)\u001b[0m\u001b[1;33m:\u001b[0m\u001b[1;33m\u001b[0m\u001b[1;33m\u001b[0m\u001b[0m\n\u001b[1;32m----> 5\u001b[1;33m     \u001b[0mprint\u001b[0m \u001b[1;33m(\u001b[0m \u001b[0mvar2\u001b[0m \u001b[1;33m)\u001b[0m \u001b[1;31m# This will throw error because var2 has a local scope. Var2 is out of scope for myfunc2\u001b[0m\u001b[1;33m\u001b[0m\u001b[1;33m\u001b[0m\u001b[0m\n\u001b[0m\u001b[0;32m      6\u001b[0m \u001b[1;33m\u001b[0m\u001b[0m\n\u001b[0;32m      7\u001b[0m \u001b[0mmyfunc1\u001b[0m \u001b[1;33m(\u001b[0m\u001b[1;33m)\u001b[0m\u001b[1;33m\u001b[0m\u001b[1;33m\u001b[0m\u001b[0m\n",
      "\u001b[1;31mNameError\u001b[0m: name 'var2' is not defined"
     ]
    }
   ],
   "source": [
    "def myfunc1 (): \n",
    "    var2 = 10 # Variable with Local scope \n",
    "    print ( var2 ) \n",
    "def myfunc2 (): \n",
    "    print ( var2 ) # This will throw error because var2 has a local scope. Var2 is out of scope for myfunc2\n",
    "    \n",
    "myfunc1 ()\n",
    "myfunc2 ()"
   ]
  },
  {
   "cell_type": "code",
   "execution_count": 486,
   "id": "e9741e27",
   "metadata": {},
   "outputs": [
    {
     "name": "stdout",
     "output_type": "stream",
     "text": [
      "99\n",
      "100\n"
     ]
    }
   ],
   "source": [
    "var1 = 100 # Variable with Global scope. \n",
    "def myfunc (): \n",
    "    var1 = 99 # Local scope \n",
    "    print ( var1 )\n",
    "myfunc ()\n",
    "print ( var1 ) # The original value of var1 (100) will be retained due to global scope\n",
    "    "
   ]
  },
  {
   "cell_type": "code",
   "execution_count": 493,
   "id": "b6209334",
   "metadata": {},
   "outputs": [
    {
     "name": "stdout",
     "output_type": "stream",
     "text": [
      "\"List1\" before calling the function:-  [11, 22, 33, 44, 55]\n",
      "\"List1\" after calling the function:-  [22, 33, 44, 55]\n"
     ]
    }
   ],
   "source": [
    "list1 = [ 11 , 22 , 33 , 44 , 55 ]\n",
    "def myfunc ( list1 ): \n",
    "    del list1 [ 0 ] \n",
    "print ( '\"List1\" before calling the function:- ' , list1 )\n",
    "\n",
    "myfunc ( list1 ) # Pass by reference (Any change in the parameter within the function\n",
    "print ( '\"List1\" after calling the function:- ' , list1 )\n"
   ]
  },
  {
   "cell_type": "code",
   "execution_count": 495,
   "id": "67c805de",
   "metadata": {},
   "outputs": [
    {
     "name": "stdout",
     "output_type": "stream",
     "text": [
      "\"List1\" before calling the function:-  [11, 22, 33, 44, 55]\n",
      "\"List1\" after calling the function:-  [11, 22, 33, 44, 55]\n"
     ]
    }
   ],
   "source": [
    "list1 = [ 11 , 22 , 33 , 44 , 55 ]\n",
    "def myfunc ( list1 ): \n",
    "    list1 = [ 10 , 100 , 1000 , 10000 ] # link of 'list1' with previous object is broken \n",
    "print ( '\"List1\" before calling the function:- ' , list1 )\n",
    "myfunc ( list1 ) # Pass by reference (Any change in the parameter within the functi \n",
    "print ( '\"List1\" after calling the function:- ' , list1 )"
   ]
  },
  {
   "cell_type": "code",
   "execution_count": 497,
   "id": "2747f975",
   "metadata": {},
   "outputs": [
    {
     "data": {
      "text/plain": [
       "(10, 20)"
      ]
     },
     "execution_count": 497,
     "metadata": {},
     "output_type": "execute_result"
    }
   ],
   "source": [
    "def swap ( a , b ):\n",
    "    temp = a\n",
    "    a = b  # link of 'a' with previous object is broken now as new object is \n",
    "    b = temp # link of 'b' with previous object is broken now as new object is \n",
    "a = 10\n",
    "b = 20     \n",
    "swap (a,b)\n",
    "a , b\n"
   ]
  },
  {
   "cell_type": "code",
   "execution_count": 498,
   "id": "acab0eca",
   "metadata": {},
   "outputs": [
    {
     "data": {
      "text/plain": [
       "24"
      ]
     },
     "execution_count": 498,
     "metadata": {},
     "output_type": "execute_result"
    }
   ],
   "source": [
    " def factorial ( num ): \n",
    "        # Calculate factorial of a number using recursive function c \n",
    "        if num <= 1:\n",
    "            return 1 \n",
    "        else : \n",
    "            return num * factorial (num- 1)\n",
    "factorial ( 4 )"
   ]
  },
  {
   "cell_type": "code",
   "execution_count": 499,
   "id": "b952c66f",
   "metadata": {},
   "outputs": [
    {
     "data": {
      "text/plain": [
       "15"
      ]
     },
     "execution_count": 499,
     "metadata": {},
     "output_type": "execute_result"
    }
   ],
   "source": [
    "def add ( num ): \n",
    "    # Sum of first n natural numbers \n",
    "    if num == 0 : \n",
    "        return 0\n",
    "    else : \n",
    "        return num + add ( num - 1 ) \n",
    "add ( 5 ) # Sum of first five natural numbers (1,2,3,4,5)"
   ]
  },
  {
   "cell_type": "code",
   "execution_count": 501,
   "id": "092d2523",
   "metadata": {},
   "outputs": [
    {
     "name": "stdout",
     "output_type": "stream",
     "text": [
      "How many fibonacci numbers you want to generate -10\n",
      "0\n",
      "1\n",
      "1\n",
      "2\n",
      "3\n",
      "5\n",
      "8\n",
      "13\n",
      "21\n",
      "34\n"
     ]
    }
   ],
   "source": [
    "def fiboacci(num):\n",
    "    if num <= 1 : \n",
    "        return num \n",
    "    if num == 2:\n",
    "        return 1 \n",
    "    else : \n",
    "        return (fiboacci (num - 1 ) + fiboacci (num - 2)) \n",
    "nums = int(input( \"How many fibonacci numbers you want to generate -\" ))\n",
    "for i in range (nums):\n",
    "    print (fiboacci(i)) #Generate Fibonacci series    "
   ]
  },
  {
   "cell_type": "markdown",
   "id": "d8c357c8",
   "metadata": {},
   "source": [
    "# args & kwargs\n",
    "#### args\n",
    "- When we are not sure about the number of arguments being passed to a function then we canuse *args as function parameter. \n",
    "\n",
    "- *args allow us to pass the variable number of **Non Keyword Arguments** to function.\n",
    "- We can simply use an asterisk * before the parameter name to pass variable length arguments.\n",
    "- The arguments are always passed as a tuple.\n",
    "- We can rename it to anything as long as it is preceded by a single asterisk (*). It's bestpractice to keep naming it args to make it immediately recognizable.\n",
    "\n",
    "#### kwargs\n",
    "kwargs allows us to pass the variable number of Keyword Arguments to the function.\n",
    "We can simply use an double asterisk ** before the parameter name to pass variable length arguments.\n",
    "The arguments are passed as a dictionary. We can rename it to anything as long as it is preceded by a double asterisk (**). It's bestpractice to keep naming it kwargs to make it immediately recognizable."
   ]
  },
  {
   "cell_type": "code",
   "execution_count": 503,
   "id": "3c31aef2",
   "metadata": {},
   "outputs": [
    {
     "name": "stdout",
     "output_type": "stream",
     "text": [
      "60\n"
     ]
    }
   ],
   "source": [
    "def add (a, b, c): \n",
    "    return a + b + c\n",
    "print(add(10, 20, 30)) # Sum of two numbers"
   ]
  },
  {
   "cell_type": "code",
   "execution_count": 507,
   "id": "e8adaa0c",
   "metadata": {},
   "outputs": [
    {
     "ename": "TypeError",
     "evalue": "add() takes 3 positional arguments but 4 were given",
     "output_type": "error",
     "traceback": [
      "\u001b[1;31m---------------------------------------------------------------------------\u001b[0m",
      "\u001b[1;31mTypeError\u001b[0m                                 Traceback (most recent call last)",
      "\u001b[1;32m<ipython-input-507-72a232ad4e1c>\u001b[0m in \u001b[0;36m<module>\u001b[1;34m\u001b[0m\n\u001b[1;32m----> 1\u001b[1;33m \u001b[0mprint\u001b[0m\u001b[1;33m(\u001b[0m\u001b[0madd\u001b[0m\u001b[1;33m(\u001b[0m\u001b[1;36m1\u001b[0m\u001b[1;33m,\u001b[0m\u001b[1;36m2\u001b[0m\u001b[1;33m,\u001b[0m\u001b[1;36m3\u001b[0m\u001b[1;33m,\u001b[0m \u001b[1;36m4\u001b[0m \u001b[1;33m)\u001b[0m\u001b[1;33m)\u001b[0m\u001b[1;33m\u001b[0m\u001b[1;33m\u001b[0m\u001b[0m\n\u001b[0m\u001b[0;32m      2\u001b[0m \u001b[1;34m'''This will throw below error as this function will only tak If we want to make argument list dynamic then *args wil come in picture'''\u001b[0m\u001b[1;33m\u001b[0m\u001b[1;33m\u001b[0m\u001b[0m\n",
      "\u001b[1;31mTypeError\u001b[0m: add() takes 3 positional arguments but 4 were given"
     ]
    }
   ],
   "source": [
    "print(add(1,2,3, 4 )) \n",
    "'''This will throw below error as this function will only tak If we want to make argument list dynamic then *args wil come in picture'''"
   ]
  },
  {
   "cell_type": "code",
   "execution_count": 509,
   "id": "df0acfe4",
   "metadata": {},
   "outputs": [
    {
     "name": "stdout",
     "output_type": "stream",
     "text": [
      "arg_1: 1\n",
      "arg_2: 2\n",
      "arg_3: 3\n"
     ]
    }
   ],
   "source": [
    "def some_args (arg_1, arg_2, arg_3 ): \n",
    "    print ( \"arg_1:\" , arg_1 )\n",
    "    print ( \"arg_2:\" , arg_2 )\n",
    "    print ( \"arg_3:\" , arg_3 )\n",
    "my_list = [ 2 , 3 ]\n",
    "some_args ( 1 , * my_list )"
   ]
  },
  {
   "cell_type": "code",
   "execution_count": 515,
   "id": "34dafde3",
   "metadata": {},
   "outputs": [
    {
     "name": "stdout",
     "output_type": "stream",
     "text": [
      "6\n",
      "10\n",
      "15\n",
      "21\n",
      "28\n"
     ]
    }
   ],
   "source": [
    "def add(* args):\n",
    "    return sum(args)\n",
    "\n",
    "print(add(1,2,3)) # *args will take dynamic argument list. So add() function w \n",
    "print(add(1,2,3,4)) \n",
    "print (add(1,2,3,4,5))\n",
    "print (add(1,2,3,4,5,6))\n",
    "print ( add ( 1 , 2 , 3 , 4 , 5 , 6 , 7 ))"
   ]
  },
  {
   "cell_type": "code",
   "execution_count": 516,
   "id": "7a501f10",
   "metadata": {},
   "outputs": [
    {
     "data": {
      "text/plain": [
       "(28, 28)"
      ]
     },
     "execution_count": 516,
     "metadata": {},
     "output_type": "execute_result"
    }
   ],
   "source": [
    "list1 = [ 1 , 2 , 3 , 4 , 5 , 6 , 7 ]\n",
    "tuple1 = ( 1 , 2 , 3 , 4 , 5 , 6 , 7 )\n",
    "add( * list1 ), add(*tuple1 ) #tuple & list items will be passed as argument list"
   ]
  },
  {
   "cell_type": "code",
   "execution_count": 517,
   "id": "25672bda",
   "metadata": {},
   "outputs": [
    {
     "data": {
      "text/plain": [
       "112"
      ]
     },
     "execution_count": 517,
     "metadata": {},
     "output_type": "execute_result"
    }
   ],
   "source": [
    "list1 = [ 1 , 2 , 3 , 4 , 5 , 6 , 7 ] \n",
    "list2 = [ 1 , 2 , 3 , 4 , 5 , 6 , 7 ] \n",
    "list3 = [ 1 , 2 , 3 , 4 , 5 , 6 , 7 ]\n",
    "list4 = [ 1 , 2 , 3 , 4 , 5 , 6 , 7 ]\n",
    "add1 ( * list1 , * list2 , * list3 , * list4 ) #All four lists are unpacked and each in"
   ]
  },
  {
   "cell_type": "code",
   "execution_count": 525,
   "id": "0d197f60",
   "metadata": {},
   "outputs": [
    {
     "name": "stdout",
     "output_type": "stream",
     "text": [
      "('Asif', 7412, 41102, 33, 'India', 'Hindi')\n"
     ]
    }
   ],
   "source": [
    "def UserDetails(* args):\n",
    "    ''' For the above example we have no idea about the parameters passed e.g 7412 , In such cases we can take help of Keyworded arguments (**kwargs) '''\n",
    "    print (args) \n",
    "UserDetails('Asif', 7412, 41102, 33, 'India', 'Hindi')\n"
   ]
  },
  {
   "cell_type": "code",
   "execution_count": 531,
   "id": "d93e368f",
   "metadata": {},
   "outputs": [
    {
     "name": "stdout",
     "output_type": "stream",
     "text": [
      "Name :- Asif\n",
      "ID :- 7412\n",
      "Pincode :- 41102\n",
      "Age :- 33\n",
      "Country :- India\n",
      "Language :- Tamil\n"
     ]
    }
   ],
   "source": [
    "def UserDetails(**kwargs):\n",
    "    for key , val in kwargs . items ():\n",
    "        print ( \"{} :- {}\" . format ( key , val ))\n",
    "UserDetails(Name='Asif',ID=7412,Pincode=41102,Age=33,Country='India',Language='Tamil')"
   ]
  },
  {
   "cell_type": "code",
   "execution_count": null,
   "id": "840a6959",
   "metadata": {},
   "outputs": [],
   "source": [
    "def UserDetails(**kwargs):\n",
    "    print(kwargs)\n",
    "UserDetails(Name='Asif',ID=7412,Pincode=41102,Age=33,Country='India',Language='Tamil')"
   ]
  },
  {
   "cell_type": "code",
   "execution_count": 534,
   "id": "a944ac56",
   "metadata": {},
   "outputs": [
    {
     "name": "stdout",
     "output_type": "stream",
     "text": [
      "License No :-  BHT145\n",
      "Full Name :- Asif Ali Bhat\n",
      "Phone Number:-  1234567890\n",
      "Name :- Asif\n",
      "ID :- 7412\n",
      "Pincode :- 41102\n",
      "Age :- 33\n",
      "Country :- India\n",
      "Language :- Tamil\n"
     ]
    }
   ],
   "source": [
    "def UserDetails ( licenseNo , * args , phoneNo = 0 , ** kwargs ): # Using all four argum\n",
    "    print ( 'License No :- ' , licenseNo ) \n",
    "    j = '' \n",
    "    for i in args:\n",
    "        j = j + i \n",
    "    print ( 'Full Name :-' , j ) \n",
    "    print ( 'Phone Number:- ' , phoneNo )\n",
    "    for key, val in kwargs.items(): \n",
    "        print ( \"{} :- {}\" . format ( key , val )) \n",
    "\n",
    "name = ['Asif', ' ','Ali', ' ','Bhat']\n",
    "mydict = {'Name' : 'Asif' , 'ID' : 7412 , 'Pincode' : 41102 , 'Age' : 33 , 'Country' : 'India', 'Language': 'Tamil'}\n",
    "UserDetails ( 'BHT145' , * name , phoneNo = 1234567890 , ** mydict )"
   ]
  },
  {
   "cell_type": "code",
   "execution_count": 535,
   "id": "7a1bfd63",
   "metadata": {},
   "outputs": [],
   "source": [
    "def UserDetails(licenseNo, *args, phoneNo=0, ** kwargs ): # Using all four argumen \n",
    "    print ( 'Nothing' )    "
   ]
  },
  {
   "cell_type": "code",
   "execution_count": 537,
   "id": "35bc033c",
   "metadata": {},
   "outputs": [
    {
     "ename": "SyntaxError",
     "evalue": "invalid syntax (<ipython-input-537-182c6aed013a>, line 1)",
     "output_type": "error",
     "traceback": [
      "\u001b[1;36m  File \u001b[1;32m\"<ipython-input-537-182c6aed013a>\"\u001b[1;36m, line \u001b[1;32m1\u001b[0m\n\u001b[1;33m    def UserDetails(licenseNo,**kwargs,*args): # This will fail. *args MUST come before **kwargs\u001b[0m\n\u001b[1;37m                                       ^\u001b[0m\n\u001b[1;31mSyntaxError\u001b[0m\u001b[1;31m:\u001b[0m invalid syntax\n"
     ]
    }
   ],
   "source": [
    "def UserDetails(licenseNo,**kwargs,*args): # This will fail. *args MUST come before **kwargs\n",
    "print('Nothing')"
   ]
  },
  {
   "cell_type": "code",
   "execution_count": 541,
   "id": "f2b7fcaa",
   "metadata": {},
   "outputs": [
    {
     "ename": "SyntaxError",
     "evalue": "non-default argument follows default argument (<ipython-input-541-44776f843775>, line 2)",
     "output_type": "error",
     "traceback": [
      "\u001b[1;36m  File \u001b[1;32m\"<ipython-input-541-44776f843775>\"\u001b[1;36m, line \u001b[1;32m2\u001b[0m\n\u001b[1;33m    def UserDetails(ID=1,licenseNo,*args):\u001b[0m\n\u001b[1;37m                   ^\u001b[0m\n\u001b[1;31mSyntaxError\u001b[0m\u001b[1;31m:\u001b[0m non-default argument follows default argument\n"
     ]
    }
   ],
   "source": [
    "#The below function will fail. Default argument/positional argument (licenseNo) M\n",
    "def UserDetails(ID=1,licenseNo,*args):\n",
    "    print('Nothing')"
   ]
  },
  {
   "cell_type": "markdown",
   "id": "cadcf6c2",
   "metadata": {},
   "source": [
    "# Lambda, Filter, Map and Reduce\n",
    "### Lambda\n",
    "- A lambda function is an anonymous function (function without a name).\n",
    "- Lambda functions can have any number of arguments but only one expression. The expression is evaluated and returned.\n",
    "- We use lambda functions when we require a nameless function for a short period of time.\n",
    "    \n",
    "    Syntax:-\n",
    "    \n",
    "### Filter\n",
    "- It is used to filter the iterables/sequence as per the conditions.\n",
    "- Filter function filters the original iterable and passes the items that returns True for the functionprovided to filter.\n",
    "- It is normally used with Lambda functions to filter list, tuple, or sets.\n",
    "\n",
    "### Map\n",
    "\n",
    "- The map() function applies a given function to each item of an iterable (list, tuple etc.) and returns a list of the results.\n",
    "- map() function takes two Parameters :\n",
    "    - **function**\n",
    "        - The function to execute for each item of given iterable.\n",
    "    - **iterable**\n",
    "        - It is a iterable which is to be mapped.\n",
    "    - **Returns**\n",
    "        - Returns a list of the results after applying the given function to each item of a giveniterable (list, tuple etc.)\n",
    "        \n",
    "### Reduce\n",
    "The reduce() function is defined in the **functools** python module.The reduce() functionreceives two arguments, a function and an iterable. However, it doesn't return another iterable,instead it returns a single value.\n",
    "\n",
    "- Working:\n",
    "    - Apply a function to the first two items in an iterable and generate a partial result\n",
    "    - The function is then called again with the result obtained in  step 1 and the next value in thesequence. This process keeps on repeating until there are items in the sequence.\n",
    "    - The final returned result is returned and printed on console.\n",
    "    "
   ]
  },
  {
   "cell_type": "code",
   "execution_count": 545,
   "id": "df8e35ca",
   "metadata": {},
   "outputs": [
    {
     "name": "stdout",
     "output_type": "stream",
     "text": [
      "20\n"
     ]
    }
   ],
   "source": [
    "addition = lambda a : a + 10 # This lambda function adds value 10 to an argument print ( addition ( 5 ))\n",
    "print(addition(10))"
   ]
  },
  {
   "cell_type": "code",
   "execution_count": 546,
   "id": "89cea511",
   "metadata": {},
   "outputs": [
    {
     "name": "stdout",
     "output_type": "stream",
     "text": [
      "30\n"
     ]
    }
   ],
   "source": [
    "product = lambda a , b : a * b #This lambda function takes two arguments (a,b) and print ( product ( 5 , 6 ))\n",
    "print(product(5, 6))"
   ]
  },
  {
   "cell_type": "code",
   "execution_count": 548,
   "id": "4bce04d5",
   "metadata": {},
   "outputs": [
    {
     "name": "stdout",
     "output_type": "stream",
     "text": [
      "60\n"
     ]
    }
   ],
   "source": [
    "addition = lambda a,b, c: a + b + c #This lambda function takes three argument print ( addition ( 5 , 6 , 2 ))\n",
    "print(addition(10,20,30))"
   ]
  },
  {
   "cell_type": "code",
   "execution_count": 551,
   "id": "c5fda381",
   "metadata": {},
   "outputs": [
    {
     "name": "stdout",
     "output_type": "stream",
     "text": [
      "30\n",
      "100\n",
      "280\n"
     ]
    }
   ],
   "source": [
    "res = (lambda *args : sum(args)) # This lambda function can take any number of arguments\n",
    "print(res ( 10 , 20 ))\n",
    "print(res ( 10 , 20 , 30 , 40 ))\n",
    "print(res ( 10 , 20 , 30 , 40 , 50 , 60 , 70 ))"
   ]
  },
  {
   "cell_type": "code",
   "execution_count": 552,
   "id": "ae19875b",
   "metadata": {},
   "outputs": [
    {
     "data": {
      "text/plain": [
       "(60, 150)"
      ]
     },
     "execution_count": 552,
     "metadata": {},
     "output_type": "execute_result"
    }
   ],
   "source": [
    "res1 = ( lambda ** kwargs : sum ( kwargs.values ())) # This lambda function can take an \n",
    "res1 ( a = 10 , b = 20 , c = 30 ) , res1 ( a = 10 , b = 20 , c = 30 , d = 40 , e = 50 )"
   ]
  },
  {
   "cell_type": "code",
   "execution_count": 555,
   "id": "6dd15a8c",
   "metadata": {},
   "outputs": [
    {
     "data": {
      "text/plain": [
       "(6000, 12000000)"
      ]
     },
     "execution_count": 555,
     "metadata": {},
     "output_type": "execute_result"
    }
   ],
   "source": [
    "# User defined function to find product of numbers\n",
    "def product ( nums ): \n",
    "    total = 1 \n",
    "    for i in nums:\n",
    "        total *= i\n",
    "    return total \n",
    "# This lambda function can take any number of arguments and return thier product. \n",
    "res1 = ( lambda ** kwargs : product ( kwargs.values ()))\n",
    "res1 ( a = 10 , b = 20 , c = 30 ) , res1 ( a = 10 , b = 20 , c = 30 , d = 40 , e = 50)"
   ]
  },
  {
   "cell_type": "code",
   "execution_count": 556,
   "id": "c01e99ea",
   "metadata": {},
   "outputs": [
    {
     "name": "stdout",
     "output_type": "stream",
     "text": [
      "15\n",
      "25\n",
      "35\n"
     ]
    }
   ],
   "source": [
    "def myfunc (n):  # method currying\n",
    "    return lambda a : a + n \n",
    "add10 = myfunc ( 10 ) \n",
    "add20 = myfunc ( 20 )\n",
    "add30 = myfunc ( 30 )\n",
    "\n",
    "print ( add10 ( 5 ))\n",
    "print ( add20 ( 5 ))\n",
    "print ( add30 ( 5 ))"
   ]
  },
  {
   "cell_type": "code",
   "execution_count": 558,
   "id": "7544f09f",
   "metadata": {},
   "outputs": [
    {
     "data": {
      "text/plain": [
       "[1, 3, 5, 7, 9]"
      ]
     },
     "execution_count": 558,
     "metadata": {},
     "output_type": "execute_result"
    }
   ],
   "source": [
    "list1 = [ 1 , 2 , 3 , 4 , 5 , 6 , 7 , 8 , 9 ]\n",
    "def odd ( n ): \n",
    "    if n % 2 == 1 : \n",
    "        return True \n",
    "    else : \n",
    "        return False \n",
    "odd_num = list (filter (odd, list1)) # This Filter function filters list1 and passes odd_num\n",
    "odd_num"
   ]
  },
  {
   "cell_type": "code",
   "execution_count": 559,
   "id": "7878cdb7",
   "metadata": {},
   "outputs": [
    {
     "data": {
      "text/plain": [
       "[1, 3, 5, 7, 9]"
      ]
     },
     "execution_count": 559,
     "metadata": {},
     "output_type": "execute_result"
    }
   ],
   "source": [
    "list1 = [ 1 , 2 , 3 , 4 , 5 , 6 , 7 , 8 , 9 ]\n",
    "# The below Filter function filters \"list1\" and passes all odd numbers using lambda \n",
    "odd_num = list (filter(lambda n : n % 2 == 1 , list1 ))\n",
    "odd_num"
   ]
  },
  {
   "cell_type": "code",
   "execution_count": 563,
   "id": "06a1e2eb",
   "metadata": {},
   "outputs": [
    {
     "data": {
      "text/plain": [
       "[2, 6, 10, 14, 18]"
      ]
     },
     "execution_count": 563,
     "metadata": {},
     "output_type": "execute_result"
    }
   ],
   "source": [
    "def twice ( n ): \n",
    "    return n * 2 \n",
    "doubles = list (map(twice, odd_num))  # The map function will apply user defined \"tw doubles\n",
    "doubles"
   ]
  },
  {
   "cell_type": "code",
   "execution_count": 565,
   "id": "1b5dbc21",
   "metadata": {},
   "outputs": [
    {
     "data": {
      "text/plain": [
       "[2, 6, 10, 14, 18]"
      ]
     },
     "execution_count": 565,
     "metadata": {},
     "output_type": "execute_result"
    }
   ],
   "source": [
    "doubles = list ( map ( lambda n : n * 2 , odd_num )) # This map function will double all ite \n",
    "doubles"
   ]
  },
  {
   "cell_type": "code",
   "execution_count": 567,
   "id": "b7e60666",
   "metadata": {},
   "outputs": [
    {
     "data": {
      "text/plain": [
       "50"
      ]
     },
     "execution_count": 567,
     "metadata": {},
     "output_type": "execute_result"
    }
   ],
   "source": [
    "from functools import reduce\n",
    "def add (a, b): \n",
    "    return a + b \n",
    "\n",
    "sum_all = reduce (add, doubles ) # This reduce function will perform sum of all item sum_all\n",
    "sum_all"
   ]
  },
  {
   "cell_type": "code",
   "execution_count": 570,
   "id": "e9765281",
   "metadata": {},
   "outputs": [
    {
     "data": {
      "text/plain": [
       "50"
      ]
     },
     "execution_count": 570,
     "metadata": {},
     "output_type": "execute_result"
    }
   ],
   "source": [
    "#The below reduce() function will perform sum of all items in the list using lambda \n",
    "doubles = [2, 6, 10, 14, 18]\n",
    "sum_all = reduce (lambda a, b : a + b , doubles)\n",
    "sum_all"
   ]
  },
  {
   "cell_type": "code",
   "execution_count": 584,
   "id": "77a0d13e",
   "metadata": {},
   "outputs": [
    {
     "name": "stdout",
     "output_type": "stream",
     "text": [
      "50\n"
     ]
    },
    {
     "data": {
      "text/plain": [
       "50"
      ]
     },
     "execution_count": 584,
     "metadata": {},
     "output_type": "execute_result"
    }
   ],
   "source": [
    "# Putting all together \n",
    "list1 = [ 1 , 2 , 3 , 4 , 5 , 6 , 7 , 8 , 9 ]\n",
    "f = filter( lambda n : n % 2 == 1, list1)\n",
    "flist = list(f)\n",
    "mlist = list(map(lambda n : n * 2, flist))\n",
    "print(reduce (lambda a,b : a + b, mlist))\n",
    "\n",
    "sum_all = reduce (lambda a,b : a + b, list (map(lambda n : n * 2, list(filter( lambda n : n % 2 == 1, list1)))))\n",
    "sum_all"
   ]
  },
  {
   "cell_type": "markdown",
   "id": "4d01c010",
   "metadata": {},
   "source": [
    "# More examples on Map , Filter , Reduce"
   ]
  },
  {
   "cell_type": "code",
   "execution_count": 586,
   "id": "ab726382",
   "metadata": {},
   "outputs": [
    {
     "name": "stdout",
     "output_type": "stream",
     "text": [
      "--------\n",
      "[2, 4, 6, 8, 10]\n",
      "[1, 3, 5, 7, 9]\n",
      "--------\n",
      "['TWO', 'FOUR']\n",
      "['one', 'three']\n",
      "--------\n",
      "['one']\n",
      "['88', '99', '102']\n",
      "['one', 'two2', 'three3', '88', '99', '102']\n",
      "--------\n"
     ]
    }
   ],
   "source": [
    "list1 = [ 1 , 2 , 3 , 4 , 5 , 6 , 7 , 8 , 9 , 10 ]\n",
    "even = list ( filter ( lambda n : n % 2 == 0 , list1 )) # Filter even numbers from the list \n",
    "odd = list ( filter ( lambda n : n % 2 != 0 , list1 )) # Filter odd numbers from the list \n",
    "print ( '--------' ) \n",
    "print ( even ) \n",
    "print ( odd ) \n",
    "print ( '--------' )\n",
    "list2 = [ 'one' , 'TWO' , 'three' , 'FOUR' ]\n",
    "upper = list ( filter ( lambda x : x.isupper (), list2 )) # filter uppercase strings from the list\n",
    "lower = list ( filter ( lambda x : x . islower () , list2 )) # filter lowercase strings from the list\n",
    "print ( upper ) \n",
    "print ( lower )\n",
    "print ( '--------' )\n",
    "list3 = [ 'one' , 'two2' , 'three3' , '88' , '99' , '102' ] \n",
    "numeric = list ( filter ( lambda x : x.isnumeric (), list3 ))  # filter numbers from the list\n",
    "alpha = list ( filter ( lambda x : x.isalpha (), list3 )) # filter character strings \n",
    "alphanum = list ( filter ( lambda x : x.isalnum (), list3 )) # filtr numbers & character \n",
    "print ( alpha ) \n",
    "print ( numeric )\n",
    "print ( alphanum )\n",
    "print ( '--------' ) #Vowel Test"
   ]
  },
  {
   "cell_type": "code",
   "execution_count": 588,
   "id": "b0d1c2d3",
   "metadata": {},
   "outputs": [],
   "source": [
    "list1 = [ 1 , 2 , 3 , 4 ]\n",
    "list2 = [ 5 , 6 , 7 , 8 ]"
   ]
  },
  {
   "cell_type": "code",
   "execution_count": 592,
   "id": "3c45d381",
   "metadata": {},
   "outputs": [
    {
     "name": "stdout",
     "output_type": "stream",
     "text": [
      "---------------\n",
      "[2, 4, 6, 8]\n",
      "[6, 8, 10, 12]\n",
      "[1, 4, 9, 16]\n",
      "---------------\n",
      "[2, 4, 6, 8]\n",
      "[6, 8, 10, 12]\n",
      "[1, 4, 9, 16]\n",
      "---------------\n"
     ]
    }
   ],
   "source": [
    "def double ( x ): \n",
    "    return x + x \n",
    "def add ( x , y ): \n",
    "    return x + y \n",
    "def square ( x ): \n",
    "    return x * x \n",
    "print ( '---------------' )\n",
    "print (list(map(double, list1)))  # Double each number using map & User defined fun \n",
    "print (list ( map ( add , list1 , list2 ))) # add two items using map & User defined fun \n",
    "print ( list ( map ( square , list1 ))) #Square numbers using map & User defined function\n",
    "print('---------------')\n",
    "print ( list ( map ( lambda x : x + x , list1 ))) # Double each number using map & lambda \n",
    "print ( list ( map ( lambda x , y : x + y , list1 , list2 ))) # add two items using map & lambda\n",
    "print ( list ( map ( lambda x : x * x , list1 ))) #Square numbers using map & lambda \n",
    "print ( '---------------' )"
   ]
  },
  {
   "cell_type": "code",
   "execution_count": 608,
   "id": "c075149c",
   "metadata": {},
   "outputs": [
    {
     "name": "stdout",
     "output_type": "stream",
     "text": [
      "24\n",
      "10\n",
      "HelloHelloHello\n",
      "1\n",
      "4\n"
     ]
    }
   ],
   "source": [
    "from operator import mul,add\n",
    "\n",
    "list2 = [ 1 , 2 , 3 , 4]\n",
    "product = reduce (mul,list2) # Product of all numbers in a list, Without using lambda:\n",
    "add = reduce (add , list2 ) # Add all numbers in the list \n",
    "# concat_str = reduce (add, [\"Python\", \" \", \"Rocks\"]) # Concatenate string\n",
    "prod = reduce (mul, ['Hello',3]) #Repeat a string multiple times \n",
    "min_num = reduce ( lambda a , b : a if a < b else b , list2 ) # Minimum number in the l \n",
    "max_num = reduce ( lambda a , b : a if a > b else b , list2 ) # Maximum number in the l \n",
    "print ( product )\n",
    "print ( add )\n",
    "# print ( concat_str )\n",
    "print ( prod )\n",
    "print ( min_num )\n",
    "print ( max_num )"
   ]
  },
  {
   "cell_type": "code",
   "execution_count": 609,
   "id": "1f37bea0",
   "metadata": {},
   "outputs": [
    {
     "data": {
      "text/plain": [
       "(1, 4)"
      ]
     },
     "execution_count": 609,
     "metadata": {},
     "output_type": "execute_result"
    }
   ],
   "source": [
    "def min_func ( a , b ): \n",
    "    return a if a < b else b \n",
    "def max_func ( a , b ): \n",
    "    return a if a > b else b \n",
    "min_num = reduce ( min_func , list2 ) # Minimum number in the list using reduce () & \n",
    "max_num = reduce ( max_func , list2 ) # Maximum number in the list using reduce () & \n",
    "min_num , max_num"
   ]
  },
  {
   "cell_type": "code",
   "execution_count": 610,
   "id": "86415bea",
   "metadata": {},
   "outputs": [
    {
     "name": "stdout",
     "output_type": "stream",
     "text": [
      "------\n",
      "False\n",
      "True\n",
      "False\n",
      "------\n",
      "False\n",
      "True\n",
      "True\n",
      "------\n"
     ]
    }
   ],
   "source": [
    "print ( '------' ) \n",
    "print ( reduce ( lambda a , b : bool ( a and b ), [ 0 , 0 , 1 , 0 , 0 ])) # Returns True if all \n",
    "print ( reduce ( lambda a , b : bool ( a and b ), [ 2 , 3 , 1 , 5 , 6 ])) # Returns True if all \n",
    "print ( reduce ( lambda a , b : bool ( a and b ), [ 8 , 9 , 1 , 0 , 9 ])) # Returns True if all \n",
    "print ( '------' ) \n",
    "print ( reduce ( lambda a , b : bool ( a or b ), [ 0 , 0 , 0 , 0 , 0 ])) # Returns True if any \n",
    "print ( reduce ( lambda a , b : bool ( a or b ), [ 2 , 3 , 1 , 5 , 6 ])) # Returns True if any \n",
    "print ( reduce ( lambda a , b : bool ( a or b ), [ 8 , 9 , 1 , 0 , 9 ])) # Returns True if any \n",
    "print ( '------' )"
   ]
  }
 ],
 "metadata": {
  "kernelspec": {
   "display_name": "Python 3",
   "language": "python",
   "name": "python3"
  },
  "language_info": {
   "codemirror_mode": {
    "name": "ipython",
    "version": 3
   },
   "file_extension": ".py",
   "mimetype": "text/x-python",
   "name": "python",
   "nbconvert_exporter": "python",
   "pygments_lexer": "ipython3",
   "version": "3.7.5"
  }
 },
 "nbformat": 4,
 "nbformat_minor": 5
}
