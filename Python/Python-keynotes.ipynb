{
 "cells": [
  {
   "cell_type": "code",
   "execution_count": 4,
   "id": "92f93b72",
   "metadata": {},
   "outputs": [],
   "source": [
    "import sys\n",
    "import keyword\n",
    "import operator\n",
    "from datetime import datetime\n",
    "import os"
   ]
  },
  {
   "cell_type": "code",
   "execution_count": 6,
   "id": "15f23257",
   "metadata": {},
   "outputs": [
    {
     "name": "stdout",
     "output_type": "stream",
     "text": [
      "['False', 'None', 'True', 'and', 'as', 'assert', 'async', 'await', 'break', 'class', 'continue', 'def', 'del', 'elif', 'else', 'except', 'finally', 'for', 'from', 'global', 'if', 'import', 'in', 'is', 'lambda', 'nonlocal', 'not', 'or', 'pass', 'raise', 'return', 'try', 'while', 'with', 'yield']\n"
     ]
    }
   ],
   "source": [
    "print(keyword.kwlist)"
   ]
  },
  {
   "cell_type": "code",
   "execution_count": 8,
   "id": "a99ea883",
   "metadata": {},
   "outputs": [
    {
     "data": {
      "text/plain": [
       "35"
      ]
     },
     "execution_count": 8,
     "metadata": {},
     "output_type": "execute_result"
    }
   ],
   "source": [
    "len(keyword.kwlist)"
   ]
  },
  {
   "cell_type": "markdown",
   "id": "14c79de3",
   "metadata": {},
   "source": [
    "## Identifiers\n",
    "\n",
    "An identifier is a name given to entities like class, functions, variables, etc. It helps to differentiateone entity from another."
   ]
  },
  {
   "cell_type": "code",
   "execution_count": 13,
   "id": "01e98eff",
   "metadata": {},
   "outputs": [
    {
     "ename": "SyntaxError",
     "evalue": "invalid syntax (<ipython-input-13-ea83e3cd3d60>, line 3)",
     "output_type": "error",
     "traceback": [
      "\u001b[1;36m  File \u001b[1;32m\"<ipython-input-13-ea83e3cd3d60>\"\u001b[1;36m, line \u001b[1;32m3\u001b[0m\n\u001b[1;33m    import = 125 # Keywords can't be used as identifiers\u001b[0m\n\u001b[1;37m           ^\u001b[0m\n\u001b[1;31mSyntaxError\u001b[0m\u001b[1;31m:\u001b[0m invalid syntax\n"
     ]
    }
   ],
   "source": [
    "var = 10 # Identifier can't start with a digit\n",
    "al2 = 35 # Identifier can't use special symbols\n",
    "import = 125 # Keywords can't be used as identifiers\n",
    "val2 = 10\n",
    "val_ = 99"
   ]
  },
  {
   "cell_type": "markdown",
   "id": "5af02194",
   "metadata": {},
   "source": [
    "## Comments in Python\n"
   ]
  },
  {
   "cell_type": "code",
   "execution_count": 14,
   "id": "dd6c6c0a",
   "metadata": {},
   "outputs": [],
   "source": [
    "# Single line comment\n",
    "val1 = 10"
   ]
  },
  {
   "cell_type": "code",
   "execution_count": 15,
   "id": "d11bf944",
   "metadata": {},
   "outputs": [],
   "source": [
    "# Multiple\n",
    "# line\n",
    "# comment\n",
    "val1 = 10"
   ]
  },
  {
   "cell_type": "code",
   "execution_count": 16,
   "id": "49d67a87",
   "metadata": {},
   "outputs": [],
   "source": [
    "'''\n",
    "Multiple\n",
    "line\n",
    "comment\n",
    "'''\n",
    "val1 = 10"
   ]
  },
  {
   "cell_type": "markdown",
   "id": "25a314d0",
   "metadata": {},
   "source": [
    "## Statements\n",
    "Instructions that a Python interpreter can execute."
   ]
  },
  {
   "cell_type": "code",
   "execution_count": 17,
   "id": "357afe28",
   "metadata": {},
   "outputs": [
    {
     "data": {
      "text/plain": [
       "30"
      ]
     },
     "execution_count": 17,
     "metadata": {},
     "output_type": "execute_result"
    }
   ],
   "source": [
    "# Single line statement\n",
    "p1 = 10 + 20\n",
    "p1"
   ]
  },
  {
   "cell_type": "code",
   "execution_count": 18,
   "id": "f5c5f5e7",
   "metadata": {},
   "outputs": [
    {
     "data": {
      "text/plain": [
       "['a', 'b', 'c', 'd']"
      ]
     },
     "execution_count": 18,
     "metadata": {},
     "output_type": "execute_result"
    }
   ],
   "source": [
    "# Single line statement\n",
    "p2 = ['a','b','c','d']\n",
    "p2"
   ]
  },
  {
   "cell_type": "code",
   "execution_count": 1,
   "id": "f923c91c",
   "metadata": {},
   "outputs": [
    {
     "data": {
      "text/plain": [
       "290"
      ]
     },
     "execution_count": 1,
     "metadata": {},
     "output_type": "execute_result"
    }
   ],
   "source": [
    "# Multiple line statement\n",
    "p1 = 20 + 30 \\\n",
    "+ 40 + 50 + \\\n",
    "+ 70 + 80\n",
    "p1"
   ]
  },
  {
   "cell_type": "code",
   "execution_count": 2,
   "id": "596b9346",
   "metadata": {},
   "outputs": [
    {
     "data": {
      "text/plain": [
       "['a', 'b', 'c', 'd']"
      ]
     },
     "execution_count": 2,
     "metadata": {},
     "output_type": "execute_result"
    }
   ],
   "source": [
    "# Multiple line statement\n",
    "p2 = [\n",
    "    'a',\n",
    "    'b',\n",
    "    'c',\n",
    "    'd']\n",
    "p2"
   ]
  },
  {
   "cell_type": "markdown",
   "id": "25f24af2",
   "metadata": {},
   "source": [
    "### Indentation\n",
    "\n",
    "Indentation refers to the spaces at the beginning of a code line. It is very important as Python uses indentation to indicate a block of code.If the indentation is not correct we will endup with IndentationError error"
   ]
  },
  {
   "cell_type": "code",
   "execution_count": 4,
   "id": "6d149e2d",
   "metadata": {},
   "outputs": [
    {
     "name": "stdout",
     "output_type": "stream",
     "text": [
      "P is equal to 10\n"
     ]
    }
   ],
   "source": [
    "p = 10\n",
    "if p == 10:\n",
    "    print('P is equal to 10') # correct indentation"
   ]
  },
  {
   "cell_type": "code",
   "execution_count": 6,
   "id": "efee9f35",
   "metadata": {},
   "outputs": [
    {
     "ename": "IndentationError",
     "evalue": "expected an indented block (<ipython-input-6-2bef330feb24>, line 4)",
     "output_type": "error",
     "traceback": [
      "\u001b[1;36m  File \u001b[1;32m\"<ipython-input-6-2bef330feb24>\"\u001b[1;36m, line \u001b[1;32m4\u001b[0m\n\u001b[1;33m    print('P is equal to 10')\u001b[0m\n\u001b[1;37m        ^\u001b[0m\n\u001b[1;31mIndentationError\u001b[0m\u001b[1;31m:\u001b[0m expected an indented block\n"
     ]
    }
   ],
   "source": [
    "# if indentation is skipped we will encounter \"IndentationError: expected an inde\n",
    "p = 10\n",
    "if p == 10:\n",
    "print('P is equal to 10')"
   ]
  },
  {
   "cell_type": "code",
   "execution_count": 8,
   "id": "516bb45a",
   "metadata": {},
   "outputs": [
    {
     "name": "stdout",
     "output_type": "stream",
     "text": [
      "0\n",
      "1\n",
      "2\n",
      "3\n",
      "4\n"
     ]
    }
   ],
   "source": [
    "for i in range(0, 5):\n",
    "    print(i) # correct indentation"
   ]
  },
  {
   "cell_type": "code",
   "execution_count": 10,
   "id": "77f2fa34",
   "metadata": {},
   "outputs": [
    {
     "ename": "IndentationError",
     "evalue": "expected an indented block (<ipython-input-10-ae5432fb136b>, line 3)",
     "output_type": "error",
     "traceback": [
      "\u001b[1;36m  File \u001b[1;32m\"<ipython-input-10-ae5432fb136b>\"\u001b[1;36m, line \u001b[1;32m3\u001b[0m\n\u001b[1;33m    print(i)\u001b[0m\n\u001b[1;37m        ^\u001b[0m\n\u001b[1;31mIndentationError\u001b[0m\u001b[1;31m:\u001b[0m expected an indented block\n"
     ]
    }
   ],
   "source": [
    "# if indentation is skipped we will encounter \"IndentationError: expected an index\n",
    "for i in range (0,5):\n",
    "print(i)"
   ]
  },
  {
   "cell_type": "code",
   "execution_count": 12,
   "id": "e7b7a07e",
   "metadata": {},
   "outputs": [
    {
     "name": "stdout",
     "output_type": "stream",
     "text": [
      "0\n",
      "1\n",
      "2\n",
      "3\n",
      "4\n"
     ]
    }
   ],
   "source": [
    "for i in range(0,5): print(i) # correct indentation but less readable"
   ]
  },
  {
   "cell_type": "code",
   "execution_count": 14,
   "id": "fdd45ee0",
   "metadata": {},
   "outputs": [
    {
     "name": "stdout",
     "output_type": "stream",
     "text": [
      "0\n",
      "1\n",
      "2\n",
      "3\n",
      "4\n",
      "20\n"
     ]
    }
   ],
   "source": [
    "j = 20\n",
    "for i in range(0,5):\n",
    "    print(i)\n",
    "    # inside the for loop\n",
    "print(j)\n",
    "# outside the for loop"
   ]
  },
  {
   "cell_type": "markdown",
   "id": "225b0170",
   "metadata": {},
   "source": [
    "### Docstrings\n",
    "    1. Docstrings provide a convenient way of associating documentation with functions, classes,methods or modules.\n",
    "    2. They appear right after the definition of a function, method, class, or module.\n",
    "    "
   ]
  },
  {
   "cell_type": "code",
   "execution_count": 17,
   "id": "5d765059",
   "metadata": {},
   "outputs": [
    {
     "data": {
      "text/plain": [
       "4"
      ]
     },
     "execution_count": 17,
     "metadata": {},
     "output_type": "execute_result"
    }
   ],
   "source": [
    "def square (num):\n",
    "    '''Square Function :- This function will return the square of a number'''\n",
    "    return num **2\n",
    "square(2)"
   ]
  },
  {
   "cell_type": "code",
   "execution_count": 18,
   "id": "dd153fa0",
   "metadata": {},
   "outputs": [
    {
     "data": {
      "text/plain": [
       "'Square Function :- This function will return the square of a number'"
      ]
     },
     "execution_count": 18,
     "metadata": {},
     "output_type": "execute_result"
    }
   ],
   "source": [
    "square.__doc__"
   ]
  },
  {
   "cell_type": "code",
   "execution_count": 20,
   "id": "4a7695d8",
   "metadata": {},
   "outputs": [],
   "source": [
    "def evenodd(num):\n",
    "    '''evenodd Function :- This function will test whether a numbr is Even or Odd'''\n",
    "    if num % 2 == 0:\n",
    "        print(\"Even Number\")\n",
    "    else:\n",
    "        print(\"Odd Number\")"
   ]
  },
  {
   "cell_type": "code",
   "execution_count": 21,
   "id": "f6f53e73",
   "metadata": {},
   "outputs": [
    {
     "name": "stdout",
     "output_type": "stream",
     "text": [
      "Odd Number\n"
     ]
    }
   ],
   "source": [
    "evenodd(3)"
   ]
  },
  {
   "cell_type": "code",
   "execution_count": 22,
   "id": "75268716",
   "metadata": {},
   "outputs": [
    {
     "name": "stdout",
     "output_type": "stream",
     "text": [
      "Even Number\n"
     ]
    }
   ],
   "source": [
    "evenodd(2)"
   ]
  },
  {
   "cell_type": "code",
   "execution_count": 23,
   "id": "375588b8",
   "metadata": {},
   "outputs": [
    {
     "data": {
      "text/plain": [
       "'evenodd Function :- This function will test whether a numbr is Even or Odd'"
      ]
     },
     "execution_count": 23,
     "metadata": {},
     "output_type": "execute_result"
    }
   ],
   "source": [
    "evenodd.__doc__"
   ]
  },
  {
   "cell_type": "markdown",
   "id": "190f3281",
   "metadata": {},
   "source": [
    "### Variables\n",
    "    1.A Python variable is a reserved memory location to store values.A variable is created the momentyou first assign a value to it."
   ]
  },
  {
   "cell_type": "code",
   "execution_count": 24,
   "id": "fc246c85",
   "metadata": {},
   "outputs": [],
   "source": [
    "p = 30"
   ]
  },
  {
   "cell_type": "code",
   "execution_count": 30,
   "id": "2096b138",
   "metadata": {},
   "outputs": [
    {
     "data": {
      "text/plain": [
       "140736709358448"
      ]
     },
     "execution_count": 30,
     "metadata": {},
     "output_type": "execute_result"
    }
   ],
   "source": [
    "'''\n",
    "id() function returns the “identity” of the object. The identity of an object - Is an integer\n",
    "- Guaranteed to be unique\n",
    "- Constant for this object during its lifetime.\n",
    "'''\n",
    "id(p)"
   ]
  },
  {
   "cell_type": "code",
   "execution_count": 28,
   "id": "8eaaeafe",
   "metadata": {},
   "outputs": [
    {
     "data": {
      "text/plain": [
       "'0x7fffd19174b0'"
      ]
     },
     "execution_count": 28,
     "metadata": {},
     "output_type": "execute_result"
    }
   ],
   "source": [
    "hex(id(p)) # Memory address of the variable"
   ]
  },
  {
   "cell_type": "code",
   "execution_count": 35,
   "id": "788cb53a",
   "metadata": {},
   "outputs": [
    {
     "name": "stdout",
     "output_type": "stream",
     "text": [
      "140736709358448\n",
      "140736709358448\n",
      "140736709358448\n",
      "140736709358480\n"
     ]
    },
    {
     "data": {
      "text/plain": [
       "(20, int, '0x7fffd1917370')"
      ]
     },
     "execution_count": 35,
     "metadata": {},
     "output_type": "execute_result"
    }
   ],
   "source": [
    "p = 20 #Creates an integer object with value 20 and assigns the variable p to point\n",
    "print(id(p))\n",
    "q = 20 # Create new reference q which will point to value 20. p & q will be point\n",
    "print(id(q))\n",
    "r = q # variable r will also point to the same location where p & q are pointing\n",
    "print(id(q))\n",
    "w = 21\n",
    "print(id(w)) # w will referss the 21 location, which is printed. it will be different from p,q and r\n",
    "\n",
    "p, type(p), hex(id(p)) # Variable P is pointing to memory location '0x7fff6d71a3"
   ]
  },
  {
   "cell_type": "code",
   "execution_count": 37,
   "id": "a539a7b5",
   "metadata": {},
   "outputs": [
    {
     "data": {
      "text/plain": [
       "30"
      ]
     },
     "execution_count": 37,
     "metadata": {},
     "output_type": "execute_result"
    }
   ],
   "source": [
    "p = 20\n",
    "p = p + 10\n",
    "p"
   ]
  },
  {
   "cell_type": "markdown",
   "id": "ba7944ef",
   "metadata": {},
   "source": [
    "### Variable Assigment"
   ]
  },
  {
   "cell_type": "code",
   "execution_count": 38,
   "id": "d27daf3f",
   "metadata": {},
   "outputs": [
    {
     "name": "stdout",
     "output_type": "stream",
     "text": [
      "10\n",
      "2.57\n",
      "Python Language\n"
     ]
    }
   ],
   "source": [
    "intvar = 10 # Integer variable\n",
    "floatvar = 2.57 # Float Variable\n",
    "strvar = \"Python Language\" # String variable\n",
    "print(intvar)\n",
    "print(floatvar) \n",
    "print(strvar)"
   ]
  },
  {
   "cell_type": "markdown",
   "id": "73cd94cd",
   "metadata": {},
   "source": [
    "#### Multiple Assignments"
   ]
  },
  {
   "cell_type": "code",
   "execution_count": 2,
   "id": "166441e4",
   "metadata": {},
   "outputs": [
    {
     "name": "stdout",
     "output_type": "stream",
     "text": [
      "10\n",
      "2.57\n",
      "Python Language\n"
     ]
    }
   ],
   "source": [
    "intvar, floatvar, strvar = 10, 2.57, \"Python Language\"\n",
    "\n",
    "# Using commas to separate\n",
    "print(intvar)\n",
    "print(floatvar)\n",
    "print(strvar)"
   ]
  },
  {
   "cell_type": "code",
   "execution_count": 3,
   "id": "d516086a",
   "metadata": {},
   "outputs": [
    {
     "name": "stdout",
     "output_type": "stream",
     "text": [
      "44 44 44 44\n"
     ]
    }
   ],
   "source": [
    "p1 = p2 = p3 = p4 = 44 # All variables pointing to same value\n",
    "print(p1, p2, p3, p4)"
   ]
  },
  {
   "cell_type": "markdown",
   "id": "2f62917b",
   "metadata": {},
   "source": [
    "## Data Types\n",
    "\n",
    "#### Numeric"
   ]
  },
  {
   "cell_type": "code",
   "execution_count": 5,
   "id": "7d6b5181",
   "metadata": {},
   "outputs": [
    {
     "name": "stdout",
     "output_type": "stream",
     "text": [
      "10\n",
      "<class 'int'>\n",
      "28\n",
      "10  is Integer? True\n"
     ]
    }
   ],
   "source": [
    "import sys\n",
    "val1 = 10 # Integer data type\n",
    "print(val1)\n",
    "print(type(val1)) # type of object\n",
    "print(sys.getsizeof(val1)) # size of integer object in bytes\n",
    "print(val1,\" is Integer?\", isinstance (val1, int)) # val1 is an instance of int class"
   ]
  },
  {
   "cell_type": "code",
   "execution_count": 6,
   "id": "a45fd08a",
   "metadata": {},
   "outputs": [
    {
     "name": "stdout",
     "output_type": "stream",
     "text": [
      "97.78\n",
      "<class 'float'>\n",
      "24\n",
      "97.78  is float? True\n"
     ]
    }
   ],
   "source": [
    "import sys\n",
    "val2 = 97.78 # Float data type\n",
    "print(val2)\n",
    "print(type(val2)) # type of object\n",
    "print(sys.getsizeof(val2)) # size of integer object in bytes\n",
    "print(val2,\" is float?\", isinstance (val2, float)) # val1 is an instance of int class"
   ]
  },
  {
   "cell_type": "code",
   "execution_count": 9,
   "id": "8456c523",
   "metadata": {},
   "outputs": [
    {
     "name": "stdout",
     "output_type": "stream",
     "text": [
      "(925+10j)\n",
      "<class 'complex'>\n",
      "32\n",
      "(925+10j)  is complex? True\n"
     ]
    }
   ],
   "source": [
    "import sys\n",
    "val3 = 925 + 10j # Complex data type\n",
    "print(val3)\n",
    "print(type(val3)) # type of object\n",
    "print(sys.getsizeof(val3)) # size of integer object in bytes\n",
    "print(val3,\" is complex?\", isinstance (val3, complex)) # val1 is an instance of int class"
   ]
  },
  {
   "cell_type": "code",
   "execution_count": 11,
   "id": "ba16fa93",
   "metadata": {},
   "outputs": [
    {
     "data": {
      "text/plain": [
       "24"
      ]
     },
     "execution_count": 11,
     "metadata": {},
     "output_type": "execute_result"
    }
   ],
   "source": [
    "sys.getsizeof(int()) # size of integer object in bytes"
   ]
  },
  {
   "cell_type": "code",
   "execution_count": 12,
   "id": "5a5b684b",
   "metadata": {},
   "outputs": [
    {
     "data": {
      "text/plain": [
       "24"
      ]
     },
     "execution_count": 12,
     "metadata": {},
     "output_type": "execute_result"
    }
   ],
   "source": [
    "sys.getsizeof(float()) # size of float object in bytes"
   ]
  },
  {
   "cell_type": "code",
   "execution_count": 13,
   "id": "b0e037f9",
   "metadata": {},
   "outputs": [
    {
     "data": {
      "text/plain": [
       "32"
      ]
     },
     "execution_count": 13,
     "metadata": {},
     "output_type": "execute_result"
    }
   ],
   "source": [
    "sys.getsizeof(complex()) # size of complex object in bytes"
   ]
  },
  {
   "cell_type": "markdown",
   "id": "986d676d",
   "metadata": {},
   "source": [
    "#### Boolean"
   ]
  },
  {
   "cell_type": "code",
   "execution_count": 18,
   "id": "36fbb93b",
   "metadata": {},
   "outputs": [
    {
     "name": "stdout",
     "output_type": "stream",
     "text": [
      "<class 'bool'>\n",
      "<class 'bool'>\n",
      "Instance of bool:  True\n"
     ]
    }
   ],
   "source": [
    "bool1 = True\n",
    "bool2 = False\n",
    "print(type(bool1))\n",
    "print(type(bool2))\n",
    "print(\"Instance of bool: \", isinstance(bool1, bool))"
   ]
  },
  {
   "cell_type": "code",
   "execution_count": 23,
   "id": "3d576e08",
   "metadata": {},
   "outputs": [
    {
     "name": "stdout",
     "output_type": "stream",
     "text": [
      "False\n",
      "True\n",
      "False\n",
      "False\n"
     ]
    }
   ],
   "source": [
    "print(bool(0))\n",
    "print(bool(1))\n",
    "print(bool(None))\n",
    "print(bool(False))"
   ]
  },
  {
   "cell_type": "markdown",
   "id": "518d8659",
   "metadata": {},
   "source": [
    "### String"
   ]
  },
  {
   "cell_type": "code",
   "execution_count": 31,
   "id": "af9ac9f6",
   "metadata": {},
   "outputs": [
    {
     "name": "stdout",
     "output_type": "stream",
     "text": [
      "Hello Python\n",
      "Hello World\n",
      "Hello Double quotes\n"
     ]
    }
   ],
   "source": [
    "# String Creation\n",
    "str1 = \"Hello Python\"\n",
    "print(str1)\n",
    "\n",
    "mystr = 'Hello World' # Define string using single quotes\n",
    "print(mystr)\n",
    "\n",
    "mystr = \"Hello Double quotes\" # Define string using single quotes\n",
    "print(mystr)"
   ]
  },
  {
   "cell_type": "code",
   "execution_count": 29,
   "id": "3a0d749b",
   "metadata": {},
   "outputs": [
    {
     "name": "stdout",
     "output_type": "stream",
     "text": [
      "Hello \n",
      "multi\n",
      "line \n",
      "string\n",
      "\n"
     ]
    }
   ],
   "source": [
    "mystr = '''Hello \n",
    "multi\n",
    "line \n",
    "string\n",
    "''' # Define string using single quotes\n",
    "print(mystr)"
   ]
  },
  {
   "cell_type": "code",
   "execution_count": 32,
   "id": "b7cc2cf2",
   "metadata": {},
   "outputs": [
    {
     "name": "stdout",
     "output_type": "stream",
     "text": [
      "Hello \n",
      "multi\n",
      "line \n",
      "string\n",
      "\n"
     ]
    }
   ],
   "source": [
    "mystr = \"\"\"Hello \n",
    "multi\n",
    "line \n",
    "string\n",
    "\"\"\" # Define string using using triple quotes\n",
    "print(mystr)"
   ]
  },
  {
   "cell_type": "markdown",
   "id": "1651a843",
   "metadata": {},
   "source": [
    "## Multiply string \n"
   ]
  },
  {
   "cell_type": "code",
   "execution_count": 33,
   "id": "ad532ff0",
   "metadata": {},
   "outputs": [
    {
     "data": {
      "text/plain": [
       "'Woohoo Woohoo Woohoo Woohoo Woohoo '"
      ]
     },
     "execution_count": 33,
     "metadata": {},
     "output_type": "execute_result"
    }
   ],
   "source": [
    "mystr2 = 'Woohoo '\n",
    "mystr2 = mystr2 * 5 \n",
    "mystr2"
   ]
  },
  {
   "cell_type": "code",
   "execution_count": 34,
   "id": "20c64ade",
   "metadata": {},
   "outputs": [
    {
     "data": {
      "text/plain": [
       "35"
      ]
     },
     "execution_count": 34,
     "metadata": {},
     "output_type": "execute_result"
    }
   ],
   "source": [
    "len(mystr2)"
   ]
  },
  {
   "cell_type": "markdown",
   "id": "4617144d",
   "metadata": {},
   "source": [
    "### String Indexing"
   ]
  },
  {
   "cell_type": "code",
   "execution_count": 39,
   "id": "46dd3da0",
   "metadata": {},
   "outputs": [
    {
     "data": {
      "text/plain": [
       "35"
      ]
     },
     "execution_count": 39,
     "metadata": {},
     "output_type": "execute_result"
    }
   ],
   "source": [
    "len(mystr2)"
   ]
  },
  {
   "cell_type": "code",
   "execution_count": 40,
   "id": "c9f90e1d",
   "metadata": {},
   "outputs": [
    {
     "data": {
      "text/plain": [
       "'Hello Python'"
      ]
     },
     "execution_count": 40,
     "metadata": {},
     "output_type": "execute_result"
    }
   ],
   "source": [
    "str1"
   ]
  },
  {
   "cell_type": "code",
   "execution_count": 41,
   "id": "2cbd8497",
   "metadata": {},
   "outputs": [
    {
     "data": {
      "text/plain": [
       "'H'"
      ]
     },
     "execution_count": 41,
     "metadata": {},
     "output_type": "execute_result"
    }
   ],
   "source": [
    "str1[0] # First character in string \"str1\""
   ]
  },
  {
   "cell_type": "code",
   "execution_count": 45,
   "id": "67b762e1",
   "metadata": {},
   "outputs": [
    {
     "name": "stdout",
     "output_type": "stream",
     "text": [
      "n\n",
      "n\n"
     ]
    }
   ],
   "source": [
    "print(str1[len(str1) - 1]) # Last character in string using len function\n",
    "print(str1[-1]) # Last character in string"
   ]
  },
  {
   "cell_type": "code",
   "execution_count": 46,
   "id": "3eeeb0ad",
   "metadata": {},
   "outputs": [
    {
     "data": {
      "text/plain": [
       "'P'"
      ]
     },
     "execution_count": 46,
     "metadata": {},
     "output_type": "execute_result"
    }
   ],
   "source": [
    "str1[6] #Fetch 7th element of the string"
   ]
  },
  {
   "cell_type": "code",
   "execution_count": 48,
   "id": "74b1da8f",
   "metadata": {},
   "outputs": [
    {
     "name": "stdout",
     "output_type": "stream",
     "text": [
      " \n"
     ]
    }
   ],
   "source": [
    "print(str1[5])"
   ]
  },
  {
   "cell_type": "markdown",
   "id": "54dea6ee",
   "metadata": {},
   "source": [
    "### String Slicing"
   ]
  },
  {
   "cell_type": "code",
   "execution_count": 50,
   "id": "3380c339",
   "metadata": {},
   "outputs": [
    {
     "data": {
      "text/plain": [
       "'Hello'"
      ]
     },
     "execution_count": 50,
     "metadata": {},
     "output_type": "execute_result"
    }
   ],
   "source": [
    "str1[0:5] # String slicing - Fetch all characters from 0 to 5 index location excluding other elements"
   ]
  },
  {
   "cell_type": "code",
   "execution_count": 53,
   "id": "46d26aa3",
   "metadata": {},
   "outputs": [
    {
     "data": {
      "text/plain": [
       "'Python'"
      ]
     },
     "execution_count": 53,
     "metadata": {},
     "output_type": "execute_result"
    }
   ],
   "source": [
    "str1[6:12] # String slicing - Retreive all characters between 6 - 12 index loc excluding other elements"
   ]
  },
  {
   "cell_type": "code",
   "execution_count": 58,
   "id": "27f23b1e",
   "metadata": {},
   "outputs": [
    {
     "data": {
      "text/plain": [
       "'o Python'"
      ]
     },
     "execution_count": 58,
     "metadata": {},
     "output_type": "execute_result"
    }
   ],
   "source": [
    "str1[-4:] # Retreive last four characters of the string"
   ]
  },
  {
   "cell_type": "code",
   "execution_count": 59,
   "id": "5dd40b37",
   "metadata": {},
   "outputs": [
    {
     "data": {
      "text/plain": [
       "'Python'"
      ]
     },
     "execution_count": 59,
     "metadata": {},
     "output_type": "execute_result"
    }
   ],
   "source": [
    "str1[-6:] # Retreive last six characters of the string"
   ]
  },
  {
   "cell_type": "code",
   "execution_count": 60,
   "id": "ca427fac",
   "metadata": {},
   "outputs": [
    {
     "data": {
      "text/plain": [
       "'Hell'"
      ]
     },
     "execution_count": 60,
     "metadata": {},
     "output_type": "execute_result"
    }
   ],
   "source": [
    "str1[:4] # Retreive first four characters of the string"
   ]
  },
  {
   "cell_type": "code",
   "execution_count": 61,
   "id": "86e80702",
   "metadata": {},
   "outputs": [
    {
     "data": {
      "text/plain": [
       "'Hello '"
      ]
     },
     "execution_count": 61,
     "metadata": {},
     "output_type": "execute_result"
    }
   ],
   "source": [
    "str1[:6] # Retreive first six characters of the string"
   ]
  },
  {
   "cell_type": "code",
   "execution_count": 62,
   "id": "ce1625b7",
   "metadata": {},
   "outputs": [
    {
     "data": {
      "text/plain": [
       "'Hello Python'"
      ]
     },
     "execution_count": 62,
     "metadata": {},
     "output_type": "execute_result"
    }
   ],
   "source": [
    "str1"
   ]
  },
  {
   "cell_type": "markdown",
   "id": "2fd9ffe0",
   "metadata": {},
   "source": [
    "### Update & Delete String"
   ]
  },
  {
   "cell_type": "code",
   "execution_count": 65,
   "id": "c7da5cb5",
   "metadata": {},
   "outputs": [
    {
     "ename": "TypeError",
     "evalue": "'str' object does not support item assignment",
     "output_type": "error",
     "traceback": [
      "\u001b[1;31m---------------------------------------------------------------------------\u001b[0m",
      "\u001b[1;31mTypeError\u001b[0m                                 Traceback (most recent call last)",
      "\u001b[1;32m<ipython-input-65-71e50137b467>\u001b[0m in \u001b[0;36m<module>\u001b[1;34m\u001b[0m\n\u001b[0;32m      1\u001b[0m \u001b[1;31m#Strings are immutable which means elements of a string cannot be changed once the value\u001b[0m\u001b[1;33m\u001b[0m\u001b[1;33m\u001b[0m\u001b[1;33m\u001b[0m\u001b[0m\n\u001b[1;32m----> 2\u001b[1;33m \u001b[0mstr1\u001b[0m\u001b[1;33m[\u001b[0m\u001b[1;36m0\u001b[0m\u001b[1;33m:\u001b[0m\u001b[1;36m5\u001b[0m\u001b[1;33m]\u001b[0m \u001b[1;33m=\u001b[0m \u001b[1;34m'HOLAA'\u001b[0m\u001b[1;33m\u001b[0m\u001b[1;33m\u001b[0m\u001b[0m\n\u001b[0m",
      "\u001b[1;31mTypeError\u001b[0m: 'str' object does not support item assignment"
     ]
    }
   ],
   "source": [
    "#Strings are immutable which means elements of a string cannot be changed once the value\n",
    "str1[0:5] = 'HOLAA'"
   ]
  },
  {
   "cell_type": "code",
   "execution_count": 66,
   "id": "760af313",
   "metadata": {},
   "outputs": [
    {
     "ename": "NameError",
     "evalue": "name 'srt1' is not defined",
     "output_type": "error",
     "traceback": [
      "\u001b[1;31m---------------------------------------------------------------------------\u001b[0m",
      "\u001b[1;31mNameError\u001b[0m                                 Traceback (most recent call last)",
      "\u001b[1;32m<ipython-input-66-7fcc0cc83dcc>\u001b[0m in \u001b[0;36m<module>\u001b[1;34m\u001b[0m\n\u001b[0;32m      1\u001b[0m \u001b[1;32mdel\u001b[0m \u001b[0mstr1\u001b[0m \u001b[1;31m# Delete a string\u001b[0m\u001b[1;33m\u001b[0m\u001b[1;33m\u001b[0m\u001b[0m\n\u001b[1;32m----> 2\u001b[1;33m \u001b[0mprint\u001b[0m\u001b[1;33m(\u001b[0m\u001b[0msrt1\u001b[0m\u001b[1;33m)\u001b[0m\u001b[1;33m\u001b[0m\u001b[1;33m\u001b[0m\u001b[0m\n\u001b[0m",
      "\u001b[1;31mNameError\u001b[0m: name 'srt1' is not defined"
     ]
    }
   ],
   "source": [
    "del str1 # Delete a string\n",
    "print(srt1)"
   ]
  },
  {
   "cell_type": "markdown",
   "id": "e883b33c",
   "metadata": {},
   "source": [
    "### String concatenation"
   ]
  },
  {
   "cell_type": "code",
   "execution_count": 68,
   "id": "ed392d39",
   "metadata": {},
   "outputs": [
    {
     "name": "stdout",
     "output_type": "stream",
     "text": [
      "HelloAsif\n"
     ]
    }
   ],
   "source": [
    "# String concatenation\n",
    "s1 = \"Hello\"\n",
    "s2 = \"Asif\"\n",
    "s3 = s1 + s2\n",
    "print(s3)"
   ]
  },
  {
   "cell_type": "code",
   "execution_count": 69,
   "id": "125633b4",
   "metadata": {},
   "outputs": [
    {
     "name": "stdout",
     "output_type": "stream",
     "text": [
      "Hello Asif\n"
     ]
    }
   ],
   "source": [
    "s1 = \"Hello\"\n",
    "s2 = \"Asif\"\n",
    "s3 =  s1 + \" \" + s2\n",
    "print(s3)"
   ]
  },
  {
   "cell_type": "markdown",
   "id": "fe977b55",
   "metadata": {},
   "source": [
    "### Iterating through a String"
   ]
  },
  {
   "cell_type": "code",
   "execution_count": 72,
   "id": "9983bdbd",
   "metadata": {},
   "outputs": [
    {
     "name": "stdout",
     "output_type": "stream",
     "text": [
      "H\n",
      "e\n",
      "l\n",
      "l\n",
      "o\n",
      " \n",
      "E\n",
      "v\n",
      "e\n",
      "r\n",
      "y\n",
      "o\n",
      "n\n",
      "e\n"
     ]
    }
   ],
   "source": [
    "mystr1 = \"Hello Everyone\"\n",
    "# Iteration\n",
    "for i in mystr1:\n",
    "    print(i)"
   ]
  },
  {
   "cell_type": "code",
   "execution_count": 73,
   "id": "b8343546",
   "metadata": {},
   "outputs": [
    {
     "name": "stdout",
     "output_type": "stream",
     "text": [
      "(0, 'H')\n",
      "(1, 'e')\n",
      "(2, 'l')\n",
      "(3, 'l')\n",
      "(4, 'o')\n",
      "(5, ' ')\n",
      "(6, 'E')\n",
      "(7, 'v')\n",
      "(8, 'e')\n",
      "(9, 'r')\n",
      "(10, 'y')\n",
      "(11, 'o')\n",
      "(12, 'n')\n",
      "(13, 'e')\n"
     ]
    }
   ],
   "source": [
    "for i in enumerate(mystr1):\n",
    "    print(i)"
   ]
  },
  {
   "cell_type": "code",
   "execution_count": 74,
   "id": "b1ea89a0",
   "metadata": {},
   "outputs": [
    {
     "data": {
      "text/plain": [
       "[(0, 'H'),\n",
       " (1, 'e'),\n",
       " (2, 'l'),\n",
       " (3, 'l'),\n",
       " (4, 'o'),\n",
       " (5, ' '),\n",
       " (6, 'E'),\n",
       " (7, 'v'),\n",
       " (8, 'e'),\n",
       " (9, 'r'),\n",
       " (10, 'y'),\n",
       " (11, 'o'),\n",
       " (12, 'n'),\n",
       " (13, 'e')]"
      ]
     },
     "execution_count": 74,
     "metadata": {},
     "output_type": "execute_result"
    }
   ],
   "source": [
    "list(enumerate(mystr1)) # Enumerate method adds a counter to an iterable and return"
   ]
  },
  {
   "cell_type": "markdown",
   "id": "ae87b0f2",
   "metadata": {},
   "source": [
    "#### String Membership"
   ]
  },
  {
   "cell_type": "code",
   "execution_count": 75,
   "id": "2afe6ed8",
   "metadata": {},
   "outputs": [
    {
     "name": "stdout",
     "output_type": "stream",
     "text": [
      "True\n",
      "True\n",
      "False\n"
     ]
    }
   ],
   "source": [
    "# String membership\n",
    "mystr1 = \"Hello Everyone\"\n",
    "\n",
    "print('Hello' in mystr1) # Check whether substring \"Hello\" is present in string\n",
    "print('Everyone' in mystr1) # Check whether substring \"Everyone\" is present in string \"mystr1\"\n",
    "print('Hi' in mystr1) # Check whether substring \"Hi\" is present in string \"mystr1\""
   ]
  },
  {
   "cell_type": "markdown",
   "id": "99a49093",
   "metadata": {},
   "source": [
    "### String Partitioning"
   ]
  },
  {
   "cell_type": "code",
   "execution_count": 78,
   "id": "9c5b3cb2",
   "metadata": {},
   "outputs": [
    {
     "name": "stdout",
     "output_type": "stream",
     "text": [
      "Natural language processing with Python \n",
      "and\n",
      " R and Java\n"
     ]
    }
   ],
   "source": [
    "\"\"\"\n",
    "The partition() method searches for a specified string and splits the string into\n",
    "\n",
    "- The first element contains the part before the argument string.\n",
    "\n",
    "- The second element contains the argument string.\n",
    "\n",
    "- The third element contains the part after the argument string.\n",
    "\n",
    "\"\"\"\n",
    "str5 = \"Natural language processing with Python and R and Java\"\n",
    "L = str5.partition(\"and\")\n",
    "print(L[0])\n",
    "print(L[1])\n",
    "print(L[2])"
   ]
  },
  {
   "cell_type": "code",
   "execution_count": 79,
   "id": "15cc202c",
   "metadata": {},
   "outputs": [
    {
     "name": "stdout",
     "output_type": "stream",
     "text": [
      "('Natural language processing with Python and R ', 'and', ' Java')\n"
     ]
    }
   ],
   "source": [
    "\"\"\"\n",
    "The rpartition() method searches for the last occurence of the specified string a\n",
    "containing three elements.\n",
    "- The first element contains the part before the argument string.\n",
    "- The second element contains the argument string.\n",
    "- The third element contains the part after the argument string.\n",
    "\"\"\"\n",
    "str5 = \"Natural language processing with Python and R and Java\"\n",
    "L = str5.rpartition(\"and\")\n",
    "print(L)"
   ]
  },
  {
   "cell_type": "markdown",
   "id": "e84aaf87",
   "metadata": {},
   "source": [
    "### String Functions"
   ]
  },
  {
   "cell_type": "code",
   "execution_count": 80,
   "id": "df8cbe6b",
   "metadata": {},
   "outputs": [
    {
     "data": {
      "text/plain": [
       "' Hello Everyone '"
      ]
     },
     "execution_count": 80,
     "metadata": {},
     "output_type": "execute_result"
    }
   ],
   "source": [
    "mystr2 = \" Hello Everyone \"\n",
    "mystr2"
   ]
  },
  {
   "cell_type": "code",
   "execution_count": 81,
   "id": "42871789",
   "metadata": {},
   "outputs": [
    {
     "data": {
      "text/plain": [
       "'Hello Everyone'"
      ]
     },
     "execution_count": 81,
     "metadata": {},
     "output_type": "execute_result"
    }
   ],
   "source": [
    "mystr2.strip() # Removes white space from begining & end"
   ]
  },
  {
   "cell_type": "code",
   "execution_count": 82,
   "id": "0ca8f279",
   "metadata": {},
   "outputs": [
    {
     "data": {
      "text/plain": [
       "' Hello Everyone'"
      ]
     },
     "execution_count": 82,
     "metadata": {},
     "output_type": "execute_result"
    }
   ],
   "source": [
    "mystr2.rstrip() # Removes all whitespaces at the end of the string"
   ]
  },
  {
   "cell_type": "code",
   "execution_count": 83,
   "id": "5f43cabb",
   "metadata": {},
   "outputs": [
    {
     "data": {
      "text/plain": [
       "'Hello Everyone '"
      ]
     },
     "execution_count": 83,
     "metadata": {},
     "output_type": "execute_result"
    }
   ],
   "source": [
    "mystr2.lstrip() # Removes all whitespaces at the begining of the string"
   ]
  },
  {
   "cell_type": "code",
   "execution_count": 84,
   "id": "50998152",
   "metadata": {},
   "outputs": [
    {
     "data": {
      "text/plain": [
       "'*********Hello Everyone***********All the Best**********'"
      ]
     },
     "execution_count": 84,
     "metadata": {},
     "output_type": "execute_result"
    }
   ],
   "source": [
    "mystr2 = \"*********Hello Everyone***********All the Best**********\"\n",
    "mystr2"
   ]
  },
  {
   "cell_type": "code",
   "execution_count": 86,
   "id": "68fc5f3e",
   "metadata": {},
   "outputs": [
    {
     "data": {
      "text/plain": [
       "'Hello Everyone***********All the Best'"
      ]
     },
     "execution_count": 86,
     "metadata": {},
     "output_type": "execute_result"
    }
   ],
   "source": [
    "mystr2.strip('*') # Removes all '*' characters from begining & end of the string"
   ]
  },
  {
   "cell_type": "code",
   "execution_count": 88,
   "id": "f3e8763a",
   "metadata": {},
   "outputs": [
    {
     "data": {
      "text/plain": [
       "'*********Hello Everyone***********All the Best'"
      ]
     },
     "execution_count": 88,
     "metadata": {},
     "output_type": "execute_result"
    }
   ],
   "source": [
    "mystr2.rstrip('*') # Removes all '*' characters at the end of the string"
   ]
  },
  {
   "cell_type": "code",
   "execution_count": 89,
   "id": "e79f4224",
   "metadata": {},
   "outputs": [
    {
     "data": {
      "text/plain": [
       "'Hello Everyone***********All the Best**********'"
      ]
     },
     "execution_count": 89,
     "metadata": {},
     "output_type": "execute_result"
    }
   ],
   "source": [
    "mystr2.lstrip('*') # Removes all '*' characters at the begining of the string"
   ]
  },
  {
   "cell_type": "code",
   "execution_count": 90,
   "id": "cbdcbba8",
   "metadata": {},
   "outputs": [],
   "source": [
    "mystr2 = \" Hello Everyone \""
   ]
  },
  {
   "cell_type": "code",
   "execution_count": 91,
   "id": "fb684a03",
   "metadata": {},
   "outputs": [
    {
     "data": {
      "text/plain": [
       "' hello everyone '"
      ]
     },
     "execution_count": 91,
     "metadata": {},
     "output_type": "execute_result"
    }
   ],
   "source": [
    "mystr2.lower() # Return whole string in lowercase"
   ]
  },
  {
   "cell_type": "code",
   "execution_count": 92,
   "id": "78da6510",
   "metadata": {},
   "outputs": [
    {
     "data": {
      "text/plain": [
       "' HELLO EVERYONE '"
      ]
     },
     "execution_count": 92,
     "metadata": {},
     "output_type": "execute_result"
    }
   ],
   "source": [
    "mystr2.upper() # Return whole string in uppercase"
   ]
  },
  {
   "cell_type": "code",
   "execution_count": 93,
   "id": "09f3fc0f",
   "metadata": {},
   "outputs": [
    {
     "data": {
      "text/plain": [
       "' Hollo Everyone '"
      ]
     },
     "execution_count": 93,
     "metadata": {},
     "output_type": "execute_result"
    }
   ],
   "source": [
    "mystr2.replace(\"He\",\"Ho\") #Replace substring \"He\" with \"Ho\""
   ]
  },
  {
   "cell_type": "code",
   "execution_count": 99,
   "id": "02485597",
   "metadata": {},
   "outputs": [
    {
     "data": {
      "text/plain": [
       "'HelloEveryone'"
      ]
     },
     "execution_count": 99,
     "metadata": {},
     "output_type": "execute_result"
    }
   ],
   "source": [
    "mystr2.replace(\" \",\"\") # Remove all whitespaces using replace function"
   ]
  },
  {
   "cell_type": "code",
   "execution_count": 98,
   "id": "744aeca5",
   "metadata": {},
   "outputs": [],
   "source": [
    "mystr5 = \"one two Three one two two three\""
   ]
  },
  {
   "cell_type": "code",
   "execution_count": 97,
   "id": "4fd69cbb",
   "metadata": {},
   "outputs": [
    {
     "data": {
      "text/plain": [
       "2"
      ]
     },
     "execution_count": 97,
     "metadata": {},
     "output_type": "execute_result"
    }
   ],
   "source": [
    "mystr5.count(\"one\") # Number of times substring \"one\" occurred in string."
   ]
  },
  {
   "cell_type": "code",
   "execution_count": 100,
   "id": "b2b05632",
   "metadata": {},
   "outputs": [
    {
     "data": {
      "text/plain": [
       "3"
      ]
     },
     "execution_count": 100,
     "metadata": {},
     "output_type": "execute_result"
    }
   ],
   "source": [
    "mystr5.count(\"two\") # Number of times substring \"two\" occurred in string."
   ]
  },
  {
   "cell_type": "code",
   "execution_count": 101,
   "id": "1315349e",
   "metadata": {},
   "outputs": [
    {
     "data": {
      "text/plain": [
       "True"
      ]
     },
     "execution_count": 101,
     "metadata": {},
     "output_type": "execute_result"
    }
   ],
   "source": [
    "mystr5.startswith(\"one\") # Return boolean value True if string starts with \"one\""
   ]
  },
  {
   "cell_type": "code",
   "execution_count": 102,
   "id": "f5a98d9f",
   "metadata": {},
   "outputs": [
    {
     "data": {
      "text/plain": [
       "True"
      ]
     },
     "execution_count": 102,
     "metadata": {},
     "output_type": "execute_result"
    }
   ],
   "source": [
    "mystr5.endswith(\"three\") # Return boolean value True if string ends with \"three\""
   ]
  },
  {
   "cell_type": "code",
   "execution_count": 105,
   "id": "9fdcc55f",
   "metadata": {},
   "outputs": [],
   "source": [
    "mystr4 = \"one two three four one two two three five five six seven six seven one one, one, ten, eight, ten, nine, eleven, ten, ten, nine\""
   ]
  },
  {
   "cell_type": "code",
   "execution_count": 107,
   "id": "cf6e3baa",
   "metadata": {},
   "outputs": [
    {
     "data": {
      "text/plain": [
       "['one',\n",
       " 'two',\n",
       " 'three',\n",
       " 'four',\n",
       " 'one',\n",
       " 'two',\n",
       " 'two',\n",
       " 'three',\n",
       " 'five',\n",
       " 'five',\n",
       " 'six',\n",
       " 'seven',\n",
       " 'six',\n",
       " 'seven',\n",
       " 'one',\n",
       " 'one,',\n",
       " 'one,',\n",
       " 'ten,',\n",
       " 'eight,',\n",
       " 'ten,',\n",
       " 'nine,',\n",
       " 'eleven,',\n",
       " 'ten,',\n",
       " 'ten,',\n",
       " 'nine']"
      ]
     },
     "execution_count": 107,
     "metadata": {},
     "output_type": "execute_result"
    }
   ],
   "source": [
    "mylist = mystr4.split() # Split String into substrings\n",
    "mylist"
   ]
  },
  {
   "cell_type": "code",
   "execution_count": 108,
   "id": "3fc55778",
   "metadata": {},
   "outputs": [
    {
     "name": "stdout",
     "output_type": "stream",
     "text": [
      "Cost of item1 , item2 and item3 are 40 , 55 and 77\n"
     ]
    }
   ],
   "source": [
    "# Combining string & numbers using format method\n",
    "item1 = 40\n",
    "item2 = 55\n",
    "item3 = 77 \n",
    "res = \"Cost of item1 , item2 and item3 are {} , {} and {}\"\n",
    "print(res.format(item1, item2, item3))"
   ]
  },
  {
   "cell_type": "code",
   "execution_count": 110,
   "id": "1a4db62c",
   "metadata": {},
   "outputs": [
    {
     "name": "stdout",
     "output_type": "stream",
     "text": [
      "Cost of item3 , item2 and item1 are 77, 55 and 40\n"
     ]
    }
   ],
   "source": [
    "# Combining string & numbers using format method\n",
    "item1 = 40\n",
    "item2 = 55\n",
    "item3 = 77 \n",
    "res = \"Cost of item3 , item2 and item1 are {2}, {1} and {0}\"\n",
    "print(res.format(item1, item2, item3))"
   ]
  },
  {
   "cell_type": "code",
   "execution_count": 113,
   "id": "46e1043f",
   "metadata": {},
   "outputs": [
    {
     "name": "stdout",
     "output_type": "stream",
     "text": [
      "                                          WELCOME EVERYONE                                          \n"
     ]
    }
   ],
   "source": [
    "str2 = \" WELCOME EVERYONE \"\n",
    "str2 = str2.center(100)\n",
    "# center align the string using a specific character as t\n",
    "print(str2)"
   ]
  },
  {
   "cell_type": "code",
   "execution_count": 114,
   "id": "69d44ed3",
   "metadata": {},
   "outputs": [
    {
     "name": "stdout",
     "output_type": "stream",
     "text": [
      "***************************************** WELCOME EVERYONE *****************************************\n"
     ]
    }
   ],
   "source": [
    "str2 = \" WELCOME EVERYONE \"\n",
    "str2 = str2.center(100, '*') # center align the string using a specific character\n",
    "print(str2)"
   ]
  },
  {
   "cell_type": "code",
   "execution_count": 115,
   "id": "9dc96a9e",
   "metadata": {},
   "outputs": [
    {
     "name": "stdout",
     "output_type": "stream",
     "text": [
      "                                 WELCOME EVERYONE \n"
     ]
    }
   ],
   "source": [
    "str2 = \" WELCOME EVERYONE \"\n",
    "str2 = str2.rjust(50) # Right align the string using a specific character as the\n",
    "print(str2)"
   ]
  },
  {
   "cell_type": "code",
   "execution_count": 116,
   "id": "c65b74e3",
   "metadata": {},
   "outputs": [
    {
     "name": "stdout",
     "output_type": "stream",
     "text": [
      "******************************** WELCOME EVERYONE \n"
     ]
    }
   ],
   "source": [
    "str2 = \" WELCOME EVERYONE \"\n",
    "str2 = str2.rjust(50,'*') # Right align the string using a specific character ('*\n",
    "print(str2)"
   ]
  },
  {
   "cell_type": "code",
   "execution_count": 117,
   "id": "785ec188",
   "metadata": {},
   "outputs": [
    {
     "name": "stdout",
     "output_type": "stream",
     "text": [
      "19\n"
     ]
    }
   ],
   "source": [
    "str4 = \"one two three four five six seven\"\n",
    "loc = str4.find(\"five\") # Find the location of word 'five' in the string \"str4\"\n",
    "print(loc)"
   ]
  },
  {
   "cell_type": "code",
   "execution_count": 118,
   "id": "e8a70352",
   "metadata": {},
   "outputs": [
    {
     "name": "stdout",
     "output_type": "stream",
     "text": [
      "19\n"
     ]
    }
   ],
   "source": [
    "str4 = \"one two three four five six seven\"\n",
    "loc = str4.index(\"five\") # Find the location of word 'five' in the string \"str4\"\n",
    "print(loc)"
   ]
  },
  {
   "cell_type": "code",
   "execution_count": 120,
   "id": "89660f1f",
   "metadata": {},
   "outputs": [
    {
     "name": "stdout",
     "output_type": "stream",
     "text": [
      "False\n",
      "True\n",
      "True\n",
      "True\n"
     ]
    }
   ],
   "source": [
    "mystr6 = '123456789'\n",
    "print(mystr6.isalpha()) # returns True if all the characters in the text are letter\n",
    "print(mystr6.isalnum()) # returns True if a string contains only letters or numbers\n",
    "print(mystr6.isdecimal()) # returns True if all the characters are decimals (0-9)\n",
    "print(mystr6.isnumeric()) # returns True if all the characters are numeric (0-9)"
   ]
  },
  {
   "cell_type": "code",
   "execution_count": 121,
   "id": "3a623461",
   "metadata": {},
   "outputs": [
    {
     "name": "stdout",
     "output_type": "stream",
     "text": [
      "True\n",
      "True\n",
      "False\n",
      "False\n"
     ]
    }
   ],
   "source": [
    "mystr6 = 'abcde'\n",
    "print(mystr6.isalpha()) # returns True if all the characters in the text are lett\n",
    "print(mystr6.isalnum()) # returns True if a string contains only letters or numb\n",
    "print(mystr6.isdecimal()) # returns True if all the characters are decimals (0-9)\n",
    "print(mystr6.isnumeric()) # returns True if all the characters are numeric (0-9)"
   ]
  },
  {
   "cell_type": "code",
   "execution_count": 122,
   "id": "cd534aae",
   "metadata": {},
   "outputs": [
    {
     "name": "stdout",
     "output_type": "stream",
     "text": [
      "False\n",
      "True\n",
      "False\n",
      "False\n"
     ]
    }
   ],
   "source": [
    "mystr6 = 'abc12309'\n",
    "print(mystr6.isalpha())\n",
    "# returns True if all the characters in the text are lett\n",
    "print(mystr6.isalnum())\n",
    "# returns True if a string contains only letters or numb\n",
    "print(mystr6.isdecimal()) # returns True if all the characters are decimals (0-9)\n",
    "print(mystr6.isnumeric ()) # returns True if all the characters are numeric (0-9)"
   ]
  },
  {
   "cell_type": "code",
   "execution_count": 123,
   "id": "c8fc1be4",
   "metadata": {},
   "outputs": [
    {
     "name": "stdout",
     "output_type": "stream",
     "text": [
      "True\n",
      "False\n"
     ]
    }
   ],
   "source": [
    "mystr7 = 'ABCDEF'\n",
    "print(mystr7.isupper())   # Returns True if all the characters are in upper case\n",
    "print(mystr7.islower()) # Returns True if all the characters are in lower case"
   ]
  },
  {
   "cell_type": "code",
   "execution_count": 124,
   "id": "b8961db0",
   "metadata": {},
   "outputs": [
    {
     "name": "stdout",
     "output_type": "stream",
     "text": [
      "False\n",
      "True\n"
     ]
    }
   ],
   "source": [
    "mystr8 = 'abcdef'\n",
    "print(mystr8.isupper()) # Returns True if all the characters are in upper case\n",
    "print(mystr8.islower()) # Returns True if all the characters are in lower case"
   ]
  },
  {
   "cell_type": "code",
   "execution_count": 126,
   "id": "16e4abf1",
   "metadata": {},
   "outputs": [
    {
     "name": "stdout",
     "output_type": "stream",
     "text": [
      "51\n"
     ]
    }
   ],
   "source": [
    "str6 = \"one two three four one two two three five five six one ten eight ten nine\"\n",
    "loc = str6.rfind(\"one\") # last occurrence of word 'one' in string \"str6\"\n",
    "print(loc)"
   ]
  },
  {
   "cell_type": "code",
   "execution_count": 127,
   "id": "18f949a5",
   "metadata": {},
   "outputs": [
    {
     "name": "stdout",
     "output_type": "stream",
     "text": [
      "51\n"
     ]
    }
   ],
   "source": [
    "loc = str6.rindex(\"one\") # last occurrence of word 'one' in string \"str6\"\n",
    "print(loc)"
   ]
  },
  {
   "cell_type": "code",
   "execution_count": 128,
   "id": "0841c58c",
   "metadata": {},
   "outputs": [
    {
     "data": {
      "text/plain": [
       "' abc def ghi'"
      ]
     },
     "execution_count": 128,
     "metadata": {},
     "output_type": "execute_result"
    }
   ],
   "source": [
    "txt = \" abc def ghi \"\n",
    "txt.rstrip()"
   ]
  },
  {
   "cell_type": "code",
   "execution_count": 129,
   "id": "f5054553",
   "metadata": {},
   "outputs": [
    {
     "data": {
      "text/plain": [
       "'abc def ghi '"
      ]
     },
     "execution_count": 129,
     "metadata": {},
     "output_type": "execute_result"
    }
   ],
   "source": [
    "txt = \" abc def ghi \"\n",
    "txt.lstrip()"
   ]
  },
  {
   "cell_type": "code",
   "execution_count": 130,
   "id": "ef3595a6",
   "metadata": {},
   "outputs": [
    {
     "data": {
      "text/plain": [
       "'abc def ghi'"
      ]
     },
     "execution_count": 130,
     "metadata": {},
     "output_type": "execute_result"
    }
   ],
   "source": [
    "txt = \" abc def ghi \"\n",
    "txt.strip()"
   ]
  },
  {
   "cell_type": "markdown",
   "id": "5b6cbd50",
   "metadata": {},
   "source": [
    "### Using Escape Character"
   ]
  },
  {
   "cell_type": "code",
   "execution_count": 131,
   "id": "a5307eb1",
   "metadata": {},
   "outputs": [
    {
     "ename": "SyntaxError",
     "evalue": "invalid syntax (<ipython-input-131-4dd51e12dc57>, line 2)",
     "output_type": "error",
     "traceback": [
      "\u001b[1;36m  File \u001b[1;32m\"<ipython-input-131-4dd51e12dc57>\"\u001b[1;36m, line \u001b[1;32m2\u001b[0m\n\u001b[1;33m    mystr = \"My favourite TV Series is \"Game of Thrones \"\"\u001b[0m\n\u001b[1;37m                                           ^\u001b[0m\n\u001b[1;31mSyntaxError\u001b[0m\u001b[1;31m:\u001b[0m invalid syntax\n"
     ]
    }
   ],
   "source": [
    "#Using double quotes in the string is not allowed.\n",
    "mystr = \"My favourite TV Series is \"Game of Thrones \"\""
   ]
  },
  {
   "cell_type": "code",
   "execution_count": 132,
   "id": "d6c79536",
   "metadata": {},
   "outputs": [
    {
     "name": "stdout",
     "output_type": "stream",
     "text": [
      "My favourite series is \"Game of Thrones\"\n"
     ]
    }
   ],
   "source": [
    "#Using escape character to allow illegal characters\n",
    "mystr = \"My favourite series is \\\"Game of Thrones\\\"\"\n",
    "print(mystr)"
   ]
  },
  {
   "cell_type": "markdown",
   "id": "de2f2f22",
   "metadata": {},
   "source": [
    "## List\n",
    "1. List is an ordered sequence of items.\n",
    "2. We can have different data types under a list. E.g we can have integer, float and string items ina same list."
   ]
  },
  {
   "cell_type": "markdown",
   "id": "6137da6e",
   "metadata": {},
   "source": [
    "### List Creation"
   ]
  },
  {
   "cell_type": "code",
   "execution_count": 137,
   "id": "7de93002",
   "metadata": {},
   "outputs": [
    {
     "name": "stdout",
     "output_type": "stream",
     "text": [
      "[]\n",
      "<class 'list'>\n"
     ]
    }
   ],
   "source": [
    "list1 = [] # Empty List\n",
    "print(list1)\n",
    "print(type(list1))"
   ]
  },
  {
   "cell_type": "code",
   "execution_count": 138,
   "id": "db7a2be0",
   "metadata": {},
   "outputs": [],
   "source": [
    "list2 = [10, 30, 60] # List of integers numbers"
   ]
  },
  {
   "cell_type": "code",
   "execution_count": 139,
   "id": "a5c8d4f1",
   "metadata": {},
   "outputs": [],
   "source": [
    "list3 = [10.77,30.66,60.89] # List of float numbers"
   ]
  },
  {
   "cell_type": "code",
   "execution_count": 140,
   "id": "081d937f",
   "metadata": {},
   "outputs": [],
   "source": [
    "list4 = ['one','two',\"three\"] # List of strings"
   ]
  },
  {
   "cell_type": "code",
   "execution_count": 141,
   "id": "e0984d2b",
   "metadata": {},
   "outputs": [],
   "source": [
    "list5 = ['Asif',25,[50,100],[150,90]] # Nested Lists"
   ]
  },
  {
   "cell_type": "code",
   "execution_count": 142,
   "id": "d7ae86d2",
   "metadata": {},
   "outputs": [],
   "source": [
    "list6 =[100,'Asif',17.765] # List of mixed data types"
   ]
  },
  {
   "cell_type": "code",
   "execution_count": 143,
   "id": "8831a9db",
   "metadata": {},
   "outputs": [],
   "source": [
    "list7 = ['Asif',25,[50,100],[150,90] , {'John','David'}]"
   ]
  },
  {
   "cell_type": "code",
   "execution_count": 144,
   "id": "fac4decb",
   "metadata": {},
   "outputs": [
    {
     "data": {
      "text/plain": [
       "3"
      ]
     },
     "execution_count": 144,
     "metadata": {},
     "output_type": "execute_result"
    }
   ],
   "source": [
    "len(list6)"
   ]
  },
  {
   "cell_type": "code",
   "execution_count": 146,
   "id": "e898e220",
   "metadata": {},
   "outputs": [
    {
     "data": {
      "text/plain": [
       "'one'"
      ]
     },
     "execution_count": 146,
     "metadata": {},
     "output_type": "execute_result"
    }
   ],
   "source": [
    "list2[0] # Retreive first element of the list\n",
    "list4[0] # Retreive first element of the list"
   ]
  },
  {
   "cell_type": "code",
   "execution_count": null,
   "id": "1a8dc249",
   "metadata": {},
   "outputs": [],
   "source": []
  }
 ],
 "metadata": {
  "kernelspec": {
   "display_name": "Python 3",
   "language": "python",
   "name": "python3"
  },
  "language_info": {
   "codemirror_mode": {
    "name": "ipython",
    "version": 3
   },
   "file_extension": ".py",
   "mimetype": "text/x-python",
   "name": "python",
   "nbconvert_exporter": "python",
   "pygments_lexer": "ipython3",
   "version": "3.7.5"
  }
 },
 "nbformat": 4,
 "nbformat_minor": 5
}
