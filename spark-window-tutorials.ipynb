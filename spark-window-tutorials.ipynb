{
 "cells": [
  {
   "cell_type": "markdown",
   "id": "f0aff464",
   "metadata": {},
   "source": [
    "# Window Functions\n",
    "\n",
    "* Window functions operate on a set of rows and return a single aggregated value for each row. The term Window describes the set of rows in the database on which the function will operate.\n",
    "\n",
    "* We define the Window (set of rows on which functions operates) using an OVER() clause"
   ]
  },
  {
   "cell_type": "markdown",
   "id": "929b18be",
   "metadata": {},
   "source": [
    "### Types of Window functions\n",
    "\n",
    "* Aggregate Window Functions SUM(), MAX(), MIN(), AVG(). COUNT()\n",
    "* Ranking Window Functions RANK(), DENSE_RANK(), ROW_NUMBER(), NTILE()\n",
    "* Value Window Functions LAG(), LEAD(), FIRST_VALUE(), LAST_VALUE()\n",
    "\n",
    "#### OVER\n",
    "* Specifies the window clauses for aggregate functions.\n",
    "\n",
    "#### PARTITION BY partition_list\n",
    "* \n",
    "\n",
    "\n"
   ]
  },
  {
   "cell_type": "code",
   "execution_count": 11,
   "id": "0de8fce2",
   "metadata": {},
   "outputs": [],
   "source": [
    "from pyspark.sql import SparkSession"
   ]
  },
  {
   "cell_type": "code",
   "execution_count": 14,
   "id": "b8b4552c",
   "metadata": {},
   "outputs": [],
   "source": [
    "spark = SparkSession.builder.appName(\"Python Spark SQL Window Example\").getOrCreate()"
   ]
  },
  {
   "cell_type": "code",
   "execution_count": 15,
   "id": "7780ca8c",
   "metadata": {},
   "outputs": [
    {
     "data": {
      "text/plain": [
       "'3.0.1'"
      ]
     },
     "execution_count": 15,
     "metadata": {},
     "output_type": "execute_result"
    }
   ],
   "source": [
    "spark.version"
   ]
  },
  {
   "cell_type": "markdown",
   "id": "a0dd9f36",
   "metadata": {},
   "source": [
    "### Create Spark Sample Dataframe"
   ]
  },
  {
   "cell_type": "code",
   "execution_count": 25,
   "id": "ea7a4604",
   "metadata": {},
   "outputs": [
    {
     "name": "stdout",
     "output_type": "stream",
     "text": [
      "root\n",
      " |-- name: string (nullable = true)\n",
      " |-- dept: string (nullable = true)\n",
      " |-- salary: integer (nullable = true)\n",
      " |-- age: integer (nullable = true)\n",
      "\n",
      "+-----+-----------+------+---+\n",
      "| name|       dept|salary|age|\n",
      "+-----+-----------+------+---+\n",
      "| Lisa|      Sales| 10000| 35|\n",
      "| Evan|      Sales| 32000| 38|\n",
      "| Fred|Engineering| 21000| 28|\n",
      "| Alex|      Sales| 30000| 33|\n",
      "|  Tom|Engineering| 23000| 33|\n",
      "| Jane|  Marketing| 29000| 28|\n",
      "| Jeff|  Marketing| 35000| 38|\n",
      "| Paul|Engineering| 29000| 23|\n",
      "|Chloe|Engineering| 23000| 25|\n",
      "+-----+-----------+------+---+\n",
      "\n"
     ]
    }
   ],
   "source": [
    "data = [(\"Lisa\", \"Sales\", 10000, 35),(\"Evan\", \"Sales\", 32000, 38),\n",
    "        (\"Fred\", \"Engineering\", 21000, 28),\n",
    "        (\"Alex\", \"Sales\", 30000, 33),\n",
    "        (\"Tom\", \"Engineering\", 23000, 33),\n",
    "        (\"Jane\", \"Marketing\", 29000, 28),\n",
    "        (\"Jeff\", \"Marketing\", 35000, 38),\n",
    "        (\"Paul\", \"Engineering\", 29000, 23),\n",
    "        (\"Chloe\", \"Engineering\", 23000, 25)]\n",
    "\n",
    "df = spark.createDataFrame(data, \"name STRING, dept STRING, salary INT, age INT\")\n",
    "df.printSchema()\n",
    "df.show(10)\n",
    "df.createOrReplaceTempView(\"employees\")"
   ]
  },
  {
   "cell_type": "code",
   "execution_count": 32,
   "id": "3f6cf3be",
   "metadata": {},
   "outputs": [
    {
     "name": "stdout",
     "output_type": "stream",
     "text": [
      "+-----+-----------+------+----+\n",
      "| name|       dept|salary|rank|\n",
      "+-----+-----------+------+----+\n",
      "| Evan|      Sales| 32000|   1|\n",
      "| Alex|      Sales| 30000|   2|\n",
      "| Lisa|      Sales| 10000|   3|\n",
      "| Paul|Engineering| 29000|   1|\n",
      "|  Tom|Engineering| 23000|   2|\n",
      "|Chloe|Engineering| 23000|   2|\n",
      "| Fred|Engineering| 21000|   4|\n",
      "| Jeff|  Marketing| 35000|   1|\n",
      "| Jane|  Marketing| 29000|   2|\n",
      "+-----+-----------+------+----+\n",
      "\n"
     ]
    }
   ],
   "source": [
    "df2_rank = spark.sql(\"SELECT name, dept,salary, RANK() OVER (PARTITION BY dept ORDER BY salary desc) AS rank FROM employees\")\n",
    "df2_rank.show(10)"
   ]
  },
  {
   "cell_type": "code",
   "execution_count": 35,
   "id": "68115c7b",
   "metadata": {},
   "outputs": [
    {
     "name": "stdout",
     "output_type": "stream",
     "text": [
      "+-----+-----------+------+----------+\n",
      "| name|       dept|salary|dense_rank|\n",
      "+-----+-----------+------+----------+\n",
      "| Evan|      Sales| 32000|         1|\n",
      "| Alex|      Sales| 30000|         2|\n",
      "| Lisa|      Sales| 10000|         3|\n",
      "| Paul|Engineering| 29000|         1|\n",
      "|  Tom|Engineering| 23000|         2|\n",
      "|Chloe|Engineering| 23000|         2|\n",
      "| Fred|Engineering| 21000|         3|\n",
      "| Jeff|  Marketing| 35000|         1|\n",
      "| Jane|  Marketing| 29000|         2|\n",
      "+-----+-----------+------+----------+\n",
      "\n"
     ]
    }
   ],
   "source": [
    "df3_dense_rank = spark.sql(\"SELECT name, dept,salary, DENSE_RANK() OVER (PARTITION BY dept ORDER BY salary desc ROWS BETWEEN UNBOUNDED PRECEDING AND CURRENT ROW) AS dense_rank FROM employees\")\n",
    "df3_dense_rank.show(10)"
   ]
  },
  {
   "cell_type": "code",
   "execution_count": null,
   "id": "855439a6",
   "metadata": {},
   "outputs": [],
   "source": []
  },
  {
   "cell_type": "code",
   "execution_count": null,
   "id": "20b29343",
   "metadata": {},
   "outputs": [],
   "source": []
  }
 ],
 "metadata": {
  "kernelspec": {
   "display_name": "Python 3",
   "language": "python",
   "name": "python3"
  },
  "language_info": {
   "codemirror_mode": {
    "name": "ipython",
    "version": 3
   },
   "file_extension": ".py",
   "mimetype": "text/x-python",
   "name": "python",
   "nbconvert_exporter": "python",
   "pygments_lexer": "ipython3",
   "version": "3.7.5"
  }
 },
 "nbformat": 4,
 "nbformat_minor": 5
}
